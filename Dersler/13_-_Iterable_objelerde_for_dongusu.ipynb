{
 "cells": [
  {
   "cell_type": "code",
   "execution_count": null,
   "id": "89415030",
   "metadata": {
    "scrolled": true
   },
   "outputs": [],
   "source": [
    "tup1 = (1,2,3,4) # Tuple değiştirilemez verilede kullandığımız\n",
    "for deger in tup1:\n",
    "    print(deger)"
   ]
  },
  {
   "cell_type": "code",
   "execution_count": null,
   "id": "803c22c5",
   "metadata": {},
   "outputs": [],
   "source": [
    "liste1 = [[1,2],[3,4],[4,5]]\n",
    "for x,y in liste1: #x,y değerleri 1 ve 2 olarak algılıyor eğer 3. değer eklersen bir z değeri eklemek zorundasın\n",
    "    print(x)"
   ]
  },
  {
   "cell_type": "code",
   "execution_count": null,
   "id": "d5ce7728",
   "metadata": {},
   "outputs": [],
   "source": [
    "liste2 = {\n",
    "    \"Ad\": \"İbrahim\",\n",
    "    \"Soyad\": \"Aral\"\n",
    "}\n",
    "liste2.values()"
   ]
  },
  {
   "cell_type": "code",
   "execution_count": null,
   "id": "f6497219",
   "metadata": {},
   "outputs": [],
   "source": [
    "for k,v in liste2.items():\n",
    "    print(\"Keys: {0} \\t Values: {1}\".format(k,v))"
   ]
  },
  {
   "cell_type": "code",
   "execution_count": null,
   "id": "117624a9",
   "metadata": {},
   "outputs": [],
   "source": [
    "for k in liste2.keys():\n",
    "    print(\"Keys: {0}\".format(k))"
   ]
  }
 ],
 "metadata": {
  "kernelspec": {
   "display_name": "Python 3 (ipykernel)",
   "language": "python",
   "name": "python3"
  },
  "language_info": {
   "codemirror_mode": {
    "name": "ipython",
    "version": 3
   },
   "file_extension": ".py",
   "mimetype": "text/x-python",
   "name": "python",
   "nbconvert_exporter": "python",
   "pygments_lexer": "ipython3",
   "version": "3.11.4"
  }
 },
 "nbformat": 4,
 "nbformat_minor": 5
}
