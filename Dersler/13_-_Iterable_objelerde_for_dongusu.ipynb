{
 "cells": [
  {
   "cell_type": "code",
   "execution_count": 2,
   "id": "89415030",
   "metadata": {
    "scrolled": true
   },
   "outputs": [
    {
     "name": "stdout",
     "output_type": "stream",
     "text": [
      "1\n",
      "2\n",
      "3\n",
      "4\n"
     ]
    }
   ],
   "source": [
    "tup1 = (1,2,3,4) # Tuple değiştirilemez verilede kullandığımız\n",
    "for deger in tup1:\n",
    "    print(deger)"
   ]
  },
  {
   "cell_type": "code",
   "execution_count": 3,
   "id": "803c22c5",
   "metadata": {},
   "outputs": [
    {
     "name": "stdout",
     "output_type": "stream",
     "text": [
      "1\n",
      "3\n",
      "4\n"
     ]
    }
   ],
   "source": [
    "liste1 = [[1,2],[3,4],[4,5]]\n",
    "for x,y in liste1: #x,y değerleri 1 ve 2 olarak algılıyor eğer 3. değer eklersen bir z değeri eklemek zorundasın\n",
    "    print(x)"
   ]
  },
  {
   "cell_type": "code",
   "execution_count": 14,
   "id": "d5ce7728",
   "metadata": {},
   "outputs": [
    {
     "data": {
      "text/plain": [
       "dict_values(['İbrahim', 'Aral'])"
      ]
     },
     "execution_count": 14,
     "metadata": {},
     "output_type": "execute_result"
    }
   ],
   "source": [
    "liste2 = {\n",
    "    \"Ad\": \"İbrahim\",\n",
    "    \"Soyad\": \"Aral\"\n",
    "}\n",
    "liste2.values()"
   ]
  },
  {
   "cell_type": "code",
   "execution_count": 16,
   "id": "f6497219",
   "metadata": {},
   "outputs": [
    {
     "name": "stdout",
     "output_type": "stream",
     "text": [
      "Keys: Ad \t Values: İbrahim\n",
      "Keys: Soyad \t Values: Aral\n"
     ]
    }
   ],
   "source": [
    "for k,v in liste2.items():\n",
    "    print(\"Keys: {0} \\t Values: {1}\".format(k,v))"
   ]
  },
  {
   "cell_type": "code",
   "execution_count": 17,
   "id": "117624a9",
   "metadata": {},
   "outputs": [
    {
     "name": "stdout",
     "output_type": "stream",
     "text": [
      "Keys: Ad\n",
      "Keys: Soyad\n"
     ]
    }
   ],
   "source": [
    "for k in liste2.keys():\n",
    "    print(\"Keys: {0}\".format(k))"
   ]
  }
 ],
 "metadata": {
  "kernelspec": {
   "display_name": "Python 3 (ipykernel)",
   "language": "python",
   "name": "python3"
  },
  "language_info": {
   "codemirror_mode": {
    "name": "ipython",
    "version": 3
   },
   "file_extension": ".py",
   "mimetype": "text/x-python",
   "name": "python",
   "nbconvert_exporter": "python",
   "pygments_lexer": "ipython3",
   "version": "3.10.9"
  }
 },
 "nbformat": 4,
 "nbformat_minor": 5
}
