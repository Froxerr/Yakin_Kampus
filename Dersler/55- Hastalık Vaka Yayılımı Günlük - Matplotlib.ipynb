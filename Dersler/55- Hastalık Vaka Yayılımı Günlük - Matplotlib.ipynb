{
 "cells": [
  {
   "cell_type": "code",
   "execution_count": null,
   "id": "c3ad628a",
   "metadata": {},
   "outputs": [],
   "source": [
    "confirmed_csv = \"corona_confirmed.csv\"\n",
    "confirmed_gitpath = \"https://raw.githubusercontent.com/CSSEGISandData/COVID-19/master/csse_covid_19_data/csse_covid_19_time_series/time_series_covid19_confirmed_global.csv\""
   ]
  },
  {
   "cell_type": "code",
   "execution_count": null,
   "id": "e1254441",
   "metadata": {},
   "outputs": [],
   "source": [
    "!curl -o $confirmed_csv $confirmed_gitpath "
   ]
  },
  {
   "cell_type": "code",
   "execution_count": null,
   "id": "5563d6bb",
   "metadata": {},
   "outputs": [],
   "source": [
    "import pandas as pd\n",
    "df = pd.read_csv(confirmed_csv)\n",
    "\n",
    "df = df.melt(id_vars=[\"Province/State\",\"Country/Region\",\"Lat\",\"Long\"],\n",
    "                var_name=\"DateColumns\",\n",
    "                value_name=\"CasesColumns\")\n",
    "\n",
    "df['DateColumns'] = pd.to_datetime(df['DateColumns'], format='%m/%d/%y').dt.strftime('%Y-%m-%d')\n",
    "df[\"Province/State\"] = df[\"Province/State\"].fillna(df[\"Country/Region\"])\n",
    "df['DateColumns'] = pd.to_datetime(df['DateColumns'])\n",
    "df[\"CasesColumns\"] = df[\"CasesColumns\"].astype(int)\n",
    "\n",
    "#\n",
    "#\n",
    "df['Lat'].fillna(df['Lat'].mean(), inplace=True)\n",
    "df['Long'].fillna(df['Long'].mean(), inplace=True)\n",
    "#54. Derste hata olarak bahsettiğim ve çözümünü böyle bulduğumu söylediğim şeyi burada bir daha yazıyorum\n",
    "# herhangi bir hatayla karşılaşmamak için"
   ]
  },
  {
   "cell_type": "code",
   "execution_count": null,
   "id": "80bf841f",
   "metadata": {},
   "outputs": [],
   "source": [
    "df.info()"
   ]
  },
  {
   "cell_type": "code",
   "execution_count": null,
   "id": "11d84f57",
   "metadata": {},
   "outputs": [],
   "source": [
    "burning_counteries = df.groupby(\"Country/Region\")[\"CasesColumns\"].max().sort_values(ascending=False).reset_index()\n",
    "#burning_counteries_lts = [*burning_counteries[\"Country/Region\"]][:9]\n",
    "#burning_counteries_lts.insert(-1,\"Turkey\")\n",
    "burning_counteries_lts = [*burning_counteries[\"Country/Region\"]][:10]\n",
    "burning_counteries_lts"
   ]
  },
  {
   "cell_type": "code",
   "execution_count": null,
   "id": "2d030fc2",
   "metadata": {},
   "outputs": [],
   "source": [
    "df_burning_counteries = burning_counteries[burning_counteries[\"Country/Region\"].isin(burning_counteries_lts)].reset_index(drop = \"True\")\n",
    "df_burning_counteries[\"Country/Region\"] = df_burning_counteries[\"Country/Region\"].str.replace(\",\", \"\")\n",
    "df_burning_counteries"
   ]
  },
  {
   "cell_type": "code",
   "execution_count": null,
   "id": "ef8890e9",
   "metadata": {},
   "outputs": [],
   "source": [
    "burning_counteries_daily = df.groupby([\"DateColumns\",\"Country/Region\"])[\"CasesColumns\"].max().sort_values(ascending=False).reset_index()\n",
    "burning_counteries_daily = burning_counteries_daily[burning_counteries_daily[\"Country/Region\"].isin(burning_counteries_lts)].reset_index(drop = \"True\")\n",
    "burning_counteries_daily[\"Country/Region\"] = burning_counteries_daily[\"Country/Region\"].str.replace(\",\",\"\")\n",
    "burning_counteries_daily"
   ]
  },
  {
   "cell_type": "code",
   "execution_count": null,
   "id": "5d2c8362",
   "metadata": {},
   "outputs": [],
   "source": [
    "import random\n",
    "colors = dict(zip(\n",
    "    [*set(df_burning_counteries[\"Country/Region\"])],\n",
    "    [\"#\"+\"\".join([random.choice(\"0123456789ABCDEF\") for j in range(6)])\n",
    "        for i in set(df_burning_counteries[\"Country/Region\"])]))\n",
    "colors_df = pd.DataFrame.from_dict(colors, orient=\"index\")\n",
    "colors_df"
   ]
  },
  {
   "cell_type": "code",
   "execution_count": null,
   "id": "91a25435",
   "metadata": {},
   "outputs": [],
   "source": [
    "import pandas as pd\n",
    "import matplotlib.pyplot as plt\n",
    "import matplotlib.ticker as ticker\n",
    "import matplotlib.animation as animaton\n",
    "from IPython.display import HTML"
   ]
  },
  {
   "cell_type": "code",
   "execution_count": null,
   "id": "806a59e4",
   "metadata": {},
   "outputs": [],
   "source": [
    "def chart(date):\n",
    "    dff = burning_counteries_daily[burning_counteries_daily[\"DateColumns\"].eq(date)].sort_values(by='CasesColumns', ascending=True).tail(10)\n",
    "    ax.clear()\n",
    "    ax.barh(dff['Country/Region'], dff['CasesColumns'], color=[colors_df.loc[x][0] for x in dff['Country/Region']])\n",
    "    dx = dff['CasesColumns'].max() / 200\n",
    "    for i, (value, name) in enumerate(zip(dff['CasesColumns'], dff['Country/Region'])):\n",
    "        ax.text(-1*(dx+5), i, name, size=12, weight=600, ha='right', va='center', color=\"white\", bbox=dict(facecolor=\"blue\", alpha=0.5, pad=12))\n",
    "        ax.text(value+dx+5, i, f'{value:,.0f}', size=12, ha='left', va='center', color=\"white\", bbox=dict(facecolor=\"red\", alpha=0.5, pad=12))\n",
    "    ax.text(1, 0.4, str(date)[:10], transform=ax.transAxes, color='#777777', size=46, ha='right', weight=800)\n",
    "    ax.text(0, 1.06, 'Vaka Sayisi', transform=ax.transAxes, size=12, color='#777777')\n",
    "    ax.xaxis.set_major_formatter(ticker.StrMethodFormatter('{x:,.0f}'))\n",
    "    ax.xaxis.set_ticks_position('top')\n",
    "    ax.tick_params(axis='x', colors='#777777', labelsize=12)\n",
    "    ax.set_yticks([])\n",
    "    ax.margins(0, 0.01)\n",
    "    ax.grid(which='major', axis='x', linestyle='-')\n",
    "    ax.set_axisbelow(True)\n",
    "    ax.text(0, 1.15, 'Dünya Genelinde Korona Vakaları',\n",
    "            transform=ax.transAxes, size=24, weight=600, ha='left', va='top')\n",
    "    plt.box(False)"
   ]
  },
  {
   "cell_type": "code",
   "execution_count": null,
   "id": "8504b6cd",
   "metadata": {},
   "outputs": [],
   "source": [
    "import matplotlib\n",
    "matplotlib.rcParams['animation.embed_limit'] = 2**128\n",
    "fig, ax = plt.subplots(figsize=(15,8))\n",
    "print(\"*\"*110)\n",
    "start_date = pd.to_datetime('2020-02-01')\n",
    "end_date = df[\"DateColumns\"].max()\n",
    "ts_index = pd.date_range(start=start_date, end=end_date, freq=\"M\")\n",
    "#2020-02-01 den başlatıyorum saymaya çünkü ilk veriler bozuk gibi gözüküyordu\n",
    "animator = animaton.FuncAnimation(fig,chart,frames=[*ts_index])\n",
    "HTML(animator.to_jshtml())\n",
    "\n"
   ]
  }
 ],
 "metadata": {
  "kernelspec": {
   "display_name": "Python 3 (ipykernel)",
   "language": "python",
   "name": "python3"
  },
  "language_info": {
   "codemirror_mode": {
    "name": "ipython",
    "version": 3
   },
   "file_extension": ".py",
   "mimetype": "text/x-python",
   "name": "python",
   "nbconvert_exporter": "python",
   "pygments_lexer": "ipython3",
   "version": "3.11.4"
  }
 },
 "nbformat": 4,
 "nbformat_minor": 5
}
