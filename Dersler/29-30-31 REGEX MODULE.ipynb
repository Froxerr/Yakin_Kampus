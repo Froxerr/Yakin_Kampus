{
 "cells": [
  {
   "cell_type": "markdown",
   "id": "a5cbf1f3",
   "metadata": {},
   "source": [
    "# REgular Expressions (REGEX)"
   ]
  },
  {
   "cell_type": "code",
   "execution_count": null,
   "id": "a1349260",
   "metadata": {},
   "outputs": [],
   "source": [
    "import re"
   ]
  },
  {
   "cell_type": "code",
   "execution_count": null,
   "id": "df75d1fd",
   "metadata": {},
   "outputs": [],
   "source": [
    "cumle = \"Mustafa Kemal Atatürk, Türk asker, devlet adamı ve Türkiye Cumhuriyeti'nin kurucusudur.\"\n",
    "pattern = r\"Türk\"\n",
    "re.search(pattern,cumle)"
   ]
  },
  {
   "cell_type": "code",
   "execution_count": null,
   "id": "387ad2fc",
   "metadata": {},
   "outputs": [],
   "source": [
    "arama = re.search(pattern,cumle)\n",
    "arama.group()"
   ]
  },
  {
   "cell_type": "code",
   "execution_count": null,
   "id": "75a2c60b",
   "metadata": {},
   "outputs": [],
   "source": [
    "arama.span()"
   ]
  },
  {
   "cell_type": "code",
   "execution_count": null,
   "id": "dd2d793d",
   "metadata": {},
   "outputs": [],
   "source": [
    "arama.start()"
   ]
  },
  {
   "cell_type": "code",
   "execution_count": null,
   "id": "e2761164",
   "metadata": {},
   "outputs": [],
   "source": [
    "arama.end()"
   ]
  },
  {
   "cell_type": "code",
   "execution_count": null,
   "id": "3ff1c242",
   "metadata": {},
   "outputs": [],
   "source": [
    "dir(arama)"
   ]
  },
  {
   "cell_type": "markdown",
   "id": "e21b9fea",
   "metadata": {},
   "source": [
    "# Coklu Eslesmelerde (match)"
   ]
  },
  {
   "cell_type": "code",
   "execution_count": null,
   "id": "f4fcec20",
   "metadata": {},
   "outputs": [],
   "source": [
    "for coklu_eslesme in re.findall(pattern,cumle):\n",
    "    print(coklu_eslesme)"
   ]
  },
  {
   "cell_type": "code",
   "execution_count": null,
   "id": "4e8163d0",
   "metadata": {},
   "outputs": [],
   "source": [
    "for coklu_eslesme in re.finditer(pattern,cumle):\n",
    "    print(coklu_eslesme.group(), coklu_eslesme.span())"
   ]
  },
  {
   "cell_type": "markdown",
   "id": "6cdd2d43",
   "metadata": {},
   "source": [
    "# Dinamik Kullanımı"
   ]
  },
  {
   "cell_type": "raw",
   "id": "c19d13dd",
   "metadata": {},
   "source": [
    "###############################################################################\n",
    "####### Ifade ########## Aciklama ######## Örnek ########### Patern ###########\n",
    "####### --------------------------------------------------------------- #######\n",
    "#######  \\d   #########   rakam  #######  base42  #########  base\\d\\d #########\n",
    "#######  \\w   ########   karakter  #####   R2-D2  ######### \\w\\w\\w\\w\\w ########\n",
    "#######  \\s   ########    bosluk  ###### Ping Pong ######## Ping\\sPong ########\n",
    "#######  \\D   #######   rakam degil  #####  base  #########  \\D\\D\\D\\D #########\n",
    "#######  \\W   #####   karakter degil  ###   R2D2  ######### \\W\\W\\W\\W ##########\n",
    "#######  \\S   #####    bosluk degil ##### PingPong ### \\S\\S\\S\\S\\S\\S\\S\\S #######\n",
    "####### --------------------------------------------------------------- #######\n",
    "###############################################################################"
   ]
  },
  {
   "cell_type": "code",
   "execution_count": null,
   "id": "862f3dfb",
   "metadata": {},
   "outputs": [],
   "source": [
    "cumle = \"En sevdiğim kanal: base42\"\n",
    "pattern = r\"base\\d\\d\"\n",
    "re.search(pattern,cumle)"
   ]
  },
  {
   "cell_type": "code",
   "execution_count": null,
   "id": "dd5d0b60",
   "metadata": {},
   "outputs": [],
   "source": [
    "cumle = \"Selam, benim telefon numaram 0535-8886622.\"\n",
    "pattern = r\"\\d\\d\\d\\d-\\d\\d\\d\\d\\d\\d\\d\"\n",
    "re.search(pattern,cumle)"
   ]
  },
  {
   "cell_type": "raw",
   "id": "d9bd451a",
   "metadata": {},
   "source": [
    "######## Ifade ####### Aciklama ######## Örnek ############# Patern ############\n",
    "####### ---------------------------------------------------------------- #######\n",
    "#######  {5}   ########  adet  #######  aaaaa  #########    \\w{5}     ##########\n",
    "#######  {3,4} #######   veya  #######   abc  ##########   \\w{3,4}     #########\n",
    "#######  {2,}  ########  en az  ##### 198721321 ########    \\d{2,}     #########\n",
    "#######    *   ###  0 ya da fazla #######  x  ##########     \\w*        ########\n",
    "#######    +   ### 1 ya da fazla ######  Ahmet1  #######    \\w+\\d+     #########\n",
    "#######    ?   #####  ya 1 ya hic ####### Mura #########     Murat?       ######\n",
    "####### --------------------------------------------------------------- ########\n",
    "################################################################################"
   ]
  },
  {
   "cell_type": "code",
   "execution_count": null,
   "id": "c9c5c7f3",
   "metadata": {},
   "outputs": [],
   "source": [
    "cumle = \"Selam, benim telefon numaram 0535-8886622.\"\n",
    "pattern = r\"\\d{4}-\\d{7}\"\n",
    "re.search(pattern,cumle)"
   ]
  },
  {
   "cell_type": "code",
   "execution_count": null,
   "id": "09e808a1",
   "metadata": {},
   "outputs": [],
   "source": [
    "cumle = \"Selam, benim telefon numaram 0535-8886622.\"\n",
    "pattern = r\"\\d{3,4}-\\d{7}\"\n",
    "re.search(pattern,cumle)"
   ]
  },
  {
   "cell_type": "code",
   "execution_count": null,
   "id": "41044b60",
   "metadata": {},
   "outputs": [],
   "source": [
    "cumle = \"En sevdigim kanal base42.\"\n",
    "patern = r\"\\w*\"\n",
    "for genel in re.finditer(patern,cumle):\n",
    "    print(genel.group(),genel.span())"
   ]
  },
  {
   "cell_type": "code",
   "execution_count": null,
   "id": "c23dd25d",
   "metadata": {},
   "outputs": [],
   "source": [
    "cumle = \"En sevdigim kanal base42.\"\n",
    "patern = r\"\\s\\w{5,}\"\n",
    "for genel in re.finditer(patern,cumle):\n",
    "    print(genel.group(),genel.span())"
   ]
  },
  {
   "cell_type": "code",
   "execution_count": null,
   "id": "d3ba8a84",
   "metadata": {},
   "outputs": [],
   "source": [
    "### GSM Operatörleri:\n",
    "# 54...         -> Vodafone\n",
    "# 501,505,506   -> AVEA\n",
    "# 53...         -> Turkcell\n",
    "def gsm_op_bul(gsm_op):\n",
    "    patern = r\"(\\d{3})-(\\d{7})\"\n",
    "    gsm = re.search(patern,gsm_op)\n",
    "    print(gsm.groups()[0])\n",
    "    if gsm:\n",
    "        gsm_kod = gsm.groups()[0]\n",
    "        if gsm_kod.startswith(\"54\"):\n",
    "            return(\"Şebekenin adresi: Vodafone\")\n",
    "        elif gsm_kod.startswith(\"501\") or gsm_kod.startswith(\"505\") or gsm_kod.startswith(\"506\"):\n",
    "            return(\"Şebekenin adresi: AVEA\")\n",
    "        elif gsm_kod.startswith(\"53\"):\n",
    "            return(\"Şebekenin adresi: Turkcell\")\n",
    "        else:\n",
    "            return(\"Bu numara ile ilgili bir adres bulamadım.\")\n",
    "    else:\n",
    "        print(\"Bu numara ile ilgili bir şebeke bulamadım.\")\n",
    "gsm = \"0534-5354565\"\n",
    "gsm_op_bul(gsm)"
   ]
  },
  {
   "cell_type": "raw",
   "id": "620c022a",
   "metadata": {},
   "source": [
    "######## Ifade ####### Aciklama ######## Örnek ############# Patern ############\n",
    "####### ---------------------------------------------------------------- #######\n",
    "#######    |   ########  veya  #######  slm  #########    selam|slm   ##########\n",
    "#######    ^    ####### baslar  #######  Ahmet  ##########   ^\\w+      #########\n",
    "#######    $   ########  biter   ##### base42   ########     \\d$       #########\n",
    "#######    .   ######  herhangi  #####  abcdef  ########      .*       #########\n",
    "#######    \\   ########  esc     #####  (not)   ########   \\(\\w{3}\\)   #########\n",
    "####### --------------------------------------------------------------- ########\n",
    "################################################################################"
   ]
  },
  {
   "cell_type": "code",
   "execution_count": null,
   "id": "b00446d7",
   "metadata": {},
   "outputs": [],
   "source": [
    "def his_bulma(cumle):\n",
    "    his = []\n",
    "    pozitif_his = r\"(Selam|Merhaba|[N|n]aber|Güzel|:\\)+)\"\n",
    "    negatif_his = r\"(Sacma|İhanet|Mal|Aptal|Salak|birak)\"\n",
    "    heyecanlı_his = r\"![!|?]{2,}$\"\n",
    "    sakin_his = r\"[T|t]abi+|[H|h]ayhay\"\n",
    "    emin_his = r\"[T|t]abi+|[K|k]esin|[E|e]lbet\"\n",
    "    kararsiz_his = r\"[B|b]elki|[S|s]anırım\"\n",
    "    if re.search(pozitif_his, cumle):\n",
    "        his.append(\"Pozitif\")\n",
    "    if re.search(negatif_his, cumle):\n",
    "        his.append(\"Negatif\")\n",
    "    if re.search(heyecanlı_his, cumle):\n",
    "        his.append(\"Heyecanlı\")\n",
    "    if re.search(sakin_his, cumle):\n",
    "        his.append(\"Sakin\")\n",
    "    if re.search(emin_his, cumle):\n",
    "        his.append(\"Emin\")\n",
    "    if re.search(kararsiz_his, cumle):\n",
    "        his.append(\"Kararsız\")\n",
    "    return his"
   ]
  },
  {
   "cell_type": "code",
   "execution_count": null,
   "id": "b941c4f8",
   "metadata": {},
   "outputs": [],
   "source": [
    "cumle1 = \"Naber abi? :)             \"\n",
    "cumle2 = \"Tabiii ki buyrun          \"\n",
    "cumle3 = \"Sacmalamayi birak artik!  \"\n",
    "cumle4 = \"Belki yarindan da yakin...\"\n",
    "cumle5 = \"Elbet birgün bulusacagiz  \"\n",
    "cumleler = [cumle1,cumle2,cumle3,cumle4,cumle5]\n",
    "for goruntu in cumleler:\n",
    "    print(goruntu, \"\\t\", his_bulma(goruntu))"
   ]
  }
 ],
 "metadata": {
  "kernelspec": {
   "display_name": "Python 3 (ipykernel)",
   "language": "python",
   "name": "python3"
  },
  "language_info": {
   "codemirror_mode": {
    "name": "ipython",
    "version": 3
   },
   "file_extension": ".py",
   "mimetype": "text/x-python",
   "name": "python",
   "nbconvert_exporter": "python",
   "pygments_lexer": "ipython3",
   "version": "3.11.4"
  }
 },
 "nbformat": 4,
 "nbformat_minor": 5
}
