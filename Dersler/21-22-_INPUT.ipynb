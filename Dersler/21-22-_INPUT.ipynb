{
 "cells": [
  {
   "cell_type": "markdown",
   "id": "86cf4818",
   "metadata": {},
   "source": [
    "# KULLANICI GİRDİSİ "
   ]
  },
  {
   "cell_type": "code",
   "execution_count": null,
   "id": "e844ff7e",
   "metadata": {
    "scrolled": true
   },
   "outputs": [],
   "source": [
    "input(\"Bir sayı gir\")"
   ]
  },
  {
   "cell_type": "code",
   "execution_count": null,
   "id": "72ad06fd",
   "metadata": {},
   "outputs": [],
   "source": [
    "type(input(\"Bir sayı gir\"))"
   ]
  },
  {
   "cell_type": "code",
   "execution_count": null,
   "id": "fa9f1039",
   "metadata": {},
   "outputs": [],
   "source": [
    "int(input(\"Bir sayı gir\"))"
   ]
  },
  {
   "cell_type": "code",
   "execution_count": null,
   "id": "2235cf6d",
   "metadata": {},
   "outputs": [],
   "source": [
    "def tek_cift():\n",
    "    sayi = int(input(\"Bir sayı giriniz.\"))\n",
    "    tek_cift = input(\"Girdiğiniz sayı tek ise T, Girdiğiniz sayı çift ise Ç yazınız.\")\n",
    "    if (tek_cift == \"T\"):\n",
    "        if(sayi%2 == 1):\n",
    "            return \"Girdiğiniz bu sayı: {}, bir tek sayıdır.\".format(sayi)\n",
    "        else:\n",
    "            return \"Girdiğiniz bu sayı: {}, bir tek sayı değildir !!\".format(sayi)\n",
    "    elif (tek_cift == \"Ç\"):\n",
    "        if(sayi%2 == 0):\n",
    "            return \"Girdiğiniz bu sayı: {}, bir çift sayıdır.\".format(sayi)\n",
    "        else:\n",
    "            return \"Girdiğiniz bu sayı: {}, bir çift sayı değildir !!\".format(sayi)"
   ]
  },
  {
   "cell_type": "code",
   "execution_count": null,
   "id": "1579bae7",
   "metadata": {
    "scrolled": true
   },
   "outputs": [],
   "source": [
    "tek_cift()"
   ]
  },
  {
   "cell_type": "markdown",
   "id": "ce1f1842",
   "metadata": {},
   "source": [
    "# KULLANICI GİRDİSİ ONAYLAMA"
   ]
  },
  {
   "cell_type": "code",
   "execution_count": null,
   "id": "e84937ae",
   "metadata": {},
   "outputs": [],
   "source": [
    "input(\"Bir sayı giriniz: \")"
   ]
  },
  {
   "cell_type": "code",
   "execution_count": null,
   "id": "0b5fe315",
   "metadata": {},
   "outputs": [],
   "source": [
    "def girilen_sayi_mi():\n",
    "    if input(\"Bir sayı giriniz: \").isdigit():\n",
    "        print(\"Tebrikler başarılı bir şekilde sayı girdiniz\")\n",
    "    else:\n",
    "        print(\"Girdiğiniz şey bir sayı değil!!\")"
   ]
  },
  {
   "cell_type": "code",
   "execution_count": null,
   "id": "e5a73299",
   "metadata": {},
   "outputs": [],
   "source": [
    "girilen_sayi_mi()"
   ]
  },
  {
   "cell_type": "code",
   "execution_count": null,
   "id": "2a11b2ec",
   "metadata": {},
   "outputs": [],
   "source": [
    "def girilen_sayi_mi_sorgula():\n",
    "    hak = 5\n",
    "    arakat = 5\n",
    "    while not input(\"Bir sayı giriniz: \").isdigit():\n",
    "        hak -= 1\n",
    "        while not hak > -1:\n",
    "            None\n",
    "            if hak == -1:\n",
    "                break\n",
    "        else:\n",
    "            print(\"Bir sayı girmediniz lütfen tekrar deneyiniz !!\")\n",
    "        arakat -= 1\n",
    "        while not arakat > -1:\n",
    "            None\n",
    "            if arakat == -1:\n",
    "                break\n",
    "        else:\n",
    "            print(\"Kalan deneme hakkınız: {}\".format(hak+1))\n",
    "        if (hak == -1):\n",
    "            print(\"Deneme hakkınız bitti biraz sonra bir daha deneyin.\")\n",
    "            break\n",
    "    else:\n",
    "        print(\"Tebrikler bir sayı girdiniz.\")"
   ]
  },
  {
   "cell_type": "code",
   "execution_count": null,
   "id": "07a10f45",
   "metadata": {},
   "outputs": [],
   "source": [
    "girilen_sayi_mi_sorgula()"
   ]
  },
  {
   "cell_type": "code",
   "execution_count": null,
   "id": "9dfe36b6",
   "metadata": {},
   "outputs": [],
   "source": [
    "def girilen_eposta_mi():\n",
    "    hak1 = 5\n",
    "    arakat1 = 5\n",
    "    eposta = input(\"Bir e-posta adresi giriniz:\")\n",
    "    eposta_fix = 0\n",
    "    while not((\"@\" in eposta) and (\".\" in eposta)):\n",
    "        if (eposta_fix == 0):\n",
    "            print(\"Yanlış bir e-posta girdiniz deneme hakkınız başlatılmıştır: {}\".format(hak1+1))\n",
    "        eposta_fix += 1\n",
    "        while not (hak1 > -1):\n",
    "            if (hak1 == -1):\n",
    "                break\n",
    "            None\n",
    "        else:\n",
    "            eposta = input(\"Bir e-posta adresi girmediniz tekrar deneyin: \")\n",
    "        arakat1 -= 1\n",
    "        while not arakat1 > -1:\n",
    "            if arakat1 == -1:\n",
    "                break\n",
    "            None\n",
    "        else:\n",
    "            print(\"{} Kadar hakkınız kaldı\".format(arakat1+1))\n",
    "        hak1 -= 1\n",
    "        if (hak1 == -1):\n",
    "            print(\"Deneme hakkınız bitti biraz sonra bir daha deneyin.\")\n",
    "            break\n",
    "    else:\n",
    "        print(\"Tebrikler bir e-posta adresi girdiniz.\")"
   ]
  },
  {
   "cell_type": "code",
   "execution_count": null,
   "id": "3e15b858",
   "metadata": {},
   "outputs": [],
   "source": [
    "girilen_eposta_mi()"
   ]
  }
 ],
 "metadata": {
  "kernelspec": {
   "display_name": "Python 3 (ipykernel)",
   "language": "python",
   "name": "python3"
  },
  "language_info": {
   "codemirror_mode": {
    "name": "ipython",
    "version": 3
   },
   "file_extension": ".py",
   "mimetype": "text/x-python",
   "name": "python",
   "nbconvert_exporter": "python",
   "pygments_lexer": "ipython3",
   "version": "3.11.4"
  }
 },
 "nbformat": 4,
 "nbformat_minor": 5
}
