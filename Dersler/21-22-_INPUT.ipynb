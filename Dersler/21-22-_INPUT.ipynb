{
 "cells": [
  {
   "cell_type": "markdown",
   "id": "86cf4818",
   "metadata": {},
   "source": [
    "# KULLANICI GİRDİSİ "
   ]
  },
  {
   "cell_type": "code",
   "execution_count": 1,
   "id": "e844ff7e",
   "metadata": {
    "scrolled": true
   },
   "outputs": [
    {
     "name": "stdout",
     "output_type": "stream",
     "text": [
      "Bir sayı gir10\n"
     ]
    },
    {
     "data": {
      "text/plain": [
       "'10'"
      ]
     },
     "execution_count": 1,
     "metadata": {},
     "output_type": "execute_result"
    }
   ],
   "source": [
    "input(\"Bir sayı gir\")"
   ]
  },
  {
   "cell_type": "code",
   "execution_count": 2,
   "id": "72ad06fd",
   "metadata": {},
   "outputs": [
    {
     "name": "stdout",
     "output_type": "stream",
     "text": [
      "Bir sayı gir10\n"
     ]
    },
    {
     "data": {
      "text/plain": [
       "str"
      ]
     },
     "execution_count": 2,
     "metadata": {},
     "output_type": "execute_result"
    }
   ],
   "source": [
    "type(input(\"Bir sayı gir\"))"
   ]
  },
  {
   "cell_type": "code",
   "execution_count": 5,
   "id": "fa9f1039",
   "metadata": {},
   "outputs": [
    {
     "name": "stdout",
     "output_type": "stream",
     "text": [
      "Bir sayı gir10\n"
     ]
    },
    {
     "data": {
      "text/plain": [
       "10"
      ]
     },
     "execution_count": 5,
     "metadata": {},
     "output_type": "execute_result"
    }
   ],
   "source": [
    "int(input(\"Bir sayı gir\"))"
   ]
  },
  {
   "cell_type": "code",
   "execution_count": 26,
   "id": "2235cf6d",
   "metadata": {},
   "outputs": [],
   "source": [
    "def tek_cift():\n",
    "    sayi = int(input(\"Bir sayı giriniz.\"))\n",
    "    tek_cift = input(\"Girdiğiniz sayı tek ise T, Girdiğiniz sayı çift ise Ç yazınız.\")\n",
    "    if (tek_cift == \"T\"):\n",
    "        if(sayi%2 == 1):\n",
    "            return \"Girdiğiniz bu sayı: {}, bir tek sayıdır.\".format(sayi)\n",
    "        else:\n",
    "            return \"Girdiğiniz bu sayı: {}, bir tek sayı değildir !!\".format(sayi)\n",
    "    elif (tek_cift == \"Ç\"):\n",
    "        if(sayi%2 == 0):\n",
    "            return \"Girdiğiniz bu sayı: {}, bir çift sayıdır.\".format(sayi)\n",
    "        else:\n",
    "            return \"Girdiğiniz bu sayı: {}, bir çift sayı değildir !!\".format(sayi)"
   ]
  },
  {
   "cell_type": "code",
   "execution_count": 25,
   "id": "1579bae7",
   "metadata": {
    "scrolled": true
   },
   "outputs": [
    {
     "name": "stdout",
     "output_type": "stream",
     "text": [
      "Bir sayı giriniz.4\n",
      "Girdiğiniz sayı tek ise T, Girdiğiniz sayı çift ise Ç yazınız.Ç\n"
     ]
    },
    {
     "data": {
      "text/plain": [
       "'Girdiğiniz bu sayı 4, bir çift sayıdır.'"
      ]
     },
     "execution_count": 25,
     "metadata": {},
     "output_type": "execute_result"
    }
   ],
   "source": [
    "tek_cift()"
   ]
  },
  {
   "cell_type": "markdown",
   "id": "ce1f1842",
   "metadata": {},
   "source": [
    "# KULLANICI GİRDİSİ ONAYLAMA"
   ]
  },
  {
   "cell_type": "code",
   "execution_count": 27,
   "id": "e84937ae",
   "metadata": {},
   "outputs": [
    {
     "name": "stdout",
     "output_type": "stream",
     "text": [
      "Bir sayı giriniz: 10\n"
     ]
    },
    {
     "data": {
      "text/plain": [
       "'10'"
      ]
     },
     "execution_count": 27,
     "metadata": {},
     "output_type": "execute_result"
    }
   ],
   "source": [
    "input(\"Bir sayı giriniz: \")"
   ]
  },
  {
   "cell_type": "code",
   "execution_count": 31,
   "id": "0b5fe315",
   "metadata": {},
   "outputs": [],
   "source": [
    "def girilen_sayi_mi():\n",
    "    if input(\"Bir sayı giriniz: \").isdigit():\n",
    "        print(\"Tebrikler başarılı bir şekilde sayı girdiniz\")\n",
    "    else:\n",
    "        print(\"Girdiğiniz şey bir sayı değil!!\")"
   ]
  },
  {
   "cell_type": "code",
   "execution_count": 33,
   "id": "e5a73299",
   "metadata": {},
   "outputs": [
    {
     "name": "stdout",
     "output_type": "stream",
     "text": [
      "Bir sayı giriniz: a\n",
      "Girdiğiniz şey bir sayı değil!!\n"
     ]
    }
   ],
   "source": [
    "girilen_sayi_mi()"
   ]
  },
  {
   "cell_type": "code",
   "execution_count": 157,
   "id": "2a11b2ec",
   "metadata": {},
   "outputs": [],
   "source": [
    "def girilen_sayi_mi_sorgula():\n",
    "    hak = 5\n",
    "    arakat = 5\n",
    "    while not input(\"Bir sayı giriniz: \").isdigit():\n",
    "        hak -= 1\n",
    "        while not hak > -1:\n",
    "            None\n",
    "            if hak == -1:\n",
    "                break\n",
    "        else:\n",
    "            print(\"Bir sayı girmediniz lütfen tekrar deneyiniz !!\")\n",
    "        arakat -= 1\n",
    "        while not arakat > -1:\n",
    "            None\n",
    "            if arakat == -1:\n",
    "                break\n",
    "        else:\n",
    "            print(\"Kalan deneme hakkınız: {}\".format(hak+1))\n",
    "        if (hak == -1):\n",
    "            print(\"Deneme hakkınız bitti biraz sonra bir daha deneyin.\")\n",
    "            break\n",
    "    else:\n",
    "        print(\"Tebrikler bir sayı girdiniz.\")"
   ]
  },
  {
   "cell_type": "code",
   "execution_count": 159,
   "id": "07a10f45",
   "metadata": {},
   "outputs": [
    {
     "name": "stdout",
     "output_type": "stream",
     "text": [
      "Bir sayı giriniz: a\n",
      "Bir sayı girmediniz lütfen tekrar deneyiniz !!\n",
      "Kalan deneme hakkınız: 5\n",
      "Bir sayı giriniz: s\n",
      "Bir sayı girmediniz lütfen tekrar deneyiniz !!\n",
      "Kalan deneme hakkınız: 4\n",
      "Bir sayı giriniz: d\n",
      "Bir sayı girmediniz lütfen tekrar deneyiniz !!\n",
      "Kalan deneme hakkınız: 3\n",
      "Bir sayı giriniz: s\n",
      "Bir sayı girmediniz lütfen tekrar deneyiniz !!\n",
      "Kalan deneme hakkınız: 2\n",
      "Bir sayı giriniz: e\n",
      "Bir sayı girmediniz lütfen tekrar deneyiniz !!\n",
      "Kalan deneme hakkınız: 1\n",
      "Bir sayı giriniz: s\n",
      "Deneme hakkınız bitti biraz sonra bir daha deneyin.\n"
     ]
    }
   ],
   "source": [
    "girilen_sayi_mi_sorgula()"
   ]
  },
  {
   "cell_type": "code",
   "execution_count": 176,
   "id": "9dfe36b6",
   "metadata": {},
   "outputs": [],
   "source": [
    "def girilen_eposta_mi():\n",
    "    hak1 = 5\n",
    "    arakat1 = 5\n",
    "    eposta = input(\"Bir e-posta adresi giriniz:\")\n",
    "    eposta_fix = 0\n",
    "    while not((\"@\" in eposta) and (\".\" in eposta)):\n",
    "        if (eposta_fix == 0):\n",
    "            print(\"Yanlış bir e-posta girdiniz deneme hakkınız başlatılmıştır: {}\".format(hak1+1))\n",
    "        eposta_fix += 1\n",
    "        while not (hak1 > -1):\n",
    "            if (hak1 == -1):\n",
    "                break\n",
    "            None\n",
    "        else:\n",
    "            eposta = input(\"Bir e-posta adresi girmediniz tekrar deneyin: \")\n",
    "        arakat1 -= 1\n",
    "        while not arakat1 > -1:\n",
    "            if arakat1 == -1:\n",
    "                break\n",
    "            None\n",
    "        else:\n",
    "            print(\"{} Kadar hakkınız kaldı\".format(arakat1+1))\n",
    "        hak1 -= 1\n",
    "        if (hak1 == -1):\n",
    "            print(\"Deneme hakkınız bitti biraz sonra bir daha deneyin.\")\n",
    "            break\n",
    "    else:\n",
    "        print(\"Tebrikler bir e-posta adresi girdiniz.\")"
   ]
  },
  {
   "cell_type": "code",
   "execution_count": 177,
   "id": "3e15b858",
   "metadata": {},
   "outputs": [
    {
     "name": "stdout",
     "output_type": "stream",
     "text": [
      "Bir e-posta adresi giriniz:a\n",
      "Yanlış bir e-posta girdiniz deneme hakkınız başlatılmıştır: 6\n",
      "Bir e-posta adresi girmediniz tekrar deneyin: s\n",
      "5 Kadar hakkınız kaldı\n",
      "Bir e-posta adresi girmediniz tekrar deneyin: a\n",
      "4 Kadar hakkınız kaldı\n",
      "Bir e-posta adresi girmediniz tekrar deneyin: s\n",
      "3 Kadar hakkınız kaldı\n",
      "Bir e-posta adresi girmediniz tekrar deneyin: d\n",
      "2 Kadar hakkınız kaldı\n",
      "Bir e-posta adresi girmediniz tekrar deneyin: s\n",
      "1 Kadar hakkınız kaldı\n",
      "Bir e-posta adresi girmediniz tekrar deneyin: a\n",
      "Deneme hakkınız bitti biraz sonra bir daha deneyin.\n"
     ]
    }
   ],
   "source": [
    "girilen_eposta_mi()"
   ]
  }
 ],
 "metadata": {
  "kernelspec": {
   "display_name": "Python 3 (ipykernel)",
   "language": "python",
   "name": "python3"
  },
  "language_info": {
   "codemirror_mode": {
    "name": "ipython",
    "version": 3
   },
   "file_extension": ".py",
   "mimetype": "text/x-python",
   "name": "python",
   "nbconvert_exporter": "python",
   "pygments_lexer": "ipython3",
   "version": "3.11.4"
  }
 },
 "nbformat": 4,
 "nbformat_minor": 5
}
