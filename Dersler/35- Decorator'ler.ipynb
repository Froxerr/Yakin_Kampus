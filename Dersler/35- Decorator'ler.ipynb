{
 "cells": [
  {
   "cell_type": "markdown",
   "id": "a085dec1",
   "metadata": {},
   "source": [
    "## Decorator prensibi"
   ]
  },
  {
   "cell_type": "raw",
   "id": "9c0903df",
   "metadata": {},
   "source": [
    "@decorator\n",
    "def ..."
   ]
  },
  {
   "cell_type": "markdown",
   "id": "d0adae8f",
   "metadata": {},
   "source": [
    "## Degisken olarak fonksiyon"
   ]
  },
  {
   "cell_type": "code",
   "execution_count": null,
   "id": "7da2c956",
   "metadata": {},
   "outputs": [],
   "source": [
    "def fonks():\n",
    "    print(\"Merhabaaa\")"
   ]
  },
  {
   "cell_type": "code",
   "execution_count": null,
   "id": "f9da90f0",
   "metadata": {},
   "outputs": [],
   "source": [
    "f = fonks\n",
    "f()"
   ]
  },
  {
   "cell_type": "markdown",
   "id": "e2654c9b",
   "metadata": {},
   "source": [
    "## Fonksiyon icinde fonksiyon"
   ]
  },
  {
   "cell_type": "code",
   "execution_count": null,
   "id": "f158b647",
   "metadata": {},
   "outputs": [],
   "source": [
    "def fonks():\n",
    "    print(\"Birinci fonksiyonum çalışıyor\")\n",
    "    def fonks2():\n",
    "        return(\"İkinci fonksiyonum çalışıyor\")\n",
    "    print(fonks2())"
   ]
  },
  {
   "cell_type": "code",
   "execution_count": null,
   "id": "0587714f",
   "metadata": {},
   "outputs": [],
   "source": [
    "fonks()"
   ]
  },
  {
   "cell_type": "code",
   "execution_count": null,
   "id": "5cd3f301",
   "metadata": {},
   "outputs": [],
   "source": [
    "def fonks():\n",
    "    print(\"Birinci fonksiyonum çalışıyor\")\n",
    "    def fonks2():\n",
    "        return(\"İkinci fonksiyonum çalışıyor\")\n",
    "    return(fonks2)"
   ]
  },
  {
   "cell_type": "code",
   "execution_count": null,
   "id": "2525416b",
   "metadata": {},
   "outputs": [],
   "source": [
    "f = fonks()\n",
    "f()"
   ]
  },
  {
   "cell_type": "code",
   "execution_count": null,
   "id": "ac2d326e",
   "metadata": {},
   "outputs": [],
   "source": [
    "f = fonks()\n",
    "print(f())"
   ]
  },
  {
   "cell_type": "markdown",
   "id": "ff58070d",
   "metadata": {},
   "source": [
    "## Decorator"
   ]
  },
  {
   "cell_type": "code",
   "execution_count": null,
   "id": "0e9b87e4",
   "metadata": {},
   "outputs": [],
   "source": [
    "def deneme():\n",
    "    return \"Deneme fonksiyonu\""
   ]
  },
  {
   "cell_type": "code",
   "execution_count": null,
   "id": "c8a21aca",
   "metadata": {},
   "outputs": [],
   "source": [
    "def deneme_2(f):\n",
    "    return \"Hem {} olan çalışıyor hem de deneme 2\".format(f())"
   ]
  },
  {
   "cell_type": "code",
   "execution_count": null,
   "id": "5569f129",
   "metadata": {},
   "outputs": [],
   "source": [
    "deneme_2(deneme)"
   ]
  },
  {
   "cell_type": "code",
   "execution_count": null,
   "id": "c6751200",
   "metadata": {},
   "outputs": [],
   "source": [
    "def deco(f):\n",
    "    def wrapper():\n",
    "        print(\"Baslangic\")\n",
    "        f()\n",
    "        print(\"Bitis\")\n",
    "    return(wrapper)"
   ]
  },
  {
   "cell_type": "code",
   "execution_count": null,
   "id": "c26ea95d",
   "metadata": {},
   "outputs": [],
   "source": [
    "def soz():\n",
    "    print(\"SELAMLAAAR\")"
   ]
  },
  {
   "cell_type": "code",
   "execution_count": null,
   "id": "9f396489",
   "metadata": {},
   "outputs": [],
   "source": [
    "yazdir = deco(soz)\n",
    "yazdir()"
   ]
  },
  {
   "cell_type": "code",
   "execution_count": null,
   "id": "7be706d1",
   "metadata": {},
   "outputs": [],
   "source": [
    "def soz2():\n",
    "    print(\"MERHABALARRR\")"
   ]
  },
  {
   "cell_type": "code",
   "execution_count": null,
   "id": "7fa0cd4b",
   "metadata": {},
   "outputs": [],
   "source": [
    "yazdir2 = deco(soz2)\n",
    "yazdir2()"
   ]
  },
  {
   "cell_type": "code",
   "execution_count": null,
   "id": "4bf29e2d",
   "metadata": {},
   "outputs": [],
   "source": [
    "@deco\n",
    "def soz3():\n",
    "    print(\"SELAM MERHABA\")"
   ]
  },
  {
   "cell_type": "code",
   "execution_count": null,
   "id": "76a33f6c",
   "metadata": {},
   "outputs": [],
   "source": [
    "soz3()"
   ]
  },
  {
   "cell_type": "code",
   "execution_count": null,
   "id": "595172d5",
   "metadata": {},
   "outputs": [],
   "source": [
    "@deco\n",
    "def toplama(a,b):\n",
    "    print(a + b)"
   ]
  },
  {
   "cell_type": "code",
   "execution_count": null,
   "id": "53073d0d",
   "metadata": {},
   "outputs": [],
   "source": [
    "toplama(5,3)"
   ]
  },
  {
   "cell_type": "markdown",
   "id": "392aa6d6",
   "metadata": {},
   "source": [
    "## Argüman alan fonksiyonlarda decorator"
   ]
  },
  {
   "cell_type": "code",
   "execution_count": null,
   "id": "18a7730d",
   "metadata": {},
   "outputs": [],
   "source": [
    "def deco_arguman(f):\n",
    "    def wrapper(*args):\n",
    "        print(\"Baslangic\")\n",
    "        f(*args)\n",
    "        print(\"Sonuc\")\n",
    "    return(wrapper)"
   ]
  },
  {
   "cell_type": "code",
   "execution_count": null,
   "id": "61b0ac0c",
   "metadata": {},
   "outputs": [],
   "source": [
    "@deco_arguman\n",
    "def toplama(a,b):\n",
    "    print(a+b)"
   ]
  },
  {
   "cell_type": "code",
   "execution_count": null,
   "id": "aca41440",
   "metadata": {},
   "outputs": [],
   "source": [
    "toplama(3,6)"
   ]
  },
  {
   "cell_type": "code",
   "execution_count": null,
   "id": "4a1d9449",
   "metadata": {},
   "outputs": [],
   "source": [
    "def deco_mesaj_dondur(msg1,msg2):\n",
    "    def ara_kat(f):\n",
    "        def wrapper(*args):\n",
    "            print(msg1)\n",
    "            f(*args)\n",
    "            print(msg2)\n",
    "        return wrapper\n",
    "    return(ara_kat)"
   ]
  },
  {
   "cell_type": "code",
   "execution_count": null,
   "id": "2245576e",
   "metadata": {},
   "outputs": [],
   "source": [
    "@deco_mesaj_dondur(\"Selaam\",\"Merhabaa\")\n",
    "def toplama(a,b):\n",
    "    print(a+b)"
   ]
  },
  {
   "cell_type": "code",
   "execution_count": null,
   "id": "d2a3c632",
   "metadata": {},
   "outputs": [],
   "source": [
    "toplama(3,5)"
   ]
  },
  {
   "cell_type": "markdown",
   "id": "dbec0a3a",
   "metadata": {},
   "source": [
    "## Örnek - Süre Ölcülmesi"
   ]
  },
  {
   "cell_type": "code",
   "execution_count": null,
   "id": "1fc626ba",
   "metadata": {},
   "outputs": [],
   "source": [
    "import time\n",
    "def dec_time(f):\n",
    "    def wrapper(*args):\n",
    "        baslangic = time.time()\n",
    "        print(\"Baslangic zamanım: {}\".format(baslangic))\n",
    "        f(*args)\n",
    "        bitis = time.time()\n",
    "        print(\"Bitis zamanım: {}\".format(bitis))\n",
    "        print(\"Gecen süre: {}\".format(bitis - baslangic))\n",
    "    return(wrapper)"
   ]
  },
  {
   "cell_type": "code",
   "execution_count": null,
   "id": "b06366a4",
   "metadata": {},
   "outputs": [],
   "source": [
    "@dec_time\n",
    "def faktoryel(sayi):\n",
    "    toplam = 1\n",
    "    while (sayi > 1):\n",
    "        toplam = toplam * sayi\n",
    "        sayi -= 1\n",
    "    print(toplam)"
   ]
  },
  {
   "cell_type": "code",
   "execution_count": null,
   "id": "68e87a7b",
   "metadata": {},
   "outputs": [],
   "source": [
    "faktoryel(1500)"
   ]
  }
 ],
 "metadata": {
  "kernelspec": {
   "display_name": "Python 3 (ipykernel)",
   "language": "python",
   "name": "python3"
  },
  "language_info": {
   "codemirror_mode": {
    "name": "ipython",
    "version": 3
   },
   "file_extension": ".py",
   "mimetype": "text/x-python",
   "name": "python",
   "nbconvert_exporter": "python",
   "pygments_lexer": "ipython3",
   "version": "3.11.4"
  }
 },
 "nbformat": 4,
 "nbformat_minor": 5
}
