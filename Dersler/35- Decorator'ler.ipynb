{
 "cells": [
  {
   "cell_type": "markdown",
   "id": "a085dec1",
   "metadata": {},
   "source": [
    "## Decorator prensibi"
   ]
  },
  {
   "cell_type": "raw",
   "id": "9c0903df",
   "metadata": {},
   "source": [
    "@decorator\n",
    "def ..."
   ]
  },
  {
   "cell_type": "markdown",
   "id": "d0adae8f",
   "metadata": {},
   "source": [
    "## Degisken olarak fonksiyon"
   ]
  },
  {
   "cell_type": "code",
   "execution_count": 2,
   "id": "7da2c956",
   "metadata": {},
   "outputs": [],
   "source": [
    "def fonks():\n",
    "    print(\"Merhabaaa\")"
   ]
  },
  {
   "cell_type": "code",
   "execution_count": 4,
   "id": "f9da90f0",
   "metadata": {},
   "outputs": [
    {
     "name": "stdout",
     "output_type": "stream",
     "text": [
      "Merhabaaa\n"
     ]
    }
   ],
   "source": [
    "f = fonks\n",
    "f()"
   ]
  },
  {
   "cell_type": "markdown",
   "id": "e2654c9b",
   "metadata": {},
   "source": [
    "## Fonksiyon icinde fonksiyon"
   ]
  },
  {
   "cell_type": "code",
   "execution_count": 19,
   "id": "f158b647",
   "metadata": {},
   "outputs": [],
   "source": [
    "def fonks():\n",
    "    print(\"Birinci fonksiyonum çalışıyor\")\n",
    "    def fonks2():\n",
    "        return(\"İkinci fonksiyonum çalışıyor\")\n",
    "    print(fonks2())"
   ]
  },
  {
   "cell_type": "code",
   "execution_count": 20,
   "id": "0587714f",
   "metadata": {},
   "outputs": [
    {
     "name": "stdout",
     "output_type": "stream",
     "text": [
      "Birinci fonksiyonum çalışıyor\n",
      "İkinci fonksiyonum çalışıyor\n"
     ]
    }
   ],
   "source": [
    "fonks()"
   ]
  },
  {
   "cell_type": "code",
   "execution_count": 40,
   "id": "5cd3f301",
   "metadata": {},
   "outputs": [],
   "source": [
    "def fonks():\n",
    "    print(\"Birinci fonksiyonum çalışıyor\")\n",
    "    def fonks2():\n",
    "        return(\"İkinci fonksiyonum çalışıyor\")\n",
    "    return(fonks2)"
   ]
  },
  {
   "cell_type": "code",
   "execution_count": 41,
   "id": "2525416b",
   "metadata": {},
   "outputs": [
    {
     "name": "stdout",
     "output_type": "stream",
     "text": [
      "Birinci fonksiyonum çalışıyor\n"
     ]
    },
    {
     "data": {
      "text/plain": [
       "'İkinci fonksiyonum çalışıyor'"
      ]
     },
     "execution_count": 41,
     "metadata": {},
     "output_type": "execute_result"
    }
   ],
   "source": [
    "f = fonks()\n",
    "f()"
   ]
  },
  {
   "cell_type": "code",
   "execution_count": 43,
   "id": "ac2d326e",
   "metadata": {},
   "outputs": [
    {
     "name": "stdout",
     "output_type": "stream",
     "text": [
      "Birinci fonksiyonum çalışıyor\n",
      "İkinci fonksiyonum çalışıyor\n"
     ]
    }
   ],
   "source": [
    "f = fonks()\n",
    "print(f())"
   ]
  },
  {
   "cell_type": "markdown",
   "id": "ff58070d",
   "metadata": {},
   "source": [
    "## Decorator"
   ]
  },
  {
   "cell_type": "code",
   "execution_count": 62,
   "id": "0e9b87e4",
   "metadata": {},
   "outputs": [],
   "source": [
    "def deneme():\n",
    "    return \"Deneme fonksiyonu\""
   ]
  },
  {
   "cell_type": "code",
   "execution_count": 63,
   "id": "c8a21aca",
   "metadata": {},
   "outputs": [],
   "source": [
    "def deneme_2(f):\n",
    "    return \"Hem {} olan çalışıyor hem de deneme 2\".format(f())"
   ]
  },
  {
   "cell_type": "code",
   "execution_count": 64,
   "id": "5569f129",
   "metadata": {},
   "outputs": [
    {
     "data": {
      "text/plain": [
       "'Hem Deneme fonksiyonu olan çalışıyor hem de deneme 2'"
      ]
     },
     "execution_count": 64,
     "metadata": {},
     "output_type": "execute_result"
    }
   ],
   "source": [
    "deneme_2(deneme)"
   ]
  },
  {
   "cell_type": "code",
   "execution_count": 102,
   "id": "c6751200",
   "metadata": {},
   "outputs": [],
   "source": [
    "def deco(f):\n",
    "    def wrapper():\n",
    "        print(\"Baslangic\")\n",
    "        f()\n",
    "        print(\"Bitis\")\n",
    "    return(wrapper)"
   ]
  },
  {
   "cell_type": "code",
   "execution_count": 104,
   "id": "c26ea95d",
   "metadata": {},
   "outputs": [],
   "source": [
    "def soz():\n",
    "    print(\"SELAMLAAAR\")"
   ]
  },
  {
   "cell_type": "code",
   "execution_count": 111,
   "id": "9f396489",
   "metadata": {},
   "outputs": [
    {
     "name": "stdout",
     "output_type": "stream",
     "text": [
      "Baslangic\n",
      "SELAMLAAAR\n",
      "Bitis\n"
     ]
    }
   ],
   "source": [
    "yazdir = deco(soz)\n",
    "yazdir()"
   ]
  },
  {
   "cell_type": "code",
   "execution_count": 112,
   "id": "7be706d1",
   "metadata": {},
   "outputs": [],
   "source": [
    "def soz2():\n",
    "    print(\"MERHABALARRR\")"
   ]
  },
  {
   "cell_type": "code",
   "execution_count": 115,
   "id": "7fa0cd4b",
   "metadata": {},
   "outputs": [
    {
     "name": "stdout",
     "output_type": "stream",
     "text": [
      "Baslangic\n",
      "MERHABALARRR\n",
      "Bitis\n"
     ]
    }
   ],
   "source": [
    "yazdir2 = deco(soz2)\n",
    "yazdir2()"
   ]
  },
  {
   "cell_type": "code",
   "execution_count": 116,
   "id": "4bf29e2d",
   "metadata": {},
   "outputs": [],
   "source": [
    "@deco\n",
    "def soz3():\n",
    "    print(\"SELAM MERHABA\")"
   ]
  },
  {
   "cell_type": "code",
   "execution_count": 117,
   "id": "76a33f6c",
   "metadata": {},
   "outputs": [
    {
     "name": "stdout",
     "output_type": "stream",
     "text": [
      "Baslangic\n",
      "SELAM MERHABA\n",
      "Bitis\n"
     ]
    }
   ],
   "source": [
    "soz3()"
   ]
  },
  {
   "cell_type": "code",
   "execution_count": 103,
   "id": "595172d5",
   "metadata": {},
   "outputs": [],
   "source": [
    "@deco\n",
    "def toplama(a,b):\n",
    "    print(a + b)"
   ]
  },
  {
   "cell_type": "code",
   "execution_count": 118,
   "id": "53073d0d",
   "metadata": {},
   "outputs": [
    {
     "ename": "TypeError",
     "evalue": "deco.<locals>.wrapper() takes 0 positional arguments but 2 were given",
     "output_type": "error",
     "traceback": [
      "\u001b[1;31m---------------------------------------------------------------------------\u001b[0m",
      "\u001b[1;31mTypeError\u001b[0m                                 Traceback (most recent call last)",
      "Cell \u001b[1;32mIn[118], line 1\u001b[0m\n\u001b[1;32m----> 1\u001b[0m toplama(\u001b[38;5;241m5\u001b[39m,\u001b[38;5;241m3\u001b[39m)\n",
      "\u001b[1;31mTypeError\u001b[0m: deco.<locals>.wrapper() takes 0 positional arguments but 2 were given"
     ]
    }
   ],
   "source": [
    "toplama(5,3)"
   ]
  },
  {
   "cell_type": "markdown",
   "id": "392aa6d6",
   "metadata": {},
   "source": [
    "## Argüman alan fonksiyonlarda decorator"
   ]
  },
  {
   "cell_type": "code",
   "execution_count": 119,
   "id": "18a7730d",
   "metadata": {},
   "outputs": [],
   "source": [
    "def deco_arguman(f):\n",
    "    def wrapper(*args):\n",
    "        print(\"Baslangic\")\n",
    "        f(*args)\n",
    "        print(\"Sonuc\")\n",
    "    return(wrapper)"
   ]
  },
  {
   "cell_type": "code",
   "execution_count": 120,
   "id": "61b0ac0c",
   "metadata": {},
   "outputs": [],
   "source": [
    "@deco_arguman\n",
    "def toplama(a,b):\n",
    "    print(a+b)"
   ]
  },
  {
   "cell_type": "code",
   "execution_count": 121,
   "id": "aca41440",
   "metadata": {},
   "outputs": [
    {
     "name": "stdout",
     "output_type": "stream",
     "text": [
      "Baslangic\n",
      "9\n",
      "Sonuc\n"
     ]
    }
   ],
   "source": [
    "toplama(3,6)"
   ]
  },
  {
   "cell_type": "code",
   "execution_count": 142,
   "id": "4a1d9449",
   "metadata": {},
   "outputs": [],
   "source": [
    "def deco_mesaj_dondur(msg1,msg2):\n",
    "    def ara_kat(f):\n",
    "        def wrapper(*args):\n",
    "            print(msg1)\n",
    "            f(*args)\n",
    "            print(msg2)\n",
    "        return wrapper\n",
    "    return(ara_kat)"
   ]
  },
  {
   "cell_type": "code",
   "execution_count": 146,
   "id": "2245576e",
   "metadata": {},
   "outputs": [],
   "source": [
    "@deco_mesaj_dondur(\"Selaam\",\"Merhabaa\")\n",
    "def toplama(a,b):\n",
    "    print(a+b)"
   ]
  },
  {
   "cell_type": "code",
   "execution_count": 147,
   "id": "d2a3c632",
   "metadata": {},
   "outputs": [
    {
     "name": "stdout",
     "output_type": "stream",
     "text": [
      "Selaam\n",
      "8\n",
      "Merhabaa\n"
     ]
    }
   ],
   "source": [
    "toplama(3,5)"
   ]
  },
  {
   "cell_type": "markdown",
   "id": "dbec0a3a",
   "metadata": {},
   "source": [
    "## Örnek - Süre Ölcülmesi"
   ]
  },
  {
   "cell_type": "code",
   "execution_count": 159,
   "id": "1fc626ba",
   "metadata": {},
   "outputs": [],
   "source": [
    "import time\n",
    "def dec_time(f):\n",
    "    def wrapper(*args):\n",
    "        baslangic = time.time()\n",
    "        print(\"Baslangic zamanım: {}\".format(baslangic))\n",
    "        f(*args)\n",
    "        bitis = time.time()\n",
    "        print(\"Bitis zamanım: {}\".format(bitis))\n",
    "        print(\"Gecen süre: {}\".format(bitis - baslangic))\n",
    "    return(wrapper)"
   ]
  },
  {
   "cell_type": "code",
   "execution_count": 175,
   "id": "b06366a4",
   "metadata": {},
   "outputs": [],
   "source": [
    "@dec_time\n",
    "def faktoryel(sayi):\n",
    "    toplam = 1\n",
    "    while (sayi > 1):\n",
    "        toplam = toplam * sayi\n",
    "        sayi -= 1\n",
    "    print(toplam)"
   ]
  },
  {
   "cell_type": "code",
   "execution_count": 186,
   "id": "68e87a7b",
   "metadata": {},
   "outputs": [
    {
     "name": "stdout",
     "output_type": "stream",
     "text": [
      "Baslangic zamanım: 1691325712.1075757\n",
      "48119977967797748601669900935813797818348080406726138081308559411630575189001095591292230585206733851868464009619343585194052091124618166270271481881393331431627962810299844149333789044689395510487167879769325303699470467829234399263326545652860748605075746366928323606645492277541120083438086727369377887676000211405318480244354207419604864176969950581435222198851194568984095705945549589054568321792338919149442985919957734792959402499096845643020401869381175603964424333222114125974374817804242633309769804293952870034619354125014210045647664063240162007560108665290568646128342557147350985358724154623253371867470765120422073867963935775258692109753041762094343569050497470353531764481503174750911858230906998361066084787758316110585736013365377431860738572261325738233656835271947352695180865573043834027955539012765489372645042504406597752357481931532872356635411224578334040522294746402829585458478708778346379431862368824819009177091444034885941394319343910223168655869761799669075059527608502465593181398566214786801211651657222004123456498258513120359126022843038535083709796101565934859483203933443308601475813108363074118562404412420191947127585482919172173045961122122701434297870691932154082986945954748251105782181586397275820342101470457300633590139512919549474113721711616912519714191760699935509810254849967087635936181176363954224186031346682928878492872249485456690138831610135377916327940503701400290125509132140782614640495733518048670983360134097860364762638658894873174499870133559364805443430831459505987809215393353387232078177562975021460595422358573128085417162336030235138652735438053034531962620811566019896879275257163988352090874930346115518331202927263708446729394381879888839549731876978682249320628599631628662375508826209854754631984276392670919216923002770077734756077549035942976209159416211581439461484509549370357486770276807687544580164314647595031368948490282897173328013518435758700056425922638411889496527975846052717958044813737086806600171993703579485864029383208714528950303253881360812631162134750100307772634337467012820470715650810714689905121432259528505483053930402217400686061612471659630192434864094539828085677465383026128353771071152304197549798870706139893609140045659756285435787771636258253666592102151236142132724425850991205720020493660580896600891888594659612927724357866265934517615841298789154462249169688860092640284756382431746120357767933119589280468687348061788072986362788582227019465263474828590646048451070702923434422714349595857654843699542321849363652767771978314681013589442955219879702008068934096624650625769705233333462826013860098698155180331145365652453482955497979915586438474687345677874451117702250441711504844638414485210092261397271970571029038581873069951161330495772310508760528249706514238384269808639507080418298318311361373628512041716415196868334254119137139589149597210032153545941114666530498906529240798164804007394775927836045668573993316428972539932745757171947402454257142633700815922407278403640595355142075599446056337986717212316223257763412164180899532722039383244462511410346646148863397237096276822656157561194665545757017429842404840309758925618650507921043007241637877939825811059339138925526124514467627126548126795078784022672860886251974581362141782786407402896309678008909663263987018538107050886193489012497405005820727271232733728141775132722013860591169620692789290456794698409808557447756701311883266010859016027592252397754508251628808293537776536569608111330584797160694847898923196743970244451842702266403326317319092117151143971679500042590269255093130215984418097418435474300467281949798227102529873732749027992079700287275900856241172902880909546551703263202853584498085358955307673717177961902081098618729046348849060249600000000000000000000000000000000000000000000000000000000000000000000000000000000000000000000000000000000000000000000000000000000000000000000000000000000000000000000000000000000000000000000000000000000000000000000000000000000000000000000000000000000000000000000000000000000000000000000000000000000000000000000000000000000000000000000000000000000000000000000000000000000000000\n",
      "Bitis zamanım: 1691325712.1085665\n",
      "Gecen süre: 0.0009908676147460938\n"
     ]
    }
   ],
   "source": [
    "faktoryel(1500)"
   ]
  }
 ],
 "metadata": {
  "kernelspec": {
   "display_name": "Python 3 (ipykernel)",
   "language": "python",
   "name": "python3"
  },
  "language_info": {
   "codemirror_mode": {
    "name": "ipython",
    "version": 3
   },
   "file_extension": ".py",
   "mimetype": "text/x-python",
   "name": "python",
   "nbconvert_exporter": "python",
   "pygments_lexer": "ipython3",
   "version": "3.11.3"
  }
 },
 "nbformat": 4,
 "nbformat_minor": 5
}
