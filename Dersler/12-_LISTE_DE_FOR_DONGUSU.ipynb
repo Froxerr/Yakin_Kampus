{
 "cells": [
  {
   "cell_type": "markdown",
   "id": "10704f7e",
   "metadata": {},
   "source": [
    "# for DÖNGÜLERİ"
   ]
  },
  {
   "cell_type": "code",
   "execution_count": null,
   "id": "3b10d042",
   "metadata": {},
   "outputs": [],
   "source": [
    "#Kullanımı\n",
    "\n",
    "#for <Rasgele bir değişken> in <iterable(Listem)>:\n",
    "#    <buraya yazılanı yap(Iterasyon(Yineleyici))>"
   ]
  },
  {
   "cell_type": "code",
   "execution_count": null,
   "id": "e1b1ea8e",
   "metadata": {},
   "outputs": [],
   "source": [
    "kullanici_isimleri = [\"İsmail Aydemir\",\"Uygar Aydin\",\"Naz Yağcıoğlu\",\"Ferhat İbrik\",\"Ulaş Acil\",\"Bilal Kurucay\"]\n",
    "for kullanici in kullanici_isimleri:\n",
    "    print (kullanici)"
   ]
  },
  {
   "cell_type": "code",
   "execution_count": null,
   "id": "88782115",
   "metadata": {
    "scrolled": false
   },
   "outputs": [],
   "source": [
    "kullanici_sayisi = 0\n",
    "for kullanici in kullanici_isimleri:\n",
    "    kullanici_sayisi += 1\n",
    "    print(\"{0}. {1}\".format(kullanici_sayisi,kullanici))"
   ]
  },
  {
   "cell_type": "code",
   "execution_count": null,
   "id": "9b948cce",
   "metadata": {},
   "outputs": [],
   "source": [
    "ad, soyad = kullanici_isimleri[0].split()[0],kullanici_isimleri[0].split()[1]\n",
    "soyad"
   ]
  },
  {
   "cell_type": "code",
   "execution_count": null,
   "id": "6a122503",
   "metadata": {},
   "outputs": [],
   "source": [
    "kullanici_sayisi = 0\n",
    "for kullanici in kullanici_isimleri:\n",
    "    kullanici_sayisi += 1\n",
    "    ad = kullanici.split()[0]\n",
    "    soyad = kullanici.split()[1]\n",
    "    print(\"{0}. Kullanıcının Adı = {1} ve soyadı = {2}\".format(kullanici_sayisi, ad, soyad))"
   ]
  },
  {
   "cell_type": "code",
   "execution_count": null,
   "id": "567c922f",
   "metadata": {},
   "outputs": [],
   "source": [
    "moderator = \"Ulaş Acil\"\n",
    "kullanici_sayisi = 0\n",
    "moderator_sayisi = 0\n",
    "for kullanici in kullanici_isimleri:\n",
    "    ad = kullanici.split()[0]\n",
    "    soyad = kullanici.split()[1]\n",
    "    if(kullanici == moderator):\n",
    "        moderator_sayisi += 1\n",
    "        print (\"{0}. Moderatorün Adı = {1} ve Soyadı = {2}\".format(moderator_sayisi,ad,soyad))\n",
    "    else:\n",
    "        kullanici_sayisi += 1\n",
    "        print (\"{0}. Kullanıcının Adı = {1} ve Soyadı = {2}\".format(kullanici_sayisi,ad,soyad))"
   ]
  }
 ],
 "metadata": {
  "kernelspec": {
   "display_name": "Python 3 (ipykernel)",
   "language": "python",
   "name": "python3"
  },
  "language_info": {
   "codemirror_mode": {
    "name": "ipython",
    "version": 3
   },
   "file_extension": ".py",
   "mimetype": "text/x-python",
   "name": "python",
   "nbconvert_exporter": "python",
   "pygments_lexer": "ipython3",
   "version": "3.11.4"
  }
 },
 "nbformat": 4,
 "nbformat_minor": 5
}
