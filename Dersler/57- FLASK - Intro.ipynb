{
 "cells": [
  {
   "cell_type": "code",
   "execution_count": null,
   "id": "47b90223",
   "metadata": {},
   "outputs": [],
   "source": [
    "from flask import Flask, request"
   ]
  },
  {
   "cell_type": "code",
   "execution_count": null,
   "id": "6cc1a09c",
   "metadata": {},
   "outputs": [],
   "source": [
    "app = Flask(__name__)\n",
    "\n",
    "@app.route(\"/\", methods=[\"POST\"])\n",
    "def ping():\n",
    "    return \"Success\"\n",
    "\n",
    "@app.route(\"/ping_user\", methods=[\"POST\"])\n",
    "def ping_user():\n",
    "    print(request)\n",
    "    ad = request.args.get(\"ad\")\n",
    "    return f\"Merhaba {ad} server'a hoşgeldiniz\"\n",
    "if __name__ == \"__main__\":\n",
    "    app.run(port=5000)"
   ]
  }
 ],
 "metadata": {
  "kernelspec": {
   "display_name": "Python 3 (ipykernel)",
   "language": "python",
   "name": "python3"
  },
  "language_info": {
   "codemirror_mode": {
    "name": "ipython",
    "version": 3
   },
   "file_extension": ".py",
   "mimetype": "text/x-python",
   "name": "python",
   "nbconvert_exporter": "python",
   "pygments_lexer": "ipython3",
   "version": "3.11.4"
  }
 },
 "nbformat": 4,
 "nbformat_minor": 5
}
