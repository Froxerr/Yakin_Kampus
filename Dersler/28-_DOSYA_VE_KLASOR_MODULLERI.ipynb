{
 "cells": [
  {
   "cell_type": "markdown",
   "id": "b7ca3ac4",
   "metadata": {},
   "source": [
    "## MAGIC COMMANDS"
   ]
  },
  {
   "cell_type": "code",
   "execution_count": 2,
   "id": "5bb05ca4",
   "metadata": {},
   "outputs": [
    {
     "name": "stdout",
     "output_type": "stream",
     "text": [
      " Volume in drive C has no label.\n",
      " Volume Serial Number is 488A-2653\n",
      "\n",
      " Directory of C:\\Users\\ibrah\\Desktop\\Dosyalarım\\!!MONTH\\PYTHON\\DERSLER\n",
      "\n",
      "07/12/2023  12:06 PM    <DIR>          .\n",
      "07/12/2023  12:06 PM    <DIR>          ..\n",
      "07/12/2023  11:36 AM    <DIR>          .ipynb_checkpoints\n",
      "07/03/2023  05:38 PM             3,980 11- IF SORGULARI.ipynb\n",
      "07/04/2023  04:14 PM             4,556 12- LİSTE DE FOR DÖNGÜSÜ.ipynb\n",
      "07/04/2023  04:34 PM             2,538 13 - Iterable objelerde for döngüsü.ipynb\n",
      "07/04/2023  05:06 PM             3,042 14- While döngüleri.ipynb\n",
      "07/05/2023  03:11 PM             3,892 15- RANGE-ENUMERATE-ZIP.ipynb\n",
      "07/05/2023  03:33 PM             2,750 16- BREAK-CONTINUE-PASS.ipynb\n",
      "07/08/2023  03:57 PM            13,216 18-19-20 FONKSİYONLAR.ipynb\n",
      "06/28/2023  04:56 PM             1,309 1-PRINT KOMUTU.ipynb\n",
      "06/29/2023  12:18 PM             3,946 2 - 3-DEGISKEN - INTEGER - FLOAT .ipynb\n",
      "07/07/2023  04:32 PM             9,106 21-22- INPUT.ipynb\n",
      "07/08/2023  01:51 PM            12,427 23- TRY-EXCEPT-FINALLY , EXCEPTION TİPLERİ.ipynb\n",
      "07/10/2023  01:35 PM            11,220 25-26- CLASS YAPISI VE OOP(OBJECT ORIENTEDPROGRAMMING).ipynb\n",
      "07/12/2023  11:29 AM             4,790 27- DUNDER METHOD'LARI.ipynb\n",
      "07/12/2023  12:06 PM             1,754 28- DOSYA VE KLASOR MODULLERI.ipynb\n",
      "06/30/2023  03:18 PM             6,710 4-5- STRING - CHAR - BOOLEAN.ipynb\n",
      "07/01/2023  05:13 PM            13,087 5-6-7-LIST, SET - TUPLE - DICTIONARY.ipynb\n",
      "              16 File(s)         98,323 bytes\n",
      "               3 Dir(s)  107,732,316,160 bytes free\n"
     ]
    }
   ],
   "source": [
    "%ls"
   ]
  },
  {
   "cell_type": "code",
   "execution_count": 3,
   "id": "789a55a5",
   "metadata": {},
   "outputs": [
    {
     "data": {
      "text/plain": [
       "'C:\\\\Users\\\\ibrah\\\\Desktop\\\\Dosyalarım\\\\!!MONTH\\\\PYTHON\\\\DERSLER'"
      ]
     },
     "execution_count": 3,
     "metadata": {},
     "output_type": "execute_result"
    }
   ],
   "source": [
    "%pwd"
   ]
  },
  {
   "cell_type": "markdown",
   "id": "efddcfba",
   "metadata": {},
   "source": [
    "# OS Modülü"
   ]
  },
  {
   "cell_type": "markdown",
   "id": "77aded4c",
   "metadata": {},
   "source": [
    "## Navigasyon ve İçerik Listeleme"
   ]
  },
  {
   "cell_type": "code",
   "execution_count": 4,
   "id": "b3122b79",
   "metadata": {},
   "outputs": [],
   "source": [
    "import os"
   ]
  },
  {
   "cell_type": "code",
   "execution_count": 10,
   "id": "3e119449",
   "metadata": {},
   "outputs": [
    {
     "data": {
      "text/plain": [
       "'C:\\\\Users\\\\ibrah\\\\Desktop\\\\Dosyalarım\\\\!!MONTH\\\\PYTHON\\\\DERSLER'"
      ]
     },
     "execution_count": 10,
     "metadata": {},
     "output_type": "execute_result"
    }
   ],
   "source": [
    "os.getcwd()"
   ]
  },
  {
   "cell_type": "code",
   "execution_count": 11,
   "id": "4b7235df",
   "metadata": {},
   "outputs": [
    {
     "data": {
      "text/plain": [
       "['.ipynb_checkpoints',\n",
       " '1-PRINT KOMUTU.ipynb',\n",
       " '11- IF SORGULARI.ipynb',\n",
       " '12- LİSTE DE FOR DÖNGÜSÜ.ipynb',\n",
       " '13 - Iterable objelerde for döngüsü.ipynb',\n",
       " '14- While döngüleri.ipynb',\n",
       " '15- RANGE-ENUMERATE-ZIP.ipynb',\n",
       " '16- BREAK-CONTINUE-PASS.ipynb',\n",
       " '18-19-20 FONKSİYONLAR.ipynb',\n",
       " '2 - 3-DEGISKEN - INTEGER - FLOAT .ipynb',\n",
       " '21-22- INPUT.ipynb',\n",
       " '23- TRY-EXCEPT-FINALLY , EXCEPTION TİPLERİ.ipynb',\n",
       " '25-26- CLASS YAPISI VE OOP(OBJECT ORIENTEDPROGRAMMING).ipynb',\n",
       " \"27- DUNDER METHOD'LARI.ipynb\",\n",
       " '28- DOSYA VE KLASOR MODULLERI.ipynb',\n",
       " '4-5- STRING - CHAR - BOOLEAN.ipynb',\n",
       " '5-6-7-LIST, SET - TUPLE - DICTIONARY.ipynb']"
      ]
     },
     "execution_count": 11,
     "metadata": {},
     "output_type": "execute_result"
    }
   ],
   "source": [
    "os.listdir()"
   ]
  },
  {
   "cell_type": "code",
   "execution_count": 20,
   "id": "bb4a6aa4",
   "metadata": {
    "scrolled": false
   },
   "outputs": [
    {
     "name": "stdout",
     "output_type": "stream",
     "text": [
      ".ipynb_checkpoints\n",
      "1-PRINT KOMUTU.ipynb\n",
      "11- IF SORGULARI.ipynb\n",
      "12- LİSTE DE FOR DÖNGÜSÜ.ipynb\n",
      "13 - Iterable objelerde for döngüsü.ipynb\n",
      "14- While döngüleri.ipynb\n",
      "15- RANGE-ENUMERATE-ZIP.ipynb\n",
      "16- BREAK-CONTINUE-PASS.ipynb\n",
      "18-19-20 FONKSİYONLAR.ipynb\n",
      "2 - 3-DEGISKEN - INTEGER - FLOAT .ipynb\n",
      "21-22- INPUT.ipynb\n",
      "23- TRY-EXCEPT-FINALLY , EXCEPTION TİPLERİ.ipynb\n",
      "25-26- CLASS YAPISI VE OOP(OBJECT ORIENTEDPROGRAMMING).ipynb\n",
      "27- DUNDER METHOD'LARI.ipynb\n",
      "28- DOSYA VE KLASOR MODULLERI.ipynb\n",
      "4-5- STRING - CHAR - BOOLEAN.ipynb\n",
      "5-6-7-LIST, SET - TUPLE - DICTIONARY.ipynb\n"
     ]
    }
   ],
   "source": [
    "liste = os.listdir()\n",
    "for dosyalar in liste:\n",
    "    print(dosyalar)"
   ]
  },
  {
   "cell_type": "code",
   "execution_count": 22,
   "id": "e3060917",
   "metadata": {},
   "outputs": [],
   "source": [
    "os.chdir('C:\\\\Users')"
   ]
  },
  {
   "cell_type": "code",
   "execution_count": 23,
   "id": "a8439d08",
   "metadata": {},
   "outputs": [
    {
     "data": {
      "text/plain": [
       "'C:\\\\Users'"
      ]
     },
     "execution_count": 23,
     "metadata": {},
     "output_type": "execute_result"
    }
   ],
   "source": [
    "os.getcwd()"
   ]
  },
  {
   "cell_type": "code",
   "execution_count": 24,
   "id": "f4eccff4",
   "metadata": {},
   "outputs": [
    {
     "data": {
      "text/plain": [
       "['All Users', 'Default', 'Default User', 'desktop.ini', 'ibrah', 'Public']"
      ]
     },
     "execution_count": 24,
     "metadata": {},
     "output_type": "execute_result"
    }
   ],
   "source": [
    "os.listdir()"
   ]
  },
  {
   "cell_type": "code",
   "execution_count": 25,
   "id": "6b1272cc",
   "metadata": {},
   "outputs": [],
   "source": [
    "os.chdir('C:\\\\Users\\\\ibrah\\\\Desktop\\\\Dosyalarım\\\\!!MONTH\\\\PYTHON\\\\DERSLER')"
   ]
  },
  {
   "cell_type": "markdown",
   "id": "90c12010",
   "metadata": {},
   "source": [
    "## Yeni eleman oluşturma, İsim değiştirme ve Silme"
   ]
  },
  {
   "cell_type": "code",
   "execution_count": 27,
   "id": "070f89a2",
   "metadata": {},
   "outputs": [],
   "source": [
    "os.mkdir(\"C:\\\\Users\\\\ibrah\\\\Desktop\\\\Dosyalarım\\\\!!MONTH\\\\PYTHON\\\\DERSLER\\\\yeni_dosya\")"
   ]
  },
  {
   "cell_type": "code",
   "execution_count": 28,
   "id": "fe18ed10",
   "metadata": {
    "collapsed": true
   },
   "outputs": [
    {
     "data": {
      "text/plain": [
       "['.ipynb_checkpoints',\n",
       " '1-PRINT KOMUTU.ipynb',\n",
       " '11- IF SORGULARI.ipynb',\n",
       " '12- LİSTE DE FOR DÖNGÜSÜ.ipynb',\n",
       " '13 - Iterable objelerde for döngüsü.ipynb',\n",
       " '14- While döngüleri.ipynb',\n",
       " '15- RANGE-ENUMERATE-ZIP.ipynb',\n",
       " '16- BREAK-CONTINUE-PASS.ipynb',\n",
       " '18-19-20 FONKSİYONLAR.ipynb',\n",
       " '2 - 3-DEGISKEN - INTEGER - FLOAT .ipynb',\n",
       " '21-22- INPUT.ipynb',\n",
       " '23- TRY-EXCEPT-FINALLY , EXCEPTION TİPLERİ.ipynb',\n",
       " '25-26- CLASS YAPISI VE OOP(OBJECT ORIENTEDPROGRAMMING).ipynb',\n",
       " \"27- DUNDER METHOD'LARI.ipynb\",\n",
       " '28- DOSYA VE KLASOR MODULLERI.ipynb',\n",
       " '4-5- STRING - CHAR - BOOLEAN.ipynb',\n",
       " '5-6-7-LIST, SET - TUPLE - DICTIONARY.ipynb',\n",
       " 'yeni_dosya']"
      ]
     },
     "execution_count": 28,
     "metadata": {},
     "output_type": "execute_result"
    }
   ],
   "source": [
    "os.listdir()"
   ]
  },
  {
   "cell_type": "code",
   "execution_count": 29,
   "id": "93e9498c",
   "metadata": {},
   "outputs": [],
   "source": [
    "os.rmdir(\"C:\\\\Users\\\\ibrah\\\\Desktop\\\\Dosyalarım\\\\!!MONTH\\\\PYTHON\\\\DERSLER\\\\yeni_dosya\")"
   ]
  },
  {
   "cell_type": "code",
   "execution_count": 30,
   "id": "3e167e5d",
   "metadata": {
    "collapsed": true
   },
   "outputs": [
    {
     "data": {
      "text/plain": [
       "['.ipynb_checkpoints',\n",
       " '1-PRINT KOMUTU.ipynb',\n",
       " '11- IF SORGULARI.ipynb',\n",
       " '12- LİSTE DE FOR DÖNGÜSÜ.ipynb',\n",
       " '13 - Iterable objelerde for döngüsü.ipynb',\n",
       " '14- While döngüleri.ipynb',\n",
       " '15- RANGE-ENUMERATE-ZIP.ipynb',\n",
       " '16- BREAK-CONTINUE-PASS.ipynb',\n",
       " '18-19-20 FONKSİYONLAR.ipynb',\n",
       " '2 - 3-DEGISKEN - INTEGER - FLOAT .ipynb',\n",
       " '21-22- INPUT.ipynb',\n",
       " '23- TRY-EXCEPT-FINALLY , EXCEPTION TİPLERİ.ipynb',\n",
       " '25-26- CLASS YAPISI VE OOP(OBJECT ORIENTEDPROGRAMMING).ipynb',\n",
       " \"27- DUNDER METHOD'LARI.ipynb\",\n",
       " '28- DOSYA VE KLASOR MODULLERI.ipynb',\n",
       " '4-5- STRING - CHAR - BOOLEAN.ipynb',\n",
       " '5-6-7-LIST, SET - TUPLE - DICTIONARY.ipynb']"
      ]
     },
     "execution_count": 30,
     "metadata": {},
     "output_type": "execute_result"
    }
   ],
   "source": [
    "os.listdir()"
   ]
  },
  {
   "cell_type": "code",
   "execution_count": 1,
   "id": "c6007a77",
   "metadata": {},
   "outputs": [],
   "source": [
    "#    os.O_RDONLY - READ ONLY      - YALNIZCA OKU\n",
    "#    os.O_WRONLY - WRITE ONLY     - YALNIZCA YAZ\n",
    "#    os.O_RDWR   - READ AND WRITE - OKU VE YAZ\n",
    "#    os.O_CREAT  - CREATE         - OLUSTUR\n"
   ]
  },
  {
   "cell_type": "code",
   "execution_count": 63,
   "id": "7e6cb9dd",
   "metadata": {},
   "outputs": [],
   "source": [
    "yeni_dosya = os.open(\"Yeni_txt.txt\", os.O_RDWR|os.O_CREAT)"
   ]
  },
  {
   "cell_type": "code",
   "execution_count": 61,
   "id": "9704fad0",
   "metadata": {},
   "outputs": [],
   "source": [
    "os.write(yeni_dosya,\"Merhaba Dünya!!1\".encode())\n",
    "os.close(yeni_dosya)"
   ]
  },
  {
   "cell_type": "code",
   "execution_count": 64,
   "id": "816b0337",
   "metadata": {
    "scrolled": true
   },
   "outputs": [
    {
     "data": {
      "text/plain": [
       "b'Merh'"
      ]
     },
     "execution_count": 64,
     "metadata": {},
     "output_type": "execute_result"
    }
   ],
   "source": [
    "os.read(yeni_dosya, 4)"
   ]
  },
  {
   "cell_type": "code",
   "execution_count": 76,
   "id": "4bfb5746",
   "metadata": {},
   "outputs": [],
   "source": [
    "yeni_dosya = os.open(\"Yeni_txt.txt\", os.O_RDWR|os.O_CREAT)\n",
    "istatistik = os.stat(yeni_dosya).st_size\n",
    "os.write(yeni_dosya,\"Merhaba Dünya!!1\".encode())\n",
    "os.read(yeni_dosya, istatistik).decode()\n",
    "os.close(yeni_dosya)"
   ]
  },
  {
   "cell_type": "code",
   "execution_count": 81,
   "id": "46e1a808",
   "metadata": {},
   "outputs": [],
   "source": [
    "os.mkdir(\"Yeni_Klasor\")"
   ]
  },
  {
   "cell_type": "code",
   "execution_count": 82,
   "id": "07355a40",
   "metadata": {
    "collapsed": true
   },
   "outputs": [
    {
     "data": {
      "text/plain": [
       "['.ipynb_checkpoints',\n",
       " '1-PRINT KOMUTU.ipynb',\n",
       " '11- IF SORGULARI.ipynb',\n",
       " '12- LİSTE DE FOR DÖNGÜSÜ.ipynb',\n",
       " '13 - Iterable objelerde for döngüsü.ipynb',\n",
       " '14- While döngüleri.ipynb',\n",
       " '15- RANGE-ENUMERATE-ZIP.ipynb',\n",
       " '16- BREAK-CONTINUE-PASS.ipynb',\n",
       " '18-19-20 FONKSİYONLAR.ipynb',\n",
       " '2 - 3-DEGISKEN - INTEGER - FLOAT .ipynb',\n",
       " '21-22- INPUT.ipynb',\n",
       " '23- TRY-EXCEPT-FINALLY , EXCEPTION TİPLERİ.ipynb',\n",
       " '25-26- CLASS YAPISI VE OOP(OBJECT ORIENTEDPROGRAMMING).ipynb',\n",
       " \"27- DUNDER METHOD'LARI.ipynb\",\n",
       " '28- DOSYA VE KLASOR MODULLERI.ipynb',\n",
       " '4-5- STRING - CHAR - BOOLEAN.ipynb',\n",
       " '5-6-7-LIST, SET - TUPLE - DICTIONARY.ipynb',\n",
       " 'Yeni_Klasor',\n",
       " 'yeni_text.txt',\n",
       " 'Yeni_txt.txt']"
      ]
     },
     "execution_count": 82,
     "metadata": {},
     "output_type": "execute_result"
    }
   ],
   "source": [
    "os.listdir()"
   ]
  },
  {
   "cell_type": "code",
   "execution_count": 83,
   "id": "5a34217f",
   "metadata": {},
   "outputs": [],
   "source": [
    "os.rename(\"Yeni_Klasor\",\"Eski_Klasor\")"
   ]
  },
  {
   "cell_type": "code",
   "execution_count": 84,
   "id": "f6c867a4",
   "metadata": {
    "collapsed": true
   },
   "outputs": [
    {
     "data": {
      "text/plain": [
       "['.ipynb_checkpoints',\n",
       " '1-PRINT KOMUTU.ipynb',\n",
       " '11- IF SORGULARI.ipynb',\n",
       " '12- LİSTE DE FOR DÖNGÜSÜ.ipynb',\n",
       " '13 - Iterable objelerde for döngüsü.ipynb',\n",
       " '14- While döngüleri.ipynb',\n",
       " '15- RANGE-ENUMERATE-ZIP.ipynb',\n",
       " '16- BREAK-CONTINUE-PASS.ipynb',\n",
       " '18-19-20 FONKSİYONLAR.ipynb',\n",
       " '2 - 3-DEGISKEN - INTEGER - FLOAT .ipynb',\n",
       " '21-22- INPUT.ipynb',\n",
       " '23- TRY-EXCEPT-FINALLY , EXCEPTION TİPLERİ.ipynb',\n",
       " '25-26- CLASS YAPISI VE OOP(OBJECT ORIENTEDPROGRAMMING).ipynb',\n",
       " \"27- DUNDER METHOD'LARI.ipynb\",\n",
       " '28- DOSYA VE KLASOR MODULLERI.ipynb',\n",
       " '4-5- STRING - CHAR - BOOLEAN.ipynb',\n",
       " '5-6-7-LIST, SET - TUPLE - DICTIONARY.ipynb',\n",
       " 'Eski_Klasor',\n",
       " 'yeni_text.txt',\n",
       " 'Yeni_txt.txt']"
      ]
     },
     "execution_count": 84,
     "metadata": {},
     "output_type": "execute_result"
    }
   ],
   "source": [
    "os.listdir()"
   ]
  },
  {
   "cell_type": "code",
   "execution_count": 85,
   "id": "9563b970",
   "metadata": {},
   "outputs": [],
   "source": [
    "os.rmdir(\"C:\\\\Users\\\\ibrah\\\\Desktop\\\\Dosyalarım\\\\!!MONTH\\\\PYTHON\\\\DERSLER\\\\Eski_Klasor\")"
   ]
  },
  {
   "cell_type": "code",
   "execution_count": 86,
   "id": "89c60806",
   "metadata": {},
   "outputs": [
    {
     "data": {
      "text/plain": [
       "['.ipynb_checkpoints',\n",
       " '1-PRINT KOMUTU.ipynb',\n",
       " '11- IF SORGULARI.ipynb',\n",
       " '12- LİSTE DE FOR DÖNGÜSÜ.ipynb',\n",
       " '13 - Iterable objelerde for döngüsü.ipynb',\n",
       " '14- While döngüleri.ipynb',\n",
       " '15- RANGE-ENUMERATE-ZIP.ipynb',\n",
       " '16- BREAK-CONTINUE-PASS.ipynb',\n",
       " '18-19-20 FONKSİYONLAR.ipynb',\n",
       " '2 - 3-DEGISKEN - INTEGER - FLOAT .ipynb',\n",
       " '21-22- INPUT.ipynb',\n",
       " '23- TRY-EXCEPT-FINALLY , EXCEPTION TİPLERİ.ipynb',\n",
       " '25-26- CLASS YAPISI VE OOP(OBJECT ORIENTEDPROGRAMMING).ipynb',\n",
       " \"27- DUNDER METHOD'LARI.ipynb\",\n",
       " '28- DOSYA VE KLASOR MODULLERI.ipynb',\n",
       " '4-5- STRING - CHAR - BOOLEAN.ipynb',\n",
       " '5-6-7-LIST, SET - TUPLE - DICTIONARY.ipynb',\n",
       " 'yeni_text.txt',\n",
       " 'Yeni_txt.txt']"
      ]
     },
     "execution_count": 86,
     "metadata": {},
     "output_type": "execute_result"
    }
   ],
   "source": [
    "os.listdir()"
   ]
  }
 ],
 "metadata": {
  "kernelspec": {
   "display_name": "Python 3 (ipykernel)",
   "language": "python",
   "name": "python3"
  },
  "language_info": {
   "codemirror_mode": {
    "name": "ipython",
    "version": 3
   },
   "file_extension": ".py",
   "mimetype": "text/x-python",
   "name": "python",
   "nbconvert_exporter": "python",
   "pygments_lexer": "ipython3",
   "version": "3.11.4"
  }
 },
 "nbformat": 4,
 "nbformat_minor": 5
}
