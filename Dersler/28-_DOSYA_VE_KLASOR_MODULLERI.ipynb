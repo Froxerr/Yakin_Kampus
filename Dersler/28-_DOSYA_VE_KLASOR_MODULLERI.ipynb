{
 "cells": [
  {
   "cell_type": "markdown",
   "id": "b7ca3ac4",
   "metadata": {},
   "source": [
    "## MAGIC COMMANDS"
   ]
  },
  {
   "cell_type": "code",
   "execution_count": null,
   "id": "5bb05ca4",
   "metadata": {},
   "outputs": [],
   "source": [
    "%ls"
   ]
  },
  {
   "cell_type": "code",
   "execution_count": null,
   "id": "789a55a5",
   "metadata": {},
   "outputs": [],
   "source": [
    "%pwd"
   ]
  },
  {
   "cell_type": "markdown",
   "id": "efddcfba",
   "metadata": {},
   "source": [
    "# OS Modülü"
   ]
  },
  {
   "cell_type": "markdown",
   "id": "77aded4c",
   "metadata": {},
   "source": [
    "## Navigasyon ve İçerik Listeleme"
   ]
  },
  {
   "cell_type": "code",
   "execution_count": null,
   "id": "b3122b79",
   "metadata": {},
   "outputs": [],
   "source": [
    "import os"
   ]
  },
  {
   "cell_type": "code",
   "execution_count": null,
   "id": "3e119449",
   "metadata": {},
   "outputs": [],
   "source": [
    "os.getcwd()"
   ]
  },
  {
   "cell_type": "code",
   "execution_count": null,
   "id": "4b7235df",
   "metadata": {},
   "outputs": [],
   "source": [
    "os.listdir()"
   ]
  },
  {
   "cell_type": "code",
   "execution_count": null,
   "id": "bb4a6aa4",
   "metadata": {
    "scrolled": false
   },
   "outputs": [],
   "source": [
    "liste = os.listdir()\n",
    "for dosyalar in liste:\n",
    "    print(dosyalar)"
   ]
  },
  {
   "cell_type": "code",
   "execution_count": null,
   "id": "e3060917",
   "metadata": {},
   "outputs": [],
   "source": [
    "os.chdir('C:\\\\Users')"
   ]
  },
  {
   "cell_type": "code",
   "execution_count": null,
   "id": "a8439d08",
   "metadata": {},
   "outputs": [],
   "source": [
    "os.getcwd()"
   ]
  },
  {
   "cell_type": "code",
   "execution_count": null,
   "id": "f4eccff4",
   "metadata": {},
   "outputs": [],
   "source": [
    "os.listdir()"
   ]
  },
  {
   "cell_type": "code",
   "execution_count": null,
   "id": "6b1272cc",
   "metadata": {},
   "outputs": [],
   "source": [
    "os.chdir('C:\\\\Users\\\\ibrah\\\\Desktop\\\\Dosyalarım\\\\!!MONTH\\\\PYTHON\\\\DERSLER')"
   ]
  },
  {
   "cell_type": "markdown",
   "id": "90c12010",
   "metadata": {},
   "source": [
    "## Yeni eleman oluşturma, İsim değiştirme ve Silme"
   ]
  },
  {
   "cell_type": "code",
   "execution_count": null,
   "id": "070f89a2",
   "metadata": {},
   "outputs": [],
   "source": [
    "os.mkdir(\"C:\\\\Users\\\\ibrah\\\\Desktop\\\\Dosyalarım\\\\!!MONTH\\\\PYTHON\\\\DERSLER\\\\yeni_dosya\")"
   ]
  },
  {
   "cell_type": "code",
   "execution_count": null,
   "id": "fe18ed10",
   "metadata": {},
   "outputs": [],
   "source": [
    "os.listdir()"
   ]
  },
  {
   "cell_type": "code",
   "execution_count": null,
   "id": "93e9498c",
   "metadata": {},
   "outputs": [],
   "source": [
    "os.rmdir(\"C:\\\\Users\\\\ibrah\\\\Desktop\\\\Dosyalarım\\\\!!MONTH\\\\PYTHON\\\\DERSLER\\\\yeni_dosya\")"
   ]
  },
  {
   "cell_type": "code",
   "execution_count": null,
   "id": "3e167e5d",
   "metadata": {},
   "outputs": [],
   "source": [
    "os.listdir()"
   ]
  },
  {
   "cell_type": "code",
   "execution_count": null,
   "id": "c6007a77",
   "metadata": {},
   "outputs": [],
   "source": [
    "#    os.O_RDONLY - READ ONLY      - YALNIZCA OKU\n",
    "#    os.O_WRONLY - WRITE ONLY     - YALNIZCA YAZ\n",
    "#    os.O_RDWR   - READ AND WRITE - OKU VE YAZ\n",
    "#    os.O_CREAT  - CREATE         - OLUSTUR\n"
   ]
  },
  {
   "cell_type": "code",
   "execution_count": null,
   "id": "7e6cb9dd",
   "metadata": {},
   "outputs": [],
   "source": [
    "yeni_dosya = os.open(\"Yeni_txt.txt\", os.O_RDWR|os.O_CREAT)"
   ]
  },
  {
   "cell_type": "code",
   "execution_count": null,
   "id": "9704fad0",
   "metadata": {},
   "outputs": [],
   "source": [
    "os.write(yeni_dosya,\"Merhaba Dünya!!1\".encode())\n",
    "os.close(yeni_dosya)"
   ]
  },
  {
   "cell_type": "code",
   "execution_count": null,
   "id": "816b0337",
   "metadata": {
    "scrolled": true
   },
   "outputs": [],
   "source": [
    "os.read(yeni_dosya, 4)"
   ]
  },
  {
   "cell_type": "code",
   "execution_count": null,
   "id": "4bfb5746",
   "metadata": {},
   "outputs": [],
   "source": [
    "yeni_dosya = os.open(\"Yeni_txt.txt\", os.O_RDWR|os.O_CREAT)\n",
    "istatistik = os.stat(yeni_dosya).st_size\n",
    "os.write(yeni_dosya,\"Merhaba Dünya!!1\".encode())\n",
    "os.read(yeni_dosya, istatistik).decode()\n",
    "os.close(yeni_dosya)"
   ]
  },
  {
   "cell_type": "code",
   "execution_count": null,
   "id": "46e1a808",
   "metadata": {},
   "outputs": [],
   "source": [
    "os.mkdir(\"Yeni_Klasor\")"
   ]
  },
  {
   "cell_type": "code",
   "execution_count": null,
   "id": "07355a40",
   "metadata": {},
   "outputs": [],
   "source": [
    "os.listdir()"
   ]
  },
  {
   "cell_type": "code",
   "execution_count": null,
   "id": "5a34217f",
   "metadata": {},
   "outputs": [],
   "source": [
    "os.rename(\"Yeni_Klasor\",\"Eski_Klasor\")"
   ]
  },
  {
   "cell_type": "code",
   "execution_count": null,
   "id": "f6c867a4",
   "metadata": {},
   "outputs": [],
   "source": [
    "os.listdir()"
   ]
  },
  {
   "cell_type": "code",
   "execution_count": null,
   "id": "9563b970",
   "metadata": {},
   "outputs": [],
   "source": [
    "os.rmdir(\"C:\\\\Users\\\\ibrah\\\\Desktop\\\\Dosyalarım\\\\!!MONTH\\\\PYTHON\\\\DERSLER\\\\Eski_Klasor\")"
   ]
  },
  {
   "cell_type": "code",
   "execution_count": null,
   "id": "89c60806",
   "metadata": {},
   "outputs": [],
   "source": [
    "os.listdir()"
   ]
  }
 ],
 "metadata": {
  "kernelspec": {
   "display_name": "Python 3 (ipykernel)",
   "language": "python",
   "name": "python3"
  },
  "language_info": {
   "codemirror_mode": {
    "name": "ipython",
    "version": 3
   },
   "file_extension": ".py",
   "mimetype": "text/x-python",
   "name": "python",
   "nbconvert_exporter": "python",
   "pygments_lexer": "ipython3",
   "version": "3.11.4"
  }
 },
 "nbformat": 4,
 "nbformat_minor": 5
}
