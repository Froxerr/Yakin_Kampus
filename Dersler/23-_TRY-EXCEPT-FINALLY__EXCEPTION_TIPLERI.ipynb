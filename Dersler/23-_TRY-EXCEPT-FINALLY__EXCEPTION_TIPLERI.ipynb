{
 "cells": [
  {
   "cell_type": "markdown",
   "id": "dcb1b272",
   "metadata": {},
   "source": [
    "# TRY-EXCEPT-FINALLY KOMUTLARI"
   ]
  },
  {
   "cell_type": "code",
   "execution_count": 1,
   "id": "68e68984",
   "metadata": {},
   "outputs": [
    {
     "data": {
      "text/plain": [
       "2"
      ]
     },
     "execution_count": 1,
     "metadata": {},
     "output_type": "execute_result"
    }
   ],
   "source": [
    "round(1.5)"
   ]
  },
  {
   "cell_type": "code",
   "execution_count": 7,
   "id": "bb8cacfb",
   "metadata": {},
   "outputs": [],
   "source": [
    "def tam_sayi_cevirme():\n",
    "    sayi = input(\"Bir ondalık sayı giriniz: \")\n",
    "    print(\"Girdiğiniz ondalık sayının gösterimi: {}\".format(round(float(sayi))))"
   ]
  },
  {
   "cell_type": "code",
   "execution_count": 11,
   "id": "03635828",
   "metadata": {
    "scrolled": true
   },
   "outputs": [
    {
     "name": "stdout",
     "output_type": "stream",
     "text": [
      "Bir ondalık sayı giriniz: a\n"
     ]
    },
    {
     "ename": "ValueError",
     "evalue": "could not convert string to float: 'a'",
     "output_type": "error",
     "traceback": [
      "\u001b[1;31m---------------------------------------------------------------------------\u001b[0m",
      "\u001b[1;31mValueError\u001b[0m                                Traceback (most recent call last)",
      "Cell \u001b[1;32mIn[11], line 1\u001b[0m\n\u001b[1;32m----> 1\u001b[0m \u001b[43mtam_sayi_cevirme\u001b[49m\u001b[43m(\u001b[49m\u001b[43m)\u001b[49m\n",
      "Cell \u001b[1;32mIn[7], line 3\u001b[0m, in \u001b[0;36mtam_sayi_cevirme\u001b[1;34m()\u001b[0m\n\u001b[0;32m      1\u001b[0m \u001b[38;5;28;01mdef\u001b[39;00m \u001b[38;5;21mtam_sayi_cevirme\u001b[39m():\n\u001b[0;32m      2\u001b[0m     sayi \u001b[38;5;241m=\u001b[39m \u001b[38;5;28minput\u001b[39m(\u001b[38;5;124m\"\u001b[39m\u001b[38;5;124mBir ondalık sayı giriniz: \u001b[39m\u001b[38;5;124m\"\u001b[39m)\n\u001b[1;32m----> 3\u001b[0m     \u001b[38;5;28mprint\u001b[39m(\u001b[38;5;124m\"\u001b[39m\u001b[38;5;124mGirdiğiniz ondalık sayının gösterimi: \u001b[39m\u001b[38;5;132;01m{}\u001b[39;00m\u001b[38;5;124m\"\u001b[39m\u001b[38;5;241m.\u001b[39mformat(\u001b[38;5;28mround\u001b[39m(\u001b[38;5;28;43mfloat\u001b[39;49m\u001b[43m(\u001b[49m\u001b[43msayi\u001b[49m\u001b[43m)\u001b[49m)))\n",
      "\u001b[1;31mValueError\u001b[0m: could not convert string to float: 'a'"
     ]
    }
   ],
   "source": [
    "tam_sayi_cevirme()"
   ]
  },
  {
   "cell_type": "code",
   "execution_count": 16,
   "id": "1bb22a81",
   "metadata": {},
   "outputs": [],
   "source": [
    "def tam_sayi_cevirme():\n",
    "    sayi = input(\"Bir ondalık sayı giriniz: \")\n",
    "    try:\n",
    "        sayi = float(sayi)\n",
    "        print(\"Girdiğiniz ondalık sayının gösterimi: {}\".format(round(sayi)))\n",
    "    except:\n",
    "        print(\"Girdiğiniz şey: {}, Bir ondalık sayıya ait gözükmüyor !!!\".format(sayi))"
   ]
  },
  {
   "cell_type": "code",
   "execution_count": 19,
   "id": "8c2de9e8",
   "metadata": {},
   "outputs": [
    {
     "name": "stdout",
     "output_type": "stream",
     "text": [
      "Bir ondalık sayı giriniz: 5.6\n",
      "Girdiğiniz ondalık sayının gösterimi: 6\n"
     ]
    }
   ],
   "source": [
    "tam_sayi_cevirme()"
   ]
  },
  {
   "cell_type": "code",
   "execution_count": 29,
   "id": "2e153c72",
   "metadata": {},
   "outputs": [],
   "source": [
    "def tam_sayi_cevirme():\n",
    "    while True:\n",
    "        sayi = input(\"Bir ondalık sayı giriniz: \")\n",
    "        try:\n",
    "            sayi = float(sayi)\n",
    "            print(\"Girdiğiniz ondalık sayının gösterimi: {}\".format(round(sayi)))\n",
    "            break\n",
    "        except:\n",
    "            print(\"Girdiğiniz şey: {}, Bir ondalık sayıya ait gözükmüyor !!! Lütfen tekrar deneyin\".format(sayi))\n",
    "            pass"
   ]
  },
  {
   "cell_type": "code",
   "execution_count": 30,
   "id": "4d103605",
   "metadata": {},
   "outputs": [
    {
     "name": "stdout",
     "output_type": "stream",
     "text": [
      "Bir ondalık sayı giriniz: a\n",
      "Girdiğiniz şey: a, Bir ondalık sayıya ait gözükmüyor !!! Lütfen tekrar deneyin\n",
      "Bir ondalık sayı giriniz: s\n",
      "Girdiğiniz şey: s, Bir ondalık sayıya ait gözükmüyor !!! Lütfen tekrar deneyin\n",
      "Bir ondalık sayı giriniz: 3.5\n",
      "Girdiğiniz ondalık sayının gösterimi: 4\n"
     ]
    }
   ],
   "source": [
    "tam_sayi_cevirme()"
   ]
  },
  {
   "cell_type": "code",
   "execution_count": 32,
   "id": "c62aabd6",
   "metadata": {},
   "outputs": [],
   "source": [
    "def tam_sayi_cevirme():\n",
    "    finsh = \"\"\n",
    "    while True:\n",
    "        sayi = input(\"Bir ondalık sayı giriniz: \")\n",
    "        try:\n",
    "            sayi = float(sayi)\n",
    "            print(\"Girdiğiniz ondalık sayının gösterimi: {}\".format(round(sayi)))\n",
    "            finsh = \"Başarılı\"\n",
    "            break\n",
    "        except:\n",
    "            print(\"Girdiğiniz şey: {}, Bir ondalık sayıya ait gözükmüyor !!! Lütfen tekrar deneyin\".format(sayi))\n",
    "            finsh = \"Başarısız\"\n",
    "            pass\n",
    "        finally:\n",
    "            print(finsh)"
   ]
  },
  {
   "cell_type": "code",
   "execution_count": 33,
   "id": "aefc322d",
   "metadata": {},
   "outputs": [
    {
     "name": "stdout",
     "output_type": "stream",
     "text": [
      "Bir ondalık sayı giriniz: a\n",
      "Girdiğiniz şey: a, Bir ondalık sayıya ait gözükmüyor !!! Lütfen tekrar deneyin\n",
      "Başarısız\n",
      "Bir ondalık sayı giriniz: 3.5\n",
      "Girdiğiniz ondalık sayının gösterimi: 4\n",
      "Başarılı\n"
     ]
    }
   ],
   "source": [
    "tam_sayi_cevirme()"
   ]
  },
  {
   "cell_type": "markdown",
   "id": "89370641",
   "metadata": {},
   "source": [
    "## Exeception Tipleri\n",
    "\n",
    "https://docs.python.org/3/tutorial/errors.html"
   ]
  },
  {
   "cell_type": "code",
   "execution_count": 34,
   "id": "d0e300c9",
   "metadata": {},
   "outputs": [
    {
     "ename": "TypeError",
     "evalue": "unsupported operand type(s) for +: 'int' and 'str'",
     "output_type": "error",
     "traceback": [
      "\u001b[1;31m---------------------------------------------------------------------------\u001b[0m",
      "\u001b[1;31mTypeError\u001b[0m                                 Traceback (most recent call last)",
      "Cell \u001b[1;32mIn[34], line 1\u001b[0m\n\u001b[1;32m----> 1\u001b[0m \u001b[38;5;241;43m3\u001b[39;49m\u001b[43m \u001b[49m\u001b[38;5;241;43m+\u001b[39;49m\u001b[43m \u001b[49m\u001b[38;5;124;43m\"\u001b[39;49m\u001b[38;5;124;43ma\u001b[39;49m\u001b[38;5;124;43m\"\u001b[39;49m\n",
      "\u001b[1;31mTypeError\u001b[0m: unsupported operand type(s) for +: 'int' and 'str'"
     ]
    }
   ],
   "source": [
    "3 + \"a\""
   ]
  },
  {
   "cell_type": "code",
   "execution_count": 40,
   "id": "ad64e434",
   "metadata": {},
   "outputs": [
    {
     "name": "stdout",
     "output_type": "stream",
     "text": [
      "Girdiğiniz şeyler ile bir şey yapamıyorum.\n"
     ]
    }
   ],
   "source": [
    "try:\n",
    "    3 + \"a\"\n",
    "except TypeError:\n",
    "    print(\"Girdiğiniz şeyler ile bir şey yapamıyorum.\")\n",
    "except:\n",
    "    print(\"Girdiğiniz kod hatalı.\")"
   ]
  },
  {
   "cell_type": "code",
   "execution_count": 36,
   "id": "18d3c49c",
   "metadata": {},
   "outputs": [
    {
     "ename": "IndexError",
     "evalue": "list index out of range",
     "output_type": "error",
     "traceback": [
      "\u001b[1;31m---------------------------------------------------------------------------\u001b[0m",
      "\u001b[1;31mIndexError\u001b[0m                                Traceback (most recent call last)",
      "Cell \u001b[1;32mIn[36], line 2\u001b[0m\n\u001b[0;32m      1\u001b[0m liste \u001b[38;5;241m=\u001b[39m [\u001b[38;5;124m\"\u001b[39m\u001b[38;5;124m\"\u001b[39m]\n\u001b[1;32m----> 2\u001b[0m \u001b[43mliste\u001b[49m\u001b[43m[\u001b[49m\u001b[38;5;241;43m4\u001b[39;49m\u001b[43m]\u001b[49m\n",
      "\u001b[1;31mIndexError\u001b[0m: list index out of range"
     ]
    }
   ],
   "source": [
    "liste = [\"\"]\n",
    "liste[4]"
   ]
  },
  {
   "cell_type": "code",
   "execution_count": 44,
   "id": "06230217",
   "metadata": {},
   "outputs": [
    {
     "name": "stdout",
     "output_type": "stream",
     "text": [
      "Aradığınız şeyi listemde bulamıyorum.\n"
     ]
    }
   ],
   "source": [
    "liste = [\"\"]\n",
    "try:\n",
    "    liste[4]\n",
    "except TypeError:\n",
    "    print(\"Girdiğiniz şeyler ile bir şey yapamıyorum.\")\n",
    "except IndexError:\n",
    "    print(\"Aradığınız şeyi listemde bulamıyorum.\")"
   ]
  },
  {
   "cell_type": "code",
   "execution_count": 41,
   "id": "bc1f6b47",
   "metadata": {},
   "outputs": [
    {
     "name": "stdout",
     "output_type": "stream",
     "text": [
      "Girdiğiniz kod hatalı.\n"
     ]
    }
   ],
   "source": [
    "liste = [\"\"]\n",
    "try:\n",
    "    liste[4]\n",
    "except TypeError:\n",
    "    print(\"Girdiğiniz şeyler ile bir şey yapamıyorum.\")\n",
    "except: #OTOMATİK OLARAK NE OLURSA OLSUN BU HATAYI VERİYOR ÖZEL ATAMIYOR YANİ GENEL ATIYOR\n",
    "    print(\"Girdiğiniz kod hatalı.\")"
   ]
  },
  {
   "cell_type": "code",
   "execution_count": 38,
   "id": "379e6603",
   "metadata": {},
   "outputs": [
    {
     "ename": "KeyError",
     "evalue": "'pass'",
     "output_type": "error",
     "traceback": [
      "\u001b[1;31m---------------------------------------------------------------------------\u001b[0m",
      "\u001b[1;31mKeyError\u001b[0m                                  Traceback (most recent call last)",
      "Cell \u001b[1;32mIn[38], line 6\u001b[0m\n\u001b[0;32m      1\u001b[0m dic \u001b[38;5;241m=\u001b[39m {\n\u001b[0;32m      2\u001b[0m     \u001b[38;5;124m\"\u001b[39m\u001b[38;5;124mAD\u001b[39m\u001b[38;5;124m\"\u001b[39m: \u001b[38;5;124m\"\u001b[39m\u001b[38;5;124mAA\u001b[39m\u001b[38;5;124m\"\u001b[39m,\n\u001b[0;32m      3\u001b[0m     \u001b[38;5;124m\"\u001b[39m\u001b[38;5;124mSOYAD\u001b[39m\u001b[38;5;124m\"\u001b[39m: \u001b[38;5;124m\"\u001b[39m\u001b[38;5;124mBB\u001b[39m\u001b[38;5;124m\"\u001b[39m,\n\u001b[0;32m      4\u001b[0m     \u001b[38;5;124m\"\u001b[39m\u001b[38;5;124mTC\u001b[39m\u001b[38;5;124m\"\u001b[39m: \u001b[38;5;124m\"\u001b[39m\u001b[38;5;124m12354\u001b[39m\u001b[38;5;124m\"\u001b[39m\n\u001b[0;32m      5\u001b[0m }\n\u001b[1;32m----> 6\u001b[0m \u001b[43mdic\u001b[49m\u001b[43m[\u001b[49m\u001b[38;5;124;43m\"\u001b[39;49m\u001b[38;5;124;43mpass\u001b[39;49m\u001b[38;5;124;43m\"\u001b[39;49m\u001b[43m]\u001b[49m\n",
      "\u001b[1;31mKeyError\u001b[0m: 'pass'"
     ]
    }
   ],
   "source": [
    "dic = {\n",
    "    \"AD\": \"AA\",\n",
    "    \"SOYAD\": \"BB\",\n",
    "    \"TC\": \"12354\"\n",
    "}\n",
    "dic[\"pass\"]"
   ]
  },
  {
   "cell_type": "code",
   "execution_count": 42,
   "id": "3568c5d8",
   "metadata": {},
   "outputs": [
    {
     "name": "stdout",
     "output_type": "stream",
     "text": [
      "Girdiğiniz anahtar kelime bulunamıyor\n"
     ]
    }
   ],
   "source": [
    "dic = {\n",
    "    \"AD\": \"AA\",\n",
    "    \"SOYAD\": \"BB\",\n",
    "    \"TC\": \"12354\"\n",
    "}\n",
    "try:\n",
    "    dic[\"pass\"]\n",
    "except TypeError:\n",
    "    print(\"Girdiğiniz şeyler ile bir şey yapamıyorum.\")\n",
    "except KeyError:\n",
    "    print(\"Girdiğiniz anahtar kelime bulunamıyor\")\n",
    "except: #OTOMATİK OLARAK NE OLURSA OLSUN BU HATAYI VERİYOR ÖZEL ATAMIYOR YANİ GENEL ATIYOR\n",
    "    print(\"Girdiğiniz kod hatalı.\")"
   ]
  }
 ],
 "metadata": {
  "kernelspec": {
   "display_name": "Python 3 (ipykernel)",
   "language": "python",
   "name": "python3"
  },
  "language_info": {
   "codemirror_mode": {
    "name": "ipython",
    "version": 3
   },
   "file_extension": ".py",
   "mimetype": "text/x-python",
   "name": "python",
   "nbconvert_exporter": "python",
   "pygments_lexer": "ipython3",
   "version": "3.11.4"
  }
 },
 "nbformat": 4,
 "nbformat_minor": 5
}
