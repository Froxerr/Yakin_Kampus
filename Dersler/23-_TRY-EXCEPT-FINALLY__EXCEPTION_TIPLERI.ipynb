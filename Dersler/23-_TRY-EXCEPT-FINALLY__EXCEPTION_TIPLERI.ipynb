{
 "cells": [
  {
   "cell_type": "markdown",
   "id": "dcb1b272",
   "metadata": {},
   "source": [
    "# TRY-EXCEPT-FINALLY KOMUTLARI"
   ]
  },
  {
   "cell_type": "code",
   "execution_count": null,
   "id": "68e68984",
   "metadata": {},
   "outputs": [],
   "source": [
    "round(1.5)"
   ]
  },
  {
   "cell_type": "code",
   "execution_count": null,
   "id": "bb8cacfb",
   "metadata": {},
   "outputs": [],
   "source": [
    "def tam_sayi_cevirme():\n",
    "    sayi = input(\"Bir ondalık sayı giriniz: \")\n",
    "    print(\"Girdiğiniz ondalık sayının gösterimi: {}\".format(round(float(sayi))))"
   ]
  },
  {
   "cell_type": "code",
   "execution_count": null,
   "id": "03635828",
   "metadata": {
    "scrolled": true
   },
   "outputs": [],
   "source": [
    "tam_sayi_cevirme()"
   ]
  },
  {
   "cell_type": "code",
   "execution_count": null,
   "id": "1bb22a81",
   "metadata": {},
   "outputs": [],
   "source": [
    "def tam_sayi_cevirme():\n",
    "    sayi = input(\"Bir ondalık sayı giriniz: \")\n",
    "    try:\n",
    "        sayi = float(sayi)\n",
    "        print(\"Girdiğiniz ondalık sayının gösterimi: {}\".format(round(sayi)))\n",
    "    except:\n",
    "        print(\"Girdiğiniz şey: {}, Bir ondalık sayıya ait gözükmüyor !!!\".format(sayi))"
   ]
  },
  {
   "cell_type": "code",
   "execution_count": null,
   "id": "8c2de9e8",
   "metadata": {},
   "outputs": [],
   "source": [
    "tam_sayi_cevirme()"
   ]
  },
  {
   "cell_type": "code",
   "execution_count": null,
   "id": "2e153c72",
   "metadata": {},
   "outputs": [],
   "source": [
    "def tam_sayi_cevirme():\n",
    "    while True:\n",
    "        sayi = input(\"Bir ondalık sayı giriniz: \")\n",
    "        try:\n",
    "            sayi = float(sayi)\n",
    "            print(\"Girdiğiniz ondalık sayının gösterimi: {}\".format(round(sayi)))\n",
    "            break\n",
    "        except:\n",
    "            print(\"Girdiğiniz şey: {}, Bir ondalık sayıya ait gözükmüyor !!! Lütfen tekrar deneyin\".format(sayi))\n",
    "            pass"
   ]
  },
  {
   "cell_type": "code",
   "execution_count": null,
   "id": "4d103605",
   "metadata": {},
   "outputs": [],
   "source": [
    "tam_sayi_cevirme()"
   ]
  },
  {
   "cell_type": "code",
   "execution_count": null,
   "id": "c62aabd6",
   "metadata": {},
   "outputs": [],
   "source": [
    "def tam_sayi_cevirme():\n",
    "    finsh = \"\"\n",
    "    while True:\n",
    "        sayi = input(\"Bir ondalık sayı giriniz: \")\n",
    "        try:\n",
    "            sayi = float(sayi)\n",
    "            print(\"Girdiğiniz ondalık sayının gösterimi: {}\".format(round(sayi)))\n",
    "            finsh = \"Başarılı\"\n",
    "            break\n",
    "        except:\n",
    "            print(\"Girdiğiniz şey: {}, Bir ondalık sayıya ait gözükmüyor !!! Lütfen tekrar deneyin\".format(sayi))\n",
    "            finsh = \"Başarısız\"\n",
    "            pass\n",
    "        finally:\n",
    "            print(finsh)"
   ]
  },
  {
   "cell_type": "code",
   "execution_count": null,
   "id": "aefc322d",
   "metadata": {},
   "outputs": [],
   "source": [
    "tam_sayi_cevirme()"
   ]
  },
  {
   "cell_type": "markdown",
   "id": "89370641",
   "metadata": {},
   "source": [
    "## Exeception Tipleri\n",
    "\n",
    "https://docs.python.org/3/tutorial/errors.html"
   ]
  },
  {
   "cell_type": "code",
   "execution_count": null,
   "id": "d0e300c9",
   "metadata": {},
   "outputs": [],
   "source": [
    "3 + \"a\""
   ]
  },
  {
   "cell_type": "code",
   "execution_count": null,
   "id": "ad64e434",
   "metadata": {},
   "outputs": [],
   "source": [
    "try:\n",
    "    3 + \"a\"\n",
    "except TypeError:\n",
    "    print(\"Girdiğiniz şeyler ile bir şey yapamıyorum.\")\n",
    "except:\n",
    "    print(\"Girdiğiniz kod hatalı.\")"
   ]
  },
  {
   "cell_type": "code",
   "execution_count": null,
   "id": "18d3c49c",
   "metadata": {},
   "outputs": [],
   "source": [
    "liste = [\"\"]\n",
    "liste[4]"
   ]
  },
  {
   "cell_type": "code",
   "execution_count": null,
   "id": "06230217",
   "metadata": {},
   "outputs": [],
   "source": [
    "liste = [\"\"]\n",
    "try:\n",
    "    liste[4]\n",
    "except TypeError:\n",
    "    print(\"Girdiğiniz şeyler ile bir şey yapamıyorum.\")\n",
    "except IndexError:\n",
    "    print(\"Aradığınız şeyi listemde bulamıyorum.\")"
   ]
  },
  {
   "cell_type": "code",
   "execution_count": null,
   "id": "bc1f6b47",
   "metadata": {},
   "outputs": [],
   "source": [
    "liste = [\"\"]\n",
    "try:\n",
    "    liste[4]\n",
    "except TypeError:\n",
    "    print(\"Girdiğiniz şeyler ile bir şey yapamıyorum.\")\n",
    "except: #OTOMATİK OLARAK NE OLURSA OLSUN BU HATAYI VERİYOR ÖZEL ATAMIYOR YANİ GENEL ATIYOR\n",
    "    print(\"Girdiğiniz kod hatalı.\")"
   ]
  },
  {
   "cell_type": "code",
   "execution_count": null,
   "id": "379e6603",
   "metadata": {},
   "outputs": [],
   "source": [
    "dic = {\n",
    "    \"AD\": \"AA\",\n",
    "    \"SOYAD\": \"BB\",\n",
    "    \"TC\": \"12354\"\n",
    "}\n",
    "dic[\"pass\"]"
   ]
  },
  {
   "cell_type": "code",
   "execution_count": null,
   "id": "3568c5d8",
   "metadata": {},
   "outputs": [],
   "source": [
    "dic = {\n",
    "    \"AD\": \"AA\",\n",
    "    \"SOYAD\": \"BB\",\n",
    "    \"TC\": \"12354\"\n",
    "}\n",
    "try:\n",
    "    dic[\"pass\"]\n",
    "except TypeError:\n",
    "    print(\"Girdiğiniz şeyler ile bir şey yapamıyorum.\")\n",
    "except KeyError:\n",
    "    print(\"Girdiğiniz anahtar kelime bulunamıyor\")\n",
    "except: #OTOMATİK OLARAK NE OLURSA OLSUN BU HATAYI VERİYOR ÖZEL ATAMIYOR YANİ GENEL ATIYOR\n",
    "    print(\"Girdiğiniz kod hatalı.\")"
   ]
  }
 ],
 "metadata": {
  "kernelspec": {
   "display_name": "Python 3 (ipykernel)",
   "language": "python",
   "name": "python3"
  },
  "language_info": {
   "codemirror_mode": {
    "name": "ipython",
    "version": 3
   },
   "file_extension": ".py",
   "mimetype": "text/x-python",
   "name": "python",
   "nbconvert_exporter": "python",
   "pygments_lexer": "ipython3",
   "version": "3.11.4"
  }
 },
 "nbformat": 4,
 "nbformat_minor": 5
}
