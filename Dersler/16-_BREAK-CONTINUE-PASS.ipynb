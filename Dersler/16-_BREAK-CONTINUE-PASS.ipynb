{
 "cells": [
  {
   "cell_type": "markdown",
   "id": "f9d13eb1",
   "metadata": {},
   "source": [
    "# break"
   ]
  },
  {
   "cell_type": "code",
   "execution_count": null,
   "id": "1a53fe2b",
   "metadata": {},
   "outputs": [],
   "source": [
    "harfler = [\"a\",\"b\",\"c\",\"d\",\"e\"] * 15\n",
    "for index,harf in enumerate(harfler):\n",
    "    if (harf == \"d\"):\n",
    "        print(\"{0}. İndexli harf = {1}\".format(index,harf))\n",
    "        break #Çok fazla liste olduğunda ve ben sadece d nin yerini öğrenmek istediğimde yazıyorum"
   ]
  },
  {
   "cell_type": "markdown",
   "id": "3cc09584",
   "metadata": {},
   "source": [
    "# continue"
   ]
  },
  {
   "cell_type": "code",
   "execution_count": null,
   "id": "d4292988",
   "metadata": {},
   "outputs": [],
   "source": [
    "for sayi in range(1,11):\n",
    "    if(sayi%2 == 0): # sayının 2 ile bölümünden kalan 0'a eşitse demek\n",
    "        continue\n",
    "    else:\n",
    "        print(sayi)"
   ]
  },
  {
   "cell_type": "markdown",
   "id": "12159ff6",
   "metadata": {},
   "source": [
    "# pass"
   ]
  },
  {
   "cell_type": "code",
   "execution_count": null,
   "id": "ecfdf244",
   "metadata": {},
   "outputs": [],
   "source": [
    "for sayi in range(1,11):\n",
    "    if(sayi%2 == 0): # sayının 2 ile bölümünden kalan 0'a eşitse demek\n",
    "        pass\n",
    "    else:\n",
    "        print(sayi)"
   ]
  },
  {
   "cell_type": "code",
   "execution_count": null,
   "id": "2037fa6c",
   "metadata": {},
   "outputs": [],
   "source": [
    "for sayi in range(1,11):\n",
    "    if(sayi <= 5):\n",
    "        pass\n",
    "    else:\n",
    "        print(sayi)"
   ]
  }
 ],
 "metadata": {
  "kernelspec": {
   "display_name": "Python 3 (ipykernel)",
   "language": "python",
   "name": "python3"
  },
  "language_info": {
   "codemirror_mode": {
    "name": "ipython",
    "version": 3
   },
   "file_extension": ".py",
   "mimetype": "text/x-python",
   "name": "python",
   "nbconvert_exporter": "python",
   "pygments_lexer": "ipython3",
   "version": "3.11.4"
  }
 },
 "nbformat": 4,
 "nbformat_minor": 5
}
