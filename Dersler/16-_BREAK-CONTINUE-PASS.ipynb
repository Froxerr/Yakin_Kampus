{
 "cells": [
  {
   "cell_type": "markdown",
   "id": "f9d13eb1",
   "metadata": {},
   "source": [
    "# break"
   ]
  },
  {
   "cell_type": "code",
   "execution_count": 8,
   "id": "1a53fe2b",
   "metadata": {},
   "outputs": [
    {
     "name": "stdout",
     "output_type": "stream",
     "text": [
      "3. İndexli harf = d\n"
     ]
    }
   ],
   "source": [
    "harfler = [\"a\",\"b\",\"c\",\"d\",\"e\"] * 15\n",
    "for index,harf in enumerate(harfler):\n",
    "    if (harf == \"d\"):\n",
    "        print(\"{0}. İndexli harf = {1}\".format(index,harf))\n",
    "        break #Çok fazla liste olduğunda ve ben sadece d nin yerini öğrenmek istediğimde yazıyorum"
   ]
  },
  {
   "cell_type": "markdown",
   "id": "3cc09584",
   "metadata": {},
   "source": [
    "# continue"
   ]
  },
  {
   "cell_type": "code",
   "execution_count": 14,
   "id": "d4292988",
   "metadata": {},
   "outputs": [
    {
     "name": "stdout",
     "output_type": "stream",
     "text": [
      "1\n",
      "3\n",
      "5\n",
      "7\n",
      "9\n"
     ]
    }
   ],
   "source": [
    "for sayi in range(1,11):\n",
    "    if(sayi%2 == 0): # sayının 2 ile bölümünden kalan 0'a eşitse demek\n",
    "        continue\n",
    "    else:\n",
    "        print(sayi)"
   ]
  },
  {
   "cell_type": "markdown",
   "id": "12159ff6",
   "metadata": {},
   "source": [
    "# pass"
   ]
  },
  {
   "cell_type": "code",
   "execution_count": 24,
   "id": "ecfdf244",
   "metadata": {},
   "outputs": [
    {
     "name": "stdout",
     "output_type": "stream",
     "text": [
      "1\n",
      "3\n",
      "5\n",
      "7\n",
      "9\n"
     ]
    }
   ],
   "source": [
    "for sayi in range(1,11):\n",
    "    if(sayi%2 == 0): # sayının 2 ile bölümünden kalan 0'a eşitse demek\n",
    "        pass\n",
    "    else:\n",
    "        print(sayi)"
   ]
  },
  {
   "cell_type": "code",
   "execution_count": 26,
   "id": "2037fa6c",
   "metadata": {},
   "outputs": [
    {
     "name": "stdout",
     "output_type": "stream",
     "text": [
      "6\n",
      "7\n",
      "8\n",
      "9\n",
      "10\n"
     ]
    }
   ],
   "source": [
    "for sayi in range(1,11):\n",
    "    if(sayi <= 5):\n",
    "        pass\n",
    "    else:\n",
    "        print(sayi)"
   ]
  }
 ],
 "metadata": {
  "kernelspec": {
   "display_name": "Python 3 (ipykernel)",
   "language": "python",
   "name": "python3"
  },
  "language_info": {
   "codemirror_mode": {
    "name": "ipython",
    "version": 3
   },
   "file_extension": ".py",
   "mimetype": "text/x-python",
   "name": "python",
   "nbconvert_exporter": "python",
   "pygments_lexer": "ipython3",
   "version": "3.10.9"
  }
 },
 "nbformat": 4,
 "nbformat_minor": 5
}
