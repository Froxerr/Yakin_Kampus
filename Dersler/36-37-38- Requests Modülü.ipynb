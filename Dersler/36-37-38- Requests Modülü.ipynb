{
 "cells": [
  {
   "cell_type": "code",
   "execution_count": 1,
   "id": "52488473",
   "metadata": {},
   "outputs": [],
   "source": [
    "import requests"
   ]
  },
  {
   "cell_type": "code",
   "execution_count": 4,
   "id": "fd3297ae",
   "metadata": {},
   "outputs": [
    {
     "data": {
      "text/plain": [
       "200"
      ]
     },
     "execution_count": 4,
     "metadata": {},
     "output_type": "execute_result"
    }
   ],
   "source": [
    "forces = \"https://data.police.uk/api/forces\"\n",
    "response = requests.get(forces)\n",
    "response.status_code"
   ]
  },
  {
   "cell_type": "code",
   "execution_count": 5,
   "id": "e5dd1a9c",
   "metadata": {},
   "outputs": [
    {
     "data": {
      "text/plain": [
       "'[{\"id\":\"avon-and-somerset\",\"name\":\"Avon and Somerset Constabulary\"},{\"id\":\"bedfordshire\",\"name\":\"Bedfordshire Police\"},{\"id\":\"cambridgeshire\",\"name\":\"Cambridgeshire Constabulary\"},{\"id\":\"cheshire\",\"name\":\"Cheshire Constabulary\"},{\"id\":\"city-of-london\",\"name\":\"City of London Police\"},{\"id\":\"cleveland\",\"name\":\"Cleveland Police\"},{\"id\":\"cumbria\",\"name\":\"Cumbria Constabulary\"},{\"id\":\"derbyshire\",\"name\":\"Derbyshire Constabulary\"},{\"id\":\"devon-and-cornwall\",\"name\":\"Devon & Cornwall Police\"},{\"id\":\"dorset\",\"name\":\"Dorset Police\"},{\"id\":\"durham\",\"name\":\"Durham Constabulary\"},{\"id\":\"dyfed-powys\",\"name\":\"Dyfed-Powys Police\"},{\"id\":\"essex\",\"name\":\"Essex Police\"},{\"id\":\"gloucestershire\",\"name\":\"Gloucestershire Constabulary\"},{\"id\":\"greater-manchester\",\"name\":\"Greater Manchester Police\"},{\"id\":\"gwent\",\"name\":\"Gwent Police\"},{\"id\":\"hampshire\",\"name\":\"Hampshire Constabulary\"},{\"id\":\"hertfordshire\",\"name\":\"Hertfordshire Constabulary\"},{\"id\":\"humberside\",\"name\":\"Humberside Police\"},{\"id\":\"kent\",\"name\":\"Kent Police\"},{\"id\":\"lancashire\",\"name\":\"Lancashire Constabulary\"},{\"id\":\"leicestershire\",\"name\":\"Leicestershire Police\"},{\"id\":\"lincolnshire\",\"name\":\"Lincolnshire Police\"},{\"id\":\"merseyside\",\"name\":\"Merseyside Police\"},{\"id\":\"metropolitan\",\"name\":\"Metropolitan Police Service\"},{\"id\":\"norfolk\",\"name\":\"Norfolk Constabulary\"},{\"id\":\"north-wales\",\"name\":\"North Wales Police\"},{\"id\":\"north-yorkshire\",\"name\":\"North Yorkshire Police\"},{\"id\":\"northamptonshire\",\"name\":\"Northamptonshire Police\"},{\"id\":\"northumbria\",\"name\":\"Northumbria Police\"},{\"id\":\"nottinghamshire\",\"name\":\"Nottinghamshire Police\"},{\"id\":\"northern-ireland\",\"name\":\"Police Service of Northern Ireland\"},{\"id\":\"south-wales\",\"name\":\"South Wales Police\"},{\"id\":\"south-yorkshire\",\"name\":\"South Yorkshire Police\"},{\"id\":\"staffordshire\",\"name\":\"Staffordshire Police\"},{\"id\":\"suffolk\",\"name\":\"Suffolk Constabulary\"},{\"id\":\"surrey\",\"name\":\"Surrey Police\"},{\"id\":\"sussex\",\"name\":\"Sussex Police\"},{\"id\":\"thames-valley\",\"name\":\"Thames Valley Police\"},{\"id\":\"warwickshire\",\"name\":\"Warwickshire Police\"},{\"id\":\"west-mercia\",\"name\":\"West Mercia Police\"},{\"id\":\"west-midlands\",\"name\":\"West Midlands Police\"},{\"id\":\"west-yorkshire\",\"name\":\"West Yorkshire Police\"},{\"id\":\"wiltshire\",\"name\":\"Wiltshire Police\"}]'"
      ]
     },
     "execution_count": 5,
     "metadata": {},
     "output_type": "execute_result"
    }
   ],
   "source": [
    "response.text"
   ]
  },
  {
   "cell_type": "code",
   "execution_count": 7,
   "id": "79813f33",
   "metadata": {},
   "outputs": [
    {
     "data": {
      "text/plain": [
       "[{'id': 'avon-and-somerset', 'name': 'Avon and Somerset Constabulary'},\n",
       " {'id': 'bedfordshire', 'name': 'Bedfordshire Police'},\n",
       " {'id': 'cambridgeshire', 'name': 'Cambridgeshire Constabulary'},\n",
       " {'id': 'cheshire', 'name': 'Cheshire Constabulary'},\n",
       " {'id': 'city-of-london', 'name': 'City of London Police'},\n",
       " {'id': 'cleveland', 'name': 'Cleveland Police'},\n",
       " {'id': 'cumbria', 'name': 'Cumbria Constabulary'},\n",
       " {'id': 'derbyshire', 'name': 'Derbyshire Constabulary'},\n",
       " {'id': 'devon-and-cornwall', 'name': 'Devon & Cornwall Police'},\n",
       " {'id': 'dorset', 'name': 'Dorset Police'},\n",
       " {'id': 'durham', 'name': 'Durham Constabulary'},\n",
       " {'id': 'dyfed-powys', 'name': 'Dyfed-Powys Police'},\n",
       " {'id': 'essex', 'name': 'Essex Police'},\n",
       " {'id': 'gloucestershire', 'name': 'Gloucestershire Constabulary'},\n",
       " {'id': 'greater-manchester', 'name': 'Greater Manchester Police'},\n",
       " {'id': 'gwent', 'name': 'Gwent Police'},\n",
       " {'id': 'hampshire', 'name': 'Hampshire Constabulary'},\n",
       " {'id': 'hertfordshire', 'name': 'Hertfordshire Constabulary'},\n",
       " {'id': 'humberside', 'name': 'Humberside Police'},\n",
       " {'id': 'kent', 'name': 'Kent Police'},\n",
       " {'id': 'lancashire', 'name': 'Lancashire Constabulary'},\n",
       " {'id': 'leicestershire', 'name': 'Leicestershire Police'},\n",
       " {'id': 'lincolnshire', 'name': 'Lincolnshire Police'},\n",
       " {'id': 'merseyside', 'name': 'Merseyside Police'},\n",
       " {'id': 'metropolitan', 'name': 'Metropolitan Police Service'},\n",
       " {'id': 'norfolk', 'name': 'Norfolk Constabulary'},\n",
       " {'id': 'north-wales', 'name': 'North Wales Police'},\n",
       " {'id': 'north-yorkshire', 'name': 'North Yorkshire Police'},\n",
       " {'id': 'northamptonshire', 'name': 'Northamptonshire Police'},\n",
       " {'id': 'northumbria', 'name': 'Northumbria Police'},\n",
       " {'id': 'nottinghamshire', 'name': 'Nottinghamshire Police'},\n",
       " {'id': 'northern-ireland', 'name': 'Police Service of Northern Ireland'},\n",
       " {'id': 'south-wales', 'name': 'South Wales Police'},\n",
       " {'id': 'south-yorkshire', 'name': 'South Yorkshire Police'},\n",
       " {'id': 'staffordshire', 'name': 'Staffordshire Police'},\n",
       " {'id': 'suffolk', 'name': 'Suffolk Constabulary'},\n",
       " {'id': 'surrey', 'name': 'Surrey Police'},\n",
       " {'id': 'sussex', 'name': 'Sussex Police'},\n",
       " {'id': 'thames-valley', 'name': 'Thames Valley Police'},\n",
       " {'id': 'warwickshire', 'name': 'Warwickshire Police'},\n",
       " {'id': 'west-mercia', 'name': 'West Mercia Police'},\n",
       " {'id': 'west-midlands', 'name': 'West Midlands Police'},\n",
       " {'id': 'west-yorkshire', 'name': 'West Yorkshire Police'},\n",
       " {'id': 'wiltshire', 'name': 'Wiltshire Police'}]"
      ]
     },
     "execution_count": 7,
     "metadata": {},
     "output_type": "execute_result"
    }
   ],
   "source": [
    "response.json()"
   ]
  },
  {
   "cell_type": "code",
   "execution_count": 12,
   "id": "5ce93f5d",
   "metadata": {},
   "outputs": [
    {
     "data": {
      "text/plain": [
       "200"
      ]
     },
     "execution_count": 12,
     "metadata": {},
     "output_type": "execute_result"
    }
   ],
   "source": [
    "#https://data.police.uk/api/crime-categories?date=2011-08\n",
    "suc_kategori_url = \"https://data.police.uk/api/crime-categories\"\n",
    "payload = {\"date\":\"2023-02\"}\n",
    "response = requests.get(suc_kategori_url,params=payload)\n",
    "response.status_code"
   ]
  },
  {
   "cell_type": "code",
   "execution_count": 13,
   "id": "1c06235e",
   "metadata": {},
   "outputs": [
    {
     "data": {
      "text/plain": [
       "'[{\"url\":\"all-crime\",\"name\":\"All crime\"},{\"url\":\"anti-social-behaviour\",\"name\":\"Anti-social behaviour\"},{\"url\":\"bicycle-theft\",\"name\":\"Bicycle theft\"},{\"url\":\"burglary\",\"name\":\"Burglary\"},{\"url\":\"criminal-damage-arson\",\"name\":\"Criminal damage and arson\"},{\"url\":\"drugs\",\"name\":\"Drugs\"},{\"url\":\"other-theft\",\"name\":\"Other theft\"},{\"url\":\"possession-of-weapons\",\"name\":\"Possession of weapons\"},{\"url\":\"public-order\",\"name\":\"Public order\"},{\"url\":\"robbery\",\"name\":\"Robbery\"},{\"url\":\"shoplifting\",\"name\":\"Shoplifting\"},{\"url\":\"theft-from-the-person\",\"name\":\"Theft from the person\"},{\"url\":\"vehicle-crime\",\"name\":\"Vehicle crime\"},{\"url\":\"violent-crime\",\"name\":\"Violence and sexual offences\"},{\"url\":\"other-crime\",\"name\":\"Other crime\"}]'"
      ]
     },
     "execution_count": 13,
     "metadata": {},
     "output_type": "execute_result"
    }
   ],
   "source": [
    "response.text"
   ]
  },
  {
   "cell_type": "code",
   "execution_count": 14,
   "id": "c555cce2",
   "metadata": {},
   "outputs": [
    {
     "data": {
      "text/plain": [
       "[{'url': 'all-crime', 'name': 'All crime'},\n",
       " {'url': 'anti-social-behaviour', 'name': 'Anti-social behaviour'},\n",
       " {'url': 'bicycle-theft', 'name': 'Bicycle theft'},\n",
       " {'url': 'burglary', 'name': 'Burglary'},\n",
       " {'url': 'criminal-damage-arson', 'name': 'Criminal damage and arson'},\n",
       " {'url': 'drugs', 'name': 'Drugs'},\n",
       " {'url': 'other-theft', 'name': 'Other theft'},\n",
       " {'url': 'possession-of-weapons', 'name': 'Possession of weapons'},\n",
       " {'url': 'public-order', 'name': 'Public order'},\n",
       " {'url': 'robbery', 'name': 'Robbery'},\n",
       " {'url': 'shoplifting', 'name': 'Shoplifting'},\n",
       " {'url': 'theft-from-the-person', 'name': 'Theft from the person'},\n",
       " {'url': 'vehicle-crime', 'name': 'Vehicle crime'},\n",
       " {'url': 'violent-crime', 'name': 'Violence and sexual offences'},\n",
       " {'url': 'other-crime', 'name': 'Other crime'}]"
      ]
     },
     "execution_count": 14,
     "metadata": {},
     "output_type": "execute_result"
    }
   ],
   "source": [
    "response.json()"
   ]
  },
  {
   "cell_type": "code",
   "execution_count": 15,
   "id": "4ad64a24",
   "metadata": {},
   "outputs": [],
   "source": [
    "#https://data.police.uk/api/crimes-no-location?category=all-crime&force=leicestershire&date=2017-03\n",
    "lokasyon_olmadan_suclar = \"https://data.police.uk/api/crimes-no-location\"\n",
    "payload = {\n",
    "    \"category\":\"all-crime\",\n",
    "    \"force\":\"city-of-london\",\n",
    "    \"date\":\"2023-05\"\n",
    "}\n",
    "response = requests.get(lokasyon_olmadan_suclar,params=payload)"
   ]
  },
  {
   "cell_type": "code",
   "execution_count": 16,
   "id": "72a797a8",
   "metadata": {},
   "outputs": [
    {
     "data": {
      "text/plain": [
       "200"
      ]
     },
     "execution_count": 16,
     "metadata": {},
     "output_type": "execute_result"
    }
   ],
   "source": [
    "response.status_code"
   ]
  },
  {
   "cell_type": "code",
   "execution_count": 17,
   "id": "de071966",
   "metadata": {},
   "outputs": [
    {
     "data": {
      "text/plain": [
       "[{'category': 'anti-social-behaviour',\n",
       "  'location_type': None,\n",
       "  'location': None,\n",
       "  'context': '',\n",
       "  'outcome_status': None,\n",
       "  'persistent_id': '',\n",
       "  'id': 109999350,\n",
       "  'location_subtype': '',\n",
       "  'month': '2023-05'},\n",
       " {'category': 'burglary',\n",
       "  'location_type': None,\n",
       "  'location': None,\n",
       "  'context': '',\n",
       "  'outcome_status': {'category': 'Under investigation', 'date': '2023-05'},\n",
       "  'persistent_id': '440884762b9196d132ca7a0a6637b557a8d087ab2aec211d705355cb0b019398',\n",
       "  'id': 109999472,\n",
       "  'location_subtype': '',\n",
       "  'month': '2023-05'},\n",
       " {'category': 'criminal-damage-arson',\n",
       "  'location_type': None,\n",
       "  'location': None,\n",
       "  'context': '',\n",
       "  'outcome_status': {'category': 'Investigation complete; no suspect identified',\n",
       "   'date': '2023-06'},\n",
       "  'persistent_id': '05caf07d79d37527f8af686c86621912f3d0afbbd785aff2e71e3d11df862c09',\n",
       "  'id': 109999087,\n",
       "  'location_subtype': '',\n",
       "  'month': '2023-05'},\n",
       " {'category': 'drugs',\n",
       "  'location_type': None,\n",
       "  'location': None,\n",
       "  'context': '',\n",
       "  'outcome_status': {'category': 'Under investigation', 'date': '2023-05'},\n",
       "  'persistent_id': '8cf46dea4798adb9fcc2cde237dfcf56f3c8dc0a976b450c4aedcc023bd15aca',\n",
       "  'id': 109999008,\n",
       "  'location_subtype': '',\n",
       "  'month': '2023-05'},\n",
       " {'category': 'drugs',\n",
       "  'location_type': None,\n",
       "  'location': None,\n",
       "  'context': '',\n",
       "  'outcome_status': {'category': 'Under investigation', 'date': '2023-05'},\n",
       "  'persistent_id': 'a47ba0edf6fc3756424223c4781984b3a3a70c6a7a6d5b3cb4511a40947d5a9b',\n",
       "  'id': 109999118,\n",
       "  'location_subtype': '',\n",
       "  'month': '2023-05'},\n",
       " {'category': 'drugs',\n",
       "  'location_type': None,\n",
       "  'location': None,\n",
       "  'context': '',\n",
       "  'outcome_status': {'category': 'Offender given a drugs possession warning',\n",
       "   'date': '2023-06'},\n",
       "  'persistent_id': 'ed3e67427d4a5fab3c8ec7acc5d447371b8f4e96a481f5ec116e666acac2b62f',\n",
       "  'id': 109999169,\n",
       "  'location_subtype': '',\n",
       "  'month': '2023-05'},\n",
       " {'category': 'other-theft',\n",
       "  'location_type': None,\n",
       "  'location': None,\n",
       "  'context': '',\n",
       "  'outcome_status': {'category': 'Investigation complete; no suspect identified',\n",
       "   'date': '2023-05'},\n",
       "  'persistent_id': '1a9505ceda4a133ce868fbaab748b0d15daf70c2e6e87896d966e780d71bea7d',\n",
       "  'id': 109999406,\n",
       "  'location_subtype': '',\n",
       "  'month': '2023-05'},\n",
       " {'category': 'possession-of-weapons',\n",
       "  'location_type': None,\n",
       "  'location': None,\n",
       "  'context': '',\n",
       "  'outcome_status': {'category': 'Under investigation', 'date': '2023-05'},\n",
       "  'persistent_id': 'c27416310b6fbcfb24169dc9b44c0d7aceeaace792a07e2c0480550a0c395afb',\n",
       "  'id': 109999454,\n",
       "  'location_subtype': '',\n",
       "  'month': '2023-05'},\n",
       " {'category': 'public-order',\n",
       "  'location_type': None,\n",
       "  'location': None,\n",
       "  'context': '',\n",
       "  'outcome_status': {'category': 'Under investigation', 'date': '2023-05'},\n",
       "  'persistent_id': '27a922cc30b1d8491c45f4d10f68bdafa0b3976557352c380f1fed6ab8654960',\n",
       "  'id': 109998844,\n",
       "  'location_subtype': '',\n",
       "  'month': '2023-05'},\n",
       " {'category': 'robbery',\n",
       "  'location_type': None,\n",
       "  'location': None,\n",
       "  'context': '',\n",
       "  'outcome_status': {'category': 'Investigation complete; no suspect identified',\n",
       "   'date': '2023-05'},\n",
       "  'persistent_id': '8bc7624f284cd0cebdda740a8fa3335f61c1168d350fa59c6d10805ceee56a68',\n",
       "  'id': 109998797,\n",
       "  'location_subtype': '',\n",
       "  'month': '2023-05'},\n",
       " {'category': 'shoplifting',\n",
       "  'location_type': None,\n",
       "  'location': None,\n",
       "  'context': '',\n",
       "  'outcome_status': {'category': 'Under investigation', 'date': '2023-05'},\n",
       "  'persistent_id': '98fb2f0690e4f5183b043647d88864a9f9aa85165f611e0bd393535a19fe86c3',\n",
       "  'id': 109999231,\n",
       "  'location_subtype': '',\n",
       "  'month': '2023-05'},\n",
       " {'category': 'shoplifting',\n",
       "  'location_type': None,\n",
       "  'location': None,\n",
       "  'context': '',\n",
       "  'outcome_status': {'category': 'Under investigation', 'date': '2023-05'},\n",
       "  'persistent_id': '3a9e92a0e067c2c3495284c5fd8863fa92c005a7b290495f3eda0b73bc5e0c0e',\n",
       "  'id': 109999141,\n",
       "  'location_subtype': '',\n",
       "  'month': '2023-05'},\n",
       " {'category': 'shoplifting',\n",
       "  'location_type': None,\n",
       "  'location': None,\n",
       "  'context': '',\n",
       "  'outcome_status': {'category': 'Under investigation', 'date': '2023-05'},\n",
       "  'persistent_id': '98f078f749ea80822d6347408660ff19cb1bda7a125286823eba91447f2e9e66',\n",
       "  'id': 109999170,\n",
       "  'location_subtype': '',\n",
       "  'month': '2023-05'},\n",
       " {'category': 'theft-from-the-person',\n",
       "  'location_type': None,\n",
       "  'location': None,\n",
       "  'context': '',\n",
       "  'outcome_status': {'category': 'Investigation complete; no suspect identified',\n",
       "   'date': '2023-06'},\n",
       "  'persistent_id': '1e91b354d6692203c490be0dccc478692afe9f625c0189ec5d6c681a69ac69cf',\n",
       "  'id': 109998798,\n",
       "  'location_subtype': '',\n",
       "  'month': '2023-05'},\n",
       " {'category': 'theft-from-the-person',\n",
       "  'location_type': None,\n",
       "  'location': None,\n",
       "  'context': '',\n",
       "  'outcome_status': {'category': 'Under investigation', 'date': '2023-05'},\n",
       "  'persistent_id': '3b1828845cf1c850f7bd48a29675f767659a836669c4f1f2e3f4b565406d6882',\n",
       "  'id': 109998779,\n",
       "  'location_subtype': '',\n",
       "  'month': '2023-05'},\n",
       " {'category': 'theft-from-the-person',\n",
       "  'location_type': None,\n",
       "  'location': None,\n",
       "  'context': '',\n",
       "  'outcome_status': {'category': 'Under investigation', 'date': '2023-05'},\n",
       "  'persistent_id': '246325f3358e94291155d045b3407bd2f68390bb8d1401d59227114634fd3e31',\n",
       "  'id': 109998845,\n",
       "  'location_subtype': '',\n",
       "  'month': '2023-05'},\n",
       " {'category': 'theft-from-the-person',\n",
       "  'location_type': None,\n",
       "  'location': None,\n",
       "  'context': '',\n",
       "  'outcome_status': {'category': 'Under investigation', 'date': '2023-05'},\n",
       "  'persistent_id': '88b0cc08eab78d1b66bc98bb58f898cab6f2abbd17bbddbc83cb8a64fd3f733c',\n",
       "  'id': 109999298,\n",
       "  'location_subtype': '',\n",
       "  'month': '2023-05'},\n",
       " {'category': 'theft-from-the-person',\n",
       "  'location_type': None,\n",
       "  'location': None,\n",
       "  'context': '',\n",
       "  'outcome_status': {'category': 'Investigation complete; no suspect identified',\n",
       "   'date': '2023-06'},\n",
       "  'persistent_id': 'f0d068257be0d1fe1ca15be5a4d3943068eeac756b4fc8b6b0c220532d5c5f40',\n",
       "  'id': 109999547,\n",
       "  'location_subtype': '',\n",
       "  'month': '2023-05'},\n",
       " {'category': 'theft-from-the-person',\n",
       "  'location_type': None,\n",
       "  'location': None,\n",
       "  'context': '',\n",
       "  'outcome_status': {'category': 'Under investigation', 'date': '2023-05'},\n",
       "  'persistent_id': '10dba47b3edb2266b255c803a69bbd73282430d421653423c0571e3258ff1c6f',\n",
       "  'id': 109999473,\n",
       "  'location_subtype': '',\n",
       "  'month': '2023-05'},\n",
       " {'category': 'violent-crime',\n",
       "  'location_type': None,\n",
       "  'location': None,\n",
       "  'context': '',\n",
       "  'outcome_status': {'category': 'Under investigation', 'date': '2023-05'},\n",
       "  'persistent_id': 'd79b1981c03590ce6b35eb49877ab917b97d2be9d4c5f0041331160d8c3b5bbc',\n",
       "  'id': 109999546,\n",
       "  'location_subtype': '',\n",
       "  'month': '2023-05'},\n",
       " {'category': 'violent-crime',\n",
       "  'location_type': None,\n",
       "  'location': None,\n",
       "  'context': '',\n",
       "  'outcome_status': {'category': 'Under investigation', 'date': '2023-05'},\n",
       "  'persistent_id': 'c6387b35c751f3c609e345cbf432199b5049ff73322de8f26c35226fcb35c41c',\n",
       "  'id': 109999193,\n",
       "  'location_subtype': '',\n",
       "  'month': '2023-05'},\n",
       " {'category': 'violent-crime',\n",
       "  'location_type': None,\n",
       "  'location': None,\n",
       "  'context': '',\n",
       "  'outcome_status': {'category': 'Under investigation', 'date': '2023-05'},\n",
       "  'persistent_id': 'f20c056c39377a9266aa12b0740f555f1faa73a0b1404a76ab0579d30cc4beba',\n",
       "  'id': 109999509,\n",
       "  'location_subtype': '',\n",
       "  'month': '2023-05'},\n",
       " {'category': 'violent-crime',\n",
       "  'location_type': None,\n",
       "  'location': None,\n",
       "  'context': '',\n",
       "  'outcome_status': {'category': 'Under investigation', 'date': '2023-05'},\n",
       "  'persistent_id': '4e8aecd829b5c18614e12fc6b1560c540136f60996155a7d8bb7437ea42d615a',\n",
       "  'id': 109998799,\n",
       "  'location_subtype': '',\n",
       "  'month': '2023-05'},\n",
       " {'category': 'other-crime',\n",
       "  'location_type': None,\n",
       "  'location': None,\n",
       "  'context': '',\n",
       "  'outcome_status': {'category': 'Under investigation', 'date': '2023-05'},\n",
       "  'persistent_id': '7434adad24e922c68d011604ea57884f1883cc71e6e45a28cc03114cc4603e75',\n",
       "  'id': 109999545,\n",
       "  'location_subtype': '',\n",
       "  'month': '2023-05'},\n",
       " {'category': 'other-crime',\n",
       "  'location_type': None,\n",
       "  'location': None,\n",
       "  'context': '',\n",
       "  'outcome_status': {'category': 'Under investigation', 'date': '2023-05'},\n",
       "  'persistent_id': '5dc6c1bdb831b05ea9c30994483e27aeec00ef51bd0a095cbd7dd0fc122cb182',\n",
       "  'id': 109999168,\n",
       "  'location_subtype': '',\n",
       "  'month': '2023-05'},\n",
       " {'category': 'other-crime',\n",
       "  'location_type': None,\n",
       "  'location': None,\n",
       "  'context': '',\n",
       "  'outcome_status': {'category': 'Under investigation', 'date': '2023-05'},\n",
       "  'persistent_id': '9568ddf00a18568cf46442ca69d6ee6834e83b851292204ca061a2ff9aadb65d',\n",
       "  'id': 109999009,\n",
       "  'location_subtype': '',\n",
       "  'month': '2023-05'},\n",
       " {'category': 'other-crime',\n",
       "  'location_type': None,\n",
       "  'location': None,\n",
       "  'context': '',\n",
       "  'outcome_status': {'category': 'Under investigation', 'date': '2023-05'},\n",
       "  'persistent_id': '2d07e43f9316e7f0fc5f5575e8336c1d14d48fc04924ff6a278a9977e7ae98b4',\n",
       "  'id': 109999544,\n",
       "  'location_subtype': '',\n",
       "  'month': '2023-05'}]"
      ]
     },
     "execution_count": 17,
     "metadata": {},
     "output_type": "execute_result"
    }
   ],
   "source": [
    "response.json()"
   ]
  },
  {
   "cell_type": "code",
   "execution_count": 94,
   "id": "9e9e914b",
   "metadata": {},
   "outputs": [],
   "source": [
    "from collections import Counter\n",
    "class Suc_Sıralama():\n",
    "    def __init__(self,yer,zaman,kategori=\"all-crime\"):\n",
    "        self.yer = yer\n",
    "        self.zaman = zaman\n",
    "        self.kategori = kategori\n",
    "        self.suc = self.suc_sirala()\n",
    "    def suc_sirala(self):\n",
    "        lokasyon_olmadan_suclar = \"https://data.police.uk/api/crimes-no-location\"\n",
    "        payload = {\n",
    "            \"force\":self.yer,\n",
    "            \"date\":self.zaman,\n",
    "            \"category\":self.kategori\n",
    "        }\n",
    "        response = requests.get(lokasyon_olmadan_suclar,params=payload)\n",
    "        if response.status_code == 200:\n",
    "            return (response.json())\n",
    "        else:\n",
    "            print(\"A\")\n",
    "    def suc_kategorisi(self):\n",
    "        suclar = []\n",
    "        if self.suc is not None:\n",
    "            for sucum in self.suc:\n",
    "                suclar.append(sucum[\"category\"])\n",
    "        return Counter(suclar)"
   ]
  },
  {
   "cell_type": "code",
   "execution_count": 95,
   "id": "d14859df",
   "metadata": {},
   "outputs": [],
   "source": [
    "sc = Suc_Sıralama(\"norfolk\",\"2023-02\")"
   ]
  },
  {
   "cell_type": "code",
   "execution_count": 96,
   "id": "c6729c8e",
   "metadata": {
    "scrolled": true
   },
   "outputs": [
    {
     "data": {
      "text/plain": [
       "Counter({'anti-social-behaviour': 1,\n",
       "         'bicycle-theft': 7,\n",
       "         'burglary': 2,\n",
       "         'criminal-damage-arson': 17,\n",
       "         'drugs': 4,\n",
       "         'other-theft': 21,\n",
       "         'possession-of-weapons': 1,\n",
       "         'public-order': 17,\n",
       "         'robbery': 1,\n",
       "         'shoplifting': 11,\n",
       "         'theft-from-the-person': 2,\n",
       "         'vehicle-crime': 6,\n",
       "         'violent-crime': 43,\n",
       "         'other-crime': 2})"
      ]
     },
     "execution_count": 96,
     "metadata": {},
     "output_type": "execute_result"
    }
   ],
   "source": [
    "sc.suc_kategorisi()"
   ]
  },
  {
   "cell_type": "markdown",
   "id": "aec717a0",
   "metadata": {},
   "source": [
    "# POST Talebi"
   ]
  },
  {
   "cell_type": "code",
   "execution_count": null,
   "id": "23e12a92",
   "metadata": {},
   "outputs": [],
   "source": [
    "#https://www.image-charts.com\n",
    "#https://image-charts.com/chart ?cht=p3 &chs=700x100 &chd=t:60,40 &chl=Hello|World &chan &chf=ps0-0,lg,45,ffeb3b,0.2,f44336,1|ps0-1,lg,45,8bc34a,0.2,009688,1"
   ]
  },
  {
   "cell_type": "code",
   "execution_count": 101,
   "id": "4c86bf09",
   "metadata": {},
   "outputs": [
    {
     "data": {
      "text/plain": [
       "200"
      ]
     },
     "execution_count": 101,
     "metadata": {},
     "output_type": "execute_result"
    }
   ],
   "source": [
    "resim_URL = \"https://image-charts.com/chart\"\n",
    "payload = {\n",
    "    \"cht\":\"p3\",\n",
    "    \"chs\":\"700x100\",\n",
    "    \"chd\":\"t:60,40\",\n",
    "    \"chl\":\"Hello|World\",\n",
    "    \"chan\": None,\n",
    "    \"chf\":\"ps0-0,lg,45,ffeb3b,0.2,f44336,1|ps0-1,lg,45,8bc34a,0.2,009688,1\"\n",
    "}\n",
    "response = requests.post(resim_URL,data=payload)\n",
    "response.status_code"
   ]
  },
  {
   "cell_type": "code",
   "execution_count": 103,
   "id": "5a433eb6",
   "metadata": {},
   "outputs": [
    {
     "data": {
      "text/plain": [
       "b'\\x89PNG\\r\\n\\x1a\\n\\x00\\x00\\x00\\rIHDR\\x00\\x00\\x02\\xbc\\x00\\x00\\x00d\\x08\\x06\\x00\\x00\\x00dH\\xe3(\\x00\\x00\\x00\\x06bKGD\\x00\\xff\\x00\\xff\\x00\\xff\\xa0\\xbd\\xa7\\x93\\x00\\x00 \\x00IDATx^\\xed\\x9d\\x0btU\\xd5\\x99\\xc7\\xff\\xe7\\xde\\x9b\\x84$@B\\x08\\x84$\\xbc\\xc2K\\x05\\xe4\\r\\x02\\xda*\\xf5Yg\\xac\\xafQ\\xa9\\x8fi\\xd5\\xda::V\\xc5j\\xad\\xef\\x8a\\x8fZ\\x15\\xc7\\x99\\x8ek\\xac\\x8eN\\xb5\\xd6\\xdaj\\xabLk\\xadH\\x95\\x8e\\x8a\\x82\\x84\\xa7\\x80!\\xbc\\x02\\xe4E\\xde\\xef\\xe4\\xde{\\xce\\xac}\\xee\\xfb\\x9e\\xc7=\\xe7&!\\xe7\\x86\\xffY\\x8b\\xc5\\xbd\\xdf\\xfe\\xf6\\xf7}\\xfb\\xb7Y\\xf1\\xef\\xce>{K\\x8a\\xa2(\\xe0C\\x02$@\\x02$@\\x02$@\\x02$@\\x02\\x83\\x94\\x80k\\x90\\x8e\\x8b\\xc3\"\\x01\\x12 \\x01\\x12 \\x01\\x12 \\x01\\x12 \\x01\\x95\\x80\\x87\\x1cH\\x80\\x04H\\x80\\x04\\xfa\\x86@\\xb7\\xdf\\x8b=MG\\xd4?\\x95\\xed\\r\\xa8noDuG\\x13\\xea\\xbbZ\\xd0\\xe5\\xebA\\x8f\\xdf\\x8f\\x0f.yTM\\xd6\\xfd\\xe4\\xd9\\x00$HY\\xb9\\x90\\xb2F\\x00C\\xf3 \\xe5\\x16C\\x1a9\\x0eR\\xfe\\x04\\xb8\\xc6\\x9c\\x00\\xa4g\\xf6Ma\\x8cB\\x02$0(\\x08tuu\\xe1\\xf2\\xcb/\\xc7\\xfd\\xf7\\xdf\\x8f\\x85\\x0b\\x17\\x0e\\xe8\\x98:::\\xb0|\\xf9r<\\xf0\\xc0\\x03X\\xb0`\\x81\\xe5Z6l\\xd8\\x80G\\x1ey\\x04\\xbf\\xff\\xfd\\xef\\x91\\x91\\x91a\\xb9_o\\x1d)x{K\\x90\\xfdI\\x80\\x04\\x8e[\\x02\\xed\\xde.|Q\\xf3\\x15\\xd6W\\xef\\xc6\\xce\\xfa\\x83\\xd8\\xd7\\\\\\r\\xbf\"\\xab<\"{\\xc5\\xa4\\xc8\\xe7\\xe8\\rd\\xddm\\xaa\\x93\\xd2\\xd5\\n\\xa5\\xfeP\\x84a\\xc8GrA\\x1aU\\x02\\xd7\\xb8\\x93\\xe1\\x9a\\xb4\\x10\\xae\\x92\\x05@\\xe6\\xf0\\xe3\\x965\\x07N\\x02$\\x00\\xa4\\xa7\\xa7\\xabbw\\xda\\xb4i\\xc4a\\x93\\x00\\x05\\xafM`t\\'\\x01\\x128\\xbe\\t\\xb4\\xf4\\xb4cME)><\\xbc\\x05\\xdb\\xeb\\xf6\\xc3+\\xfb\\x01ER\\xa1\\x98\\xbe\\x10a\\xda\\xa8\\xc3T\\x96\\xa1\\xd4\\xec\\x85\\xbfz/\\xfc\\x1b\\xdf\\x06\\\\.\\xb8\\xc6\\xcd\\x86k\\xe6Yp\\xcdX\\x06){\\x84N\\'\\x9aH\\x80\\x04\\x063\\x81\\x9e\\x9e\\x1e\\xac\\\\\\xb9R\\x15\\xbd\\xdb\\xb7o\\xc7\\xdbo\\xbf\\x1d3\\xdc3\\xce8\\x03+V\\xacPm555\\xb8\\xe7\\x9e{p\\xf4\\xe8QL\\x992\\x05\\xabV\\xad2\\xb5\\x8d\\x1e=\\x1a\\x8f?\\xfe\\xb8!\\xbe\\xca\\xcaJ5oAA\\x81\\xbaB\\x1bz\\x1e~\\xf8a,[\\xb6\\x0c\\xb7\\xdf~\\xbbj\\xaa\\xae\\xae\\xc6\\xbd\\xf7\\xde\\xab\\xe6\\x9d:u*\\x9e~\\xfai\\xb4\\xb6\\xb6\\xaa\\xb5\\xcc\\x9f?\\x1f\\xd3\\xa7OW\\xfd.\\xbb\\xec\\xb2\\xf0\\xea\\xf0\\'\\x9f|\\x82\\'\\x9exB\\xb5?\\xf8\\xe0\\x83\\xaa_\\xe8\\x11y\\xef\\xbb\\xef>\\x14\\x16\\x16\\xaacw\\xb9\\\\j\\x0e\\x11O\\xd8\\x1e}\\xf4Q\\xb4\\xb7\\xb7\\xe3\\xdb\\xdf\\xfev\\xb8\\x8f\\xf8 I\\x12\\x9e\\x7f\\xfey\\x8c\\x193F\\xb5s\\x0fo\\x0c\\x1e~!\\x01\\x12 \\x01-\\x01\\xf1n\\xef\\xa7U_\\xe2\\xdeO_\\xc2\\x85\\xab\\xef\\xc7\\xaa\\xd27\\xb1\\xb9\\xb6\\x1c>!v\\xfb\\xf21\\x13\\xc5\\xb2\\x0c\\xf9\\xc0f\\xf8\\xfe\\xf4$z~~\\x01\\xbc\\xaf\\xdf\\r\\xb9\\xfcs\\x80\\xef\\x1d\\xf7\\xe5\\x0c0\\x16\\t\\xa4\\x14\\x81\\xa2\\xa2\"U\\xf8\\x89\\xe7\\xca+\\xaf\\x84\\x10\\xc4B`\\x8a\\xad\\x0f7\\xdcp\\x03\\xce>\\xfbl,]\\xbaTm\\xef\\xec\\xecTm\\xe7\\x9cs\\x0e\\x96,Y\\x12c;\\xfd\\xf4\\xd3\\x91\\x9d\\x9d\\x1d\\x16\\xcbB@\\x86\\xfe\\x88Xb\\xfb\\xc2\\x8d7\\xde\\xa8\\xf6\\x1d6l\\x18\\xee\\xbc\\xf3\\xce0\\xa7\\xab\\xae\\xbaJ\\xcd\\'\\x04\\xb5\\xf0\\xfb\\xfe\\xf7\\xbf\\x1f\\x93C\\xb4\\xddq\\xc7\\x1d8\\xed\\xb4\\xd3\\xd4zB\\x8f\\x10\\xc5b\\xa5\\xfa\\xc5\\x17_\\xc4+\\xaf\\xbc\\x82\\xbb\\xef\\xbe\\x1b\\x0f=\\xf4\\x90*\\x92CO(\\xef\\xb9\\xe7\\x9e\\x8b\\xa1C\\x87\\xe2\\xae\\xbb\\xeeR\\xeb\\x129\\xce;\\xef<\\xb5\\xe6\\x1f\\xfd\\xe8Ga\\xff\\xab\\xaf\\xbe\\x1a\\x8b\\x17/\\xc6\\xd8\\xb1c\\xf1\\xe3\\x1f\\xffX\\xfd\\xb3{\\xf7n\\xb5\\x9d+\\xbcaL\\xfc@\\x02$@\\x02\\xb1\\x04\\x84\\xa0]{\\xa8\\x14\\xaf\\xed\\xfa\\x00\\xfbZ\\xaa\\xd4=\\xb7\\x8exd?\\xe4\\x9d\\xeb \\x7f\\xb9\\x0eR\\xfex\\xb8\\xbf~\\r\\xdc\\xb3\\xcf\\x03\\xdc\\xfc\\x91\\xee\\x88\\xf9a\\x11$p\\x8c\\x08deea\\xce\\x9c9j\\xb6\\xc9\\x93\\'\\xab\\x82s\\xc7\\x8e\\x1d\\xe1\\xec![mmm\\x8cM\\x88F\\xb1\\x02\\x1bz\\xde|\\xf3ML\\x9a4I\\x15\\xb2B\\x18G\\xaf\\x96\\x8a\\xd5\\xe1\\xd0\\x8a\\xae\\x88w\\xe6\\x99g\\xaa>\\xa1G\\xd8\\xda\\xda\\xda\\xb0s\\xe7N\\x8d\\xad\\xae\\xae\\x0e\\xb2,\\xab+\\xb2\\xc2\\xaf\\xb8\\xb8\\x18G\\x8e\\x1cQ\\xfdD\\xddb\\x0f\\xef%\\x97\\\\\\xa2\\xd6,Vx\\xdfy\\xe7\\x9dp\\x8c\\xe8\\x0f\\xa2\\x06\\x91W\\x88\\xe7\\xd0#l\\xcd\\xcd\\xcdhhh\\xd0\\xb5\\xcd\\x9e=\\x1b\\x8d\\x8d\\x8d*\\x13\\xf1\\xf0\\xa7\\xa3.Z\\x1aI\\x80\\x04\\x8eg\\x02bE\\xf7\\xdd\\x03\\x9f\\xe3\\xa5\\x9d\\x7fAm{c\\x10E2b\\xd7\\xa4\\x8f\\xd9j\\xae\\x1e|\\x03\\x7f\\xa5\\xae\\x02\\xbe?<\\n\\xff\\x07/\\xc2}\\xe6\\xf7\\xe0\\x9ew> \\xf1\\x97wz\\x08i#\\x01\\x12\\xd0\\'\\xf0\\xdd\\xef~\\x17_\\xff\\xfa\\xd7\\x91\\x9f\\x9f\\xaf\\n\\xd4\\x9f\\xfd\\xecga\\xc7\\xcc\\xcc\\xd8\\x97gG\\x8c\\x18\\x81\\xdc\\xdc\\\\u5\\xb9/\\x9e\\xbc\\xbc<<\\xf6\\xd8c\\xeaJ\\xec\\x1bo\\xbc\\x81+\\xae\\xb8B7\\xac\\xc8+~6www\\xeb\\xb6\\'2R\\xf0&\"\\xc4v\\x12 \\x81\\xe3\\x8a@im\\x19\\xfes\\xeb\\x1f\\xd5\\x93\\x16\\x0c4f\\xd2<,\\xc7\\xb3\\xec\\x18,E\\xbc\\xfc\\xd6\\\\\\x13\\x10\\xbe\\x1f\\xbf\\x0e\\xcf\\xf9?\\x84k\\xea)I\\xd7\\xc9\\x8e$@\\x02\\xa9M\\xc0\\xe3\\xf1\\xa8\\xbf\\xda\\xdf\\xbbw/B\\xab\\xbb\\xd16\\xb1\\xbfW<!\\x9b\\xd7\\xebEEE\\x05\\xc4\\x8a\\xec\\x89\\'\\x9e\\x18\\xdeg\\x1b\\xa2\\x10Z%\\x15\\xf1\\xd6\\xacY\\xa3\\xfa\\x89\\xfd\\xb4\\xf1\\x8f^\\xdex\\x9f\\xd0\\xf7-[\\xb6\\xe0\\xa4\\x93NBKK\\x8bZ\\xa3\\x10\\xb2\\xaf\\xbd\\xf6\\x9a\\xba\\xdfX\\xec\\x13\\x16\\xab\\xd0\\xe3\\xc6\\x8dS\\xdd\\xcb\\xcb\\xcb\\xf1\\xfe\\xfb\\xef\\xa3\\xbe\\xbe^\\x15\\xc7\\xa7\\x9cr\\x8aj\\x13u\\x88\\xad\\x12V\\x1e.\\x03X\\xa1D\\x1f\\x12 \\x81AO\\xa0\\xb9\\xbb\\x1d?\\xfd\\xece\\xdc\\xb6\\xee\\x17\\xaa\\xd8\\xed\\xcd\\x13\\xadW\\x13j\\xd7\\x84\\x0e\\xf6*Qj\\xf6\\xc1\\xfb\\xf2m\\xe8y\\xe5N(-\\x91_Y\\xda\\x8bBo\\x12 \\x81T& \\x84\\xa7\\xd8\\xdb\\xbbm\\xdb6|\\xfa\\xe9\\xa7\\xeaP\\xd2\\xd2\\xd2T\\x9b\\x10\\x9a\\xeb\\xd7\\xaf\\xd7\\xd8\\xc4\\xfe\\xd9_\\xfe\\xf2\\x97\\xba\\xc3\\x16[\\'V\\xaf^\\xad\\xf6-))Q\\xf7\\t\\xeb=\\xe2\\x14\\x89\\xf8\\x1c\\xf1~\\xb3f\\xcd\\xc2\\xcd7\\xdf\\xac\\xbelVVV\\x86\\xf7\\xde{O\\xdd\\xbb+V\\x95\\xc5Kf3g\\xceTm/\\xbc\\xf0\\x02By7o\\xde\\xacn\\xb9x\\xea\\xa9\\xa7\\xd4\\x93*\\xc4\\xfe\\xdfM\\x9b6\\xa9\\xb6\\x8b.\\xba(>\\x85\\xeew\\x897\\xad\\xe9r\\xa1\\x91\\x04H\\xe08\"\\xb0\\xbe\\xeaK<\\xb5\\xe9u\\xd4u\\xb6\\xc4\\xac\\xea\\xaaZ4(H\\x95\\xa8\\xfd\\xbb\\xb1\\x82V\\n\\x1c/\\x16\\xc5+\\xd2\\x1e{$\\x99\\xb0oX\\xfe\\x8c\\xea\\xd9\\xbd2\\xf0\\xd2\\x886a\\xdcq\\x0f\\xa1`\\xf1\\x7fG\\xd5\\xa6\\x17C\\xbc\\xcb&e\\xe5\\xc0s\\xf1\\xddp\\xcf<\\xe38\\x9aM\\x0e\\x95\\x04H\\xc0\\x8c\\x80\\xd8k+\\xf6\\xca\\xe6\\xe4\\xe4\\xe0\\xa6\\x9bn2s\\x1dTm\\\\\\xe1\\x1dT\\xd3\\xc9\\xc1\\x90\\x00\\t\\xd8!\\xd0\\xe3\\xf7\\xe1\\xc9/~\\x83\\xbb?\\xfe/\\xd4u6k\\xbb\\xea\\xac\\xbe\\xc6\\x8a\\xddDg\\x91\\x05C\\xea\\xc4\\xd1&\\xd3\\xb1\\xd8\\xed\\x17\\xe7\\xaft4\\xc3\\xfb\\xeb\\x9f\\xc0\\xfb\\xe6\\xa3\\x807\\xb9}o:U\\xd1D\\x02$\\x90\\xc2\\x04\\xc4\\xca\\xa98\\xdd\\xe0x\\x12\\xbbb\\xba\\xb8\\xc2\\x9b\\xc2\\xffhY:\\t\\x90@\\xf2\\x04j;\\x1a\\xf1\\xe0\\xfa\\x97\\xb0\\xab\\xe1@\\xd4\\x02idEV\\xd5\\x8eA\\x01\\x19\\xf8K{\\xd6n\\xc0\\xc7\\xc0\\xae\\x96\\x16\\x8c\\x17\\x15\\xc7p\\x857Z\\xac\\x86>\\x9b\\xd9\\xcc\\xdaD\\xe9q1\\xa4\\xc2\\xa9H\\xbf\\xe6g\\x90\\xf2\\x8a\\x92\\x87\\xc6\\x9e$@\\x02$\\x90\\xa2\\x04\\xb8\\xc2\\x9b\\xa2\\x13\\xc7\\xb2I\\x80\\x04\\x92\\'\\xb0\\xf5h9\\xbe\\xb7\\xe6\\tU\\xecF?\\xd1\\x1a2\\xf9\\xe8\\xce\\xec\\xa9T\\xeeA\\xcf/\\xae\\x87|`\\xab3\\x0bdU$@\\x02$\\xd0\\x8f\\x04(x\\xfb\\x11.C\\x93\\x00\\t8\\x8f\\xc0\\xa7\\x95\\xdbq\\xe7\\xc7\\xcfA\\xdc\\x98&\\x1ek\"\\xd7\\xe4x1\\xc3!&\\xd3\\xc7 \\x98\\xb5\"#\\x9d\\r\\xfc\\x95\\xf6&\\xf4\\xbcp\\x0b\\xfc\\xdb\\xfff\\x90\\x88f\\x12 \\x01\\x12\\x18\\x9c\\x04(x\\x07\\xe7\\xbcrT$@\\x02:\\x04\\xd6Tl\\xc4\\x83\\x9f\\xfd7z\\xfc^\\x9d\\xd6\\xfe5\\x19hPmR\\xcb\\x8e\\xc1\\xae:\\xfe:\\xa6H\\x1e\\xaf\\x17\\xde\\xd7\\xee\\x83\\x7f\\xd3\\xbb\\xda\\xdc\\xb4\\x90\\x00\\t\\x90\\xc0 %\\xc0sx\\x07\\xe9\\xc4rX$@\\x02\\xb1\\x04\\x84\\xd8}|\\xe3+\\xfd~\\x13o\\xb4\\xd84\\x15\\x9e\\xa2\\xbc\\x84\\x0eq\\xb3h\\xd7\\xdf\\xe8\\x1f\\x81,\\xc3\\xfb\\xbbG\\xd4=\\xc6\\xee\\xf9\\xdf4\\xf2\\xa2\\x9d\\x04H\\x80\\x04\\x06\\r\\x01\\xae\\xf0\\x0e\\x9a\\xa9\\xe4@H\\x80\\x04\\x8c\\x08|R\\xb9\\rOl|U\\xbd\\xa5\\xc7\\xf8\\xb1\\xb7\\x05!\\x10I\\xfb\\xc2\\x9aq\\xfc\\x01h\\xd1\\x1dn\\xd0\\xa8\\x08\\xd1\\xbb\\x12\\xfe\\xed\\x1f\\r@aLI\\x02$@\\x02\\xc7\\x96\\x00\\x05\\xef\\xb1\\xe5\\xcdl$@\\x02\\xc7\\x98\\xc0\\x96\\xa3{\\xb0\\xf2\\xf3\\x97\\xe1W\\xe4Hf]!\\x18W\\x98\\x8e\\x8f\\xc6\\xa41\\xe8\\x0c\\xce\\x8a\\x8fN\\xb7~_\\xfd\\x15u\\x89\\x95\\xde\\xd7\\x1f\\x84|p\\xbb^\\x05\\xb4\\x91\\x00\\t\\x90\\xc0\\xa0!@\\xc1;h\\xa6\\x92\\x03!\\x01\\x12\\x88\\' \\x8e\\x1e{8\\x89=\\xbb\\xd1\\x1a5Y\\xbd\\x1a_\\x8b\\xe9w\\xbbI\\xec\\xfa\\x9b%\\xf7v\\xc3\\xfb\\xf2\\x9dP\\x1a*\\xcd\\xbc\\xd8F\\x02$@\\x02)M\\x80\\x827\\xa5\\xa7\\x8f\\xc5\\x93\\x00\\t\\x18\\x11\\xe8\\x91}x`\\xfd\\x0bh\\xean\\x8br1\\xde\\xb6\\xd0\\x97\\x1a\\xd2\\xa8\\xa6\\x01\\xb3\\'\\x18\\x9c\\xd2\\xd6\\x04\\xef\\xaf~\\x02\\xf8z\\x06\\xacD&&\\x01\\x12 \\x81\\xfe$@\\xc1\\xdb\\x9ft\\x19\\x9b\\x04H`\\xc0\\x08<[\\xfa[\\x945Vh\\xf2\\xdb_\\xbd5\\x16\\xc9\\x9a\\xe0aC2}\\x0c\\xa2%\\x10\\xab\\x9a^I\\xfa\\xcbG\\xbe\\x82\\xf7\\x0fOi\\xc2\\xd1@\\x02$@\\x02\\x83\\x81\\x00\\x05\\xef`\\x98E\\x8e\\x81\\x04H \\x86\\x808k\\xf7\\xbd\\x03\\x9f\\x85mv5`_\\xe3\\xb4\\x9c\\xdf\\xb2c\\xb0B\\x1d\\x7f\\x1dSd8\\xa6\\x8d\\x80\\xff\\xf3\\xd5\\xf0o\\xe3\\x19\\xbd}=\\xff\\x8cG\\x02$0\\xf0\\x04(x\\x07~\\x0eX\\x01\\t\\x90@\\x1f\\x12h\\xeei\\xc7\\xaa\\xd2\\xdf\\xd8~\\xe7\\xab/J\\x88\\xd6\\x93\\t\\xb4\\xe5\\xc0\\x1dI\\x96`\\xa0\\xbe\\xb7\\x9e\\x84\\xd8\\xe2\\xc0\\x87\\x04H\\x80\\x04\\x06\\x13\\x01\\n\\xde\\xc14\\x9b\\x1c\\x0b\\t\\x90\\x00\\xfe\\xbd\\xf4\\r4v\\xb5\\xda$ao\\x0bB@\\xcc&s$\\x99\\xbd<6\\x07\\x11\\xeb\\xae\\xab\\xb8u\\x8d\\x81~\\xc1&\\xa5\\xad\\x11\\xbe\\xb7W\\xf5*5;\\x93\\x00\\t\\x90\\x80\\xd3\\x08P\\xf0:mFX\\x0f\\t\\x90@\\xd2\\x04\\xb6\\x1c-\\xc3G\\x87K\\xcd\\xfb\\x9bh\\xbepG\\x1d\\x1f\\x8dIc\\xd0Ik\\xc5G\\xa7\\x9b\\xed\\xe5i\\xbby\\x12\\xf8\\xfbK\\xdf\\x87\\\\\\x9e\\x80\\xa3^\\xdd\\xb4\\x91\\x00\\t\\x90\\x80C\\tP\\xf0:tbX\\x16\\t\\x90\\x80=\\x02\\xe2R\\x89\\xe7\\xb7\\xfd\\xd1^\\'\\x1d\\xefh-\\x98@\\x17\\xea\\xf4N\\xc2d7\\x89]\\xff$J\\x12]\\xd4\\x17\\xd8\\xe4\\xa8\\xb3\\x8b\\x93\\x8c\\xc3n$@\\x02$\\xe0\\x04\\x02\\x14\\xbcN\\x98\\x05\\xd6@\\x02$\\xd0k\\x02\\x7f=\\xf8\\x99\\xee\\xa9\\x0c\\x91\\xc0\\xc6\\xdb\\t\\x8e\\x91\\x86\\xec\\xf5\\x18\\x93\\n`wpA\\x7f\\xa5z\\x1f\\xfc\\x9b\\xfe\\x92TJv\"\\x01\\x12 \\x01\\xa7\\x11\\xa0\\xe0u\\xda\\x8c\\xb0\\x1e\\x12 \\x01\\xdb\\x04\\xfc\\xb2\\x1f\\xbf\\xda\\xf9\\xe7\\x84\\xfd\\xec\\xaf\\xde\\x1a\\x8bd\\xe3d\\xc6}\\xecj\\xcf\\x81\\xde\\xda\\xe0{\\xefE\\xc0\\xef3\\x1e*[H\\x80\\x04H E\\x08P\\xf0\\xa6\\xc8D\\xb1L\\x12 \\x01c\\x02k\\x0fm\\xc4\\xd1\\xceF]\\x07\\xdb\"S7J\\xf2F\\xcb\\xf9-;\\x06k\\xd1\\xf1\\xd71E\\n7m\\xd4\\x1f\\x9f\\xd2P\\x05\\xff\\xc6w\\xf5\\x1bi%\\x01\\x12 \\x81\\x14\"@\\xc1\\x9bB\\x93\\xc5RI\\x80\\x04\\xb4\\x04\\x14(\\xf8]\\xd9\\x071\\x8b\\xa1Ih;m`\\x9b\\x96\\xe8\\x9c}\\x9e\\xbf\\xcf\\x03Z\\x18\\\\0\\xa7o\\xddo\\x01e \\n\\xb0P#]H\\x80\\x04H\\xc0\"\\x01\\n^\\x8b\\xa0\\xe8F\\x02$\\xe0L\\x02\\x1b\\xaaw\\xe2@KU\\xb08\\xe3\\xed\\x04\\xc6\\xd5\\xdb\\xeb\\x13\\x90~\\x16\\x8e$\\xd3hD{y\\x8c\\xeb\\xb5\\xd0\\xa2\\xc9-\\xfa\\xe8\\x1a\\x03\\xc1\\xcc\\x9a\\xaa\\xf7A\\xfe\\xeas\\x0bI\\xe9B\\x02$@\\x02\\xce%@\\xc1\\xeb\\xdc\\xb9ae$@\\x02\\x16\\x08\\xbcw\\xe0\\xd3\\x80\\x97\\x89h\\x0b\\x87I\\xd2G\\xd3Mc\\xb0P\\xa8U\\x17\\xbb\\xb1\\x8f\\x81\\xbf\\x7f\\xfd;V\\xab\\xa7\\x1f\\t\\x90\\x00\\t8\\x92\\x00\\x05\\xaf#\\xa7\\x85E\\x91\\x00\\tX!\\xd0\\xe6\\xed\\xc0gU;\\xac\\xb8Z\\xf2\\x89\\xd6\\x8evu\\xa4\\xa5\\x04\\xf1Nv\\x93\\xd8\\xf5\\x8f\\xcf\\x97\\xe4w\\xff\\x8e\\x8f\\xa1\\xb4\\xf3\\xf6\\xb5$\\xf1\\xb1\\x1b\\t\\x90\\x80\\x03\\x08P\\xf0:`\\x12X\\x02\\t\\x90@r\\x04><\\xb4\\t^\\xd9\\xca)\\x02\\xc6\\xdb\\t\\x8c5\\xa4q\\x9f\\xe4\\xaa\\x1d\\x80^\\xc6\\x83\\xd3/\\xc6\\xc8\\xdf\\xef\\x85\\xbcy\\xad~\\x1fZI\\x80\\x04H \\x05\\x08P\\xf0\\xa6\\xc0$\\xb1D\\x12 \\x01}\\x02\\xeb\\x12\\xdd\\xaa\\x16\\xd5\\xed\\xd8\\xac\\xde\\x1a\\x8bd#-\\xa9?2\\xf3-\\xb7\\xba}\\xec&\\xb0\\xe9\\xef\\xdf\\xf6\\x91nZ\\x1aI\\x80\\x04H \\x15\\x08P\\xf0\\xa6\\xc2,\\xb1F\\x12 \\x01\\r\\x81N_7\\xbe\\xac\\xdf\\xa7\\xb1W\\xff_\\x19\\x1a\\xb6\\x1eR\\xed!M\\xd7\\xdd\\xd0\\x8eCo\\x97\\xa2yWe\\x8c\\x7fge#\\x0e\\xaf.5}\\x9fK\\x93 hh?X\\x87\\xda\\x0f\\xbf\\xd44\\x87r6\\x95\\xeeC\\xf3\\xf6\\nM\\xbb\\xae\\xc1\\xa6\\xf8\\xd4{\\xff\\xcc4\\x84i\\xa3NE:\\xfer\\xf9f(\\x1d\\xad:\\xce4\\x91\\x00\\t\\x90\\x80\\xf3\\tP\\xf0:\\x7f\\x8eX!\\t\\x90\\x80\\x0e\\x81\\xd2\\xda\\xdd\\xe1\\xed\\x0c\\xd1\\xfa\\xac\\xf9\\xab*\\x1c\\xfc\\xe3\\xa6\\x98\\x1eu\\x1b\\xf6a\\xff\\xeb\\xebQ\\xf1v\\xac\\xfd\\xe8\\xfar\\xd4~\\\\\\x06\\x18/\\xcc\\xead\\x0e\\x98\\xda\\xca\\xabQ\\xf5\\xe7R\\xf5\\x8b\\x8e>D\\xfd\\xa7e\\x10\\xa2\\xb7\\xd7\\x8f^\\xf0^\\x07M\"\\x80\\xdf\\x07\\xb9lc\\x12\\x1d\\xd9\\x85\\x04H\\x80\\x04\\x06\\x9e\\x00\\x05\\xef\\xc0\\xcf\\x01+ \\x01\\x12H\\x82\\xc0\\x175\\xbb\\xe2z\\x05Tk\\xee\\xf4\"\\xb4\\xee\\xad\\x85\"G\\x94b\\xd3\\x8e\\xc3\\xc8_4\\t\\xcd\\xbb\\xab\\xa0\\xf8\\xe5p\\xbf\\x96\\xb2\\x1a\\xe4\\xce(\\xb6\\x9c=\\x10\\xd1\\x82:\\xd6\\x88T\\x0b},W\\x91\\xc0Q\\x93[\\xf8\\xeb\\x1a\\x03\\x81L\\x9a\\xe23\\x89U^>$@\\x02$\\x90\\x8a\\x04(xSq\\xd6X3\\t\\x90\\x00v\\xd4\\xef\\x8dP\\x88\\x12m9\\'\\x15\\xc1\\xdf\\xe5E\\xfb\\xa1\\x06\\xb5]\\x08\\xdf\\xc6\\x1d\\x87Q\\xfc\\xcd\\xd9Pd\\x19\\xad\\xfbj\\x03\\xfd\\x14\\xa0eO5r\\xa6G\\x04oO}\\x1bj\\xfe\\xb6\\x13U\\x7f\\xdd\\x86\\x8e\\x8a\\xfa@\\x7f\\x00\\xfe\\xce\\x1e\\x1cyg\\x13z\\x1a\\xdaP\\xf9\\xbf\\xa5h\\xd9yX3\\x03BH7n,G\\xcd{[\\xd0q\\xa8N\\xd3n\\xc9`C|\\x86\\x8b\\xb3\\x148\\xe8\\xd4\\xcb\\xf8\\xf2\\xde\\xc0\\x8a\\xb6\\x9d\\x94\\xf4%\\x01\\x12 \\x01\\'\\x10\\xf08\\xa1\\x08\\xd6@\\x02$@\\x02v\\x08\\xf4\\xf8\\xbd8\\xd4Z\\xa3\\xdb%cD62\\x0bs\\xd1\\xb2\\xa7\\x06\\xd9\\x13F\\xa2m\\xffQU\\xf4\\x0e\\x9f6\\x069\\xd3\\n\\xd1\\xb4\\xe3\\x08\\x86M\\x1d\\x83\\x8e\\xcaF\\xf8\\xda\\xbb\\xc3\\x82\\xb7a\\xf3\\x01|\\xf5\\xec_1tR\\x01\\xdcY\\xe9\\xd8\\xff\\xea\\xc7\\x18\\x7f\\xc5\\x12\\x14]0\\x0f\\xfe\\x8e\\x1e\\x1c\\xfc\\xcd\\'\\xa8\\xdf\\xb0\\x17\\xee\\x0c\\x8f*|3\\x8b\\xf3\"\\xf9\\x15\\x05e?_\\x8d\\x8eC\\xf5\\x18vb1\\xaaV\\x7f\\x01W\\xba\\x079s&\\xea\\xd6\\xa8\\x1a{)>\\x8d\\x03\\x07[\\xec\\xc6O\\x18\\x10P\\xaa\\xf7\\x03=\\x9d@z\\xa6\\x05o\\xba\\x90\\x00\\t\\x90\\x80s\\x08P\\xf0:g.X\\t\\t\\x90\\x80E\\x02{\\x9b\\x0f\\xc3\\'\\xfb\\r\\xbdsO*T\\x05o\\xe1Y\\xd3\\xd1\\xb8\\xfd\\x08\\xc4w\\xc9\\xedR\\xb7/4}y\\x18\\xe3.\\x9e\\x8f\\x96\\xb2j\\x0c\\x9d\\x98\\x0fOv\\x86\\xba\\xcd\\xa1\\xec\\xb9\\xb5(<o6&\\\\\\xb1\\x18\\n$U\\xdc\\xee^\\xf5g\\x8c\\x98_\\x02wF\\x9a\\x9a+o\\xe1$\\x14_\\xb8P\\xfd\\\\\\xb36r\\xfeo\\xfdg\\xe5h-\\xab\\xc2\\xecg\\xbe\\x03On6\\xba\\x8f\\xb6`\\xfb\\x1d\\xaf\\x18\\xd6\\xe7\\xc8\\x06+\\x02Y\\x96!W\\xee\\x85k\\xe2LG\\x0e\\x81E\\x91\\x00\\t\\x90\\x80\\x11\\x01ni0\"C;\\t\\x90\\x80c\\t\\xecm:bZ[\\xee\\xf4b\\xb4\\x94W\\xab>b\\xffn\\xce\\x8c\\xb1\\xea\\xe7\\x9c\\x19\\xc5\\xaa\\xd0\\x85\\xa2\\xa0\\xb5\\xac:l\\xef\\xaam\\x81\\xb7\\xb9\\x03E\\xe7\\xcd\\x0e\\xc7\\x1d\\xb9h22F\\x0eS\\x85l\\xe8\\xc9\\x9d3A7o\\xcb\\x8e\\n\\xe4\\xce\\x99\\x88\\xb4\\xdcl\\xb5=#\\x7f8rfE|\\xadh\\xc9\\x98\\xc0v;\\x1cC\\x7f\\xa5\\xb2\\\\\\x97\\x01\\x8d$@\\x02$\\xe0d\\x02\\x14\\xbcN\\x9e\\x1d\\xd6F\\x02$\\xa0K\\xa0\\xaa\\xfd\\xa8\\xae=d\\x14+\\xba\\xed\\x87\\x1a\\xe1m\\xedB\\xf3\\xee\\xca\\xf0\\x8bi\\xc3\\xa7\\x14\\xa8[\\t:*\\x9b\\xd4\\xfd\\xbb\\xa1\\x17\\xd6z\\x1a\\xda!\\xb9$\\xa4\\r\\x8f\\xfdU}zn6\\xc4\\xbe\\xde\\xd0\\xe3\\xc9\\xca\\xd0\\xcd\\xebm\\xea@\\xda\\x88\\xec\\x98]\\n\\xe9\\xf9\\xc3t}5\\xc6>\\x10\\xab\\xa6!L\\x1b5\\xd5$\\xdcj\\xa1\\xd4\\x99\\xff\\xcf\\x86ND\\x9aH\\x80\\x04H`\\xc0\\tP\\xf0\\x0e\\xf8\\x14\\xb0\\x00\\x12 \\x01\\xbb\\x04\\x8ev6\\x86\\xbbD\\xeb\\xb9\\xd0\\xe7!\\xa3\\x87##/\\x1b\\xd5\\x1f\\xee\\x82\\xe4qch\\xc9(\\xd5_lk\\x18~b\\xa1*\\x82\\x85\\xe8\\x1d~b\\x91jO\\xcf\\xcbV\\xf7\\xf9\\xf64\\xb5GJQ\\x80\\xee\\x866x\\x86E\\x89`\\x9d\\xc3\\x16D\\xce\\xf4\\xbc\\xa1\\xea~\\xe0\\xe8G\\xec\\xfb\\xed\\xf5cW\\xac\\xf6:a\\xe2\\x00J}\\xecY\\xc6\\x89{\\xd0\\x83\\x04H\\x80\\x04\\x06\\x9e\\x00\\x05\\xef\\xc0\\xcf\\x01+ \\x01\\x12\\xb0I\\xa0\\xa6#\"x\\x03]\\xb5JT\\x1cOV\\xb9\\xe6K\\xe4\\x9eT\\xa4\\xae\\xde\\x86\\x1e\\xb1\\xdd\\xa1\\xe6o\\xbb\\x90=~\\xa4\\xba\\x7fW<B \\xa7\\xe5d\\xa2\\xf2\\xbd\\xada\\xbf\\xfa\\x8d{\\xd1\\xd3\\xd8\\x86\\x9c\\x99\\x81\\xed\\x10\\xd1y\\xe2uh\\xee\\xdc\\x89h\\xdez\\x10r\\xb7W]!U\\xbc~\\x88m\\x0eF\\xb5\\x85\\x93\\xf4\\xf5\\x87\\xf8\\xc2\\xd4\\xf8\\xba\\xc6@f\\x93&\\xdd\\xd2\\xc4\\xd8\\x9a\\x82\\xa7\\\\\\xe8:\\xd0H\\x02$@\\x02\\xce$\\xc0\\x97\\xd6\\x9c9/\\xac\\x8a\\x04H\\xc0\\x84@}Ws\\xa4\\xd5@\\xb4\\xe5L/B\\xcd\\xff\\x95\\xa1\\xf8\\xdc\\x93c4_\\xce\\xccb\\xf5\\x12\\x8a\\xb1\\x17\\xcc\\r\\xc7\\x10+\\xbfS\\x7fp&\\xbe\\xfa\\x8f\\xf7\\xd1\\xba\\xa7\\x06b\\xebB\\xe3\\xb6\\x83\\x98\\xb0|)2\\x8bFD\\xb65\\x18\\xe4\\xca\\x9dW\\x82\\xe13\\xc6b\\xd7\\xca\\xb7\\x90w\\xcaT\\xf5x2\\xb8l\\xae\\'\\x18\\xc46\\xc40@\\xfeJ{\\x8baIl \\x01\\x12 \\x01\\xa7\\x12\\xa0\\xe0u\\xea\\xcc\\xb0.\\x12 \\x01C\\x02\\xe2Z\\xe1D\\xcf\\xc8\\xb9\\x130\\xfe\\xa2y\\x18\\xb9pR\\x8c\\xeb\\xb0I\\xa31\\xee\\xa2\\xf9\\x18\\xb5tj\\xd8.\\xb4c\\xde\\xfc\\x12\\xcc\\x7f\\xe6j4l>\\x08\\xd9\\xeb\\xc7\\xf8\\xe5K\\x9096p\\xf4\\x98;3\\x1d\\xc5\\x17\\xce\\x87;j\\x0fo\\xd6\\x84|\\x8c^6#\\x1cc\\xca\\xbf~\\x13\\x8d[\\xf6\\xa3\\xab\\xaa\\t\\xe3\\xaf9]}\\t\\xae\\xcf\\x9e\\xfe\\x16\\xb7v\\n\\xed\\x88\\xfa\\x9f\\r;\\xfd\\xe8K\\x02$@\\x02\\x03H@R\\x14\\xc5\\xee\\x8f\\xd2\\x01,\\x97\\xa9I\\x80\\x04H\\x00\\xb8\\xe0\\x9d\\x15\\x08\\x89\\xde\\xc0O\\xb0\\xc0\\x96\\x85\\xe8\\x1ff\\x81\\xcfA{TC\\xe8\\xa38z,\\xf4\\xa8\\xb6`\\x83\\xc6\\x1et\\n\\xf8\\x18\\xe5\\x11NR D8N(z\\xd0\\x1eL\\xf1\\xc5\\xf2UjC\\xf7O\\x97\\x04\\x1c\"\\x05\\x85:DV\\xa4\\xad\\xb4\\x89\\xb8\\xf1~\\xa1\\xef\\xea\\xb84\\x05\\xd9\\x8e\\x1f\\xde\\x15!B\\xa5\\x0f\\xc1\\x90\\xa7>\\x8a\\xd4\\xcaO$@\\x02$\\x90\\x02\\x04l\\xfe\\xce-\\x05F\\xc4\\x12I\\x80\\x04\\x06=\\x01q\\xf1\\x84\\xd5\\'F\\xfbY\\xedd\\xdbO\\xbb\\x878\\x14\":\\xff\\x10wz\\xe2\\xc8\\xd1\\x1d\\x12{\\x9bn\\xd1\\xd5\\xed\\xde\\xdb\\xf8&\\xe7\\x1f\\xeb\\xe6\\xa3\\x91\\x04H\\x80\\x04\\x1c@\\x80\\x82\\xd7\\x01\\x93\\xc0\\x12H\\x80\\x04\\xec\\x11\\x90\\xcd^\\xc42\\x7fM\\xcb^\"\\x1b\\xdeV\\x84\\xf5\\x8a\\xb9\\x17\\x06\"z\\xbb\\x02\\x7f\\xf7V|&\\x1ak\\x1f\\xc4\\xd7 \\xe0/\\x055Hh \\x01\\x12p>\\x01\\n^\\xe7\\xcf\\x11+$\\x01\\x12\\x88#\\x90\\xe1\\x0e\\xdc|fEd\\xf6\\'<;zr\\xd9\\xd8Y\\xb8dJ`\\x1b\\x83\\xf7\\xedG\\x12\\x97e\\'x\\xe2h}\\xe7\\xe1\\t\\xb0\\xef\\xbb\\x80\\x8cD\\x02$@\\x02\\xfdO\\x80\\x82\\xb7\\xff\\x193\\x03\\t\\x90@\\x1f\\x13\\x18\\xe2\\x8e\\xbe\\x00\\xc2x;\\x81qZ{}\\x02\\xdaS\\xbb\\x7fW\\x13_#R\\x03}Fg\\xe5\\xe2\\xdeE\\x97\\xab\\xee\\xf2\\x97\\x1f@\\xde\\xb9V\\xd35\\xda\\xf0\\xc2\\xa6\\x1al\\xac\\x8c\\\\x\\x11j\\xdb]\\xd7\\x89U\\x9f\\x19\\x9c\\x83\\x1b\\x97\\xbb\\xbe\\xd3\\x87\\xa7??\\x82.\\x9f\\x8cn\\xbf\\x8c\\xa77T\\xa2\\xae#j+\\x88\\xa6V\\xd3\\x92\\xc2[\\'\\xa4\\xf4\\xd8\\xcb9\\x12\\xf4b3\\t\\x90\\x00\\t8\\x82\\x00\\x05\\xaf#\\xa6\\x81E\\x90\\x00\\t\\xd8!\\x90\\xe9\\t\\n^+\\xa2-I\\x1fM7\\x8d\\xc1Z\\xc5.\\xc9\\x85G\\x97\\\\\\x83\\x9c\\xf4,(m\\xf5\\xf0\\xbe\\xf5\\xa0\\xb6c\\\\\\xec\\xa7>\\xad\\xc4\\xc7\\x15\\xad\\x1a\\xbfm\\xb5\\x1dx\\xe0\\xa3C\\x96\\xf6\\xed\\xd6vxq\\xdf\\xdf\\x0f\\xa1S\\x08^\\x9f\\xa2~\\xaej\\xb7\\xb8\\xf7\\xd9l\\xac\\x19\\x14\\xbc\\x9a\\x89\\xa1\\x81\\x04H\\xc0\\xf1\\x04(x\\x1d?E,\\x90\\x04H \\x9e@n\\x86\\xc5k{\\xe3;\\xea|\\x8f\\xd6vf:O\\xa7\\xab%\\xd3\\xf7f\\x9c\\x8d9\\xa3J\\x00Y\\x86\\xf7\\x7f\\xfe\\x05PdK\\xfd\\xc2Nv\\x8b\\xb2\\xebo\\xaf\\x1aH9\\x81[\\xeblv\\xa3;\\t\\x90\\x00\\t\\x0c(\\x01\\x9e\\xc3;\\xa0\\xf8\\x99\\x9c\\x04H \\x19\\x02\\x05Yy\\xd8\\xd5\\xb0?AW\\xe3m\\x0b\\xc6\\x9a\\xd0\\xb8O\\x82d\\xba\\xcdsFM\\xc2\\xf53\\xceV\\xdb|k\\xff\\x13J\\xc3!]\\xbf\\xde\\x18\\xcb\\x1b\\xbb\\xf0^y\\xa3z\\xfa\\xd8\\xd9\\x93rqb\\x9e\\xb5\\x15\\xd8\\xfd\\xcd\\xddX{\\xb0Y]-^6~8&\\xe7\\x0e\\xb1T\\x86\\x943\\xda\\x92\\x1f\\x9dH\\x80\\x04H\\xc0I\\x04\\xb8\\xc2\\xeb\\xa4\\xd9`-$@\\x02\\x96\\x08\\x08\\xc1k\\xe5\\xe9\\xef\\xd5\\xdb@\\r\\xfa\"yXz&~\\xba\\xf8*\\x88-\\rJ\\xc5\\x16\\xf8\\xd7\\xff&q\\xc9\\xc6J\\\\\\xb7\\xef\\xea\\xb2F,xq\\x1b><\\xd8\\x82O\\x0e\\xb7b\\xe9\\xffl\\xc7\\xab;\\x8e\\xea\\xfa\\xaa\\xc6`\\xfc\\xd7w\\xd5a\\xc1\\xaf\\xb6\\xe1\\xdd}\\x8d\\xea\\x9f\\x85\\xafn\\xc7\\xafw\\xd6i\\xfb\\xe9\\xd4#\\x8d(\\xd0\\xfa\\xd1B\\x02$@\\x02\\x0e\\'\\xc0\\x15^\\x87O\\x10\\xcb#\\x01\\x12\\xd0\\x12\\x18\\x93=Rk\\x0cZt4\\x9a\\xa1o_5\\xe8\\t\\xeb\\xfb\\x17}\\x1b\\x85\\xd9#\\x80\\x9e\\x0e\\xf4\\xbcv\\x9b6U\\x82B\\xc5\\xaam\\xbdx\\xc9,\\xcaO\\xbc\\xb4\\x16zz\\xfc\\n~\\xf4\\xc1\\x01<s\\xceD\\\\;{\\xb4\\xea\\xf7\\x97\\xbdM\\xf8\\xee\\xea=\\xb8\\xf4\\x84\\x91\\x86\\xfb|\\x9b\\xba|\\xf8\\xd75\\xfb\\xf1\\xd8\\xe9\\xe3\\xf1\\x83\\xd9\\x05\\xaa\\xdf\\xf3[kp\\xcb\\xda\\xfd8ob\\x0e\\xf23\\xcdOa\\x90\\n&h\\xc7B\\x0b\\t\\x90\\x00\\t8\\x9c\\x00\\x05\\xaf\\xc3\\'\\x88\\xe5\\x91\\x00\\th\\tL\\xc9\\x1d\\x1b\\xd4\\x81\\x16NN\\xd0v\\xef\\x13\\x8b\\x99^\\xbdt\\xca\\xa98c\\xec\\xc9\\xea-g\\xde\\xd7W\\x00\\xde\\xc4W!\\xc7\\x17u\\xa4\\xa5\\x07n\\xa9=\\xc6\\\\\\x1b\\xf5\\xd2\\xd9\\x8e\\xa3\\x1d\\xa8h\\xeeFek\\x0f\\x9e\\x16\\'7(\\x01\\x8d\\xdb\\xee\\x95QZ\\xdd\\x86\\x91\\x06\\xc2u{]\\x07\\xfc2p\\xfd\\xc9\\x91\\xad\\t\\xe2\\xf3\\xdd\\x7f\\xaf@iM;\\xce\\x99\\x98\\x1b_J\\xccwiL\\x89i;\\x1bI\\x80\\x04H\\xc0\\x89\\x04(x\\x9d8+\\xac\\x89\\x04H\\xc0\\x94\\xc0\\xe4\\x9c\\xb1\\xf0\\xb8\\xdc\\xf0\\t\\xe5f\\xfb\\xd1\\xdf\\x82`\\x14& l-\\x08\\xeb\\xa0\\x02\\x9e\\x943\\x06\\xb7\\x06/\\x98\\xf0o\\xfc\\x1d\\xe4\\x8a\\xadF\\xa1M\\xed\\xd7\\xcf+\\xc0\\xed\\x8b\\x0b#+\\xb5\\n\\xf0\\xbb\\x9d\\xf5\\xb8nu\\xb9\\xda\\xefHk\\x0f<.\\t;\\xa3V}\\x85\\xfd\\xc2iy\\x18\\xe2\\x11\\xbb\\xd5\\xf4%yU\\x9b\\x17y\\x99\\x1e\\xb5o\\xe8\\x11\\x9fGezp\\xa4\\xadG\\xbf\\xa6P(\\x97\\x0b\\xae\\xc2I\\xfa>\\xb4\\x92\\x00\\t\\x90\\x80\\x83\\tP\\xf0:xrX\\x1a\\t\\x90\\x80>\\x81tw\\x1a\\xc6\\x0f\\x1d\\x83}\\xcd\\x06g\\xd2\\x86\\xba\\xe9k\\xbe\\xd8\\xa0:>\\x1a\\x93\\xc6`T\\x97\\x07+\\x97\\\\\\x83!\\xee4(\\xf5\\x07\\xe1\\xfb\\xeb\\xbf\\xe9;F[-\\xc6\\x8e\\x0f4&;\\r>Y\\xc1/\\xce+\\xc1\\x88\\x8c\\xc0\\x8fr\\x11jKU;N\\xcc\\xcf\\xc4\\x81\\xa6\\xa8\\xdb\\xdc\\xa24~\\xe1\\xd04\\xf5<^\\xaf\\xac -(z\\xc5\\xf6\\x88\\xda\\x0e_`;\\x83I=\\xae\\xe2\\xa9\\x00\\x8f%\\x8b\\x9f\\n~\\'\\x01\\x12H\\x01\\x02|i-\\x05&\\x89%\\x92\\x00\\th\\tL\\x1f\\xd9\\xfb_\\xadGk;\\x13\\x9d\\xa7Mn`\\xb9m\\xeeE\\x98\\x9a[\\x04\\xf8\\xbd\\xe8y\\xe5F\\xad\\x97\\xdd$&\\xfe3Fea\\xcc\\xd04<\\xbb\\xa1*\\x9c\\xe7\\xed\\xdd\\r8\\xfd\\xd7;\\xd0\\xd2\\xed\\xd7\\xe6\\x0eZN\\xce\\xcfRWw\\x7f\\xb9\\xb5&\\xec\\xf3\\xf2\\x8eZH\\x12\\xb0\\xb4\\xc8\\xfc\\xb87\\xa9d\\x96a\\\\6\\x90\\x00\\t\\x90\\x80\\x93\\tp\\x85\\xd7\\xc9\\xb3\\xc3\\xdaH\\x80\\x04\\x0c\\t,,\\x98\\x8e?\\xed\\xfb\\xc4\\xa0\\xddx\\xdb\\x82\\xb1\\x864\\xeec\\x90$\\xc6,\\xf6\\xec\\x8a\\xbd\\xbb\\xe2\\xf1\\xbe\\xf3S\\xa0\\xad\\xc9J\\xb7\\x88\\x8fqa\\xbaq\\xb2\\xd2\\\\XuV\\t\\xfey\\xf5\\x1e|v\\xb8\\x15\\xf9Yi\\xf8sy#\\x1e=c<\\n\\xb2\\xd3\\xd0\\xd0\\xa9\\x7f\\xc9D\\xee\\x10\\x0f\\x9e=s\"n[{\\x00\\x1f\\x1ch\\x86\\x18\\xf5\\xbaC-xf\\xd9D\\x8c\\xcc\\xf4\\x18\\xed\\x84PkpM\\x99\\xa7[\\x0b\\x8d$@\\x02$\\xe0t\\x02\\x14\\xbcN\\x9f!\\xd6G\\x02$\\xa0K`^\\xc1\\t\\x81}\\xbc\\xb2\\xfejf_\\xaf\\xde\\xea\\x16\\xa1\\xcaE@\\\\\\x1d|\\xcf\\xa2+\\xd4\\xcf\\xf2\\xae\\x0f\\x13^\\x1d\\xac\\x1f+b\\xbda^\\x01\\x16\\x16ek\\xdc\\xc4V\\x85\\x15\\xa7\\x14\\xa9vq\\xee\\xee\\xc5\\'\\xe6a\\xeb\\x98\\xd9\\xf8\\xfb\\xc1\\x16\\xb4\\xf5\\xc8\\xb8kq1f\\x8d\\xceR\\xdb\\xf33=\\xb8\\xe3\\x94\"d\\xb8]p\\xbb\\x80;\\x16\\x15atV\\xe0\\x04\\x86kf\\x8c\\xc2\\xd7\\xc6\\x0eW\\x05\\xaf\\xe0\\xb4j\\xd9DL\\x1c\\x1e}]\\xb3\\xce\\x16`\\xb7\\x07\\xee\\x13\\x16jj\\xa2\\x81\\x04H\\x80\\x04R\\x81\\x80\\xa4(\\xe2\\xc7&\\x1f\\x12 \\x01\\x12H=\\x02+\\xd6=\\x8b-G\\xf7\\x84\\x0b\\x8f\\xfc0\\x93\\x02\\xafl\\x05\\r\\xb1\\xe27\\xb2\\x92\\xab\\xda\\xc3>q\\xf6`\\xd4\\x80O\\xa0-6\\x8ep\\x90 I.<\\xb7\\xec&\\xcc\\x1d5\\x19J{\\x03z\\x9e\\xb9@\\xc8\\xde\\xd8\\x95\\xd2P\\xc7\\xf8\\xbf\\xa3\\xf2\\xc7\\xbcc\\x16\\xef\\xa7M\\xac\\n^\\xcd\\xc0c\\xfa\\x05\\xbf\\xc4\\xc7\\xd2\\xcbi\\x16+\\xe8\\xef\\x9a:\\x0f\\xe9\\xb7<\\x17\\x95\\x94\\x1fI\\x80\\x04H u\\x08p\\x0fo\\xea\\xcc\\x15+%\\x01\\x12\\x88#p\\xc6\\xd8\\x81\\xf9\\x15{\\xb4>\\xbcn\\xfa\\xd9\\xaa\\xd8\\x15W\\x06{_\\xfd\\x97\\x80\\xd8\\x8d\\xae3\\xda\\xd9\\xca\\x0c\\xf6\\xb7\\xbf\\x95\\x1at|\\xdcs\\xcf\\xd2\\xb1\\xd2D\\x02$@\\x02\\xa9A\\x80\\x8275\\xe6\\x89U\\x92\\x00\\t\\xe8\\x10\\xf8\\xc6\\xb8\\xf9Hs\\xd9\\xd9\\x99eo\\x9fn@{jWwC\\xa5\\xcc\\xce\\x9f\\x84\\xebf\\x9c\\xa3~\\xf5\\xfd\\xed9(u\\x15:U\\x0e\\x84\\xc9D5\\x9b4\\xe9V*\\xfc\\xddip\\xcd=S\\xb7\\x99F\\x12 \\x01\\x12H\\x05\\x02\\x14\\xbc\\xa90K\\xac\\x91\\x04H@\\x97\\xc0\\xd0\\xf4,,)\\x9c\\xa9\\xdbfp\\x0cm\\xac\\xaf\\x8e\\xf8\\xd3\\x984\\x86@\\x88ai\\x99xh\\xf1Up\\x8b\\xab\\x83\\x0fo\\x83\\xff\\xb3\\xd7\\xf4\\xeb0\\xb3\\x1a\\xc46\\xec2@\\xfe\\xee\\x99\\xa7B\\xca\\xce1,\\x8b\\r$@\\x02$\\xe0t\\x02\\x14\\xbcN\\x9f!\\xd6G\\x02$`J\\xe0\\xfc\\x92\\xa5\\xa6\\xedF\\x8d\\xd1\\xda\\xd1\\xae\\x8e\\x141\\xefY\\xb4\\x1c\\x85\\xd9y\\xc1\\xab\\x83o1J\\x13\\xb1\\xdbM\\xd2\\xdf\\xfe\\x89+\\x0e{\\xb8\\xbfv\\xa9\\ro\\xba\\x92\\x00\\t\\x90\\x80\\xf3\\x08P\\xf0:oNX\\x11\\t\\x90\\x80\\r\\x02\\x0b\\xc7\\x9c\\x84\\x92\\xe1\\x81\\x93\\x0b\\x02\\xddb\\xb7-X\\x13\\xb6\\xf6\\xb6:\\\\<y)\\x96\\x8d\\x9d\\x1d\\xb8:\\xf8\\x8d;\\x00_\\xdc\\re\\x0e\\x12\\xab\\x86(-\\xd6(\\xae\\x12vM]`\\x18\\x86\\r$@\\x02$\\x90\\n\\x04(xSa\\x96X#\\t\\x90\\x80!\\x01\\t\\x12.?!v\\x7f\\xa9E-g\\x18\\xd3\\xac\\xa1d\\xf8\\x18\\xdc6\\xf7b\\xd5\\xc5\\xbf\\xe9M\\xc8\\x87\\xb6\\x98\\xb9\\xf7K\\x9b\\xed\\xb3u\\xec\\x02\\x89\\xf2\\xf7|\\xe3J\\xa8\\xb7R\\xf0!\\x01\\x12 \\x81\\x14&@\\xc1\\x9b\\xc2\\x93\\xc7\\xd2I\\x80\\x04\\x02\\x04\\xce\\x1c\\xb7\\x00\\xf9\\x99\\xb9\\xfd\\x8eC\\\\i\\xbcr\\xe9w\\x90!\\xae\\x0en\\xa8\\x80\\xef\\xfdU\\xa6\\x175\\xe8\\x16\\xd4\\x0b\\xf1\\xa9\\x1b/\\xde\\xd8\\x87\\xf1\\xa5\\xfcb\\xb8\\x17\\x9d\\x1f\\x9f\\x81\\xdfI\\x80\\x04H \\xe5\\x08P\\xf0\\xa6\\xdc\\x94\\xb1`\\x12 \\x81x\\x02\\x1e\\x97\\x1b\\xd7\\xcd\\xf8\\xc7xs\\x9f\\x7f\\xbfe\\xf6\\x85\\x98\\x9cSh|up|\\xc6>\\x14\\x9f\\xf1\\xa1\\xd5\\xefv\\xe3\\xeb\\x0616z\\xce\\xb9\\x0ep\\xb9\\x8d\\x1d\\xd8B\\x02$@\\x02)B\\x80\\x827E&\\x8ae\\x92\\x00\\t\\x98\\x138w\\xc2)\\x986b\\xbc\\x89\\x93\\xbd_\\xcb\\x07\\xb4d\\xe4H\\xb2\\xa5\\x85\\xd3q\\xe9\\xd4\\xd3\\xd4\\xf8\\xde?=\\x0ct4\\xc6\\xe6\\xeag\\xf1i2\\xb0\\xb8&\\x93BL\\x9a\\xe2\\xe3\\xbb\\x8a\\xa7\\xc1\\xbd\\xf0\\x9b\\xf1f~\\'\\x01\\x12 \\x81\\x94$@\\xc1\\x9b\\x92\\xd3\\xc6\\xa2I\\x80\\x04\\xe2\\tH\\x92\\x84\\x1f\\x9c|a\\xc0lE\\xd8\\xe9\\xf8hLA\\x83\\xb8:\\xf8\\x81\\xc5W\\xa9\\x17\\t\\xcbe\\xeb \\xef\\xfc >\\xbd\\xfd\\xef\\x9ad\\tB\\x1cc\\x7f\\xcf%\\xb7\\x03.\\xfe\\'\"\\xc1\\xac\\xb0\\x99\\x04H E\\x08\\xf0\\xa7Y\\x8aL\\x14\\xcb$\\x01\\x12HL`\\xde\\xe8\\x13p\\xe6\\xf8\\xc4\\'\\nDk\\xc7D:\\xd2%I\\xb8\\x7f\\xd1U\\xc8I\\xcf\\x86\\xd2\\xd1\\x08\\xef[\\xf7\\xd8\\xdfJ\\x90(I\\xfc\\xd0\\x06\\xd8\\xdf=\\xff\\\\\\xb8\\xa6\\xcc\\x8d\\xaf\\x8a\\xdfI\\x80\\x04H e\\tP\\xf0\\xa6\\xec\\xd4\\xb1p\\x12 \\x01=\\x02?\\x9c\\xf3O\\xc8\\x1b2\\\\m\\xb2&l\\xcd\\xb7:|g\\xfa9XP0U\\xbd:\\xd8\\xf7\\xda\\xcd\\xda\\xab\\x83\\xe3\\x8b\\xe8o\\xb1\\x1a\\x9f\\xaf\\x8f\\xbfK\\xc3\\xf2\\xe0\\xb9tE\\x1fGe8\\x12 \\x01\\x12\\x18X\\x02\\x14\\xbc\\x03\\xcb\\x9f\\xd9I\\x80\\x04\\xfa\\x98\\xc0\\xf0\\xf4l\\xdc1\\x7fy\\x9fD\\x9d\\x9e7\\x1e\\xd7N\\x0f^\\x1d\\xfc\\xd1s\\x90\\xeb\\xf6\\xc7\\xc6\\xb5+n\\xfb\\xa0\\xaa\\xfe>\\x92\\xccs\\xd9]\\xbcU\\xad\\x0f\\xe6\\x89!H\\x80\\x04\\x9cE\\x80\\x82\\xd7Y\\xf3\\xc1jH\\x80\\x04\\xfa\\x80\\xc0\\xa9E\\'\\xe3\\x1f\\x92\\xbc\\x81-\\x94~hZ&\\x1eYz-\\xc4\\t\\x10\\xca\\x91\\xed\\xf0\\x7f\\x9e\\xc4\\xd5\\xc1\\xf1c\\xb1+\\x90\\x8f\\xb1\\xbf\\xfb\\xb4K\\xe1\\x9euF|\\xd5\\xfcN\\x02$@\\x02)O\\x80\\x827\\xe5\\xa7\\x90\\x03 \\x01\\x12\\xd0#p\\xeb\\xdc\\xcbp\\x82\\xe9\\xa9\\rz\\xbd\"\\xb6\\xbb\\x17,\\xc7\\x98\\xec\\x11@O\\'z^\\xffa\\xea\\xef\\xdb5\\x1f.\\\\c\\xa7!\\xed\\xa2[\\x13x\\xb1\\x99\\x04H\\x80\\x04R\\x93\\x00\\x05oj\\xce\\x1b\\xab&\\x01\\x12H@ \\xdd\\xed\\xc1#K\\xbf\\x87\\xdc\\x8c\\xa1\\x80z\\xbe\\x82\\xf5\\xe7\\x82IK\\xf0\\x8dqs\\xd4]\\xc0\\xde?\\xdc\\r\\xf8\\xba\\xcc;\\xdb]\\x895\\x8f\\xd6\\x8bV\\x93BL\\x9a\\xa4a#\\x91v\\xfd\\x93\\x80\\'\\xbd\\x17\\xb9\\xd9\\x95\\x04H\\x80\\x04\\x9cK\\x80\\x82\\xd7\\xb9s\\xc3\\xcaH\\x80\\x04zI`t\\xd6\\x08<~\\xea\\x0f0$^\\xc8\\xe9\\x88\\xbf\\x90i\\xdc\\xd0Q\\xb8uN\\xf0\\xea\\xe0\\xd2\\xb7 \\x1f\\xd8\\xd0\\xcb*t\\xba\\xeb\\xe4\\xd7\\xf1\\x8a\\x98\\xfa\\xd3?-\\x03i\\xd7\\xff\\x1c\\xd2\\x88\\x02\\xd3\\x12\\xd8H\\x02$@\\x02\\xa9L\\x80\\x827\\x95g\\x8f\\xb5\\x93\\x00\\t$$0}\\xe4D<\\xb48\\xb0\\x17W8Gk\\xc7x\\x1d)\\xae\\x0e\\x16\\xfbv3=\\x19P\\x1a\\x0f\\xc1\\xb7\\xe6im\\xfc\\xf8NZ\\x8fX\\x8b\\xd3\\xfc\\xa3\\xabs\\xb9\\x90v\\xd5CpM\\x98\\x91h\\x14l\\'\\x01\\x12 \\x81\\x94&@\\xc1\\x9b\\xd2\\xd3\\xc7\\xe2I\\x80\\x04\\xac\\x10XR8\\x03?^p%\\xc4\\x99\\xba\\xb1O\\xec\\xf7\\x9bg}\\x0bSr\\x8b\\x01\\xbf\\x0f\\xde\\xd7nt\\xde\\xbe]+\\x83M\\xe4\\x13\\x12\\xe0\\x92\\x0biW>\\x08\\xf7\\xece\\x89z\\xb0\\x9d\\x04H\\x80\\x04R\\x9e\\x00\\x05o\\xcaO!\\x07@\\x02$`\\x85\\xc0\\xb9\\x13\\x16\\xe2\\xbeE\\xff\\xac\\x9e\\xba\\xa0\\xf7,V\\xaf\\x0e\\xfe\\x9a\\xda\\xe4{w%\\xd0\\xde\\xa0\\xe76\\xa0\\xb6>;\\x92L\\xac\\xec.\\xbf\\x17\\xe2\\x82\\t>$@\\x02$p<\\x10\\xa0\\xe0=\\x1ef\\x99c$\\x01\\x12P\\t\\x9c5~>\\x1e[z\\x03\\x86\\xb8c_\\xce\\x1a\\x95\\x99\\x83\\x07\\x16]\\r\\t\\x12\\xe4=\\x7f\\x87\\xbc\\xf3\\xfd\\xc4\\xc4\\x9c\\xb6U\\xc1j=\\x9et\\xa4_\\xfb\\x04\\xdc\\x0b\\xff!\\xf1\\x18\\xe9A\\x02$@\\x02\\x83\\x84\\x00\\x05\\xef \\x99H\\x0e\\x83\\x04H\\xc0\\x1a\\x81%\\x85\\xd3\\xb1\\xea\\xf4\\x9b0\"c\\x98\\xdaA\\xbd:\\xf8\\x94k\\x90\\x93!\\xae\\x0en\\x82\\xef\\x8f?Q\\xed1\\xfa\\xd1\\xaa\\x98\\x0c\\x95\\xe04\\xff`]Rv.\\xd2o\\xfcw\\xb8f\\x04V\\xb2\\xad\\x11\\xa3\\x17\\t\\x90\\x00\\t\\xa4>\\x01IQl\\xff\\x92,\\xf5G\\xcd\\x11\\x90\\x00\\x1boA,\\x00\\x00\\x03\\x1dIDAT\\t\\x1c\\xf7\\x04\\x8ev6\\xe1\\xdeO^\\xc2\\x82\\x82i\\xf8\\xfe\\xc9\\xff\\xa8^\\x1d\\xec}\\xe9j(\\xc1\\xdb\\xd4T\\xcd\\x1a\\x12\\xae\\xd1\\x026\\xdef\\xd6\\xd6\\xc71\\xc2?\\xadusF\\x19ujt\\x15OC\\xdauOB\\xca\\xe5i\\x0c\\xc7\\xfd?~\\x02 \\x81\\xe3\\x90\\x00\\x05\\xefq8\\xe9\\x1c2\\t\\x90@\\x80\\x80W\\xf6\\xc1%\\xb9\\xe0\\x96\\\\\\xf0\\xaf{\\x0e\\xfe\\xcf_\\r\\x8b\\xdc~\\x13\\xbc\\xbab5jFt\\xc4j\\xa8\\xd5\\x92\\xe0\\xd5\\x89\\xef^z)\\xd2\\xbeu+\\xcf\\xd9\\xe5?|\\x12 \\x81\\xe3\\x96\\x80\\xe7\\xb8\\x1d9\\x07N\\x02$p\\xdc\\x13Hs\\x05\\x7f\\x04v\\xb5B\\xde\\xfe\\xa7\\xc4<\\xa2\\xc5db\\xef\\x01?\\xe5A\\x1a\\x96\\x07\\xcf\\xa5w\\xc1=\\x93\\xd7\\x05[\\x99.\\xfa\\x90\\x00\\t\\x0c^\\x02\\\\\\xe1\\x1d\\xbcs\\xcb\\x91\\x91\\x00\\t\\xd8 \\xa0t4\\xc2\\xbf\\xf6\\x19\\xc8;\\xd7\\xa8\\xbdb6{\\xc5\\xaf\\xba\\xaa\\x0e\\xc1\\xe0\\xf1\\x7f\\xeb\\xb5\\xe9\\xd9tVbu\\x0f\\t\\x8e\\xf2\\xd3\\xac\\xf0\\xc6\\xc4\\x08~\\t\\xfe\\xe5\\x9ew.<\\x17\\xae\\x80\\x94\\x95c\\x83\\x02]I\\x80\\x04H`p\\x12\\xa0\\xe0\\x1d\\x9c\\xf3\\xcaQ\\x91\\x00\\t$I@\\xae(\\x85\\x7f\\xcd\\xd3\\x90\\x8f\\xee\\x8bD\\x88\\x17\\xb5I\\x88\\xd5\\xde\\n\\xe4\\xc4\\x02<P\\x94\\xabp\\x1a<\\xdf\\xba\\r\\xae\\xc9\\xf3\\x92$\\xc0n$@\\x02$0\\xf8\\x08P\\xf0\\x0e\\xbe9\\xe5\\x88H\\x80\\x04zK@\\x91\\xe1\\xdf\\xf1\\x17\\xf8?\\xfeo(\\xcdU\\xc7~5WGP\\x9b\\n^\\x05\\x90\\xf2\\x8a\\xe09\\xebZ\\xb8\\xe7\\x9f\\x0fH<\\x80\\xa7\\xb7\\xff\\x04\\xd8\\x9f\\x04H`p\\x11\\xa0\\xe0\\x1d\\\\\\xf3\\xc9\\xd1\\x90\\x00\\t\\xf4%\\x01\\xbf/ |7\\xfc\\x16J\\xdd>\\xad\\xf0\\x15\\xb9z\\xbb\\xfa\\xab#n\\xf5\\xb66h\\xb63\\x04sK\\x05%\\xf0|\\xedJ\\xb8\\xe7\\x9d\\x07\\xb8\\xf9ZF_N?c\\x91\\x00\\t\\x0c\\x1e\\x02\\x14\\xbc\\x83g.9\\x12\\x12 \\x81~#\\xa0@\\xde\\xb7\\x01\\xfe-\\xef@\\xde\\xf31\\xe0\\xf3\\x062Y\\x14\\xabz\\x02V#\\x94E\\xc4x\\xf1\\x1ce\\x8b\\x11\\xbc\\xee4\\xb8O:\\x15\\xee\\xc5\\x97\\xc25e>\\x80\\xf8+\\x93\\xfb\\r\\x04\\x03\\x93\\x00\\t\\x90@J\\x12\\xa0\\xe0M\\xc9ic\\xd1$@\\x02\\x03E@\\\\N!\\xefZ\\x0b\\xf9\\xabu\\x90\\x0fl\\x06d_\\xa0\\x14\\x13\\xb1j&d\\xad\\x8aa\\xc5\\xe5\\x81k\\xc2l\\xb8O\\xfe\\x06\\\\\\xb3\\xce\\x82\\x945|\\xa0\\x100/\\t\\x90\\x00\\t\\xa4\\x1c\\x01\\n\\xde\\x94\\x9b2\\x16L\\x02$\\xe0\\x18\\x02]m\\x90\\x0fl\\x84|p3\\xe4\\x03\\x9b\\xa0\\x1c=\\x00\\xc8r\\xa0<\\xbb\\xab\\xbf\\xf1\\xfe.\\x17\\xa4\\xd1\\x93\\xe1\\x9a8\\x1b\\xae\\x92ypM]\\x04dd;f\\xe8,\\x84\\x04H\\x80\\x04R\\x89\\x00\\x05o*\\xcd\\x16k%\\x01\\x12p6\\x01o\\x17\\xe4\\x9ar(\\xb5\\xe5P\\x1a\\x8e@i\\xaa\\x02\\x9ak\\xa0t\\xb6\\x00\\x9d-P\\xfc~\\xa0\\xab\\r\\x90\\x15 #\\x0b\\x92\\'\\x03H\\xcf\\x864l$0|4\\xa4\\x9c\\x02H\\xf9\\x13\\xe0*\\x98\\x04it\\t\\x90\\x9e\\xe9\\xec\\xf1\\xb2:\\x12 \\x01\\x12H\\x11\\x02\\x14\\xbc)2Q,\\x93\\x04H\\x80\\x04H\\x80\\x04H\\x80\\x04H 9\\x02<\\xbb&9n\\xecE\\x02$@\\x02$@\\x02$@\\x02$\\x90\"\\x04\\xfe\\x1f P\\x05\\x1e\\xa0$\\xbbH\\x00\\x00\\x00\\x00IEND\\xaeB`\\x82'"
      ]
     },
     "execution_count": 103,
     "metadata": {},
     "output_type": "execute_result"
    }
   ],
   "source": [
    "response.content"
   ]
  },
  {
   "cell_type": "code",
   "execution_count": 104,
   "id": "d43700bf",
   "metadata": {},
   "outputs": [
    {
     "data": {
      "text/plain": [
       "bytes"
      ]
     },
     "execution_count": 104,
     "metadata": {},
     "output_type": "execute_result"
    }
   ],
   "source": [
    "type(response.content)"
   ]
  },
  {
   "cell_type": "code",
   "execution_count": 105,
   "id": "d236c294",
   "metadata": {},
   "outputs": [],
   "source": [
    "from PIL import Image\n",
    "from io import BytesIO"
   ]
  },
  {
   "cell_type": "code",
   "execution_count": 109,
   "id": "d1ec648f",
   "metadata": {},
   "outputs": [],
   "source": [
    "image = Image.open(BytesIO(response.content))\n",
    "image.show()"
   ]
  },
  {
   "cell_type": "markdown",
   "id": "0fbf25b7",
   "metadata": {},
   "source": [
    "## Radar Chart"
   ]
  },
  {
   "cell_type": "code",
   "execution_count": 5,
   "id": "0e7ba3cd",
   "metadata": {},
   "outputs": [],
   "source": [
    "import requests\n",
    "resim_URL = \"https://image-charts.com/chart\"\n",
    "payload = {\n",
    "    \"chco\":\"3092de\",\n",
    "    \"chd\":\"t:81,65,50,67,59,81\",\n",
    "    \"chl\":\"hiz|sut|pas|top_surus|defans|fizik\",\n",
    "    \"chdl\":\"Falcao\",\n",
    "    \"chdlp\":\"b\",\n",
    "    \"chs\":\"480x480\",\n",
    "    \"cht\":\"r\",\n",
    "    \"chtt\":\"Futbolcu Özellikleri\"\n",
    "}\n",
    "response = requests.post(resim_URL,data=payload)\n",
    "from PIL import Image\n",
    "from io import BytesIO\n",
    "gorsel = Image.open(BytesIO(response.content))\n",
    "gorsel.show()"
   ]
  },
  {
   "cell_type": "code",
   "execution_count": 44,
   "id": "4ee2714e",
   "metadata": {},
   "outputs": [],
   "source": [
    "class Futbol():\n",
    "    import requests\n",
    "    from PIL import Image\n",
    "    from io import BytesIO\n",
    "    def __init__(self,isim,hiz,sut,pas,top_surus,defans,fizik):\n",
    "        self.isim = isim\n",
    "        self.hiz = hiz\n",
    "        self.sut = sut\n",
    "        self.pas = pas\n",
    "        self.top_surus = top_surus\n",
    "        self.defans = defans\n",
    "        self.fizik = fizik\n",
    "    def Yetenek_hazirla(self):\n",
    "        return \",\".join([\n",
    "            str(self.hiz),\n",
    "            str(self.sut),\n",
    "            str(self.pas),\n",
    "            str(self.top_surus),\n",
    "            str(self.defans),\n",
    "            str(self.fizik),\n",
    "            str(self.hiz)\n",
    "        ])\n",
    "    def Futbol_Gorsellestirme(self):\n",
    "        resim_URL = \"https://image-charts.com/chart\"\n",
    "        payload = {\n",
    "            \"chco\":\"3092de\",\n",
    "            \"chd\": \"t:\"+ self.Yetenek_hazirla(),\n",
    "            \"chl\":\"hiz|sut|pas|top_surus|defans|fizik\",\n",
    "            \"chdl\":self.isim,\n",
    "            \"chdlp\":\"b\",\n",
    "            \"chs\":\"480x480\",\n",
    "            \"cht\":\"r\",\n",
    "            \"chtt\":\"Futbolcu Özellikleri\",\n",
    "            \"chxl\":\"0:|0|20|40|60|80|100\",\n",
    "            \"chxt\":\"x\",\n",
    "            \"chxr\":\"0,0.0,100.0\",\n",
    "            \"chm\":\"B,AAAAAABB,0,0,0\"\n",
    "        }\n",
    "        response = requests.post(resim_URL,data=payload)\n",
    "        gorsel = Image.open(BytesIO(response.content))\n",
    "        gorsel.show()\n",
    "    def Futbolcu_Karsilastirma(self,hedef_futbolcu):\n",
    "        resim_URL = \"https://image-charts.com/chart\"\n",
    "        payload = {\n",
    "            \"chco\":\"3092de,027182\",\n",
    "            \"chd\": \"t:\"+ self.Yetenek_hazirla() + \"|\" + hedef_futbolcu.Yetenek_hazirla(),\n",
    "            \"chl\":\"hiz|sut|pas|top_surus|defans|fizik\",\n",
    "            \"chdl\":self.isim + \"|\" + hedef_futbolcu.isim, \n",
    "            \"chdlp\":\"b\",\n",
    "            \"chs\":\"480x480\",\n",
    "            \"cht\":\"r\",\n",
    "            \"chtt\":\"Futbolcu Özellikleri\",\n",
    "            \"chxl\":\"0:|0|20|40|60|80|100\",\n",
    "            \"chxt\":\"x\",\n",
    "            \"chxr\":\"0,0.0,100.0\",\n",
    "            \"chm\":\"B,AAAAAABB,0,0,0|B,0073CFBB,1,0,0\"\n",
    "        }\n",
    "        response = requests.post(resim_URL,data=payload)\n",
    "        gorsel = Image.open(BytesIO(response.content))\n",
    "        gorsel.show()"
   ]
  },
  {
   "cell_type": "code",
   "execution_count": 45,
   "id": "4519a140",
   "metadata": {},
   "outputs": [],
   "source": [
    "messi = Futbol(\"Messi\",85,92,91,95,38,65)\n",
    "ronaldo = Futbol(\"Ronaldo\",89,93,81,89,35,77)\n",
    "ronaldo.Futbolcu_Karsilastirma(messi)"
   ]
  }
 ],
 "metadata": {
  "kernelspec": {
   "display_name": "Python 3 (ipykernel)",
   "language": "python",
   "name": "python3"
  },
  "language_info": {
   "codemirror_mode": {
    "name": "ipython",
    "version": 3
   },
   "file_extension": ".py",
   "mimetype": "text/x-python",
   "name": "python",
   "nbconvert_exporter": "python",
   "pygments_lexer": "ipython3",
   "version": "3.11.3"
  }
 },
 "nbformat": 4,
 "nbformat_minor": 5
}
