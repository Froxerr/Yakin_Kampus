{
 "cells": [
  {
   "cell_type": "code",
   "execution_count": null,
   "id": "52488473",
   "metadata": {},
   "outputs": [],
   "source": [
    "import requests"
   ]
  },
  {
   "cell_type": "code",
   "execution_count": null,
   "id": "fd3297ae",
   "metadata": {},
   "outputs": [],
   "source": [
    "forces = \"https://data.police.uk/api/forces\"\n",
    "response = requests.get(forces)\n",
    "response.status_code"
   ]
  },
  {
   "cell_type": "code",
   "execution_count": null,
   "id": "e5dd1a9c",
   "metadata": {},
   "outputs": [],
   "source": [
    "response.text"
   ]
  },
  {
   "cell_type": "code",
   "execution_count": null,
   "id": "79813f33",
   "metadata": {},
   "outputs": [],
   "source": [
    "response.json()"
   ]
  },
  {
   "cell_type": "code",
   "execution_count": null,
   "id": "5ce93f5d",
   "metadata": {},
   "outputs": [],
   "source": [
    "#https://data.police.uk/api/crime-categories?date=2011-08\n",
    "suc_kategori_url = \"https://data.police.uk/api/crime-categories\"\n",
    "payload = {\"date\":\"2023-02\"}\n",
    "response = requests.get(suc_kategori_url,params=payload)\n",
    "response.status_code"
   ]
  },
  {
   "cell_type": "code",
   "execution_count": null,
   "id": "1c06235e",
   "metadata": {},
   "outputs": [],
   "source": [
    "response.text"
   ]
  },
  {
   "cell_type": "code",
   "execution_count": null,
   "id": "c555cce2",
   "metadata": {},
   "outputs": [],
   "source": [
    "response.json()"
   ]
  },
  {
   "cell_type": "code",
   "execution_count": null,
   "id": "4ad64a24",
   "metadata": {},
   "outputs": [],
   "source": [
    "#https://data.police.uk/api/crimes-no-location?category=all-crime&force=leicestershire&date=2017-03\n",
    "lokasyon_olmadan_suclar = \"https://data.police.uk/api/crimes-no-location\"\n",
    "payload = {\n",
    "    \"category\":\"all-crime\",\n",
    "    \"force\":\"city-of-london\",\n",
    "    \"date\":\"2023-05\"\n",
    "}\n",
    "response = requests.get(lokasyon_olmadan_suclar,params=payload)"
   ]
  },
  {
   "cell_type": "code",
   "execution_count": null,
   "id": "72a797a8",
   "metadata": {},
   "outputs": [],
   "source": [
    "response.status_code"
   ]
  },
  {
   "cell_type": "code",
   "execution_count": null,
   "id": "de071966",
   "metadata": {},
   "outputs": [],
   "source": [
    "response.json()"
   ]
  },
  {
   "cell_type": "code",
   "execution_count": null,
   "id": "9e9e914b",
   "metadata": {},
   "outputs": [],
   "source": [
    "from collections import Counter\n",
    "class Suc_Sıralama():\n",
    "    def __init__(self,yer,zaman,kategori=\"all-crime\"):\n",
    "        self.yer = yer\n",
    "        self.zaman = zaman\n",
    "        self.kategori = kategori\n",
    "        self.suc = self.suc_sirala()\n",
    "    def suc_sirala(self):\n",
    "        lokasyon_olmadan_suclar = \"https://data.police.uk/api/crimes-no-location\"\n",
    "        payload = {\n",
    "            \"force\":self.yer,\n",
    "            \"date\":self.zaman,\n",
    "            \"category\":self.kategori\n",
    "        }\n",
    "        response = requests.get(lokasyon_olmadan_suclar,params=payload)\n",
    "        if response.status_code == 200:\n",
    "            return (response.json())\n",
    "        else:\n",
    "            print(\"A\")\n",
    "    def suc_kategorisi(self):\n",
    "        suclar = []\n",
    "        if self.suc is not None:\n",
    "            for sucum in self.suc:\n",
    "                suclar.append(sucum[\"category\"])\n",
    "        return Counter(suclar)"
   ]
  },
  {
   "cell_type": "code",
   "execution_count": null,
   "id": "d14859df",
   "metadata": {},
   "outputs": [],
   "source": [
    "sc = Suc_Sıralama(\"norfolk\",\"2023-02\")"
   ]
  },
  {
   "cell_type": "code",
   "execution_count": null,
   "id": "c6729c8e",
   "metadata": {
    "scrolled": true
   },
   "outputs": [],
   "source": [
    "sc.suc_kategorisi()"
   ]
  },
  {
   "cell_type": "markdown",
   "id": "aec717a0",
   "metadata": {},
   "source": [
    "# POST Talebi"
   ]
  },
  {
   "cell_type": "code",
   "execution_count": null,
   "id": "23e12a92",
   "metadata": {},
   "outputs": [],
   "source": [
    "#https://www.image-charts.com\n",
    "#https://image-charts.com/chart ?cht=p3 &chs=700x100 &chd=t:60,40 &chl=Hello|World &chan &chf=ps0-0,lg,45,ffeb3b,0.2,f44336,1|ps0-1,lg,45,8bc34a,0.2,009688,1"
   ]
  },
  {
   "cell_type": "code",
   "execution_count": null,
   "id": "4c86bf09",
   "metadata": {},
   "outputs": [],
   "source": [
    "resim_URL = \"https://image-charts.com/chart\"\n",
    "payload = {\n",
    "    \"cht\":\"p3\",\n",
    "    \"chs\":\"700x100\",\n",
    "    \"chd\":\"t:60,40\",\n",
    "    \"chl\":\"Hello|World\",\n",
    "    \"chan\": None,\n",
    "    \"chf\":\"ps0-0,lg,45,ffeb3b,0.2,f44336,1|ps0-1,lg,45,8bc34a,0.2,009688,1\"\n",
    "}\n",
    "response = requests.post(resim_URL,data=payload)\n",
    "response.status_code"
   ]
  },
  {
   "cell_type": "code",
   "execution_count": null,
   "id": "5a433eb6",
   "metadata": {},
   "outputs": [],
   "source": [
    "response.content"
   ]
  },
  {
   "cell_type": "code",
   "execution_count": null,
   "id": "d43700bf",
   "metadata": {},
   "outputs": [],
   "source": [
    "type(response.content)"
   ]
  },
  {
   "cell_type": "code",
   "execution_count": null,
   "id": "d236c294",
   "metadata": {},
   "outputs": [],
   "source": [
    "from PIL import Image\n",
    "from io import BytesIO"
   ]
  },
  {
   "cell_type": "code",
   "execution_count": null,
   "id": "d1ec648f",
   "metadata": {},
   "outputs": [],
   "source": [
    "image = Image.open(BytesIO(response.content))\n",
    "image.show()"
   ]
  },
  {
   "cell_type": "markdown",
   "id": "0fbf25b7",
   "metadata": {},
   "source": [
    "## Radar Chart"
   ]
  },
  {
   "cell_type": "code",
   "execution_count": null,
   "id": "0e7ba3cd",
   "metadata": {},
   "outputs": [],
   "source": [
    "import requests\n",
    "resim_URL = \"https://image-charts.com/chart\"\n",
    "payload = {\n",
    "    \"chco\":\"3092de\",\n",
    "    \"chd\":\"t:81,65,50,67,59,81\",\n",
    "    \"chl\":\"hiz|sut|pas|top_surus|defans|fizik\",\n",
    "    \"chdl\":\"Falcao\",\n",
    "    \"chdlp\":\"b\",\n",
    "    \"chs\":\"480x480\",\n",
    "    \"cht\":\"r\",\n",
    "    \"chtt\":\"Futbolcu Özellikleri\"\n",
    "}\n",
    "response = requests.post(resim_URL,data=payload)\n",
    "from PIL import Image\n",
    "from io import BytesIO\n",
    "gorsel = Image.open(BytesIO(response.content))\n",
    "gorsel.show()"
   ]
  },
  {
   "cell_type": "code",
   "execution_count": null,
   "id": "4ee2714e",
   "metadata": {},
   "outputs": [],
   "source": [
    "class Futbol():\n",
    "    import requests\n",
    "    from PIL import Image\n",
    "    from io import BytesIO\n",
    "    def __init__(self,isim,hiz,sut,pas,top_surus,defans,fizik):\n",
    "        self.isim = isim\n",
    "        self.hiz = hiz\n",
    "        self.sut = sut\n",
    "        self.pas = pas\n",
    "        self.top_surus = top_surus\n",
    "        self.defans = defans\n",
    "        self.fizik = fizik\n",
    "    def Yetenek_hazirla(self):\n",
    "        return \",\".join([\n",
    "            str(self.hiz),\n",
    "            str(self.sut),\n",
    "            str(self.pas),\n",
    "            str(self.top_surus),\n",
    "            str(self.defans),\n",
    "            str(self.fizik),\n",
    "            str(self.hiz)\n",
    "        ])\n",
    "    def Futbol_Gorsellestirme(self):\n",
    "        resim_URL = \"https://image-charts.com/chart\"\n",
    "        payload = {\n",
    "            \"chco\":\"3092de\",\n",
    "            \"chd\": \"t:\"+ self.Yetenek_hazirla(),\n",
    "            \"chl\":\"hiz|sut|pas|top_surus|defans|fizik\",\n",
    "            \"chdl\":self.isim,\n",
    "            \"chdlp\":\"b\",\n",
    "            \"chs\":\"480x480\",\n",
    "            \"cht\":\"r\",\n",
    "            \"chtt\":\"Futbolcu Özellikleri\",\n",
    "            \"chxl\":\"0:|0|20|40|60|80|100\",\n",
    "            \"chxt\":\"x\",\n",
    "            \"chxr\":\"0,0.0,100.0\",\n",
    "            \"chm\":\"B,AAAAAABB,0,0,0\"\n",
    "        }\n",
    "        response = requests.post(resim_URL,data=payload)\n",
    "        gorsel = Image.open(BytesIO(response.content))\n",
    "        gorsel.show()\n",
    "    def Futbolcu_Karsilastirma(self,hedef_futbolcu):\n",
    "        resim_URL = \"https://image-charts.com/chart\"\n",
    "        payload = {\n",
    "            \"chco\":\"3092de,027182\",\n",
    "            \"chd\": \"t:\"+ self.Yetenek_hazirla() + \"|\" + hedef_futbolcu.Yetenek_hazirla(),\n",
    "            \"chl\":\"hiz|sut|pas|top_surus|defans|fizik\",\n",
    "            \"chdl\":self.isim + \"|\" + hedef_futbolcu.isim, \n",
    "            \"chdlp\":\"b\",\n",
    "            \"chs\":\"480x480\",\n",
    "            \"cht\":\"r\",\n",
    "            \"chtt\":\"Futbolcu Özellikleri\",\n",
    "            \"chxl\":\"0:|0|20|40|60|80|100\",\n",
    "            \"chxt\":\"x\",\n",
    "            \"chxr\":\"0,0.0,100.0\",\n",
    "            \"chm\":\"B,AAAAAABB,0,0,0|B,0073CFBB,1,0,0\"\n",
    "        }\n",
    "        response = requests.post(resim_URL,data=payload)\n",
    "        gorsel = Image.open(BytesIO(response.content))\n",
    "        gorsel.show()"
   ]
  },
  {
   "cell_type": "code",
   "execution_count": null,
   "id": "4519a140",
   "metadata": {},
   "outputs": [],
   "source": [
    "messi = Futbol(\"Messi\",85,92,91,95,38,65)\n",
    "ronaldo = Futbol(\"Ronaldo\",89,93,81,89,35,77)\n",
    "ronaldo.Futbolcu_Karsilastirma(messi)"
   ]
  }
 ],
 "metadata": {
  "kernelspec": {
   "display_name": "Python 3 (ipykernel)",
   "language": "python",
   "name": "python3"
  },
  "language_info": {
   "codemirror_mode": {
    "name": "ipython",
    "version": 3
   },
   "file_extension": ".py",
   "mimetype": "text/x-python",
   "name": "python",
   "nbconvert_exporter": "python",
   "pygments_lexer": "ipython3",
   "version": "3.11.4"
  }
 },
 "nbformat": 4,
 "nbformat_minor": 5
}
