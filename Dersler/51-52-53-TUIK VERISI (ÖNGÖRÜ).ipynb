{
 "cells": [
  {
   "cell_type": "markdown",
   "id": "418f3fec",
   "metadata": {},
   "source": [
    "# Data Import"
   ]
  },
  {
   "cell_type": "code",
   "execution_count": null,
   "id": "49b6127f",
   "metadata": {},
   "outputs": [],
   "source": [
    "from IPython.display import IFrame\n",
    "IFrame(\"https://data.tuik.gov.tr\",width=900,height=450)"
   ]
  },
  {
   "cell_type": "code",
   "execution_count": null,
   "id": "b5c7b430",
   "metadata": {},
   "outputs": [],
   "source": [
    "import pandas as pd\n",
    "df = pd.read_csv(\"pivot_enerji.csv\",\n",
    "                sep=\"|\", #Bölünme işareti\n",
    "                header=None, # Başlık yok\n",
    "                skiprows=4) # ilk 4 satırı atla\n",
    "df"
   ]
  },
  {
   "cell_type": "markdown",
   "id": "7e108efc",
   "metadata": {},
   "source": [
    "# Data Cleaning and Preparation"
   ]
  },
  {
   "cell_type": "code",
   "execution_count": null,
   "id": "5c943620",
   "metadata": {
    "scrolled": true
   },
   "outputs": [],
   "source": [
    "pip install ydata-profiling \n",
    "# EN GÜNCEL DATA GÖSTERİMİ \n",
    "# Ben bunu kullanıp devam ettim diğer modül hata veriyodu bu da işimi gördü"
   ]
  },
  {
   "cell_type": "code",
   "execution_count": null,
   "id": "8556d0da",
   "metadata": {
    "scrolled": true
   },
   "outputs": [],
   "source": [
    "import numpy as np\n",
    "import pandas as pd\n",
    "import re\n",
    "from ydata_profiling import ProfileReport"
   ]
  },
  {
   "cell_type": "code",
   "execution_count": null,
   "id": "b76067ac",
   "metadata": {
    "scrolled": true
   },
   "outputs": [],
   "source": [
    "# Column Tekrar isimlendirme\n",
    "cols = [\"Year\",\"Month\",\"Product\",\"Price\",\"Extra\"]\n",
    "df.columns = cols\n",
    "\n",
    "# İşe yaramayan kolonu silme\n",
    "df.drop(axis=1, columns=[\"Extra\"], inplace=True)\n",
    "\n",
    "# Na yazanları üstünde yazanlarla doldurma\n",
    "df = df.fillna(method=\"ffill\")\n",
    "\n",
    "# Datanın içindeki sayıları silip kelimeleri bırakma\n",
    "pattern = r'.* \\((.*)\\)+'\n",
    "df[\"Product\"] = df[\"Product\"].apply(lambda x: re.search(pattern,x).group(1))\n",
    "df[\"Product\"] = df[\"Product\"].apply(lambda x: x.replace(')',''))\n",
    "\n",
    "df[\"Year\"] = df[\"Year\"].astype(int)\n",
    "df[\"Month\"] = df[\"Month\"].apply(lambda x: int (str(x)[:2]))\n",
    "\n",
    "ProfileReport(df)"
   ]
  },
  {
   "cell_type": "markdown",
   "id": "c2244546",
   "metadata": {},
   "source": [
    "# Data Transpose & Correlation"
   ]
  },
  {
   "cell_type": "code",
   "execution_count": null,
   "id": "0b582ac4",
   "metadata": {
    "scrolled": true
   },
   "outputs": [],
   "source": [
    "df_pivot = df.pivot_table(\"Price\",[\"Year\",\"Month\"],\"Product\") # LİSTEYİ DAHA OKUNAKLI HALE GETİRİYOR\n",
    "df_pivot"
   ]
  },
  {
   "cell_type": "code",
   "execution_count": null,
   "id": "8dcd2ef6",
   "metadata": {
    "scrolled": true
   },
   "outputs": [],
   "source": [
    "corr = df_pivot.corr() # ŞU ŞU KADAR ARTIYORSA BU BU KADAR ARTIYOR DİYE GÖSTERİYOR\n",
    "print(corr.unstack())\n",
    "corr"
   ]
  },
  {
   "cell_type": "code",
   "execution_count": null,
   "id": "31014efb",
   "metadata": {
    "scrolled": true
   },
   "outputs": [],
   "source": [
    "%matplotlib inline \n",
    "# BÜYÜLÜ DEYNEK GİBİ\n",
    "import seaborn as sns # KENDİSİ İLE İLGİLİ İLİŞKİLİ OLANLARI LİSTELİYOR VE DAHA GÜZEL GÖSTERİME SAHİP\n",
    "import matplotlib.pyplot as plt\n",
    "sns.set(rc={\"figure.figsize\":(11.7,8.27)})\n",
    "\n",
    "corr = df_pivot.corr()\n",
    "ax = sns.heatmap(\n",
    "    corr,\n",
    "    cmap='Blues', #maviye ata\n",
    "    vmax=1,#Sağ taraftaki max değer\n",
    "    vmin=0,#Sağ taraftaki minimum değer\n",
    "    center=0.5,#Merkezi\n",
    "    annot=True #kutucukların üstüne değerleri yaz\n",
    ")\n",
    "ax.set_xticklabels(corr.index, horizontalalignment='right', rotation=45)\n",
    "\n",
    "stack = corr.unstack()\n",
    "stack.sort_values(kind=\"quicksort\",ascending=False)"
   ]
  },
  {
   "cell_type": "markdown",
   "id": "7cf8226d",
   "metadata": {},
   "source": [
    "# Time Series"
   ]
  },
  {
   "cell_type": "code",
   "execution_count": null,
   "id": "5811d1bd",
   "metadata": {
    "scrolled": true
   },
   "outputs": [],
   "source": [
    "df = df.loc[df[\"Product\"] == \"Elektrik Ücreti\"] # Elektrik ücretindeki dalgalanmarı göster\n",
    "df"
   ]
  },
  {
   "cell_type": "code",
   "execution_count": null,
   "id": "d43a8d35",
   "metadata": {},
   "outputs": [],
   "source": [
    "#axis=0 SATIR BAZINDA | axis=1 SÜTÜN BAZINDA\n",
    "import datetime\n",
    "\n",
    "def date_mapping(row):\n",
    "    return datetime.date(row[\"Year\"], row[\"Month\"],1)\n",
    "df[\"Date\"] = df.apply(lambda x: date_mapping(x), axis=1)\n",
    "df_sub = df[[\"Date\",\"Price\"]].reset_index(drop=True)\n",
    "df_sub.head()"
   ]
  },
  {
   "cell_type": "code",
   "execution_count": null,
   "id": "91cf2074",
   "metadata": {
    "scrolled": true
   },
   "outputs": [],
   "source": [
    "import matplotlib.pyplot as plt\n",
    "plt.style.use(\"fivethirtyeight\")\n",
    "pd.plotting.register_matplotlib_converters()\n",
    "fig = plt.figure(figsize=(10,6))\n",
    "df_sub2 = df[df[\"Year\"] >= 2018].reset_index(drop=True)\n",
    "df_sub2[\"Date\"] = df_sub2.apply(lambda x: date_mapping(x), axis=1)\n",
    "plt.plot(df_sub2.Date, df_sub2.Price)\n",
    "\n",
    "plt.legend([\"Price\"])"
   ]
  },
  {
   "cell_type": "code",
   "execution_count": null,
   "id": "f464afd2",
   "metadata": {
    "scrolled": true
   },
   "outputs": [],
   "source": [
    "import matplotlib.pyplot as plt\n",
    "plt.style.use(\"fivethirtyeight\")\n",
    "pd.plotting.register_matplotlib_converters()\n",
    "\n",
    "fig = plt.figure(figsize=(10,6))\n",
    "plt.plot(df_sub.set_index(\"Date\"))\n",
    "plt.legend([\"Price\"])"
   ]
  },
  {
   "cell_type": "markdown",
   "id": "2d611060",
   "metadata": {},
   "source": [
    "# Prophet Predictions"
   ]
  },
  {
   "cell_type": "code",
   "execution_count": null,
   "id": "55d97a53",
   "metadata": {},
   "outputs": [],
   "source": [
    "#conda install libpython m2w64-toolchain -c msys2\n",
    "#pip install prophet\n",
    "#pip install tables\n",
    "#pip install Cython"
   ]
  },
  {
   "cell_type": "code",
   "execution_count": null,
   "id": "60082f20",
   "metadata": {
    "scrolled": true
   },
   "outputs": [],
   "source": [
    "from prophet import Prophet\n",
    "dir(Prophet)\n",
    "# Diğer prophetlarından ayrılma sebebi tatil ve sezon dönemlerini diğerlerine göre daha gerçekci yapıyor"
   ]
  },
  {
   "cell_type": "code",
   "execution_count": null,
   "id": "dc085056",
   "metadata": {},
   "outputs": [],
   "source": [
    "from prophet import Prophet\n",
    "df_sub.columns = [\"ds\",\"y\"]\n",
    "#ds = Data ve tarihin tutulduğu kolon, \n",
    "#y = target value denilen hedef konum\n",
    "\n",
    "m = Prophet(\n",
    "    #holidays = pd.DataFrame(columns =[\"ds\",\"holiday\"]), Eğer elinde tatil günleri varsa böyle bir şekilde koyabiliyorsun\n",
    "    seasonality_mode = \"multiplicative\", # günlük mü yoksa aylık mı olucak\n",
    "    interval_width=0.95, # Eminlik aralığı, %95 eminlikle söylüyorum ki böyle böyle olucak gibi\n",
    "    mcmc_samples = 300) # ne kadar bir örnek alayım sorusunun cevabı\n",
    "try:\n",
    "    m.add_country_holidays(country_name=\"TR\") # TR no supported\n",
    "except:\n",
    "    None\n",
    "m = m.fit(df_sub) # Model.fit diyip kendi dataframeni veriyorsun\n",
    "future = m.make_future_dataframe(periods=120,freq=\"M\") # freq = Sıklığın aylık bazda olduğunu söylüyor\n",
    "                                                       # periods = 120, kaç ayı kullanacağını söylüyorsun burada 10 sene oluyo\n",
    "fcst = m.predict(future)\n",
    "fcst"
   ]
  },
  {
   "cell_type": "code",
   "execution_count": null,
   "id": "0aee9e6d",
   "metadata": {},
   "outputs": [],
   "source": [
    "plt1 = m.plot(fcst) # Sayısal ifadenin görsel karşılığı, Plot ederek yani çizerek görüyoruz"
   ]
  },
  {
   "cell_type": "code",
   "execution_count": null,
   "id": "e3948306",
   "metadata": {},
   "outputs": [],
   "source": [
    "comps = m.plot_components(fcst)"
   ]
  },
  {
   "cell_type": "code",
   "execution_count": null,
   "id": "4a893657",
   "metadata": {},
   "outputs": [],
   "source": [
    "preds = fcst\n",
    "preds[\"Year\"] = preds[\"ds\"].apply(lambda x: x.year)\n",
    "preds[\"Month\"] = preds[\"ds\"].apply(lambda x: x.month)\n",
    "\n",
    "preds.loc[(preds[\"Year\"] == 2024)].T"
   ]
  }
 ],
 "metadata": {
  "kernelspec": {
   "display_name": "Python 3 (ipykernel)",
   "language": "python",
   "name": "python3"
  },
  "language_info": {
   "codemirror_mode": {
    "name": "ipython",
    "version": 3
   },
   "file_extension": ".py",
   "mimetype": "text/x-python",
   "name": "python",
   "nbconvert_exporter": "python",
   "pygments_lexer": "ipython3",
   "version": "3.11.4"
  }
 },
 "nbformat": 4,
 "nbformat_minor": 5
}
