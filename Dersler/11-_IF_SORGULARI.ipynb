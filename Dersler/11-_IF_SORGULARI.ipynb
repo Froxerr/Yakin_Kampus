{
 "cells": [
  {
   "cell_type": "code",
   "execution_count": 2,
   "id": "e741a46d",
   "metadata": {},
   "outputs": [
    {
     "name": "stdout",
     "output_type": "stream",
     "text": [
      "Şemsiyeni al\n"
     ]
    }
   ],
   "source": [
    "hava_durumu = \"Yağışlı\"\n",
    "if(hava_durumu == \"Yağışlı\"):\n",
    "    print(\"Şemsiyeni al\")"
   ]
  },
  {
   "cell_type": "code",
   "execution_count": 4,
   "id": "1cbf4513",
   "metadata": {},
   "outputs": [
    {
     "name": "stdout",
     "output_type": "stream",
     "text": [
      "Kısa kollu giy\n"
     ]
    }
   ],
   "source": [
    "hava_durumu = \"Güneşli\"\n",
    "if(hava_durumu == \"Yağışlı\"):\n",
    "    print(\"Şemsiyeni al\")\n",
    "else:\n",
    "    print(\"Kısa kollu giy\")"
   ]
  },
  {
   "cell_type": "code",
   "execution_count": 5,
   "id": "da5fc773",
   "metadata": {},
   "outputs": [
    {
     "name": "stdout",
     "output_type": "stream",
     "text": [
      "Sıkı Giyin!!\n"
     ]
    }
   ],
   "source": [
    "hava_durumu = \"Karlı\"\n",
    "if(hava_durumu == \"Yağışlı\"):\n",
    "    print(\"Şemsiyeni al\")\n",
    "elif(hava_durumu == \"Karlı\"):\n",
    "    print(\"Sıkı Giyin!!\")\n",
    "else:\n",
    "    print(\"Kısa kollu giy\")"
   ]
  },
  {
   "cell_type": "code",
   "execution_count": 7,
   "id": "fe8f9649",
   "metadata": {},
   "outputs": [
    {
     "name": "stdout",
     "output_type": "stream",
     "text": [
      "Selam yakışıklı\n"
     ]
    }
   ],
   "source": [
    "yas = 26\n",
    "if (yas >= 18):\n",
    "    print(\"Selam yakışıklı\")\n",
    "else:\n",
    "    print(\"DEFOL BURDAN!!\")"
   ]
  },
  {
   "cell_type": "code",
   "execution_count": 8,
   "id": "b396a9db",
   "metadata": {},
   "outputs": [
    {
     "name": "stdout",
     "output_type": "stream",
     "text": [
      "Aradığım harfi bulamadım ancak şu an içine ekledim, buyrun : ['a', 'b', 'c', 'd']\n"
     ]
    }
   ],
   "source": [
    "liste = [\"a\",\"b\",\"c\"]\n",
    "aradigim_harf = \"d\"\n",
    "if (aradigim_harf in liste):\n",
    "    print(\"Aradığım harfi buldum\")\n",
    "else:\n",
    "    liste.append(\"d\")\n",
    "    print(\"Aradığım harfi bulamadım ancak şu an içine ekledim, buyrun : {}\".format(liste))"
   ]
  },
  {
   "cell_type": "code",
   "execution_count": 10,
   "id": "39425bca",
   "metadata": {},
   "outputs": [
    {
     "name": "stdout",
     "output_type": "stream",
     "text": [
      "Aradığım harf listenin içinde ama en başında değil!\n"
     ]
    }
   ],
   "source": [
    "if (aradigim_harf in liste) and (aradigim_harf == liste[0]):\n",
    "    print(\"Aradığım harf listenin içinde ve en başında\")\n",
    "else:\n",
    "    print(\"Aradığım harf listenin içinde ama en başında değil!\")"
   ]
  },
  {
   "cell_type": "code",
   "execution_count": 13,
   "id": "a3c76464",
   "metadata": {},
   "outputs": [
    {
     "name": "stdout",
     "output_type": "stream",
     "text": [
      "Aradığım harf listenin içinde ve en sonunda\n"
     ]
    }
   ],
   "source": [
    "if(aradigim_harf in liste) and (aradigim_harf == liste[0]):\n",
    "    print(\"Aradığım harf listenin içinde ve en başında\")\n",
    "elif(aradigim_harf in liste) and (aradigim_harf == liste[-1]):\n",
    "    print(\"Aradığım harf listenin içinde ve en sonunda\")\n",
    "else:\n",
    "    print(\"Aradığım harf listenin içinde ama en sonunda değil\")"
   ]
  }
 ],
 "metadata": {
  "kernelspec": {
   "display_name": "Python 3 (ipykernel)",
   "language": "python",
   "name": "python3"
  },
  "language_info": {
   "codemirror_mode": {
    "name": "ipython",
    "version": 3
   },
   "file_extension": ".py",
   "mimetype": "text/x-python",
   "name": "python",
   "nbconvert_exporter": "python",
   "pygments_lexer": "ipython3",
   "version": "3.10.9"
  }
 },
 "nbformat": 4,
 "nbformat_minor": 5
}
