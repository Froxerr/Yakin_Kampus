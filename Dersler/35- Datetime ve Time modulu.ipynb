{
 "cells": [
  {
   "cell_type": "code",
   "execution_count": 1,
   "id": "136f69e8",
   "metadata": {},
   "outputs": [],
   "source": [
    "import datetime"
   ]
  },
  {
   "cell_type": "markdown",
   "id": "eeef8ae7",
   "metadata": {},
   "source": [
    "# datetime.date"
   ]
  },
  {
   "cell_type": "code",
   "execution_count": 2,
   "id": "81dcb7da",
   "metadata": {},
   "outputs": [],
   "source": [
    "from datetime import date"
   ]
  },
  {
   "cell_type": "code",
   "execution_count": 3,
   "id": "2e472915",
   "metadata": {},
   "outputs": [
    {
     "data": {
      "text/plain": [
       "datetime.date(2023, 8, 6)"
      ]
     },
     "execution_count": 3,
     "metadata": {},
     "output_type": "execute_result"
    }
   ],
   "source": [
    "bugun = date.today()\n",
    "bugun"
   ]
  },
  {
   "cell_type": "code",
   "execution_count": 4,
   "id": "d40b369d",
   "metadata": {},
   "outputs": [
    {
     "data": {
      "text/plain": [
       "datetime.date(2023, 8, 5)"
      ]
     },
     "execution_count": 4,
     "metadata": {},
     "output_type": "execute_result"
    }
   ],
   "source": [
    "dun = datetime.date(2023,8,5)\n",
    "dun"
   ]
  },
  {
   "cell_type": "code",
   "execution_count": 5,
   "id": "471d8a07",
   "metadata": {},
   "outputs": [
    {
     "data": {
      "text/plain": [
       "datetime.timedelta(days=1)"
      ]
     },
     "execution_count": 5,
     "metadata": {},
     "output_type": "execute_result"
    }
   ],
   "source": [
    "bugun - dun"
   ]
  },
  {
   "cell_type": "code",
   "execution_count": 16,
   "id": "c3b65ae5",
   "metadata": {},
   "outputs": [
    {
     "data": {
      "text/plain": [
       "1"
      ]
     },
     "execution_count": 16,
     "metadata": {},
     "output_type": "execute_result"
    }
   ],
   "source": [
    "zaman_araligi = bugun - dun\n",
    "zaman_araligi.days"
   ]
  },
  {
   "cell_type": "code",
   "execution_count": 7,
   "id": "ecdc790c",
   "metadata": {},
   "outputs": [
    {
     "data": {
      "text/plain": [
       "True"
      ]
     },
     "execution_count": 7,
     "metadata": {},
     "output_type": "execute_result"
    }
   ],
   "source": [
    "dun < bugun"
   ]
  },
  {
   "cell_type": "code",
   "execution_count": 9,
   "id": "30c9b2aa",
   "metadata": {},
   "outputs": [
    {
     "data": {
      "text/plain": [
       "datetime.date(2023, 8, 7)"
      ]
     },
     "execution_count": 9,
     "metadata": {},
     "output_type": "execute_result"
    }
   ],
   "source": [
    "yarin = bugun + datetime.timedelta(days=1)\n",
    "yarin"
   ]
  },
  {
   "cell_type": "code",
   "execution_count": 19,
   "id": "0d5fe4cf",
   "metadata": {},
   "outputs": [
    {
     "data": {
      "text/plain": [
       "2023"
      ]
     },
     "execution_count": 19,
     "metadata": {},
     "output_type": "execute_result"
    }
   ],
   "source": [
    "bugun.year"
   ]
  },
  {
   "cell_type": "code",
   "execution_count": 21,
   "id": "8fc98aae",
   "metadata": {},
   "outputs": [
    {
     "data": {
      "text/plain": [
       "8"
      ]
     },
     "execution_count": 21,
     "metadata": {},
     "output_type": "execute_result"
    }
   ],
   "source": [
    "bugun.month"
   ]
  },
  {
   "cell_type": "code",
   "execution_count": 22,
   "id": "458bbb66",
   "metadata": {},
   "outputs": [
    {
     "data": {
      "text/plain": [
       "8"
      ]
     },
     "execution_count": 22,
     "metadata": {},
     "output_type": "execute_result"
    }
   ],
   "source": [
    "bugun.__getattribute__(\"month\")"
   ]
  },
  {
   "cell_type": "code",
   "execution_count": 27,
   "id": "816f57a6",
   "metadata": {},
   "outputs": [
    {
     "data": {
      "text/plain": [
       "7"
      ]
     },
     "execution_count": 27,
     "metadata": {},
     "output_type": "execute_result"
    }
   ],
   "source": [
    "date.isocalendar(bugun)[2]"
   ]
  },
  {
   "cell_type": "code",
   "execution_count": 24,
   "id": "c4f7a181",
   "metadata": {},
   "outputs": [
    {
     "data": {
      "text/plain": [
       "6"
      ]
     },
     "execution_count": 24,
     "metadata": {},
     "output_type": "execute_result"
    }
   ],
   "source": [
    "date.weekday(bugun)"
   ]
  },
  {
   "cell_type": "code",
   "execution_count": 28,
   "id": "0fcb0b2b",
   "metadata": {},
   "outputs": [
    {
     "data": {
      "text/plain": [
       "'Sun Aug  6 00:00:00 2023'"
      ]
     },
     "execution_count": 28,
     "metadata": {},
     "output_type": "execute_result"
    }
   ],
   "source": [
    "date.ctime(bugun)"
   ]
  },
  {
   "cell_type": "markdown",
   "id": "7ec41988",
   "metadata": {},
   "source": [
    "# datetime.time"
   ]
  },
  {
   "cell_type": "code",
   "execution_count": 29,
   "id": "86658067",
   "metadata": {},
   "outputs": [],
   "source": [
    "from datetime import time"
   ]
  },
  {
   "cell_type": "code",
   "execution_count": 31,
   "id": "2810a44e",
   "metadata": {},
   "outputs": [
    {
     "name": "stdout",
     "output_type": "stream",
     "text": [
      "20:15:05\n"
     ]
    }
   ],
   "source": [
    "zaman = time(20,15,5)\n",
    "print(zaman)"
   ]
  },
  {
   "cell_type": "markdown",
   "id": "dc7c5e5d",
   "metadata": {},
   "source": [
    "# datetime.datetime"
   ]
  },
  {
   "cell_type": "code",
   "execution_count": 32,
   "id": "71f91970",
   "metadata": {},
   "outputs": [
    {
     "name": "stdout",
     "output_type": "stream",
     "text": [
      "2023-10-12 20:15:05\n"
     ]
    }
   ],
   "source": [
    "tam_zaman = datetime.datetime(2023,10,12,20,15,5)\n",
    "print(tam_zaman)"
   ]
  },
  {
   "cell_type": "markdown",
   "id": "d28878ba",
   "metadata": {},
   "source": [
    "# time"
   ]
  },
  {
   "cell_type": "code",
   "execution_count": 35,
   "id": "fb8b9a53",
   "metadata": {},
   "outputs": [],
   "source": [
    "import time"
   ]
  },
  {
   "cell_type": "code",
   "execution_count": 39,
   "id": "6a4fe352",
   "metadata": {},
   "outputs": [
    {
     "name": "stdout",
     "output_type": "stream",
     "text": [
      "İlk zamanım: 1691320409.547086\n",
      "Son zamanım: 1691320414.5479074\n",
      "İki zaman arası fark: 5\n"
     ]
    }
   ],
   "source": [
    "ilk_zaman = time.time()\n",
    "print(\"İlk zamanım: {}\".format(ilk_zaman))\n",
    "time.sleep(5)\n",
    "son_zaman = time.time()\n",
    "print(\"Son zamanım: {}\".format(son_zaman))\n",
    "print(\"İki zaman arası fark: {}\".format(round(son_zaman - ilk_zaman)))\n"
   ]
  }
 ],
 "metadata": {
  "kernelspec": {
   "display_name": "Python 3 (ipykernel)",
   "language": "python",
   "name": "python3"
  },
  "language_info": {
   "codemirror_mode": {
    "name": "ipython",
    "version": 3
   },
   "file_extension": ".py",
   "mimetype": "text/x-python",
   "name": "python",
   "nbconvert_exporter": "python",
   "pygments_lexer": "ipython3",
   "version": "3.11.3"
  }
 },
 "nbformat": 4,
 "nbformat_minor": 5
}
