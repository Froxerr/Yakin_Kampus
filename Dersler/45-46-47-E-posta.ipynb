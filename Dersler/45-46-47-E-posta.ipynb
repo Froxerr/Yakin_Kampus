{
 "cells": [
  {
   "cell_type": "markdown",
   "id": "b5a9e9b5",
   "metadata": {},
   "source": [
    "# Basit Posta Gönderimi"
   ]
  },
  {
   "cell_type": "code",
   "execution_count": null,
   "id": "231a3c4e",
   "metadata": {},
   "outputs": [],
   "source": [
    "import ssl\n",
    "import smtplib"
   ]
  },
  {
   "cell_type": "code",
   "execution_count": null,
   "id": "80f57a44",
   "metadata": {},
   "outputs": [],
   "source": [
    "kullanici = \"kendi_mail_adınız@mail_adınıza_sahip_host.com\"\n",
    "sifre = \"BEN BURADAYIM\"\n",
    "#Eğer gmail kullanıyorsanız kendi gmail hesabındaki şifreyi yukarıya girdiğinizde hata alırsınız o yüzden\n",
    "#altta verdiğim şeyleri yapıp en sonunda aldığınız uygulama şifresini BEN BURADAYIM yazan yere yapıştırın\n",
    "#Google Hesabınıza gidin.\n",
    "#Güvenlik'i seçin.\n",
    "#\"Google'da oturum açma\" bölümünün altında 2 Adımlı Doğrulama'yı seçin.\n",
    "#Sayfanın alt kısmında Uygulama şifreleri'ni seçin.\n",
    "#Uygulama şifresini kullanacağınız yeri hatırlamanıza yardımcı olacak bir ad girin.\n",
    "#Oluştur'u seçin.\n",
    "#Uygulama şifresini girmek için ekranınızdaki talimatları uygulayın. Uygulama şifresi, cihazınızda oluşturulan 16 karakterli koddur.\n",
    "#Bitti'yi seçin."
   ]
  },
  {
   "cell_type": "code",
   "execution_count": null,
   "id": "22141571",
   "metadata": {},
   "outputs": [],
   "source": [
    "alici = kullanici\n",
    "mesaj = \"Bu bir e-posta denemesidir\"\n",
    "context = ssl.create_default_context()"
   ]
  },
  {
   "cell_type": "code",
   "execution_count": null,
   "id": "814ca0bc",
   "metadata": {},
   "outputs": [],
   "source": [
    "port = 465\n",
    "host = \"smtp.gmail.com\"\n",
    "eposta_sunucusu = smtplib.SMTP_SSL(host=host,port=port,context=context)\n",
    "eposta_sunucusu.login(kullanici,sifre)\n",
    "eposta_sunucusu.sendmail(kullanici,alici,mesaj)"
   ]
  },
  {
   "cell_type": "markdown",
   "id": "0201a17c",
   "metadata": {},
   "source": [
    "# Eklentili Posta Gönderimi"
   ]
  },
  {
   "cell_type": "code",
   "execution_count": null,
   "id": "a812e1db",
   "metadata": {},
   "outputs": [],
   "source": [
    "from email.mime.multipart import MIMEMultipart\n",
    "from email.mime.text import MIMEText\n",
    "from email.mime.base import MIMEBase\n",
    "from email import encoders"
   ]
  },
  {
   "cell_type": "code",
   "execution_count": null,
   "id": "1afd6c8f",
   "metadata": {},
   "outputs": [],
   "source": [
    "baslik = \"e-posta.ipynb\"\n",
    "mesaj = \"Bu bir e-posta denemesidir\"\n",
    "posta = MIMEMultipart()\n",
    "posta[\"From\"] = kullanici\n",
    "posta[\"To\"] = kullanici\n",
    "posta[\"Subject\"] = baslik\n",
    "\n",
    "posta.attach(MIMEText(mesaj,\"plain\"))\n",
    "eklenti_dosya_ismi = \"Flag_of_Turkey.png\"\n",
    "\n",
    "with(open(eklenti_dosya_ismi,\"rb\")) as eklenti_dosyası:\n",
    "    payload = MIMEBase(\"application\",\"octet-stream\")\n",
    "    payload.set_payload((eklenti_dosyası).read())\n",
    "    encoders.encode_base64(payload)\n",
    "    \n",
    "    payload.add_header(\"Content-Disposition\", \"attachment\", filename=eklenti_dosya_ismi)\n",
    "    posta.attach(payload)\n",
    "    posta_str = posta.as_string()\n",
    "\n",
    "    "
   ]
  },
  {
   "cell_type": "code",
   "execution_count": null,
   "id": "c1bc0e42",
   "metadata": {},
   "outputs": [],
   "source": [
    "port = 465\n",
    "host = \"smtp.gmail.com\"\n",
    "eposta_sunucusu = smtplib.SMTP_SSL(host=host,port=port,context=context)\n",
    "eposta_sunucusu.login(kullanici,sifre)\n",
    "eposta_sunucusu.sendmail(kullanici,alici,posta_str)"
   ]
  },
  {
   "cell_type": "markdown",
   "id": "409448f1",
   "metadata": {},
   "source": [
    "# E-Posta Okuma"
   ]
  },
  {
   "cell_type": "code",
   "execution_count": null,
   "id": "1ae91ded",
   "metadata": {},
   "outputs": [],
   "source": [
    "pip install imap_tools"
   ]
  },
  {
   "cell_type": "code",
   "execution_count": null,
   "id": "3685adc7",
   "metadata": {},
   "outputs": [],
   "source": [
    "from imap_tools import MailBox\n",
    "import ssl\n",
    "import smtplib\n",
    "kullanici = \"kendi_mail_adınız@mail_adınıza_sahip_host.com\"\n",
    "sifre = \"BEN BURADAYIM\"\n",
    "#Eğer gmail kullanıyorsanız kendi gmail hesabındaki şifreyi yukarıya girdiğinizde hata alırsınız o yüzden\n",
    "#altta verdiğim şeyleri yapıp en sonunda aldığınız uygulama şifresini BEN BURADAYIM yazan yere yapıştırın\n",
    "#Google Hesabınıza gidin.\n",
    "#Güvenlik'i seçin.\n",
    "#\"Google'da oturum açma\" bölümünün altında 2 Adımlı Doğrulama'yı seçin.\n",
    "#Sayfanın alt kısmında Uygulama şifreleri'ni seçin.\n",
    "#Uygulama şifresini kullanacağınız yeri hatırlamanıza yardımcı olacak bir ad girin.\n",
    "#Oluştur'u seçin.\n",
    "#Uygulama şifresini girmek için ekranınızdaki talimatları uygulayın. Uygulama şifresi, cihazınızda oluşturulan 16 karakterli koddur.\n",
    "#Bitti'yi seçin.\n",
    "posta_kutusu = MailBox(\"imap.gmail.com\")\n",
    "posta_kutusu.login(kullanici,sifre,initial_folder=\"INBOX\")"
   ]
  },
  {
   "cell_type": "code",
   "execution_count": null,
   "id": "97d9e805",
   "metadata": {},
   "outputs": [],
   "source": [
    "import datetime\n",
    "from imap_tools import AND\n",
    "\n",
    "kriter = AND(date_gte=datetime.date(2023,8,8),from_=kullanici)\n",
    "for msg in posta_kutusu.fetch(kriter):\n",
    "    print(msg.text)"
   ]
  },
  {
   "cell_type": "code",
   "execution_count": null,
   "id": "28d7e5a6",
   "metadata": {
    "scrolled": true
   },
   "outputs": [],
   "source": [
    "with MailBox(\"imap.gmail.com\").login(kullanici,sifre,initial_folder=\"INBOX\") as posta_kutusu:\n",
    "    kriter = AND(date_gte=datetime.date(2021,8,8),from_=kullanici)\n",
    "    for msg in posta_kutusu.fetch(kriter):\n",
    "        print(msg.text)"
   ]
  },
  {
   "cell_type": "code",
   "execution_count": null,
   "id": "520e7d35",
   "metadata": {},
   "outputs": [],
   "source": [
    "dosya_ismi = \"Flag_of_Turkey.png\"\n",
    "posta_kutusu = MailBox(\"imap.gmail.com\")\n",
    "kriter = AND(date_gte=datetime.date(2022,8,7),from_=kullanici)\n",
    "posta_kutusu.login(kullanici,sifre,initial_folder=\"INBOX\")\n",
    "def dosya_isminden_mail_bul(eposta_kutusu_param,dosya_ismi_param,kriter_param):\n",
    "    for mesaj in eposta_kutusu_param.fetch(kriter):\n",
    "        if mesaj.attachments:\n",
    "            for ek in mesaj.attachments:\n",
    "                if dosya_ismi_param == ek.filename:\n",
    "                    return \"{} isimli dosya, {} tarihli ve {} baslikli epostatadır.\".format(dosya_ismi_param,mesaj.date_str,mesaj.subject)\n",
    "    return (\"{} isimli dosya, eposta kutusunda bulunmadı.\".format(dosya_ismi_param))"
   ]
  },
  {
   "cell_type": "code",
   "execution_count": null,
   "id": "c8f7dc91",
   "metadata": {},
   "outputs": [],
   "source": [
    "dosya_isminden_mail_bul(posta_kutusu,dosya_ismi,kriter)"
   ]
  }
 ],
 "metadata": {
  "kernelspec": {
   "display_name": "Python 3 (ipykernel)",
   "language": "python",
   "name": "python3"
  },
  "language_info": {
   "codemirror_mode": {
    "name": "ipython",
    "version": 3
   },
   "file_extension": ".py",
   "mimetype": "text/x-python",
   "name": "python",
   "nbconvert_exporter": "python",
   "pygments_lexer": "ipython3",
   "version": "3.11.4"
  }
 },
 "nbformat": 4,
 "nbformat_minor": 5
}
