{
 "cells": [
  {
   "cell_type": "markdown",
   "id": "5c3f2d1d",
   "metadata": {},
   "source": [
    "# Random Modülü"
   ]
  },
  {
   "cell_type": "code",
   "execution_count": null,
   "id": "9b799649",
   "metadata": {},
   "outputs": [],
   "source": [
    "import random\n",
    "random.random()"
   ]
  },
  {
   "cell_type": "code",
   "execution_count": null,
   "id": "5e0cc674",
   "metadata": {
    "scrolled": true
   },
   "outputs": [],
   "source": [
    "help(random)"
   ]
  },
  {
   "cell_type": "code",
   "execution_count": null,
   "id": "6b5b6804",
   "metadata": {},
   "outputs": [],
   "source": [
    "random.uniform(5,10)"
   ]
  },
  {
   "cell_type": "code",
   "execution_count": null,
   "id": "199c7610",
   "metadata": {},
   "outputs": [],
   "source": [
    "random.randint(5,10)"
   ]
  },
  {
   "cell_type": "code",
   "execution_count": null,
   "id": "ea783757",
   "metadata": {
    "scrolled": true
   },
   "outputs": [],
   "source": [
    "random.choice([*range(10)])"
   ]
  },
  {
   "cell_type": "code",
   "execution_count": null,
   "id": "3b9913f3",
   "metadata": {},
   "outputs": [],
   "source": [
    "random.sample([*range(10)], k=5)"
   ]
  },
  {
   "cell_type": "code",
   "execution_count": null,
   "id": "c70908bf",
   "metadata": {},
   "outputs": [],
   "source": [
    "liste = [*range(10)]\n",
    "print(liste)\n",
    "random.shuffle(liste)\n",
    "print(liste)"
   ]
  },
  {
   "cell_type": "markdown",
   "id": "79e1c506",
   "metadata": {},
   "source": [
    "# Math Modülü"
   ]
  },
  {
   "cell_type": "code",
   "execution_count": null,
   "id": "850e3b78",
   "metadata": {},
   "outputs": [],
   "source": [
    "import math"
   ]
  },
  {
   "cell_type": "code",
   "execution_count": null,
   "id": "589df13a",
   "metadata": {},
   "outputs": [],
   "source": [
    "help(math)"
   ]
  },
  {
   "cell_type": "code",
   "execution_count": null,
   "id": "b3cfeeac",
   "metadata": {},
   "outputs": [],
   "source": [
    "math.ceil(3.1)"
   ]
  },
  {
   "cell_type": "code",
   "execution_count": null,
   "id": "e1c83ba7",
   "metadata": {},
   "outputs": [],
   "source": [
    "math.floor(3.9)"
   ]
  },
  {
   "cell_type": "code",
   "execution_count": null,
   "id": "99618af5",
   "metadata": {},
   "outputs": [],
   "source": [
    "math.factorial(5)"
   ]
  },
  {
   "cell_type": "code",
   "execution_count": null,
   "id": "9007955c",
   "metadata": {},
   "outputs": [],
   "source": [
    "math.pow(3,3)"
   ]
  },
  {
   "cell_type": "code",
   "execution_count": null,
   "id": "e7f2859d",
   "metadata": {},
   "outputs": [],
   "source": [
    "3 ** 3"
   ]
  }
 ],
 "metadata": {
  "kernelspec": {
   "display_name": "Python 3 (ipykernel)",
   "language": "python",
   "name": "python3"
  },
  "language_info": {
   "codemirror_mode": {
    "name": "ipython",
    "version": 3
   },
   "file_extension": ".py",
   "mimetype": "text/x-python",
   "name": "python",
   "nbconvert_exporter": "python",
   "pygments_lexer": "ipython3",
   "version": "3.11.4"
  }
 },
 "nbformat": 4,
 "nbformat_minor": 5
}
