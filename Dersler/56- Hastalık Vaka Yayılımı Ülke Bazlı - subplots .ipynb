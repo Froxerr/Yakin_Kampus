{
 "cells": [
  {
   "cell_type": "code",
   "execution_count": null,
   "id": "b31edcd2",
   "metadata": {},
   "outputs": [],
   "source": [
    "confirmed_csv = \"corona_confirmed.csv\"\n",
    "confirmed_gitpath = \"https://raw.githubusercontent.com/CSSEGISandData/COVID-19/master/csse_covid_19_data/csse_covid_19_time_series/time_series_covid19_confirmed_global.csv\""
   ]
  },
  {
   "cell_type": "code",
   "execution_count": null,
   "id": "87c68e9b",
   "metadata": {},
   "outputs": [],
   "source": [
    "!curl -o $confirmed_csv $confirmed_gitpath "
   ]
  },
  {
   "cell_type": "code",
   "execution_count": null,
   "id": "88d12e38",
   "metadata": {},
   "outputs": [],
   "source": [
    "import pandas as pd\n",
    "df = pd.read_csv(confirmed_csv)\n",
    "\n",
    "df = df.melt(id_vars=[\"Province/State\",\"Country/Region\",\"Lat\",\"Long\"],\n",
    "                var_name=\"DateColumns\",\n",
    "                value_name=\"CasesColumns\")\n",
    "\n",
    "df['DateColumns'] = pd.to_datetime(df['DateColumns'], format='%m/%d/%y').dt.strftime('%Y-%m-%d')\n",
    "df[\"Province/State\"] = df[\"Province/State\"].fillna(df[\"Country/Region\"])\n",
    "df['DateColumns'] = pd.to_datetime(df['DateColumns'])\n",
    "df[\"CasesColumns\"] = df[\"CasesColumns\"].astype(int)\n",
    "df['Lat'].fillna(df['Lat'].mean(), inplace=True)\n",
    "df['Long'].fillna(df['Long'].mean(), inplace=True)"
   ]
  },
  {
   "cell_type": "code",
   "execution_count": null,
   "id": "dbfff192",
   "metadata": {},
   "outputs": [],
   "source": [
    "burning_counteries = df.groupby(\"Country/Region\")[\"CasesColumns\"].max().sort_values(ascending=False).reset_index()\n",
    "burning_counteries_lts = [*burning_counteries[\"Country/Region\"]][:20]\n",
    "#ilk 20 nin içine türkiyeyi tekrardan almıyorum çünkü zaten şu an güncel olarak ilk 10 da olduğu için  \n",
    "# ben tekrar alırsam 2 defa sayıyor ve kodun ileri aşamalarında hata vermesini sağlıyor\n",
    "burning_counteries_lts"
   ]
  },
  {
   "cell_type": "code",
   "execution_count": null,
   "id": "290a2b64",
   "metadata": {},
   "outputs": [],
   "source": [
    "df_burning_counteries = burning_counteries[burning_counteries[\"Country/Region\"].isin(burning_counteries_lts)].reset_index(drop = \"True\")\n",
    "df_burning_counteries[\"Country/Region\"] = df_burning_counteries[\"Country/Region\"].str.replace(\",\", \"\")\n",
    "df_burning_counteries"
   ]
  },
  {
   "cell_type": "code",
   "execution_count": null,
   "id": "e5c43c8b",
   "metadata": {},
   "outputs": [],
   "source": [
    "burning_counteries_daily = df.groupby([\"DateColumns\",\"Country/Region\"])[\"CasesColumns\"].max().sort_values(ascending=True).reset_index()\n",
    "burning_counteries_daily = burning_counteries_daily[burning_counteries_daily[\"Country/Region\"].isin(burning_counteries_lts)].reset_index(drop = \"True\")\n",
    "burning_counteries_daily[\"Country/Region\"] = burning_counteries_daily[\"Country/Region\"].str.replace(\",\",\"\")\n",
    "burning_counteries_daily"
   ]
  },
  {
   "cell_type": "code",
   "execution_count": null,
   "id": "1143cbff",
   "metadata": {},
   "outputs": [],
   "source": [
    "import matplotlib.pyplot as plt\n",
    "import matplotlib.dates as mdates\n",
    "nrow = 5\n",
    "ncol = 4\n",
    "\n",
    "df_burning_counteries_grouped = burning_counteries_daily.groupby(\"Country/Region\")\n",
    "\n",
    "df_burning_counteries_names = [x[0] for x in [*df_burning_counteries_grouped]]\n",
    "\n",
    "countery_df_list_formatted = []\n",
    "countery_df_list = [x[1].drop(columns=[\"Country/Region\"]).reset_index(drop=True) for x in [*df_burning_counteries_grouped]]\n",
    "for df_countery in countery_df_list:\n",
    "    df_countery.set_index(\"DateColumns\",inplace=True)\n",
    "    df_countery.index = pd.to_datetime(df_countery.index)\n",
    "    countery_df_list_formatted.append(df_countery.diff().dropna())\n",
    "    \n",
    "fig, axes = plt.subplots(nrow, ncol, figsize=(15,13), sharex=True)\n",
    "plt.subplots_adjust(hspace=0.5)\n",
    "\n",
    "myFmt =mdates.DateFormatter(\"%Y-%m-%d\")\n",
    "for axi in axes.flat:\n",
    "    axi.xaxis.set_major_locator(plt.MaxNLocator(7))\n",
    "    axi.xaxis.set_major_formatter(myFmt)\n",
    "for r in range(nrow):\n",
    "    for c in range(ncol):\n",
    "        countery_df_list_formatted[((nrow-1)*r)+c].plot(ax=axes[r,c], title=df_burning_counteries_names[((nrow-1)*r)+c])"
   ]
  }
 ],
 "metadata": {
  "kernelspec": {
   "display_name": "Python 3 (ipykernel)",
   "language": "python",
   "name": "python3"
  },
  "language_info": {
   "codemirror_mode": {
    "name": "ipython",
    "version": 3
   },
   "file_extension": ".py",
   "mimetype": "text/x-python",
   "name": "python",
   "nbconvert_exporter": "python",
   "pygments_lexer": "ipython3",
   "version": "3.11.4"
  }
 },
 "nbformat": 4,
 "nbformat_minor": 5
}
