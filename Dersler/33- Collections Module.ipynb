{
 "cells": [
  {
   "cell_type": "code",
   "execution_count": 8,
   "id": "74903667",
   "metadata": {},
   "outputs": [],
   "source": [
    "from collections import Counter\n",
    "import random"
   ]
  },
  {
   "cell_type": "code",
   "execution_count": 12,
   "id": "55d14cd2",
   "metadata": {},
   "outputs": [
    {
     "name": "stdout",
     "output_type": "stream",
     "text": [
      "[[6, 5, 7, 2], [3, 5, 4, 7], [9, 8, 5, 1], [5, 1, 4, 3]]\n",
      "[6, 5, 7, 2, 3, 5, 4, 7, 9, 8, 5, 1, 5, 1, 4, 3]\n"
     ]
    }
   ],
   "source": [
    "liste1 = random.sample(range(1,10),k=4)\n",
    "liste2 = random.sample(range(1,10),k=4)\n",
    "liste3 = random.sample(range(1,10),k=4)\n",
    "liste4 = random.sample(range(1,10),k=4)\n",
    "liste_icinde = [liste1,liste2,liste3,liste4]\n",
    "liste_toplam = liste1 + liste2 + liste3 + liste4\n",
    "print(liste_icinde)\n",
    "print(liste_toplam)"
   ]
  },
  {
   "cell_type": "code",
   "execution_count": 17,
   "id": "ae85cb49",
   "metadata": {},
   "outputs": [
    {
     "name": "stdout",
     "output_type": "stream",
     "text": [
      "1. Sayılı listem: [6, 5, 7, 2]\n",
      "2. Sayılı listem: [3, 5, 4, 7]\n",
      "3. Sayılı listem: [9, 8, 5, 1]\n",
      "4. Sayılı listem: [5, 1, 4, 3]\n"
     ]
    },
    {
     "data": {
      "text/plain": [
       "Counter({6: 1, 5: 4, 7: 2, 2: 1, 3: 2, 4: 2, 9: 1, 8: 1, 1: 2})"
      ]
     },
     "execution_count": 17,
     "metadata": {},
     "output_type": "execute_result"
    }
   ],
   "source": [
    "for index, liste in enumerate(liste_icinde):\n",
    "    print(\"{}. Sayılı listem: {}\".format(index+1, liste))\n",
    "Counter(liste_toplam)"
   ]
  },
  {
   "cell_type": "code",
   "execution_count": 18,
   "id": "88eb0f89",
   "metadata": {},
   "outputs": [
    {
     "data": {
      "text/plain": [
       "Counter({'e': 2,\n",
       "         'w': 2,\n",
       "         'r': 2,\n",
       "         'q': 2,\n",
       "         'o': 2,\n",
       "         'j': 2,\n",
       "         'ı': 2,\n",
       "         'a': 1,\n",
       "         's': 1,\n",
       "         'f': 1,\n",
       "         'd': 1})"
      ]
     },
     "execution_count": 18,
     "metadata": {},
     "output_type": "execute_result"
    }
   ],
   "source": [
    "Counter(\"ewrqojrqweoıjıasfd\")"
   ]
  },
  {
   "cell_type": "code",
   "execution_count": 30,
   "id": "787e5245",
   "metadata": {},
   "outputs": [
    {
     "data": {
      "text/plain": [
       "Counter({'\\n': 4,\n",
       "         'G': 1,\n",
       "         'e': 1,\n",
       "         's': 1,\n",
       "         'i': 11,\n",
       "         ' ': 8,\n",
       "         'b': 1,\n",
       "         'a': 14,\n",
       "         'ğ': 1,\n",
       "         'l': 2,\n",
       "         'r': 10,\n",
       "         'ı': 4,\n",
       "         'n': 6,\n",
       "         'd': 4,\n",
       "         'o': 4,\n",
       "         'y': 5,\n",
       "         'u': 3,\n",
       "         'm': 11,\n",
       "         'Y': 2,\n",
       "         't': 2})"
      ]
     },
     "execution_count": 30,
     "metadata": {},
     "output_type": "execute_result"
    }
   ],
   "source": [
    "sarki = \"\"\"\n",
    "Gesi bağlarında dolanıyorum\n",
    "Yitirdim yarimi amman aranıyorum\n",
    "Yitirdim yarimi amman aranıyorum\n",
    "\"\"\"\n",
    "Counter(sarki)"
   ]
  },
  {
   "cell_type": "code",
   "execution_count": 31,
   "id": "af6754dd",
   "metadata": {},
   "outputs": [
    {
     "data": {
      "text/plain": [
       "Counter({'Gesi': 1,\n",
       "         'bağlarında': 1,\n",
       "         'dolanıyorum': 1,\n",
       "         'Yitirdim': 2,\n",
       "         'yarimi': 2,\n",
       "         'amman': 2,\n",
       "         'aranıyorum': 2})"
      ]
     },
     "execution_count": 31,
     "metadata": {},
     "output_type": "execute_result"
    }
   ],
   "source": [
    "Counter(sarki.split())"
   ]
  },
  {
   "cell_type": "code",
   "execution_count": 32,
   "id": "2f73d780",
   "metadata": {},
   "outputs": [
    {
     "data": {
      "text/plain": [
       "['gesi',\n",
       " 'bağlarında',\n",
       " 'dolanıyorum',\n",
       " 'yitirdim',\n",
       " 'yarimi',\n",
       " 'amman',\n",
       " 'aranıyorum',\n",
       " 'yitirdim',\n",
       " 'yarimi',\n",
       " 'amman',\n",
       " 'aranıyorum']"
      ]
     },
     "execution_count": 32,
     "metadata": {},
     "output_type": "execute_result"
    }
   ],
   "source": [
    "sarki.lower().split()"
   ]
  },
  {
   "cell_type": "code",
   "execution_count": 33,
   "id": "b1064190",
   "metadata": {},
   "outputs": [
    {
     "data": {
      "text/plain": [
       "Counter({'gesi': 1,\n",
       "         'bağlarında': 1,\n",
       "         'dolanıyorum': 1,\n",
       "         'yitirdim': 2,\n",
       "         'yarimi': 2,\n",
       "         'amman': 2,\n",
       "         'aranıyorum': 2})"
      ]
     },
     "execution_count": 33,
     "metadata": {},
     "output_type": "execute_result"
    }
   ],
   "source": [
    "Counter(sarki.lower().split())"
   ]
  },
  {
   "cell_type": "code",
   "execution_count": 34,
   "id": "c363efd9",
   "metadata": {},
   "outputs": [
    {
     "data": {
      "text/plain": [
       "[('yitirdim', 2), ('yarimi', 2), ('amman', 2), ('aranıyorum', 2), ('gesi', 1)]"
      ]
     },
     "execution_count": 34,
     "metadata": {},
     "output_type": "execute_result"
    }
   ],
   "source": [
    "Counter(sarki.lower().split()).most_common(5)"
   ]
  }
 ],
 "metadata": {
  "kernelspec": {
   "display_name": "Python 3 (ipykernel)",
   "language": "python",
   "name": "python3"
  },
  "language_info": {
   "codemirror_mode": {
    "name": "ipython",
    "version": 3
   },
   "file_extension": ".py",
   "mimetype": "text/x-python",
   "name": "python",
   "nbconvert_exporter": "python",
   "pygments_lexer": "ipython3",
   "version": "3.11.3"
  }
 },
 "nbformat": 4,
 "nbformat_minor": 5
}
