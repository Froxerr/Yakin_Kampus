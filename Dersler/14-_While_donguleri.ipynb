{
 "cells": [
  {
   "cell_type": "code",
   "execution_count": null,
   "id": "2a9c8450",
   "metadata": {},
   "outputs": [],
   "source": [
    "#Kullanımı\n",
    "# While <şart doğruyken>:\n",
    "#       <burda yazılanı yap>"
   ]
  },
  {
   "cell_type": "code",
   "execution_count": 1,
   "id": "09bfd09a",
   "metadata": {},
   "outputs": [
    {
     "name": "stdout",
     "output_type": "stream",
     "text": [
      "0. Değeri 10'dan küçüktür\n",
      "1. Değeri 10'dan küçüktür\n",
      "2. Değeri 10'dan küçüktür\n",
      "3. Değeri 10'dan küçüktür\n",
      "4. Değeri 10'dan küçüktür\n",
      "5. Değeri 10'dan küçüktür\n",
      "6. Değeri 10'dan küçüktür\n",
      "7. Değeri 10'dan küçüktür\n",
      "8. Değeri 10'dan küçüktür\n",
      "9. Değeri 10'dan küçüktür\n"
     ]
    }
   ],
   "source": [
    "x = 0\n",
    "while x < 10:\n",
    "    print(\"{0}. Değeri 10'dan küçüktür\".format(x))\n",
    "    x += 1"
   ]
  },
  {
   "cell_type": "code",
   "execution_count": null,
   "id": "964f07e6",
   "metadata": {},
   "outputs": [],
   "source": [
    "#Kullanım yapısı\n",
    "# While <şart doğruyken>:\n",
    "#       <burda yazılanı yap>\n",
    "# else:\n",
    "#       <burda yazılanı yap>"
   ]
  },
  {
   "cell_type": "code",
   "execution_count": 2,
   "id": "808c64c8",
   "metadata": {},
   "outputs": [
    {
     "name": "stdout",
     "output_type": "stream",
     "text": [
      "0. Değeri 10'dan küçüktür\n",
      "1. Değeri 10'dan küçüktür\n",
      "2. Değeri 10'dan küçüktür\n",
      "3. Değeri 10'dan küçüktür\n",
      "4. Değeri 10'dan küçüktür\n",
      "5. Değeri 10'dan küçüktür\n",
      "6. Değeri 10'dan küçüktür\n",
      "7. Değeri 10'dan küçüktür\n",
      "8. Değeri 10'dan küçüktür\n",
      "9. Değeri 10'dan küçüktür\n",
      "10. Değeri 10'dan küçük değildir\n"
     ]
    }
   ],
   "source": [
    "x = 0\n",
    "while x < 10:\n",
    "    print(\"{0}. Değeri 10'dan küçüktür\".format(x))\n",
    "    x += 1\n",
    "else:\n",
    "    print(\"{0}. Değeri 10'dan küçük değildir\".format(x))"
   ]
  },
  {
   "cell_type": "code",
   "execution_count": 16,
   "id": "da09a79d",
   "metadata": {},
   "outputs": [
    {
     "name": "stdout",
     "output_type": "stream",
     "text": [
      "5040\n"
     ]
    }
   ],
   "source": [
    "sayi = 1\n",
    "deger = 7\n",
    "while deger > 0:\n",
    "    sayi = sayi * deger\n",
    "    deger -= 1\n",
    "print(sayi)"
   ]
  }
 ],
 "metadata": {
  "kernelspec": {
   "display_name": "Python 3 (ipykernel)",
   "language": "python",
   "name": "python3"
  },
  "language_info": {
   "codemirror_mode": {
    "name": "ipython",
    "version": 3
   },
   "file_extension": ".py",
   "mimetype": "text/x-python",
   "name": "python",
   "nbconvert_exporter": "python",
   "pygments_lexer": "ipython3",
   "version": "3.10.9"
  }
 },
 "nbformat": 4,
 "nbformat_minor": 5
}
