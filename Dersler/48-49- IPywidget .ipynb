{
 "cells": [
  {
   "cell_type": "markdown",
   "id": "8d7a15ca",
   "metadata": {},
   "source": [
    "# CONTENT"
   ]
  },
  {
   "cell_type": "raw",
   "id": "9230ea70",
   "metadata": {},
   "source": [
    "1 ### Library import ###\n",
    "    1.1 ### Widgets\n",
    "    1.2 ### CSV/Data Ops\n",
    "    1.3 ### Drawing\n",
    "    \n",
    "2 ###        Widgets        ###\n",
    "    2.1    ### Tabs\n",
    "    2.2    ### FileUpload\n",
    "    2.3    ### Output\n",
    "    2.4    ### SelectMultiple\n",
    "    2.5    ### RadioButton\n",
    "    2.6    ### IntSlider\n",
    "    2.7    ### Accordion\n",
    "    2.8    ### Button\n",
    "    2.9    ### HBox/VBox\n",
    "    2.10   ### ToggleButtons\n",
    "    2.11   ### Dropdown\n",
    "    2.12   ### ColorPicker\n",
    "\n",
    "3 ###    Value Import     ###\n",
    "\n",
    "4 ###    Button Action    ###\n",
    "    4.1   ### Preview Button\n",
    "    4.2   ### Upload Button\n",
    "    4.3   ### Description ToggleButton\n",
    "    4.4   ### Plot Button"
   ]
  },
  {
   "cell_type": "markdown",
   "id": "9de8cd98",
   "metadata": {},
   "source": [
    "# Library Import (KÜTÜPHANE GİRİŞ)"
   ]
  },
  {
   "cell_type": "raw",
   "id": "8348c9aa",
   "metadata": {},
   "source": [
    "1 ### Widgets\n",
    "2 ### CSV/Data Operations\n",
    "3 ### Drawing"
   ]
  },
  {
   "cell_type": "code",
   "execution_count": 1,
   "id": "3e7932a6",
   "metadata": {},
   "outputs": [],
   "source": [
    "# Widgets\n",
    "import ipywidgets as widgets\n",
    "\n",
    "# CSV/DataFrame\n",
    "import pandas as pd\n",
    "import numpy as np\n",
    "from io import StringIO\n",
    "\n",
    "# Drawing\n",
    "import matplotlib.pyplot as plt\n",
    "%matplotlib inline"
   ]
  },
  {
   "cell_type": "markdown",
   "id": "6bb06831",
   "metadata": {},
   "source": [
    "# Widgets (ALETLER)"
   ]
  },
  {
   "cell_type": "raw",
   "id": "c48073f5",
   "metadata": {},
   "source": [
    "1  ### Tabs\n",
    "2  ### FileUpload\n",
    "3  ### Output\n",
    "4  ### SelectMultiple\n",
    "5  ### RadioButton\n",
    "6  ### IntSlider\n",
    "7  ### Accordion\n",
    "8  ### Button\n",
    "9  ### HBox/VBox\n",
    "10 ### ToggleButtons\n",
    "11 ### Dropdown\n",
    "12 ### ColorPicker"
   ]
  },
  {
   "cell_type": "markdown",
   "id": "3a72d383",
   "metadata": {},
   "source": [
    "## Tabs"
   ]
  },
  {
   "cell_type": "code",
   "execution_count": 5,
   "id": "eb778091",
   "metadata": {},
   "outputs": [
    {
     "data": {
      "application/vnd.jupyter.widget-view+json": {
       "model_id": "b525db313e8f4d2ead2d3af2aff239bf",
       "version_major": 2,
       "version_minor": 0
      },
      "text/plain": [
       "Tab(children=(Label(value=''), Label(value=''), Label(value='')), selected_index=0, titles=('Upload', 'Describ…"
      ]
     },
     "execution_count": 5,
     "metadata": {},
     "output_type": "execute_result"
    }
   ],
   "source": [
    "tab = widgets.Tab()\n",
    "placeholder = widgets.Label()\n",
    "tab.children = (placeholder,placeholder,placeholder)\n",
    "tab.set_title(0,\"Upload\")\n",
    "tab.set_title(1,\"Describer\")\n",
    "tab.set_title(2,\"Plotter\")\n",
    "tab"
   ]
  },
  {
   "cell_type": "markdown",
   "id": "f449e8c8",
   "metadata": {},
   "source": [
    "## FileUpload"
   ]
  },
  {
   "cell_type": "code",
   "execution_count": 6,
   "id": "cfa2fa5d",
   "metadata": {},
   "outputs": [
    {
     "data": {
      "application/vnd.jupyter.widget-view+json": {
       "model_id": "5a44e2774b634bbba9bde5cf00f819e8",
       "version_major": 2,
       "version_minor": 0
      },
      "text/plain": [
       "FileUpload(value=(), description='Upload')"
      ]
     },
     "execution_count": 6,
     "metadata": {},
     "output_type": "execute_result"
    }
   ],
   "source": [
    "#Accept = uzantısı ne olacağını belirliyorsun txt ise \"txt\" yazıyorsun\n",
    "#Multiple = Eğer birden fazla dosya yüklemek istiyorsan True, istemiyorsan False\n",
    "up = widgets.FileUpload(accept = \"\",multiple = False)\n",
    "up"
   ]
  },
  {
   "cell_type": "markdown",
   "id": "a148eab3",
   "metadata": {},
   "source": [
    "## Output "
   ]
  },
  {
   "cell_type": "code",
   "execution_count": 7,
   "id": "a8a2be69",
   "metadata": {},
   "outputs": [
    {
     "data": {
      "application/vnd.jupyter.widget-view+json": {
       "model_id": "b525db313e8f4d2ead2d3af2aff239bf",
       "version_major": 2,
       "version_minor": 0
      },
      "text/plain": [
       "Tab(children=(FileUpload(value=(), description='Upload'), Output(layout=Layout(border_bottom='1px solid black'…"
      ]
     },
     "execution_count": 7,
     "metadata": {},
     "output_type": "execute_result"
    }
   ],
   "source": [
    "out = widgets.Output(layout = {\"border\":\"1px solid black\"})\n",
    "tab.children = [up,out,out]\n",
    "tab"
   ]
  },
  {
   "cell_type": "markdown",
   "id": "7b4ab34c",
   "metadata": {},
   "source": [
    "## SelectMultiple"
   ]
  },
  {
   "cell_type": "code",
   "execution_count": 146,
   "id": "4152737e",
   "metadata": {},
   "outputs": [
    {
     "data": {
      "application/vnd.jupyter.widget-view+json": {
       "model_id": "9922759e25844340826527e7fc22055d",
       "version_major": 2,
       "version_minor": 0
      },
      "text/plain": [
       "SelectMultiple(description='Eraser: ', index=(0,), options=('tab', \"'\"), value=('tab',))"
      ]
     },
     "execution_count": 146,
     "metadata": {},
     "output_type": "execute_result"
    }
   ],
   "source": [
    "eraser = widgets.SelectMultiple(\n",
    "    options = [\"tab\",\"'\"], # Hangi seceneklerin sunulacağı\n",
    "    value = [\"tab\"], #Hangi değere secili başlayacağı\n",
    "    #rows = 10, Ne kadar büyük olacağı\n",
    "    description = \"Eraser: \", #İlk açıklaması\n",
    "    disabled = False\n",
    "    #disabled = Seçimin kapalı mı açık mı olacağı\n",
    ")\n",
    "eraser"
   ]
  },
  {
   "cell_type": "markdown",
   "id": "1492cc5c",
   "metadata": {},
   "source": [
    "## RadioButtons"
   ]
  },
  {
   "cell_type": "code",
   "execution_count": 9,
   "id": "c69dc147",
   "metadata": {},
   "outputs": [
    {
     "data": {
      "application/vnd.jupyter.widget-view+json": {
       "model_id": "b96a78587e6443159541f58125877b7f",
       "version_major": 2,
       "version_minor": 0
      },
      "text/plain": [
       "RadioButtons(description='Separator: ', index=1, options=(';', ',', 'i'), value=',')"
      ]
     },
     "execution_count": 9,
     "metadata": {},
     "output_type": "execute_result"
    }
   ],
   "source": [
    "delim = widgets.RadioButtons(\n",
    "    options = [\";\",\",\",\"i\"],\n",
    "    description = \"Separator: \",\n",
    "    disabled = False,\n",
    "    value = \",\"\n",
    ")\n",
    "delim"
   ]
  },
  {
   "cell_type": "markdown",
   "id": "d79e7f2b",
   "metadata": {},
   "source": [
    "## IntSlider"
   ]
  },
  {
   "cell_type": "code",
   "execution_count": 10,
   "id": "f78931e3",
   "metadata": {},
   "outputs": [
    {
     "data": {
      "application/vnd.jupyter.widget-view+json": {
       "model_id": "6bce51d0d1534640ad1891e0c0618d09",
       "version_major": 2,
       "version_minor": 0
      },
      "text/plain": [
       "IntSlider(value=5, description='# of lines:', max=10, min=5)"
      ]
     },
     "execution_count": 10,
     "metadata": {},
     "output_type": "execute_result"
    }
   ],
   "source": [
    "rows = widgets.IntSlider(\n",
    "    value=0, #0 Değeri ile başlayan\n",
    "    step=1, # Her adımda 1 artırılarak devam eden\n",
    "    min = 5, # Min alabileceği değer\n",
    "    max = 10, # max alabileceği değer\n",
    "    description = \"# of lines:\",\n",
    "    disabled = False,\n",
    "    continous_update = False,\n",
    "    orientation = \"horizontal\",\n",
    "    readout = True,\n",
    "    readout_format = \"d\"\n",
    "    \n",
    ")\n",
    "rows"
   ]
  },
  {
   "cell_type": "markdown",
   "id": "30215ddf",
   "metadata": {},
   "source": [
    "## Accordion "
   ]
  },
  {
   "cell_type": "code",
   "execution_count": 11,
   "id": "ee66ccc6",
   "metadata": {},
   "outputs": [
    {
     "data": {
      "application/vnd.jupyter.widget-view+json": {
       "model_id": "aeababbe14924880a3934972f57a5f89",
       "version_major": 2,
       "version_minor": 0
      },
      "text/plain": [
       "Accordion(children=(FileUpload(value=(), description='Upload'), RadioButtons(description='Separator: ', index=…"
      ]
     },
     "execution_count": 11,
     "metadata": {},
     "output_type": "execute_result"
    }
   ],
   "source": [
    "accordion = widgets.Accordion()\n",
    "accordion.children= [ # İçeriğine ulaşmak için childern kullanıyoruz\n",
    "    up,\n",
    "    delim,\n",
    "    rows,\n",
    "]\n",
    "accordion.set_title(0,\"File Selection\")\n",
    "accordion.set_title(1,\"Delimiter\")\n",
    "accordion.set_title(2,\"Skip Rows\")\n",
    "accordion"
   ]
  },
  {
   "cell_type": "markdown",
   "id": "2963b5ed",
   "metadata": {},
   "source": [
    "## Button"
   ]
  },
  {
   "cell_type": "code",
   "execution_count": 12,
   "id": "ee26a852",
   "metadata": {},
   "outputs": [
    {
     "data": {
      "application/vnd.jupyter.widget-view+json": {
       "model_id": "bccc93c317014269b5a1eb92e1146943",
       "version_major": 2,
       "version_minor": 0
      },
      "text/plain": [
       "Button(button_style='warning', description='Upload', icon='check', style=ButtonStyle(), tooltip='Click to uplo…"
      ]
     },
     "execution_count": 12,
     "metadata": {},
     "output_type": "execute_result"
    }
   ],
   "source": [
    "button_upload = widgets.Button(\n",
    "    description = \"Upload\",\n",
    "    disabled = False,\n",
    "    button_style = \"warning\", # 'success', 'info', 'warning', 'danger' or '' SADECE RENGİ BELİRLİYOR\n",
    "    tooltip=\"Click to upload\", # NASIL BİR TİPİ OLACAĞINI YAZIYORSUN SADECE\n",
    "    icon=\"check\" # search, pencil\n",
    ")\n",
    "button_upload"
   ]
  },
  {
   "cell_type": "code",
   "execution_count": 230,
   "id": "bd210c58",
   "metadata": {},
   "outputs": [
    {
     "data": {
      "application/vnd.jupyter.widget-view+json": {
       "model_id": "722c0f2efce446d48466c79319113f00",
       "version_major": 2,
       "version_minor": 0
      },
      "text/plain": [
       "Button(button_style='success', description='Preview', icon='search', style=ButtonStyle(), tooltip='Click to up…"
      ]
     },
     "execution_count": 230,
     "metadata": {},
     "output_type": "execute_result"
    }
   ],
   "source": [
    "button_preview = widgets.Button(\n",
    "    description = \"Preview\",\n",
    "    disabled = False,\n",
    "    button_style = \"success\", # 'success', 'info', 'warning', 'danger' or '' SADECE RENGİ BELİRLİYOR\n",
    "    tooltip=\"Click to upload\", # NASIL BİR TİPİ OLACAĞINI YAZIYORSUN SADECE\n",
    "    icon=\"search\" # search, pencil\n",
    ")\n",
    "button_preview"
   ]
  },
  {
   "cell_type": "code",
   "execution_count": 248,
   "id": "955e5870",
   "metadata": {},
   "outputs": [
    {
     "data": {
      "application/vnd.jupyter.widget-view+json": {
       "model_id": "150f478ef33f43f2afad11b5e38f6a94",
       "version_major": 2,
       "version_minor": 0
      },
      "text/plain": [
       "Button(button_style='warning', description='Plot', icon='pencil', style=ButtonStyle(), tooltip='Click to Plot'…"
      ]
     },
     "execution_count": 248,
     "metadata": {},
     "output_type": "execute_result"
    }
   ],
   "source": [
    "button_plot = widgets.Button(\n",
    "    description = \"Plot\",\n",
    "    disabled = False,\n",
    "    button_style = \"warning\", # 'success', 'info', 'warning', 'danger' or '' SADECE RENGİ BELİRLİYOR\n",
    "    tooltip=\"Click to Plot\", # NASIL BİR TİPİ OLACAĞINI YAZIYORSUN SADECE\n",
    "    icon=\"pencil\" # search, pencil\n",
    ")\n",
    "button_plot"
   ]
  },
  {
   "cell_type": "markdown",
   "id": "ae6aa702",
   "metadata": {},
   "source": [
    "## Groupping - HBox(Horizontal, Yatay)/Vbox(Vertical/ Dikey)"
   ]
  },
  {
   "cell_type": "code",
   "execution_count": 14,
   "id": "f30df179",
   "metadata": {},
   "outputs": [
    {
     "data": {
      "application/vnd.jupyter.widget-view+json": {
       "model_id": "ff882366ec704f13be55d4c6b707edf4",
       "version_major": 2,
       "version_minor": 0
      },
      "text/plain": [
       "VBox(children=(Accordion(children=(FileUpload(value=(), description='Upload'), RadioButtons(description='Separ…"
      ]
     },
     "execution_count": 14,
     "metadata": {},
     "output_type": "execute_result"
    }
   ],
   "source": [
    "#Widgetların gruplanmasını sağlar\n",
    "vb = widgets.VBox([accordion,eraser])\n",
    "vb"
   ]
  },
  {
   "cell_type": "code",
   "execution_count": 15,
   "id": "c7f158ad",
   "metadata": {},
   "outputs": [
    {
     "data": {
      "application/vnd.jupyter.widget-view+json": {
       "model_id": "9e9083143fa34439a02816490a365c77",
       "version_major": 2,
       "version_minor": 0
      },
      "text/plain": [
       "HBox(children=(Accordion(children=(FileUpload(value=(), description='Upload'), RadioButtons(description='Separ…"
      ]
     },
     "execution_count": 15,
     "metadata": {},
     "output_type": "execute_result"
    }
   ],
   "source": [
    "hb = widgets.HBox([accordion,eraser])\n",
    "hb"
   ]
  },
  {
   "cell_type": "code",
   "execution_count": 233,
   "id": "910aeb34",
   "metadata": {},
   "outputs": [
    {
     "data": {
      "application/vnd.jupyter.widget-view+json": {
       "model_id": "99b32580ee4344e194de2a21cccd535a",
       "version_major": 2,
       "version_minor": 0
      },
      "text/plain": [
       "VBox(children=(Accordion(children=(FileUpload(value=({'name': 'people-100.csv', 'type': 'text/csv', 'size': 11…"
      ]
     },
     "execution_count": 233,
     "metadata": {},
     "output_type": "execute_result"
    }
   ],
   "source": [
    "accordion.children= (\n",
    "    up,\n",
    "    widgets.VBox([delim,eraser]),\n",
    "    rows\n",
    ")\n",
    "accordion_box = widgets.VBox([\n",
    "    accordion,\n",
    "    widgets.HBox([button_upload,button_preview]),\n",
    "    out\n",
    "])\n",
    "accordion_box"
   ]
  },
  {
   "cell_type": "markdown",
   "id": "d90399bc",
   "metadata": {},
   "source": [
    "## ToggleButtons"
   ]
  },
  {
   "cell_type": "code",
   "execution_count": 17,
   "id": "0a6c65df",
   "metadata": {},
   "outputs": [
    {
     "data": {
      "application/vnd.jupyter.widget-view+json": {
       "model_id": "906dd2370e154df4a77bd04b7b0afe0b",
       "version_major": 2,
       "version_minor": 0
      },
      "text/plain": [
       "ToggleButtons(button_style='warning', description='Options', icons=('search', 'info', 'tachometer'), options=(…"
      ]
     },
     "execution_count": 17,
     "metadata": {},
     "output_type": "execute_result"
    }
   ],
   "source": [
    "toggle = widgets.ToggleButtons( #RADIO BUTTON İLE BUTONLARIN BİRLEŞMİŞ HALİ GİBİ\n",
    "    options = [\"Preview\",\"Info\",\"Stats\"],\n",
    "    description=\"Options\",\n",
    "    disabled = False,\n",
    "    button_style = \"warning\",\n",
    "    icons = [\"search\",\"info\",\"tachometer\"]\n",
    ")\n",
    "#toggle.observe(desc_clicked,\"value\")\n",
    "toggle"
   ]
  },
  {
   "cell_type": "markdown",
   "id": "43fc8010",
   "metadata": {},
   "source": [
    "## Dropdown"
   ]
  },
  {
   "cell_type": "code",
   "execution_count": 18,
   "id": "adfe87b6",
   "metadata": {},
   "outputs": [
    {
     "data": {
      "application/vnd.jupyter.widget-view+json": {
       "model_id": "40a28abc5a184fca870001b3e9c18080",
       "version_major": 2,
       "version_minor": 0
      },
      "text/plain": [
       "Dropdown(description='Chart Type: ', options=('Bar Chart', 'Line Chart'), value='Bar Chart')"
      ]
     },
     "execution_count": 18,
     "metadata": {},
     "output_type": "execute_result"
    }
   ],
   "source": [
    "x_axis = widgets.Dropdown(\n",
    "    options = [\"\"],\n",
    "    value = \"\",\n",
    "    description = \"X-Axis: \",\n",
    "    disabled = False\n",
    ")\n",
    "y_axis = widgets.Dropdown(\n",
    "    options = [\"\"],\n",
    "    value = \"\",\n",
    "    description = \"Y-Axis: \",\n",
    "    disabled = False\n",
    ")\n",
    "graph_type = widgets.Dropdown(\n",
    "    options = [\"Bar Chart\",\"Line Chart\"],\n",
    "    value = \"Bar Chart\",\n",
    "    description = \"Chart Type: \",\n",
    "    disabled = False\n",
    ")\n",
    "graph_type"
   ]
  },
  {
   "cell_type": "markdown",
   "id": "07d3c416",
   "metadata": {},
   "source": [
    "## ColorPicker"
   ]
  },
  {
   "cell_type": "code",
   "execution_count": 19,
   "id": "8301fe34",
   "metadata": {},
   "outputs": [
    {
     "data": {
      "application/vnd.jupyter.widget-view+json": {
       "model_id": "1a54320acec548a1a10252d738fda40c",
       "version_major": 2,
       "version_minor": 0
      },
      "text/plain": [
       "ColorPicker(value='lightblue', description='Color Picker: ')"
      ]
     },
     "execution_count": 19,
     "metadata": {},
     "output_type": "execute_result"
    }
   ],
   "source": [
    "color_picker = widgets.ColorPicker(\n",
    "    concise = False,\n",
    "    description = \"Color Picker: \",\n",
    "    value = \"lightblue\",\n",
    "    disabled = False\n",
    ")\n",
    "color_picker"
   ]
  },
  {
   "cell_type": "code",
   "execution_count": 249,
   "id": "3b5fe8f3",
   "metadata": {},
   "outputs": [
    {
     "data": {
      "application/vnd.jupyter.widget-view+json": {
       "model_id": "b525db313e8f4d2ead2d3af2aff239bf",
       "version_major": 2,
       "version_minor": 0
      },
      "text/plain": [
       "Tab(children=(VBox(children=(Accordion(children=(FileUpload(value=({'name': 'people-100.csv', 'type': 'text/cs…"
      ]
     },
     "execution_count": 249,
     "metadata": {},
     "output_type": "execute_result"
    }
   ],
   "source": [
    "#GENEL WIDGETS ÇIKTISI\n",
    "children = [\n",
    "    accordion_box,\n",
    "    widgets.VBox([toggle,out]),\n",
    "    widgets.VBox([\n",
    "        widgets.HBox([graph_type,color_picker]),\n",
    "        widgets.HBox([x_axis,y_axis]),\n",
    "        button_plot,\n",
    "        out\n",
    "    ])\n",
    "]\n",
    "tab.children = children\n",
    "tab"
   ]
  },
  {
   "cell_type": "markdown",
   "id": "42ccadfb",
   "metadata": {},
   "source": [
    "## Value Import"
   ]
  },
  {
   "cell_type": "code",
   "execution_count": 221,
   "id": "45633c12",
   "metadata": {},
   "outputs": [],
   "source": [
    "def content_parser():\n",
    "    if up.value == {}:\n",
    "        with out:\n",
    "            print('Hatalı yükleme yaptınız')    \n",
    "    else:\n",
    "        typ, content = \"\", \"\"\n",
    "        up_value = up.value\n",
    "        for i in up_value[0]:\n",
    "            typ = up_value[0][\"type\"]\n",
    "        if typ == \"text/csv\":\n",
    "            content = up_value[0][\"content\"]\n",
    "            content_str = str(content, 'utf-8')\n",
    "            \n",
    "            if eraser.value != {}:\n",
    "                for val in eraser.value:\n",
    "                    if val == \"tab\":\n",
    "                        content_str = content_str.replace(\"\\t\",\"\")\n",
    "                    else:\n",
    "                        content_str = content_str.replace(val,\"\")\n",
    "                if content_str != \"\":\n",
    "                    str_io = StringIO(content_str) \n",
    "                    return str_io\n",
    "def df_converter():\n",
    "    content = content_parser()\n",
    "    if content is not None:\n",
    "        df = pd.read_csv(content, sep=delim.value,header=\"infer\", index_col=False)   \n",
    "        return df\n",
    "    else:\n",
    "        return None"
   ]
  },
  {
   "cell_type": "code",
   "execution_count": 224,
   "id": "b3edf6fa",
   "metadata": {},
   "outputs": [
    {
     "data": {
      "text/html": [
       "<div>\n",
       "<style scoped>\n",
       "    .dataframe tbody tr th:only-of-type {\n",
       "        vertical-align: middle;\n",
       "    }\n",
       "\n",
       "    .dataframe tbody tr th {\n",
       "        vertical-align: top;\n",
       "    }\n",
       "\n",
       "    .dataframe thead th {\n",
       "        text-align: right;\n",
       "    }\n",
       "</style>\n",
       "<table border=\"1\" class=\"dataframe\">\n",
       "  <thead>\n",
       "    <tr style=\"text-align: right;\">\n",
       "      <th></th>\n",
       "      <th>Index</th>\n",
       "      <th>User Id</th>\n",
       "      <th>First Name</th>\n",
       "      <th>Last Name</th>\n",
       "      <th>Sex</th>\n",
       "      <th>Email</th>\n",
       "      <th>Phone</th>\n",
       "      <th>Date of birth</th>\n",
       "      <th>Job Title</th>\n",
       "    </tr>\n",
       "  </thead>\n",
       "  <tbody>\n",
       "    <tr>\n",
       "      <th>0</th>\n",
       "      <td>1</td>\n",
       "      <td>88F7B33d2bcf9f5</td>\n",
       "      <td>Shelby</td>\n",
       "      <td>Terrell</td>\n",
       "      <td>Male</td>\n",
       "      <td>elijah57@example.net</td>\n",
       "      <td>001-084-906-7849x73518</td>\n",
       "      <td>1945-10-26</td>\n",
       "      <td>Games developer</td>\n",
       "    </tr>\n",
       "    <tr>\n",
       "      <th>1</th>\n",
       "      <td>2</td>\n",
       "      <td>f90cD3E76f1A9b9</td>\n",
       "      <td>Phillip</td>\n",
       "      <td>Summers</td>\n",
       "      <td>Female</td>\n",
       "      <td>bethany14@example.com</td>\n",
       "      <td>214.112.6044x4913</td>\n",
       "      <td>1910-03-24</td>\n",
       "      <td>Phytotherapist</td>\n",
       "    </tr>\n",
       "    <tr>\n",
       "      <th>2</th>\n",
       "      <td>3</td>\n",
       "      <td>DbeAb8CcdfeFC2c</td>\n",
       "      <td>Kristine</td>\n",
       "      <td>Travis</td>\n",
       "      <td>Male</td>\n",
       "      <td>bthompson@example.com</td>\n",
       "      <td>277.609.7938</td>\n",
       "      <td>1992-07-02</td>\n",
       "      <td>Homeopath</td>\n",
       "    </tr>\n",
       "    <tr>\n",
       "      <th>3</th>\n",
       "      <td>4</td>\n",
       "      <td>A31Bee3c201ef58</td>\n",
       "      <td>Yesenia</td>\n",
       "      <td>Martinez</td>\n",
       "      <td>Male</td>\n",
       "      <td>kaitlinkaiser@example.com</td>\n",
       "      <td>584.094.6111</td>\n",
       "      <td>2017-08-03</td>\n",
       "      <td>Market researcher</td>\n",
       "    </tr>\n",
       "    <tr>\n",
       "      <th>4</th>\n",
       "      <td>5</td>\n",
       "      <td>1bA7A3dc874da3c</td>\n",
       "      <td>Lori</td>\n",
       "      <td>Todd</td>\n",
       "      <td>Male</td>\n",
       "      <td>buchananmanuel@example.net</td>\n",
       "      <td>689-207-3558x7233</td>\n",
       "      <td>1938-12-01</td>\n",
       "      <td>Veterinary surgeon</td>\n",
       "    </tr>\n",
       "    <tr>\n",
       "      <th>...</th>\n",
       "      <td>...</td>\n",
       "      <td>...</td>\n",
       "      <td>...</td>\n",
       "      <td>...</td>\n",
       "      <td>...</td>\n",
       "      <td>...</td>\n",
       "      <td>...</td>\n",
       "      <td>...</td>\n",
       "      <td>...</td>\n",
       "    </tr>\n",
       "    <tr>\n",
       "      <th>95</th>\n",
       "      <td>96</td>\n",
       "      <td>5eFda7caAeB260E</td>\n",
       "      <td>Dennis</td>\n",
       "      <td>Barnes</td>\n",
       "      <td>Female</td>\n",
       "      <td>bmartin@example.org</td>\n",
       "      <td>001-095-524-2112x257</td>\n",
       "      <td>1954-07-30</td>\n",
       "      <td>Software engineer</td>\n",
       "    </tr>\n",
       "    <tr>\n",
       "      <th>96</th>\n",
       "      <td>97</td>\n",
       "      <td>CCbFce93d3720bE</td>\n",
       "      <td>Steve</td>\n",
       "      <td>Patterson</td>\n",
       "      <td>Female</td>\n",
       "      <td>latasha46@example.net</td>\n",
       "      <td>001-865-478-5157</td>\n",
       "      <td>1932-04-29</td>\n",
       "      <td>Barrister</td>\n",
       "    </tr>\n",
       "    <tr>\n",
       "      <th>97</th>\n",
       "      <td>98</td>\n",
       "      <td>2fEc528aFAF0b69</td>\n",
       "      <td>Wesley</td>\n",
       "      <td>Bray</td>\n",
       "      <td>Male</td>\n",
       "      <td>regina11@example.org</td>\n",
       "      <td>995-542-3004x76800</td>\n",
       "      <td>1994-12-28</td>\n",
       "      <td>Police officer</td>\n",
       "    </tr>\n",
       "    <tr>\n",
       "      <th>98</th>\n",
       "      <td>99</td>\n",
       "      <td>Adc7ad9B6e4A1Fe</td>\n",
       "      <td>Summer</td>\n",
       "      <td>Oconnell</td>\n",
       "      <td>Female</td>\n",
       "      <td>alexiscantrell@example.org</td>\n",
       "      <td>001-273-685-6932x092</td>\n",
       "      <td>2012-04-12</td>\n",
       "      <td>Broadcast journalist</td>\n",
       "    </tr>\n",
       "    <tr>\n",
       "      <th>99</th>\n",
       "      <td>100</td>\n",
       "      <td>b8D0aD3490FC7e1</td>\n",
       "      <td>Mariah</td>\n",
       "      <td>Bernard</td>\n",
       "      <td>Male</td>\n",
       "      <td>pcopeland@example.org</td>\n",
       "      <td>(341)594-6554x44657</td>\n",
       "      <td>2016-11-15</td>\n",
       "      <td>IT sales professional</td>\n",
       "    </tr>\n",
       "  </tbody>\n",
       "</table>\n",
       "<p>100 rows × 9 columns</p>\n",
       "</div>"
      ],
      "text/plain": [
       "    Index          User Id First Name  Last Name     Sex  \\\n",
       "0       1  88F7B33d2bcf9f5     Shelby    Terrell    Male   \n",
       "1       2  f90cD3E76f1A9b9    Phillip    Summers  Female   \n",
       "2       3  DbeAb8CcdfeFC2c   Kristine     Travis    Male   \n",
       "3       4  A31Bee3c201ef58    Yesenia   Martinez    Male   \n",
       "4       5  1bA7A3dc874da3c       Lori       Todd    Male   \n",
       "..    ...              ...        ...        ...     ...   \n",
       "95     96  5eFda7caAeB260E     Dennis     Barnes  Female   \n",
       "96     97  CCbFce93d3720bE      Steve  Patterson  Female   \n",
       "97     98  2fEc528aFAF0b69     Wesley       Bray    Male   \n",
       "98     99  Adc7ad9B6e4A1Fe     Summer   Oconnell  Female   \n",
       "99    100  b8D0aD3490FC7e1     Mariah    Bernard    Male   \n",
       "\n",
       "                         Email                   Phone Date of birth  \\\n",
       "0         elijah57@example.net  001-084-906-7849x73518    1945-10-26   \n",
       "1        bethany14@example.com       214.112.6044x4913    1910-03-24   \n",
       "2        bthompson@example.com            277.609.7938    1992-07-02   \n",
       "3    kaitlinkaiser@example.com            584.094.6111    2017-08-03   \n",
       "4   buchananmanuel@example.net       689-207-3558x7233    1938-12-01   \n",
       "..                         ...                     ...           ...   \n",
       "95         bmartin@example.org    001-095-524-2112x257    1954-07-30   \n",
       "96       latasha46@example.net        001-865-478-5157    1932-04-29   \n",
       "97        regina11@example.org      995-542-3004x76800    1994-12-28   \n",
       "98  alexiscantrell@example.org    001-273-685-6932x092    2012-04-12   \n",
       "99       pcopeland@example.org     (341)594-6554x44657    2016-11-15   \n",
       "\n",
       "                Job Title  \n",
       "0         Games developer  \n",
       "1          Phytotherapist  \n",
       "2               Homeopath  \n",
       "3       Market researcher  \n",
       "4      Veterinary surgeon  \n",
       "..                    ...  \n",
       "95      Software engineer  \n",
       "96              Barrister  \n",
       "97         Police officer  \n",
       "98   Broadcast journalist  \n",
       "99  IT sales professional  \n",
       "\n",
       "[100 rows x 9 columns]"
      ]
     },
     "execution_count": 224,
     "metadata": {},
     "output_type": "execute_result"
    }
   ],
   "source": [
    "df_converter()"
   ]
  },
  {
   "cell_type": "markdown",
   "id": "0d030edd",
   "metadata": {},
   "source": [
    "# Button Action"
   ]
  },
  {
   "cell_type": "raw",
   "id": "e9411cc1",
   "metadata": {},
   "source": [
    "1 ### Preview Button\n",
    "2 ### Upload Button\n",
    "3 ### Description Button\n",
    "4 ### Plot Button"
   ]
  },
  {
   "cell_type": "markdown",
   "id": "3c2faf17",
   "metadata": {},
   "source": [
    "## Preview Button"
   ]
  },
  {
   "cell_type": "code",
   "execution_count": 237,
   "id": "756175f8",
   "metadata": {},
   "outputs": [],
   "source": [
    "def preview():\n",
    "    df = df_converter()\n",
    "    with out:\n",
    "        out.clear_output()\n",
    "        print(\"\\n --------Now this is how your Df looks like:------- \\n\")\n",
    "        if df is not None:\n",
    "            print(df.head(5))\n",
    "        else:\n",
    "            print(\"Configuration is wrong/missing\")"
   ]
  },
  {
   "cell_type": "code",
   "execution_count": 231,
   "id": "3df5de66",
   "metadata": {},
   "outputs": [],
   "source": [
    "def preview_clicked(b):\n",
    "    preview()\n",
    "    \n",
    "button_preview.on_click(preview_clicked)"
   ]
  },
  {
   "cell_type": "markdown",
   "id": "d276e6c6",
   "metadata": {},
   "source": [
    "# Upload Button"
   ]
  },
  {
   "cell_type": "code",
   "execution_count": 239,
   "id": "f70f7304",
   "metadata": {},
   "outputs": [],
   "source": [
    "def upload():\n",
    "    df = df_converter()\n",
    "    with out:\n",
    "        out.clear_output()\n",
    "        print(\"\\n --------Your uploaded DF looks like:-----------\\n\")\n",
    "        if df is not None:\n",
    "            print(df)\n",
    "            x_axis.options = df.columns\n",
    "            y_axis.options = df.columns\n",
    "        else:\n",
    "            print(\"Configuration is wrong/missing\")"
   ]
  },
  {
   "cell_type": "code",
   "execution_count": 240,
   "id": "038cd071",
   "metadata": {},
   "outputs": [],
   "source": [
    "def upload_clicked(b):\n",
    "    upload()\n",
    "    \n",
    "button_upload.on_click(upload_clicked)"
   ]
  },
  {
   "cell_type": "markdown",
   "id": "315e5c2e",
   "metadata": {},
   "source": [
    "# Description ToggleButton"
   ]
  },
  {
   "cell_type": "code",
   "execution_count": 245,
   "id": "cb441a8c",
   "metadata": {},
   "outputs": [],
   "source": [
    "def desc():\n",
    "    info_level = toggle.value\n",
    "    if info_level !={}:\n",
    "        df = df_converter()\n",
    "        with out:\n",
    "            out.clear_output()\n",
    "            print(\"\\n --------Your uploaded DF looks like:-----------\\n\")\n",
    "            if df is not None:\n",
    "                if info_level == \"Info\":\n",
    "                    print(df.info(verbose=True))\n",
    "                elif info_level == \"Stats\":\n",
    "                    print(df.describe())\n",
    "                elif info_level == \"Preview\":\n",
    "                    print(df.head(5))\n",
    "            else:\n",
    "                print(\"Configuration is wrong/missing\")"
   ]
  },
  {
   "cell_type": "code",
   "execution_count": 243,
   "id": "b23c2774",
   "metadata": {},
   "outputs": [],
   "source": [
    "def desc_clicked(b):\n",
    "    desc()\n",
    "toggle.observe(desc_clicked,\"value\")"
   ]
  },
  {
   "cell_type": "markdown",
   "id": "b932d958",
   "metadata": {},
   "source": [
    "# Plot Button"
   ]
  },
  {
   "cell_type": "code",
   "execution_count": 252,
   "id": "b779b0ad",
   "metadata": {},
   "outputs": [],
   "source": [
    "def plot():\n",
    "    graph = graph_type.value\n",
    "    if graph != {}:\n",
    "        df = df_converter()\n",
    "        with out:\n",
    "            out.clear_output()\n",
    "            print(\"\\n --------Your {} looks like:-----------\\n\".format(graph))\n",
    "            if df is not None:\n",
    "                height = df[y_axis.value]\n",
    "                bars = df[x_axis.value]\n",
    "                y_pos = np.arange(len(height))\n",
    "                plt.figure(figsize=(10,4))\n",
    "                if graph == \"Bar Chart\":\n",
    "                    #Create Bars\n",
    "                    plt.bar(\n",
    "                        y_pos,\n",
    "                        height,\n",
    "                        color=color_picker.value)\n",
    "                    \n",
    "                    #Crate names on the x-axis\n",
    "                    plt.xticks(y_pos, bars)\n",
    "                elif graph == \"Line Chart\":\n",
    "                    plt.plot(\n",
    "                        bars,\n",
    "                        height,\n",
    "                        color=color_picker.value,\n",
    "                        marker=\"o\",\n",
    "                        linestyle=\"solid\")\n",
    "                    plt.xticks(bars)\n",
    "                #Show graphic\n",
    "                plt.show()\n",
    "            else:\n",
    "                print(\"Configuration is wrong/missing\")"
   ]
  },
  {
   "cell_type": "code",
   "execution_count": 250,
   "id": "5839cce6",
   "metadata": {},
   "outputs": [],
   "source": [
    "def plotter_clicked(b):\n",
    "    plot()\n",
    "    \n",
    "button_plot.on_click(plotter_clicked)"
   ]
  },
  {
   "cell_type": "code",
   "execution_count": 253,
   "id": "73db177e",
   "metadata": {
    "scrolled": false
   },
   "outputs": [
    {
     "data": {
      "application/vnd.jupyter.widget-view+json": {
       "model_id": "b525db313e8f4d2ead2d3af2aff239bf",
       "version_major": 2,
       "version_minor": 0
      },
      "text/plain": [
       "Tab(children=(VBox(children=(Accordion(children=(FileUpload(value=({'name': 'people-100.csv', 'type': 'text/cs…"
      ]
     },
     "execution_count": 253,
     "metadata": {},
     "output_type": "execute_result"
    }
   ],
   "source": [
    "tab"
   ]
  }
 ],
 "metadata": {
  "kernelspec": {
   "display_name": "Python 3 (ipykernel)",
   "language": "python",
   "name": "python3"
  },
  "language_info": {
   "codemirror_mode": {
    "name": "ipython",
    "version": 3
   },
   "file_extension": ".py",
   "mimetype": "text/x-python",
   "name": "python",
   "nbconvert_exporter": "python",
   "pygments_lexer": "ipython3",
   "version": "3.11.3"
  }
 },
 "nbformat": 4,
 "nbformat_minor": 5
}
