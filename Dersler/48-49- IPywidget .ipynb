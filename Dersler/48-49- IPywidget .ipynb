{
 "cells": [
  {
   "cell_type": "markdown",
   "id": "8d7a15ca",
   "metadata": {},
   "source": [
    "# CONTENT"
   ]
  },
  {
   "cell_type": "raw",
   "id": "9230ea70",
   "metadata": {},
   "source": [
    "1 ### Library import ###\n",
    "    1.1 ### Widgets\n",
    "    1.2 ### CSV/Data Ops\n",
    "    1.3 ### Drawing\n",
    "    \n",
    "2 ###        Widgets        ###\n",
    "    2.1    ### Tabs\n",
    "    2.2    ### FileUpload\n",
    "    2.3    ### Output\n",
    "    2.4    ### SelectMultiple\n",
    "    2.5    ### RadioButton\n",
    "    2.6    ### IntSlider\n",
    "    2.7    ### Accordion\n",
    "    2.8    ### Button\n",
    "    2.9    ### HBox/VBox\n",
    "    2.10   ### ToggleButtons\n",
    "    2.11   ### Dropdown\n",
    "    2.12   ### ColorPicker\n",
    "\n",
    "3 ###    Value Import     ###\n",
    "\n",
    "4 ###    Button Action    ###\n",
    "    4.1   ### Preview Button\n",
    "    4.2   ### Upload Button\n",
    "    4.3   ### Description ToggleButton\n",
    "    4.4   ### Plot Button"
   ]
  },
  {
   "cell_type": "markdown",
   "id": "9de8cd98",
   "metadata": {},
   "source": [
    "# Library Import (KÜTÜPHANE GİRİŞ)"
   ]
  },
  {
   "cell_type": "raw",
   "id": "8348c9aa",
   "metadata": {},
   "source": [
    "1 ### Widgets\n",
    "2 ### CSV/Data Operations\n",
    "3 ### Drawing"
   ]
  },
  {
   "cell_type": "code",
   "execution_count": null,
   "id": "3e7932a6",
   "metadata": {},
   "outputs": [],
   "source": [
    "# Widgets\n",
    "import ipywidgets as widgets\n",
    "\n",
    "# CSV/DataFrame\n",
    "import pandas as pd\n",
    "import numpy as np\n",
    "from io import StringIO\n",
    "\n",
    "# Drawing\n",
    "import matplotlib.pyplot as plt\n",
    "%matplotlib inline"
   ]
  },
  {
   "cell_type": "markdown",
   "id": "6bb06831",
   "metadata": {},
   "source": [
    "# Widgets (ALETLER)"
   ]
  },
  {
   "cell_type": "raw",
   "id": "c48073f5",
   "metadata": {},
   "source": [
    "1  ### Tabs\n",
    "2  ### FileUpload\n",
    "3  ### Output\n",
    "4  ### SelectMultiple\n",
    "5  ### RadioButton\n",
    "6  ### IntSlider\n",
    "7  ### Accordion\n",
    "8  ### Button\n",
    "9  ### HBox/VBox\n",
    "10 ### ToggleButtons\n",
    "11 ### Dropdown\n",
    "12 ### ColorPicker"
   ]
  },
  {
   "cell_type": "markdown",
   "id": "3a72d383",
   "metadata": {},
   "source": [
    "## Tabs"
   ]
  },
  {
   "cell_type": "code",
   "execution_count": null,
   "id": "eb778091",
   "metadata": {},
   "outputs": [],
   "source": [
    "tab = widgets.Tab()\n",
    "placeholder = widgets.Label()\n",
    "tab.children = (placeholder,placeholder,placeholder)\n",
    "tab.set_title(0,\"Upload\")\n",
    "tab.set_title(1,\"Describer\")\n",
    "tab.set_title(2,\"Plotter\")\n",
    "tab"
   ]
  },
  {
   "cell_type": "markdown",
   "id": "f449e8c8",
   "metadata": {},
   "source": [
    "## FileUpload"
   ]
  },
  {
   "cell_type": "code",
   "execution_count": null,
   "id": "cfa2fa5d",
   "metadata": {},
   "outputs": [],
   "source": [
    "#Accept = uzantısı ne olacağını belirliyorsun txt ise \"txt\" yazıyorsun\n",
    "#Multiple = Eğer birden fazla dosya yüklemek istiyorsan True, istemiyorsan False\n",
    "up = widgets.FileUpload(accept = \"\",multiple = False)\n",
    "up"
   ]
  },
  {
   "cell_type": "markdown",
   "id": "a148eab3",
   "metadata": {},
   "source": [
    "## Output "
   ]
  },
  {
   "cell_type": "code",
   "execution_count": null,
   "id": "a8a2be69",
   "metadata": {},
   "outputs": [],
   "source": [
    "out = widgets.Output(layout = {\"border\":\"1px solid black\"})\n",
    "tab.children = [up,out,out]\n",
    "tab"
   ]
  },
  {
   "cell_type": "markdown",
   "id": "7b4ab34c",
   "metadata": {},
   "source": [
    "## SelectMultiple"
   ]
  },
  {
   "cell_type": "code",
   "execution_count": null,
   "id": "4152737e",
   "metadata": {},
   "outputs": [],
   "source": [
    "eraser = widgets.SelectMultiple(\n",
    "    options = [\"tab\",\"'\"], # Hangi seceneklerin sunulacağı\n",
    "    value = [\"tab\"], #Hangi değere secili başlayacağı\n",
    "    #rows = 10, Ne kadar büyük olacağı\n",
    "    description = \"Eraser: \", #İlk açıklaması\n",
    "    disabled = False\n",
    "    #disabled = Seçimin kapalı mı açık mı olacağı\n",
    ")\n",
    "eraser"
   ]
  },
  {
   "cell_type": "markdown",
   "id": "1492cc5c",
   "metadata": {},
   "source": [
    "## RadioButtons"
   ]
  },
  {
   "cell_type": "code",
   "execution_count": null,
   "id": "c69dc147",
   "metadata": {},
   "outputs": [],
   "source": [
    "delim = widgets.RadioButtons(\n",
    "    options = [\";\",\",\",\"i\"],\n",
    "    description = \"Separator: \",\n",
    "    disabled = False,\n",
    "    value = \",\"\n",
    ")\n",
    "delim"
   ]
  },
  {
   "cell_type": "markdown",
   "id": "d79e7f2b",
   "metadata": {},
   "source": [
    "## IntSlider"
   ]
  },
  {
   "cell_type": "code",
   "execution_count": null,
   "id": "f78931e3",
   "metadata": {},
   "outputs": [],
   "source": [
    "rows = widgets.IntSlider(\n",
    "    value=0, #0 Değeri ile başlayan\n",
    "    step=1, # Her adımda 1 artırılarak devam eden\n",
    "    min = 5, # Min alabileceği değer\n",
    "    max = 10, # max alabileceği değer\n",
    "    description = \"# of lines:\",\n",
    "    disabled = False,\n",
    "    continous_update = False,\n",
    "    orientation = \"horizontal\",\n",
    "    readout = True,\n",
    "    readout_format = \"d\"\n",
    "    \n",
    ")\n",
    "rows"
   ]
  },
  {
   "cell_type": "markdown",
   "id": "30215ddf",
   "metadata": {},
   "source": [
    "## Accordion "
   ]
  },
  {
   "cell_type": "code",
   "execution_count": null,
   "id": "ee66ccc6",
   "metadata": {},
   "outputs": [],
   "source": [
    "accordion = widgets.Accordion()\n",
    "accordion.children= [ # İçeriğine ulaşmak için childern kullanıyoruz\n",
    "    up,\n",
    "    delim,\n",
    "    rows,\n",
    "]\n",
    "accordion.set_title(0,\"File Selection\")\n",
    "accordion.set_title(1,\"Delimiter\")\n",
    "accordion.set_title(2,\"Skip Rows\")\n",
    "accordion"
   ]
  },
  {
   "cell_type": "markdown",
   "id": "2963b5ed",
   "metadata": {},
   "source": [
    "## Button"
   ]
  },
  {
   "cell_type": "code",
   "execution_count": null,
   "id": "ee26a852",
   "metadata": {},
   "outputs": [],
   "source": [
    "button_upload = widgets.Button(\n",
    "    description = \"Upload\",\n",
    "    disabled = False,\n",
    "    button_style = \"warning\", # 'success', 'info', 'warning', 'danger' or '' SADECE RENGİ BELİRLİYOR\n",
    "    tooltip=\"Click to upload\", # NASIL BİR TİPİ OLACAĞINI YAZIYORSUN SADECE\n",
    "    icon=\"check\" # search, pencil\n",
    ")\n",
    "button_upload"
   ]
  },
  {
   "cell_type": "code",
   "execution_count": null,
   "id": "bd210c58",
   "metadata": {},
   "outputs": [],
   "source": [
    "button_preview = widgets.Button(\n",
    "    description = \"Preview\",\n",
    "    disabled = False,\n",
    "    button_style = \"success\", # 'success', 'info', 'warning', 'danger' or '' SADECE RENGİ BELİRLİYOR\n",
    "    tooltip=\"Click to upload\", # NASIL BİR TİPİ OLACAĞINI YAZIYORSUN SADECE\n",
    "    icon=\"search\" # search, pencil\n",
    ")\n",
    "button_preview"
   ]
  },
  {
   "cell_type": "code",
   "execution_count": null,
   "id": "955e5870",
   "metadata": {},
   "outputs": [],
   "source": [
    "button_plot = widgets.Button(\n",
    "    description = \"Plot\",\n",
    "    disabled = False,\n",
    "    button_style = \"warning\", # 'success', 'info', 'warning', 'danger' or '' SADECE RENGİ BELİRLİYOR\n",
    "    tooltip=\"Click to Plot\", # NASIL BİR TİPİ OLACAĞINI YAZIYORSUN SADECE\n",
    "    icon=\"pencil\" # search, pencil\n",
    ")\n",
    "button_plot"
   ]
  },
  {
   "cell_type": "markdown",
   "id": "ae6aa702",
   "metadata": {},
   "source": [
    "## Groupping - HBox(Horizontal, Yatay)/Vbox(Vertical/ Dikey)"
   ]
  },
  {
   "cell_type": "code",
   "execution_count": null,
   "id": "f30df179",
   "metadata": {},
   "outputs": [],
   "source": [
    "#Widgetların gruplanmasını sağlar\n",
    "vb = widgets.VBox([accordion,eraser])\n",
    "vb"
   ]
  },
  {
   "cell_type": "code",
   "execution_count": null,
   "id": "c7f158ad",
   "metadata": {},
   "outputs": [],
   "source": [
    "hb = widgets.HBox([accordion,eraser])\n",
    "hb"
   ]
  },
  {
   "cell_type": "code",
   "execution_count": null,
   "id": "910aeb34",
   "metadata": {},
   "outputs": [],
   "source": [
    "accordion.children= (\n",
    "    up,\n",
    "    widgets.VBox([delim,eraser]),\n",
    "    rows\n",
    ")\n",
    "accordion_box = widgets.VBox([\n",
    "    accordion,\n",
    "    widgets.HBox([button_upload,button_preview]),\n",
    "    out\n",
    "])\n",
    "accordion_box"
   ]
  },
  {
   "cell_type": "markdown",
   "id": "d90399bc",
   "metadata": {},
   "source": [
    "## ToggleButtons"
   ]
  },
  {
   "cell_type": "code",
   "execution_count": null,
   "id": "0a6c65df",
   "metadata": {},
   "outputs": [],
   "source": [
    "toggle = widgets.ToggleButtons( #RADIO BUTTON İLE BUTONLARIN BİRLEŞMİŞ HALİ GİBİ\n",
    "    options = [\"Preview\",\"Info\",\"Stats\"],\n",
    "    description=\"Options\",\n",
    "    disabled = False,\n",
    "    button_style = \"warning\",\n",
    "    icons = [\"search\",\"info\",\"tachometer\"]\n",
    ")\n",
    "#toggle.observe(desc_clicked,\"value\")\n",
    "toggle"
   ]
  },
  {
   "cell_type": "markdown",
   "id": "43fc8010",
   "metadata": {},
   "source": [
    "## Dropdown"
   ]
  },
  {
   "cell_type": "code",
   "execution_count": null,
   "id": "adfe87b6",
   "metadata": {},
   "outputs": [],
   "source": [
    "x_axis = widgets.Dropdown(\n",
    "    options = [\"\"],\n",
    "    value = \"\",\n",
    "    description = \"X-Axis: \",\n",
    "    disabled = False\n",
    ")\n",
    "y_axis = widgets.Dropdown(\n",
    "    options = [\"\"],\n",
    "    value = \"\",\n",
    "    description = \"Y-Axis: \",\n",
    "    disabled = False\n",
    ")\n",
    "graph_type = widgets.Dropdown(\n",
    "    options = [\"Bar Chart\",\"Line Chart\"],\n",
    "    value = \"Bar Chart\",\n",
    "    description = \"Chart Type: \",\n",
    "    disabled = False\n",
    ")\n",
    "graph_type"
   ]
  },
  {
   "cell_type": "markdown",
   "id": "07d3c416",
   "metadata": {},
   "source": [
    "## ColorPicker"
   ]
  },
  {
   "cell_type": "code",
   "execution_count": null,
   "id": "8301fe34",
   "metadata": {},
   "outputs": [],
   "source": [
    "color_picker = widgets.ColorPicker(\n",
    "    concise = False,\n",
    "    description = \"Color Picker: \",\n",
    "    value = \"lightblue\",\n",
    "    disabled = False\n",
    ")\n",
    "color_picker"
   ]
  },
  {
   "cell_type": "code",
   "execution_count": null,
   "id": "3b5fe8f3",
   "metadata": {},
   "outputs": [],
   "source": [
    "#GENEL WIDGETS ÇIKTISI\n",
    "children = [\n",
    "    accordion_box,\n",
    "    widgets.VBox([toggle,out]),\n",
    "    widgets.VBox([\n",
    "        widgets.HBox([graph_type,color_picker]),\n",
    "        widgets.HBox([x_axis,y_axis]),\n",
    "        button_plot,\n",
    "        out\n",
    "    ])\n",
    "]\n",
    "tab.children = children\n",
    "tab"
   ]
  },
  {
   "cell_type": "markdown",
   "id": "42ccadfb",
   "metadata": {},
   "source": [
    "## Value Import"
   ]
  },
  {
   "cell_type": "code",
   "execution_count": null,
   "id": "45633c12",
   "metadata": {},
   "outputs": [],
   "source": [
    "def content_parser():\n",
    "    if up.value == {}:\n",
    "        with out:\n",
    "            print('Hatalı yükleme yaptınız')    \n",
    "    else:\n",
    "        typ, content = \"\", \"\"\n",
    "        up_value = up.value\n",
    "        for i in up_value[0]:\n",
    "            typ = up_value[0][\"type\"]\n",
    "        if typ == \"text/csv\":\n",
    "            content = up_value[0][\"content\"]\n",
    "            content_str = str(content, 'utf-8')\n",
    "            \n",
    "            if eraser.value != {}:\n",
    "                for val in eraser.value:\n",
    "                    if val == \"tab\":\n",
    "                        content_str = content_str.replace(\"\\t\",\"\")\n",
    "                    else:\n",
    "                        content_str = content_str.replace(val,\"\")\n",
    "                if content_str != \"\":\n",
    "                    str_io = StringIO(content_str) \n",
    "                    return str_io\n",
    "def df_converter():\n",
    "    content = content_parser()\n",
    "    if content is not None:\n",
    "        df = pd.read_csv(content, sep=delim.value,header=\"infer\", index_col=False)   \n",
    "        return df\n",
    "    else:\n",
    "        return None"
   ]
  },
  {
   "cell_type": "code",
   "execution_count": null,
   "id": "b3edf6fa",
   "metadata": {},
   "outputs": [],
   "source": [
    "df_converter()"
   ]
  },
  {
   "cell_type": "markdown",
   "id": "0d030edd",
   "metadata": {},
   "source": [
    "# Button Action"
   ]
  },
  {
   "cell_type": "raw",
   "id": "e9411cc1",
   "metadata": {},
   "source": [
    "1 ### Preview Button\n",
    "2 ### Upload Button\n",
    "3 ### Description Button\n",
    "4 ### Plot Button"
   ]
  },
  {
   "cell_type": "markdown",
   "id": "3c2faf17",
   "metadata": {},
   "source": [
    "## Preview Button"
   ]
  },
  {
   "cell_type": "code",
   "execution_count": null,
   "id": "756175f8",
   "metadata": {},
   "outputs": [],
   "source": [
    "def preview():\n",
    "    df = df_converter()\n",
    "    with out:\n",
    "        out.clear_output()\n",
    "        print(\"\\n --------Now this is how your Df looks like:------- \\n\")\n",
    "        if df is not None:\n",
    "            print(df.head(5))\n",
    "        else:\n",
    "            print(\"Configuration is wrong/missing\")"
   ]
  },
  {
   "cell_type": "code",
   "execution_count": null,
   "id": "3df5de66",
   "metadata": {},
   "outputs": [],
   "source": [
    "def preview_clicked(b):\n",
    "    preview()\n",
    "    \n",
    "button_preview.on_click(preview_clicked)"
   ]
  },
  {
   "cell_type": "markdown",
   "id": "d276e6c6",
   "metadata": {},
   "source": [
    "# Upload Button"
   ]
  },
  {
   "cell_type": "code",
   "execution_count": null,
   "id": "f70f7304",
   "metadata": {},
   "outputs": [],
   "source": [
    "def upload():\n",
    "    df = df_converter()\n",
    "    with out:\n",
    "        out.clear_output()\n",
    "        print(\"\\n --------Your uploaded DF looks like:-----------\\n\")\n",
    "        if df is not None:\n",
    "            print(df)\n",
    "            x_axis.options = df.columns\n",
    "            y_axis.options = df.columns\n",
    "        else:\n",
    "            print(\"Configuration is wrong/missing\")"
   ]
  },
  {
   "cell_type": "code",
   "execution_count": null,
   "id": "038cd071",
   "metadata": {},
   "outputs": [],
   "source": [
    "def upload_clicked(b):\n",
    "    upload()\n",
    "    \n",
    "button_upload.on_click(upload_clicked)"
   ]
  },
  {
   "cell_type": "markdown",
   "id": "315e5c2e",
   "metadata": {},
   "source": [
    "# Description ToggleButton"
   ]
  },
  {
   "cell_type": "code",
   "execution_count": null,
   "id": "cb441a8c",
   "metadata": {},
   "outputs": [],
   "source": [
    "def desc():\n",
    "    info_level = toggle.value\n",
    "    if info_level !={}:\n",
    "        df = df_converter()\n",
    "        with out:\n",
    "            out.clear_output()\n",
    "            print(\"\\n --------Your uploaded DF looks like:-----------\\n\")\n",
    "            if df is not None:\n",
    "                if info_level == \"Info\":\n",
    "                    print(df.info(verbose=True))\n",
    "                elif info_level == \"Stats\":\n",
    "                    print(df.describe())\n",
    "                elif info_level == \"Preview\":\n",
    "                    print(df.head(5))\n",
    "            else:\n",
    "                print(\"Configuration is wrong/missing\")"
   ]
  },
  {
   "cell_type": "code",
   "execution_count": null,
   "id": "b23c2774",
   "metadata": {},
   "outputs": [],
   "source": [
    "def desc_clicked(b):\n",
    "    desc()\n",
    "toggle.observe(desc_clicked,\"value\")"
   ]
  },
  {
   "cell_type": "markdown",
   "id": "b932d958",
   "metadata": {},
   "source": [
    "# Plot Button"
   ]
  },
  {
   "cell_type": "code",
   "execution_count": null,
   "id": "b779b0ad",
   "metadata": {},
   "outputs": [],
   "source": [
    "def plot():\n",
    "    graph = graph_type.value\n",
    "    if graph != {}:\n",
    "        df = df_converter()\n",
    "        with out:\n",
    "            out.clear_output()\n",
    "            print(\"\\n --------Your {} looks like:-----------\\n\".format(graph))\n",
    "            if df is not None:\n",
    "                height = df[y_axis.value]\n",
    "                bars = df[x_axis.value]\n",
    "                y_pos = np.arange(len(height))\n",
    "                plt.figure(figsize=(10,4))\n",
    "                if graph == \"Bar Chart\":\n",
    "                    #Create Bars\n",
    "                    plt.bar(\n",
    "                        y_pos,\n",
    "                        height,\n",
    "                        color=color_picker.value)\n",
    "                    \n",
    "                    #Crate names on the x-axis\n",
    "                    plt.xticks(y_pos, bars)\n",
    "                elif graph == \"Line Chart\":\n",
    "                    plt.plot(\n",
    "                        bars,\n",
    "                        height,\n",
    "                        color=color_picker.value,\n",
    "                        marker=\"o\",\n",
    "                        linestyle=\"solid\")\n",
    "                    plt.xticks(bars)\n",
    "                #Show graphic\n",
    "                plt.show()\n",
    "            else:\n",
    "                print(\"Configuration is wrong/missing\")"
   ]
  },
  {
   "cell_type": "code",
   "execution_count": null,
   "id": "5839cce6",
   "metadata": {},
   "outputs": [],
   "source": [
    "def plotter_clicked(b):\n",
    "    plot()\n",
    "    \n",
    "button_plot.on_click(plotter_clicked)"
   ]
  },
  {
   "cell_type": "code",
   "execution_count": null,
   "id": "73db177e",
   "metadata": {
    "scrolled": false
   },
   "outputs": [],
   "source": [
    "tab"
   ]
  }
 ],
 "metadata": {
  "kernelspec": {
   "display_name": "Python 3 (ipykernel)",
   "language": "python",
   "name": "python3"
  },
  "language_info": {
   "codemirror_mode": {
    "name": "ipython",
    "version": 3
   },
   "file_extension": ".py",
   "mimetype": "text/x-python",
   "name": "python",
   "nbconvert_exporter": "python",
   "pygments_lexer": "ipython3",
   "version": "3.11.4"
  }
 },
 "nbformat": 4,
 "nbformat_minor": 5
}
