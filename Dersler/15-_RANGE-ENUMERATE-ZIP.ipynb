{
 "cells": [
  {
   "cell_type": "markdown",
   "id": "496e30ec",
   "metadata": {},
   "source": [
    "# RANGE"
   ]
  },
  {
   "cell_type": "code",
   "execution_count": 1,
   "id": "c22923ba",
   "metadata": {},
   "outputs": [
    {
     "data": {
      "text/plain": [
       "range(0, 9)"
      ]
     },
     "execution_count": 1,
     "metadata": {},
     "output_type": "execute_result"
    }
   ],
   "source": [
    "range(9)"
   ]
  },
  {
   "cell_type": "code",
   "execution_count": 6,
   "id": "a0f26e49",
   "metadata": {},
   "outputs": [
    {
     "data": {
      "text/plain": [
       "[0, 1, 2, 3, 4, 5, 6, 7, 8]"
      ]
     },
     "execution_count": 6,
     "metadata": {},
     "output_type": "execute_result"
    }
   ],
   "source": [
    "list(range(9))"
   ]
  },
  {
   "cell_type": "code",
   "execution_count": 7,
   "id": "13ee0957",
   "metadata": {},
   "outputs": [
    {
     "data": {
      "text/plain": [
       "[0, 1, 2, 3, 4, 5, 6, 7, 8]"
      ]
     },
     "execution_count": 7,
     "metadata": {},
     "output_type": "execute_result"
    }
   ],
   "source": [
    "[*range(9)]"
   ]
  },
  {
   "cell_type": "code",
   "execution_count": 27,
   "id": "57962357",
   "metadata": {},
   "outputs": [
    {
     "data": {
      "text/plain": [
       "[2, 5, 8]"
      ]
     },
     "execution_count": 27,
     "metadata": {},
     "output_type": "execute_result"
    }
   ],
   "source": [
    "[*range(2,10,3)]"
   ]
  },
  {
   "cell_type": "code",
   "execution_count": 29,
   "id": "1d33bd3c",
   "metadata": {
    "scrolled": true
   },
   "outputs": [
    {
     "name": "stdout",
     "output_type": "stream",
     "text": [
      "2\n",
      "4\n",
      "6\n",
      "8\n"
     ]
    }
   ],
   "source": [
    "for listeleme in range(2,9,2):\n",
    "    print(listeleme)"
   ]
  },
  {
   "cell_type": "code",
   "execution_count": 33,
   "id": "d65d47cc",
   "metadata": {},
   "outputs": [
    {
     "name": "stdout",
     "output_type": "stream",
     "text": [
      "0\n",
      "1\n",
      "2\n",
      "3\n",
      "4\n"
     ]
    }
   ],
   "source": [
    "for listeleme in range(15):\n",
    "    if (listeleme < 5):\n",
    "        print(listeleme)"
   ]
  },
  {
   "cell_type": "markdown",
   "id": "b696d1c8",
   "metadata": {},
   "source": [
    "# ENUMERATE"
   ]
  },
  {
   "cell_type": "code",
   "execution_count": 39,
   "id": "ff7676b0",
   "metadata": {},
   "outputs": [
    {
     "name": "stdout",
     "output_type": "stream",
     "text": [
      "1. Harf: a\n",
      "2. Harf: b\n",
      "3. Harf: c\n",
      "4. Harf: d\n",
      "5. Harf: e\n",
      "6. Harf: f\n",
      "7. Harf: g\n"
     ]
    }
   ],
   "source": [
    "harfler = [\"a\",\"b\",\"c\",\"d\",\"e\",\"f\",\"g\"]\n",
    "for (index,harf) in (enumerate(harfler)):\n",
    "    print(\"{0}. Harf: {1}\".format(index+1,harf))"
   ]
  },
  {
   "cell_type": "markdown",
   "id": "1c114330",
   "metadata": {},
   "source": [
    "# ZIP"
   ]
  },
  {
   "cell_type": "code",
   "execution_count": 40,
   "id": "ee6732b9",
   "metadata": {},
   "outputs": [
    {
     "name": "stdout",
     "output_type": "stream",
     "text": [
      "('TR', 1)\n",
      "('FR', 2)\n",
      "('DE', 3)\n"
     ]
    }
   ],
   "source": [
    "ulkeler = [\"TR\",\"FR\",\"DE\"]\n",
    "sayi = range(1,4)\n",
    "for (birlesim) in (zip(ulkeler, sayi)):\n",
    "    print(birlesim)"
   ]
  }
 ],
 "metadata": {
  "kernelspec": {
   "display_name": "Python 3 (ipykernel)",
   "language": "python",
   "name": "python3"
  },
  "language_info": {
   "codemirror_mode": {
    "name": "ipython",
    "version": 3
   },
   "file_extension": ".py",
   "mimetype": "text/x-python",
   "name": "python",
   "nbconvert_exporter": "python",
   "pygments_lexer": "ipython3",
   "version": "3.10.9"
  }
 },
 "nbformat": 4,
 "nbformat_minor": 5
}
