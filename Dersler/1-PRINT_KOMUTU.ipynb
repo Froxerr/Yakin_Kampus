{
 "cells": [
  {
   "cell_type": "code",
   "execution_count": null,
   "id": "ab962cbd",
   "metadata": {
    "scrolled": true
   },
   "outputs": [],
   "source": [
    "print (\"SELAMIN ALEYKÜM\")\n",
    "print (\"ALEYKÜM \\n E SELAM\")\n",
    "print (\"AD =\\tİBRAHİM\")"
   ]
  },
  {
   "cell_type": "code",
   "execution_count": null,
   "id": "8e25efd5",
   "metadata": {},
   "outputs": [],
   "source": [
    "print (\"Adınız = {ad} \\nSoyadınız = {soyad}\".format(ad = \"İbrahim\", soyad = \"Aral\"))"
   ]
  }
 ],
 "metadata": {
  "kernelspec": {
   "display_name": "Python 3 (ipykernel)",
   "language": "python",
   "name": "python3"
  },
  "language_info": {
   "codemirror_mode": {
    "name": "ipython",
    "version": 3
   },
   "file_extension": ".py",
   "mimetype": "text/x-python",
   "name": "python",
   "nbconvert_exporter": "python",
   "pygments_lexer": "ipython3",
   "version": "3.11.4"
  }
 },
 "nbformat": 4,
 "nbformat_minor": 5
}
