{
 "cells": [
  {
   "cell_type": "code",
   "execution_count": 30,
   "id": "ab962cbd",
   "metadata": {
    "scrolled": true
   },
   "outputs": [
    {
     "name": "stdout",
     "output_type": "stream",
     "text": [
      "SELAMIN ALEYKÜM\n",
      "ALEYKÜM \n",
      " E SELAM\n",
      "AD =\tİBRAHİM\n"
     ]
    }
   ],
   "source": [
    "print (\"SELAMIN ALEYKÜM\")\n",
    "print (\"ALEYKÜM \\n E SELAM\")\n",
    "print (\"AD =\\tİBRAHİM\")"
   ]
  },
  {
   "cell_type": "code",
   "execution_count": 27,
   "id": "8e25efd5",
   "metadata": {},
   "outputs": [
    {
     "name": "stdout",
     "output_type": "stream",
     "text": [
      "Adınız = İbrahim \n",
      "Soyadınız = Aral\n"
     ]
    }
   ],
   "source": [
    "print (\"Adınız = {ad} \\nSoyadınız = {soyad}\".format(ad = \"İbrahim\", soyad = \"Aral\"))"
   ]
  }
 ],
 "metadata": {
  "kernelspec": {
   "display_name": "Python 3 (ipykernel)",
   "language": "python",
   "name": "python3"
  },
  "language_info": {
   "codemirror_mode": {
    "name": "ipython",
    "version": 3
   },
   "file_extension": ".py",
   "mimetype": "text/x-python",
   "name": "python",
   "nbconvert_exporter": "python",
   "pygments_lexer": "ipython3",
   "version": "3.10.9"
  }
 },
 "nbformat": 4,
 "nbformat_minor": 5
}
