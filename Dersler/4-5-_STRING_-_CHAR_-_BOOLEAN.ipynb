{
 "cells": [
  {
   "cell_type": "raw",
   "id": "ce216bf0",
   "metadata": {},
   "source": [
    "P |\t Y |  T |  H |  O |\t N |\n",
    "---------------------\n",
    "0 |  1 |  2 |  3 |  4 |\t 5 |\n",
    "0 | -5 | -4 | -3 | -2 | -1 | \n"
   ]
  },
  {
   "cell_type": "code",
   "execution_count": 77,
   "id": "5ac1cbd8",
   "metadata": {},
   "outputs": [
    {
     "name": "stdout",
     "output_type": "stream",
     "text": [
      "Python\n"
     ]
    }
   ],
   "source": [
    "strvar = \"Python\"\n",
    "print (strvar)"
   ]
  },
  {
   "cell_type": "code",
   "execution_count": 5,
   "id": "c22ff90e",
   "metadata": {},
   "outputs": [
    {
     "data": {
      "text/plain": [
       "'y'"
      ]
     },
     "execution_count": 5,
     "metadata": {},
     "output_type": "execute_result"
    }
   ],
   "source": [
    "strvar[1]"
   ]
  },
  {
   "cell_type": "code",
   "execution_count": 6,
   "id": "f836ecf3",
   "metadata": {},
   "outputs": [
    {
     "data": {
      "text/plain": [
       "'hon'"
      ]
     },
     "execution_count": 6,
     "metadata": {},
     "output_type": "execute_result"
    }
   ],
   "source": [
    "strvar[3:]"
   ]
  },
  {
   "cell_type": "code",
   "execution_count": 7,
   "id": "9058d9af",
   "metadata": {},
   "outputs": [
    {
     "data": {
      "text/plain": [
       "'Pyth'"
      ]
     },
     "execution_count": 7,
     "metadata": {},
     "output_type": "execute_result"
    }
   ],
   "source": [
    "strvar[:4]"
   ]
  },
  {
   "cell_type": "code",
   "execution_count": 84,
   "id": "5047a84d",
   "metadata": {},
   "outputs": [
    {
     "data": {
      "text/plain": [
       "'yh'"
      ]
     },
     "execution_count": 84,
     "metadata": {},
     "output_type": "execute_result"
    }
   ],
   "source": [
    "strvar [1:4:2]"
   ]
  },
  {
   "cell_type": "code",
   "execution_count": 80,
   "id": "fd94efe0",
   "metadata": {},
   "outputs": [
    {
     "data": {
      "text/plain": [
       "'Python arkadaş!'"
      ]
     },
     "execution_count": 80,
     "metadata": {},
     "output_type": "execute_result"
    }
   ],
   "source": [
    "strvar + \" arkadaş!\""
   ]
  },
  {
   "cell_type": "code",
   "execution_count": 82,
   "id": "04cc4c4e",
   "metadata": {},
   "outputs": [
    {
     "data": {
      "text/plain": [
       "'Python arkadaş!'"
      ]
     },
     "execution_count": 82,
     "metadata": {},
     "output_type": "execute_result"
    }
   ],
   "source": [
    "strvar = strvar + \" arkadaş!\"\n",
    "strvar"
   ]
  },
  {
   "cell_type": "code",
   "execution_count": 70,
   "id": "ab529af7",
   "metadata": {},
   "outputs": [
    {
     "data": {
      "text/plain": [
       "15"
      ]
     },
     "execution_count": 70,
     "metadata": {},
     "output_type": "execute_result"
    }
   ],
   "source": [
    "len(strvar)"
   ]
  },
  {
   "cell_type": "code",
   "execution_count": 76,
   "id": "40981fd4",
   "metadata": {},
   "outputs": [
    {
     "data": {
      "text/plain": [
       "'Python arkadaş!Python arkadaş!Python arkadaş!Python arkadaş!Python arkadaş!Python arkadaş!Python arkadaş!Python arkadaş!Python arkadaş!Python arkadaş!Python arkadaş!Python arkadaş!Python arkadaş!Python arkadaş!Python arkadaş!Python arkadaş!Python arkadaş!Python arkadaş!Python arkadaş!Python arkadaş!Python arkadaş!Python arkadaş!Python arkadaş!Python arkadaş!Python arkadaş!'"
      ]
     },
     "execution_count": 76,
     "metadata": {},
     "output_type": "execute_result"
    }
   ],
   "source": [
    "strvar * 5"
   ]
  },
  {
   "cell_type": "code",
   "execution_count": 88,
   "id": "0c780fa5",
   "metadata": {},
   "outputs": [
    {
     "data": {
      "text/plain": [
       "['Python ', 'rk', 'd', 'ş!']"
      ]
     },
     "execution_count": 88,
     "metadata": {},
     "output_type": "execute_result"
    }
   ],
   "source": [
    "strvar.split(\"a\")"
   ]
  },
  {
   "cell_type": "code",
   "execution_count": 92,
   "id": "347fde47",
   "metadata": {},
   "outputs": [
    {
     "data": {
      "text/plain": [
       "['Python ', 'rkadaş!']"
      ]
     },
     "execution_count": 92,
     "metadata": {},
     "output_type": "execute_result"
    }
   ],
   "source": [
    "strvar.split(sep=\"a\", maxsplit=1)"
   ]
  },
  {
   "cell_type": "code",
   "execution_count": 86,
   "id": "42ccb013",
   "metadata": {},
   "outputs": [
    {
     "data": {
      "text/plain": [
       "'python arkadaş!'"
      ]
     },
     "execution_count": 86,
     "metadata": {},
     "output_type": "execute_result"
    }
   ],
   "source": [
    "strvar.lower()"
   ]
  },
  {
   "cell_type": "code",
   "execution_count": 87,
   "id": "f276fa42",
   "metadata": {
    "scrolled": false
   },
   "outputs": [
    {
     "data": {
      "text/plain": [
       "'PYTHON ARKADAŞ!'"
      ]
     },
     "execution_count": 87,
     "metadata": {},
     "output_type": "execute_result"
    }
   ],
   "source": [
    "strvar.upper()"
   ]
  },
  {
   "cell_type": "markdown",
   "id": "438368e5",
   "metadata": {},
   "source": [
    "## Boolean"
   ]
  },
  {
   "cell_type": "code",
   "execution_count": 5,
   "id": "a833c723",
   "metadata": {},
   "outputs": [
    {
     "name": "stdout",
     "output_type": "stream",
     "text": [
      "True\n",
      "<class 'bool'>\n",
      "False\n",
      "True\n",
      "<class 'str'>\n"
     ]
    }
   ],
   "source": [
    "yas1 = True\n",
    "yas2 = False\n",
    "yas3 = \"True\"\n",
    "print (yas1)\n",
    "print (type(yas1))\n",
    "print (yas2)\n",
    "print (yas3)\n",
    "print (type(yas3))"
   ]
  },
  {
   "cell_type": "code",
   "execution_count": 14,
   "id": "4204a0a1",
   "metadata": {
    "scrolled": true
   },
   "outputs": [
    {
     "name": "stdout",
     "output_type": "stream",
     "text": [
      "True\n",
      "False\n"
     ]
    },
    {
     "data": {
      "text/plain": [
       "False"
      ]
     },
     "execution_count": 14,
     "metadata": {},
     "output_type": "execute_result"
    }
   ],
   "source": [
    "yas1 = 18\n",
    "yas2 = 20\n",
    "print (yas1 == 18)\n",
    "print (yas1 != 18)\n",
    "not yas1 == 18"
   ]
  }
 ],
 "metadata": {
  "celltoolbar": "Raw Cell Format",
  "kernelspec": {
   "display_name": "Python 3 (ipykernel)",
   "language": "python",
   "name": "python3"
  },
  "language_info": {
   "codemirror_mode": {
    "name": "ipython",
    "version": 3
   },
   "file_extension": ".py",
   "mimetype": "text/x-python",
   "name": "python",
   "nbconvert_exporter": "python",
   "pygments_lexer": "ipython3",
   "version": "3.10.9"
  }
 },
 "nbformat": 4,
 "nbformat_minor": 5
}
