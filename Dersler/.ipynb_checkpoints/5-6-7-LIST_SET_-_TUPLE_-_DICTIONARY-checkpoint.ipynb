{
 "cells": [
  {
   "cell_type": "markdown",
   "id": "6df91781",
   "metadata": {},
   "source": [
    "# LİST VE SET "
   ]
  },
  {
   "cell_type": "raw",
   "id": "5e4a54d9",
   "metadata": {},
   "source": [
    "List ve Set\n",
    "[a ,  b ,   c ,   d ,   e ,   a]\n",
    "----------------------------------\n",
    "0  |  1  |  2  |  3  |  4  |  5 \n",
    "0  | -5  | -4  | -3  | -2  | -1"
   ]
  },
  {
   "cell_type": "code",
   "execution_count": null,
   "id": "6975b6fa",
   "metadata": {},
   "outputs": [],
   "source": [
    "listem = [\"a\",\"b\",\"c\",\"d\",\"e\",\"a\"]\n",
    "listem"
   ]
  },
  {
   "cell_type": "code",
   "execution_count": null,
   "id": "df38e765",
   "metadata": {},
   "outputs": [],
   "source": [
    "listem[2:5]"
   ]
  },
  {
   "cell_type": "code",
   "execution_count": null,
   "id": "09858b0e",
   "metadata": {},
   "outputs": [],
   "source": [
    "listem = listem + [\"g\"]\n",
    "listem"
   ]
  },
  {
   "cell_type": "code",
   "execution_count": null,
   "id": "4a8b9af6",
   "metadata": {},
   "outputs": [],
   "source": [
    "listem.append(\"f\")\n",
    "listem"
   ]
  },
  {
   "cell_type": "code",
   "execution_count": null,
   "id": "12be7e6d",
   "metadata": {},
   "outputs": [],
   "source": [
    "listem.pop()\n",
    "listem"
   ]
  },
  {
   "cell_type": "code",
   "execution_count": null,
   "id": "ba2e4a60",
   "metadata": {},
   "outputs": [],
   "source": [
    "listem.pop(2)\n",
    "listem"
   ]
  },
  {
   "cell_type": "code",
   "execution_count": null,
   "id": "c816b939",
   "metadata": {},
   "outputs": [],
   "source": [
    "sayi = [1,2,3,4,5,6,6,7,7,8,9,0,0]\n",
    "sayi"
   ]
  },
  {
   "cell_type": "code",
   "execution_count": null,
   "id": "c33a458b",
   "metadata": {},
   "outputs": [],
   "source": [
    "set(sayi)"
   ]
  },
  {
   "cell_type": "code",
   "execution_count": null,
   "id": "a03abc29",
   "metadata": {},
   "outputs": [],
   "source": [
    "sayi.reverse()\n",
    "sayi"
   ]
  },
  {
   "cell_type": "code",
   "execution_count": null,
   "id": "36481790",
   "metadata": {},
   "outputs": [],
   "source": [
    "sayi.sort()\n",
    "sayi"
   ]
  },
  {
   "cell_type": "markdown",
   "id": "a8962c07",
   "metadata": {},
   "source": [
    "## TUPLE "
   ]
  },
  {
   "cell_type": "raw",
   "id": "d1710514",
   "metadata": {},
   "source": [
    "List ve Set\n",
    "[a ,  b ,   c ,   d ,   e ,   a]\n",
    "----------------------------------\n",
    "0  |  1  |  2  |  3  |  4  |  5 \n",
    "0  | -5  | -4  | -3  | -2  | -1"
   ]
  },
  {
   "cell_type": "code",
   "execution_count": null,
   "id": "d543f286",
   "metadata": {},
   "outputs": [],
   "source": [
    "liste = [\"a\",\"b\",\"c\",\"d\",\"e\",\"f\",\"a\"]\n",
    "print (liste)\n",
    "tup = (\"a\",\"b\",\"c\",\"d\",\"e\",\"f\",\"a\")\n",
    "print (tup)"
   ]
  },
  {
   "cell_type": "code",
   "execution_count": null,
   "id": "c8a0441d",
   "metadata": {},
   "outputs": [],
   "source": [
    "liste[0] = 1453\n",
    "print(liste)\n",
    "#tup[0] = 1 TUP DEĞİŞTİRİLEMEZ OLDUĞU İÇİN HATA VERİYOR"
   ]
  },
  {
   "cell_type": "code",
   "execution_count": null,
   "id": "971d449f",
   "metadata": {},
   "outputs": [],
   "source": [
    "tup.count(\"a\")"
   ]
  },
  {
   "cell_type": "code",
   "execution_count": null,
   "id": "c47328bf",
   "metadata": {},
   "outputs": [],
   "source": [
    "tup.count(True)"
   ]
  },
  {
   "cell_type": "code",
   "execution_count": null,
   "id": "717dfe44",
   "metadata": {},
   "outputs": [],
   "source": [
    "tup.index(\"a\")"
   ]
  },
  {
   "cell_type": "code",
   "execution_count": null,
   "id": "009e1bfa",
   "metadata": {},
   "outputs": [],
   "source": [
    "#tup.index(True) HATA VERİR ÇÜNKÜ YOKLUĞUN TANIMI INDEXTE BULUNMAMAKTA "
   ]
  },
  {
   "cell_type": "markdown",
   "id": "511190e8",
   "metadata": {},
   "source": [
    "## DICTIONARY"
   ]
  },
  {
   "cell_type": "code",
   "execution_count": null,
   "id": "b5cad050",
   "metadata": {},
   "outputs": [],
   "source": [
    "dic1 = {\"ad\": \"İbrahim\", \"yas\": 134, \"Konum\":\"İstanbul\"}\n",
    "dic1"
   ]
  },
  {
   "cell_type": "code",
   "execution_count": null,
   "id": "1eab6e66",
   "metadata": {},
   "outputs": [],
   "source": [
    "dic2 = {\n",
    "    \"ad\": \"İbrahim\",\n",
    "    \"yas\": 134,\n",
    "    \"Dogdugu_Sehir\": \"İstanbul\",\n",
    "    \"Yasadigi_Sehir\": \"Urfa\"\n",
    "}\n",
    "dic2"
   ]
  },
  {
   "cell_type": "code",
   "execution_count": null,
   "id": "736621fb",
   "metadata": {},
   "outputs": [],
   "source": [
    "dic3 = {\n",
    "    \"ad\": \"İbrahim\",\n",
    "    \"yas\": 134,\n",
    "    \"Konum\": {\n",
    "        \"Dogdugu_Sehir\": \"İstanbul\",\n",
    "        \"Yasadigi_Sehir\": \"Urfa\",\n",
    "    }\n",
    "}\n",
    "dic3"
   ]
  },
  {
   "cell_type": "code",
   "execution_count": null,
   "id": "4e547169",
   "metadata": {},
   "outputs": [],
   "source": [
    "dic2[\"yas\"]"
   ]
  },
  {
   "cell_type": "code",
   "execution_count": null,
   "id": "f581aee3",
   "metadata": {},
   "outputs": [],
   "source": [
    "dic2.get(\"yas\")"
   ]
  },
  {
   "cell_type": "code",
   "execution_count": null,
   "id": "6a1b8182",
   "metadata": {},
   "outputs": [],
   "source": [
    "dic3[\"Konum\"]"
   ]
  },
  {
   "cell_type": "code",
   "execution_count": null,
   "id": "1e2b81bc",
   "metadata": {
    "scrolled": true
   },
   "outputs": [],
   "source": [
    "dic3.get(\"Konum\")"
   ]
  },
  {
   "cell_type": "code",
   "execution_count": null,
   "id": "bd7742ac",
   "metadata": {},
   "outputs": [],
   "source": [
    "dic3.get(\"Konum\").get(\"Yasadigi_Sehir\")"
   ]
  },
  {
   "cell_type": "code",
   "execution_count": null,
   "id": "6ae10dbf",
   "metadata": {},
   "outputs": [],
   "source": [
    "dic2.items()"
   ]
  },
  {
   "cell_type": "code",
   "execution_count": null,
   "id": "e25444ff",
   "metadata": {},
   "outputs": [],
   "source": [
    "dic2.keys()"
   ]
  },
  {
   "cell_type": "code",
   "execution_count": null,
   "id": "541bef8d",
   "metadata": {},
   "outputs": [],
   "source": [
    "dic2.values()"
   ]
  },
  {
   "cell_type": "code",
   "execution_count": null,
   "id": "e8ab9682",
   "metadata": {},
   "outputs": [],
   "source": [
    "dic3.items()"
   ]
  },
  {
   "cell_type": "code",
   "execution_count": null,
   "id": "d20c19e7",
   "metadata": {},
   "outputs": [],
   "source": [
    "dic3.keys()"
   ]
  },
  {
   "cell_type": "code",
   "execution_count": null,
   "id": "202758c5",
   "metadata": {},
   "outputs": [],
   "source": [
    "dic3.values()"
   ]
  }
 ],
 "metadata": {
  "kernelspec": {
   "display_name": "Python 3 (ipykernel)",
   "language": "python",
   "name": "python3"
  },
  "language_info": {
   "codemirror_mode": {
    "name": "ipython",
    "version": 3
   },
   "file_extension": ".py",
   "mimetype": "text/x-python",
   "name": "python",
   "nbconvert_exporter": "python",
   "pygments_lexer": "ipython3",
   "version": "3.11.4"
  }
 },
 "nbformat": 4,
 "nbformat_minor": 5
}
