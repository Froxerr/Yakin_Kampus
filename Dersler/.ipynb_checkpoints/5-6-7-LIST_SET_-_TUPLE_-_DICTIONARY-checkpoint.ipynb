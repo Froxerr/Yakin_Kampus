{
 "cells": [
  {
   "cell_type": "markdown",
   "id": "6df91781",
   "metadata": {},
   "source": [
    "# LİST VE SET "
   ]
  },
  {
   "cell_type": "raw",
   "id": "5e4a54d9",
   "metadata": {},
   "source": [
    "List ve Set\n",
    "[a ,  b ,   c ,   d ,   e ,   a]\n",
    "----------------------------------\n",
    "0  |  1  |  2  |  3  |  4  |  5 \n",
    "0  | -5  | -4  | -3  | -2  | -1"
   ]
  },
  {
   "cell_type": "code",
   "execution_count": 1,
   "id": "6975b6fa",
   "metadata": {},
   "outputs": [
    {
     "data": {
      "text/plain": [
       "['a', 'b', 'c', 'd', 'e', 'a']"
      ]
     },
     "execution_count": 1,
     "metadata": {},
     "output_type": "execute_result"
    }
   ],
   "source": [
    "listem = [\"a\",\"b\",\"c\",\"d\",\"e\",\"a\"]\n",
    "listem"
   ]
  },
  {
   "cell_type": "code",
   "execution_count": 2,
   "id": "df38e765",
   "metadata": {},
   "outputs": [
    {
     "data": {
      "text/plain": [
       "['c', 'd', 'e']"
      ]
     },
     "execution_count": 2,
     "metadata": {},
     "output_type": "execute_result"
    }
   ],
   "source": [
    "listem[2:5]"
   ]
  },
  {
   "cell_type": "code",
   "execution_count": 13,
   "id": "09858b0e",
   "metadata": {},
   "outputs": [
    {
     "data": {
      "text/plain": [
       "['a', 'b', 'c', 'd', 'e', 'a', 'g', 'g']"
      ]
     },
     "execution_count": 13,
     "metadata": {},
     "output_type": "execute_result"
    }
   ],
   "source": [
    "listem = listem + [\"g\"]\n",
    "listem"
   ]
  },
  {
   "cell_type": "code",
   "execution_count": 17,
   "id": "4a8b9af6",
   "metadata": {},
   "outputs": [
    {
     "data": {
      "text/plain": [
       "['a', 'b', 'c', 'd', 'e', 'a', 'g', 'g', 'f']"
      ]
     },
     "execution_count": 17,
     "metadata": {},
     "output_type": "execute_result"
    }
   ],
   "source": [
    "listem.append(\"f\")\n",
    "listem"
   ]
  },
  {
   "cell_type": "code",
   "execution_count": 19,
   "id": "12be7e6d",
   "metadata": {},
   "outputs": [
    {
     "data": {
      "text/plain": [
       "['a', 'b', 'c', 'd', 'e', 'a', 'g']"
      ]
     },
     "execution_count": 19,
     "metadata": {},
     "output_type": "execute_result"
    }
   ],
   "source": [
    "listem.pop()\n",
    "listem"
   ]
  },
  {
   "cell_type": "code",
   "execution_count": 20,
   "id": "ba2e4a60",
   "metadata": {},
   "outputs": [
    {
     "data": {
      "text/plain": [
       "['a', 'b', 'd', 'e', 'a', 'g']"
      ]
     },
     "execution_count": 20,
     "metadata": {},
     "output_type": "execute_result"
    }
   ],
   "source": [
    "listem.pop(2)\n",
    "listem"
   ]
  },
  {
   "cell_type": "code",
   "execution_count": 26,
   "id": "c816b939",
   "metadata": {},
   "outputs": [
    {
     "data": {
      "text/plain": [
       "[1, 2, 3, 4, 5, 6, 6, 7, 7, 8, 9, 0, 0]"
      ]
     },
     "execution_count": 26,
     "metadata": {},
     "output_type": "execute_result"
    }
   ],
   "source": [
    "sayi = [1,2,3,4,5,6,6,7,7,8,9,0,0]\n",
    "sayi"
   ]
  },
  {
   "cell_type": "code",
   "execution_count": 27,
   "id": "c33a458b",
   "metadata": {},
   "outputs": [
    {
     "data": {
      "text/plain": [
       "{0, 1, 2, 3, 4, 5, 6, 7, 8, 9}"
      ]
     },
     "execution_count": 27,
     "metadata": {},
     "output_type": "execute_result"
    }
   ],
   "source": [
    "set(sayi)"
   ]
  },
  {
   "cell_type": "code",
   "execution_count": 32,
   "id": "a03abc29",
   "metadata": {},
   "outputs": [
    {
     "data": {
      "text/plain": [
       "[0, 0, 9, 8, 7, 7, 6, 6, 5, 4, 3, 2, 1]"
      ]
     },
     "execution_count": 32,
     "metadata": {},
     "output_type": "execute_result"
    }
   ],
   "source": [
    "sayi.reverse()\n",
    "sayi"
   ]
  },
  {
   "cell_type": "code",
   "execution_count": 33,
   "id": "36481790",
   "metadata": {},
   "outputs": [
    {
     "data": {
      "text/plain": [
       "[0, 0, 1, 2, 3, 4, 5, 6, 6, 7, 7, 8, 9]"
      ]
     },
     "execution_count": 33,
     "metadata": {},
     "output_type": "execute_result"
    }
   ],
   "source": [
    "sayi.sort()\n",
    "sayi"
   ]
  },
  {
   "cell_type": "markdown",
   "id": "a8962c07",
   "metadata": {},
   "source": [
    "## TUPLE "
   ]
  },
  {
   "cell_type": "raw",
   "id": "d1710514",
   "metadata": {},
   "source": [
    "List ve Set\n",
    "[a ,  b ,   c ,   d ,   e ,   a]\n",
    "----------------------------------\n",
    "0  |  1  |  2  |  3  |  4  |  5 \n",
    "0  | -5  | -4  | -3  | -2  | -1"
   ]
  },
  {
   "cell_type": "code",
   "execution_count": 34,
   "id": "d543f286",
   "metadata": {},
   "outputs": [
    {
     "name": "stdout",
     "output_type": "stream",
     "text": [
      "['a', 'b', 'c', 'd', 'e', 'f', 'a']\n",
      "('a', 'b', 'c', 'd', 'e', 'f', 'a')\n"
     ]
    }
   ],
   "source": [
    "liste = [\"a\",\"b\",\"c\",\"d\",\"e\",\"f\",\"a\"]\n",
    "print (liste)\n",
    "tup = (\"a\",\"b\",\"c\",\"d\",\"e\",\"f\",\"a\")\n",
    "print (tup)"
   ]
  },
  {
   "cell_type": "code",
   "execution_count": 46,
   "id": "c8a0441d",
   "metadata": {},
   "outputs": [
    {
     "name": "stdout",
     "output_type": "stream",
     "text": [
      "[1453, 'b', 'c', 'd', 'e', 'f', 'a']\n"
     ]
    }
   ],
   "source": [
    "liste[0] = 1453\n",
    "print(liste)\n",
    "#tup[0] = 1 TUP DEĞİŞTİRİLEMEZ OLDUĞU İÇİN HATA VERİYOR"
   ]
  },
  {
   "cell_type": "code",
   "execution_count": 42,
   "id": "971d449f",
   "metadata": {},
   "outputs": [
    {
     "data": {
      "text/plain": [
       "2"
      ]
     },
     "execution_count": 42,
     "metadata": {},
     "output_type": "execute_result"
    }
   ],
   "source": [
    "tup.count(\"a\")"
   ]
  },
  {
   "cell_type": "code",
   "execution_count": 43,
   "id": "c47328bf",
   "metadata": {},
   "outputs": [
    {
     "data": {
      "text/plain": [
       "0"
      ]
     },
     "execution_count": 43,
     "metadata": {},
     "output_type": "execute_result"
    }
   ],
   "source": [
    "tup.count(True)"
   ]
  },
  {
   "cell_type": "code",
   "execution_count": 44,
   "id": "717dfe44",
   "metadata": {},
   "outputs": [
    {
     "data": {
      "text/plain": [
       "0"
      ]
     },
     "execution_count": 44,
     "metadata": {},
     "output_type": "execute_result"
    }
   ],
   "source": [
    "tup.index(\"a\")"
   ]
  },
  {
   "cell_type": "code",
   "execution_count": null,
   "id": "009e1bfa",
   "metadata": {},
   "outputs": [],
   "source": [
    "#tup.index(True) HATA VERİR ÇÜNKÜ YOKLUĞUN TANIMI INDEXTE BULUNMAMAKTA "
   ]
  },
  {
   "cell_type": "markdown",
   "id": "511190e8",
   "metadata": {},
   "source": [
    "## DICTIONARY"
   ]
  },
  {
   "cell_type": "code",
   "execution_count": 49,
   "id": "b5cad050",
   "metadata": {},
   "outputs": [
    {
     "data": {
      "text/plain": [
       "{'ad': 'İbrahim', 'yas': 134, 'Konum': 'İstanbul'}"
      ]
     },
     "execution_count": 49,
     "metadata": {},
     "output_type": "execute_result"
    }
   ],
   "source": [
    "dic1 = {\"ad\": \"İbrahim\", \"yas\": 134, \"Konum\":\"İstanbul\"}\n",
    "dic1"
   ]
  },
  {
   "cell_type": "code",
   "execution_count": 51,
   "id": "1eab6e66",
   "metadata": {},
   "outputs": [
    {
     "data": {
      "text/plain": [
       "{'ad': 'İbrahim',\n",
       " 'yas': 134,\n",
       " 'Dogdugu_Sehir': 'İstanbul',\n",
       " 'Yasadigi_Sehir': 'Urfa'}"
      ]
     },
     "execution_count": 51,
     "metadata": {},
     "output_type": "execute_result"
    }
   ],
   "source": [
    "dic2 = {\n",
    "    \"ad\": \"İbrahim\",\n",
    "    \"yas\": 134,\n",
    "    \"Dogdugu_Sehir\": \"İstanbul\",\n",
    "    \"Yasadigi_Sehir\": \"Urfa\"\n",
    "}\n",
    "dic2"
   ]
  },
  {
   "cell_type": "code",
   "execution_count": 53,
   "id": "736621fb",
   "metadata": {},
   "outputs": [
    {
     "data": {
      "text/plain": [
       "{'ad': 'İbrahim',\n",
       " 'yas': 134,\n",
       " 'Konum': {'Dogdugu_Sehir': 'İstanbul', 'Yasadigi_Sehir': 'Urfa'}}"
      ]
     },
     "execution_count": 53,
     "metadata": {},
     "output_type": "execute_result"
    }
   ],
   "source": [
    "dic3 = {\n",
    "    \"ad\": \"İbrahim\",\n",
    "    \"yas\": 134,\n",
    "    \"Konum\": {\n",
    "        \"Dogdugu_Sehir\": \"İstanbul\",\n",
    "        \"Yasadigi_Sehir\": \"Urfa\",\n",
    "    }\n",
    "}\n",
    "dic3"
   ]
  },
  {
   "cell_type": "code",
   "execution_count": 54,
   "id": "4e547169",
   "metadata": {},
   "outputs": [
    {
     "data": {
      "text/plain": [
       "134"
      ]
     },
     "execution_count": 54,
     "metadata": {},
     "output_type": "execute_result"
    }
   ],
   "source": [
    "dic2[\"yas\"]"
   ]
  },
  {
   "cell_type": "code",
   "execution_count": 55,
   "id": "f581aee3",
   "metadata": {},
   "outputs": [
    {
     "data": {
      "text/plain": [
       "134"
      ]
     },
     "execution_count": 55,
     "metadata": {},
     "output_type": "execute_result"
    }
   ],
   "source": [
    "dic2.get(\"yas\")"
   ]
  },
  {
   "cell_type": "code",
   "execution_count": 58,
   "id": "6a1b8182",
   "metadata": {},
   "outputs": [
    {
     "data": {
      "text/plain": [
       "{'Dogdugu_Sehir': 'İstanbul', 'Yasadigi_Sehir': 'Urfa'}"
      ]
     },
     "execution_count": 58,
     "metadata": {},
     "output_type": "execute_result"
    }
   ],
   "source": [
    "dic3[\"Konum\"]"
   ]
  },
  {
   "cell_type": "code",
   "execution_count": 59,
   "id": "1e2b81bc",
   "metadata": {
    "scrolled": true
   },
   "outputs": [
    {
     "data": {
      "text/plain": [
       "{'Dogdugu_Sehir': 'İstanbul', 'Yasadigi_Sehir': 'Urfa'}"
      ]
     },
     "execution_count": 59,
     "metadata": {},
     "output_type": "execute_result"
    }
   ],
   "source": [
    "dic3.get(\"Konum\")"
   ]
  },
  {
   "cell_type": "code",
   "execution_count": 60,
   "id": "bd7742ac",
   "metadata": {},
   "outputs": [
    {
     "data": {
      "text/plain": [
       "'Urfa'"
      ]
     },
     "execution_count": 60,
     "metadata": {},
     "output_type": "execute_result"
    }
   ],
   "source": [
    "dic3.get(\"Konum\").get(\"Yasadigi_Sehir\")"
   ]
  },
  {
   "cell_type": "code",
   "execution_count": 61,
   "id": "6ae10dbf",
   "metadata": {},
   "outputs": [
    {
     "data": {
      "text/plain": [
       "dict_items([('ad', 'İbrahim'), ('yas', 134), ('Dogdugu_Sehir', 'İstanbul'), ('Yasadigi_Sehir', 'Urfa')])"
      ]
     },
     "execution_count": 61,
     "metadata": {},
     "output_type": "execute_result"
    }
   ],
   "source": [
    "dic2.items()"
   ]
  },
  {
   "cell_type": "code",
   "execution_count": 62,
   "id": "e25444ff",
   "metadata": {},
   "outputs": [
    {
     "data": {
      "text/plain": [
       "dict_keys(['ad', 'yas', 'Dogdugu_Sehir', 'Yasadigi_Sehir'])"
      ]
     },
     "execution_count": 62,
     "metadata": {},
     "output_type": "execute_result"
    }
   ],
   "source": [
    "dic2.keys()"
   ]
  },
  {
   "cell_type": "code",
   "execution_count": 64,
   "id": "541bef8d",
   "metadata": {},
   "outputs": [
    {
     "data": {
      "text/plain": [
       "dict_values(['İbrahim', 134, 'İstanbul', 'Urfa'])"
      ]
     },
     "execution_count": 64,
     "metadata": {},
     "output_type": "execute_result"
    }
   ],
   "source": [
    "dic2.values()"
   ]
  },
  {
   "cell_type": "code",
   "execution_count": 65,
   "id": "e8ab9682",
   "metadata": {},
   "outputs": [
    {
     "data": {
      "text/plain": [
       "dict_items([('ad', 'İbrahim'), ('yas', 134), ('Konum', {'Dogdugu_Sehir': 'İstanbul', 'Yasadigi_Sehir': 'Urfa'})])"
      ]
     },
     "execution_count": 65,
     "metadata": {},
     "output_type": "execute_result"
    }
   ],
   "source": [
    "dic3.items()"
   ]
  },
  {
   "cell_type": "code",
   "execution_count": 66,
   "id": "d20c19e7",
   "metadata": {},
   "outputs": [
    {
     "data": {
      "text/plain": [
       "dict_keys(['ad', 'yas', 'Konum'])"
      ]
     },
     "execution_count": 66,
     "metadata": {},
     "output_type": "execute_result"
    }
   ],
   "source": [
    "dic3.keys()"
   ]
  },
  {
   "cell_type": "code",
   "execution_count": 67,
   "id": "202758c5",
   "metadata": {},
   "outputs": [
    {
     "data": {
      "text/plain": [
       "dict_values(['İbrahim', 134, {'Dogdugu_Sehir': 'İstanbul', 'Yasadigi_Sehir': 'Urfa'}])"
      ]
     },
     "execution_count": 67,
     "metadata": {},
     "output_type": "execute_result"
    }
   ],
   "source": [
    "dic3.values()"
   ]
  }
 ],
 "metadata": {
  "kernelspec": {
   "display_name": "Python 3 (ipykernel)",
   "language": "python",
   "name": "python3"
  },
  "language_info": {
   "codemirror_mode": {
    "name": "ipython",
    "version": 3
   },
   "file_extension": ".py",
   "mimetype": "text/x-python",
   "name": "python",
   "nbconvert_exporter": "python",
   "pygments_lexer": "ipython3",
   "version": "3.11.4"
  }
 },
 "nbformat": 4,
 "nbformat_minor": 5
}
