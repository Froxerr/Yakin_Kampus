{
 "cells": [
  {
   "cell_type": "code",
   "execution_count": null,
   "id": "74903667",
   "metadata": {},
   "outputs": [],
   "source": [
    "from collections import Counter\n",
    "import random"
   ]
  },
  {
   "cell_type": "code",
   "execution_count": null,
   "id": "55d14cd2",
   "metadata": {},
   "outputs": [],
   "source": [
    "liste1 = random.sample(range(1,10),k=4)\n",
    "liste2 = random.sample(range(1,10),k=4)\n",
    "liste3 = random.sample(range(1,10),k=4)\n",
    "liste4 = random.sample(range(1,10),k=4)\n",
    "liste_icinde = [liste1,liste2,liste3,liste4]\n",
    "liste_toplam = liste1 + liste2 + liste3 + liste4\n",
    "print(liste_icinde)\n",
    "print(liste_toplam)"
   ]
  },
  {
   "cell_type": "code",
   "execution_count": null,
   "id": "ae85cb49",
   "metadata": {},
   "outputs": [],
   "source": [
    "for index, liste in enumerate(liste_icinde):\n",
    "    print(\"{}. Sayılı listem: {}\".format(index+1, liste))\n",
    "Counter(liste_toplam)"
   ]
  },
  {
   "cell_type": "code",
   "execution_count": null,
   "id": "88eb0f89",
   "metadata": {},
   "outputs": [],
   "source": [
    "Counter(\"ewrqojrqweoıjıasfd\")"
   ]
  },
  {
   "cell_type": "code",
   "execution_count": null,
   "id": "787e5245",
   "metadata": {},
   "outputs": [],
   "source": [
    "sarki = \"\"\"\n",
    "Gesi bağlarında dolanıyorum\n",
    "Yitirdim yarimi amman aranıyorum\n",
    "Yitirdim yarimi amman aranıyorum\n",
    "\"\"\"\n",
    "Counter(sarki)"
   ]
  },
  {
   "cell_type": "code",
   "execution_count": null,
   "id": "af6754dd",
   "metadata": {},
   "outputs": [],
   "source": [
    "Counter(sarki.split())"
   ]
  },
  {
   "cell_type": "code",
   "execution_count": null,
   "id": "2f73d780",
   "metadata": {},
   "outputs": [],
   "source": [
    "sarki.lower().split()"
   ]
  },
  {
   "cell_type": "code",
   "execution_count": null,
   "id": "b1064190",
   "metadata": {},
   "outputs": [],
   "source": [
    "Counter(sarki.lower().split())"
   ]
  },
  {
   "cell_type": "code",
   "execution_count": null,
   "id": "c363efd9",
   "metadata": {},
   "outputs": [],
   "source": [
    "Counter(sarki.lower().split()).most_common(5)"
   ]
  }
 ],
 "metadata": {
  "kernelspec": {
   "display_name": "Python 3 (ipykernel)",
   "language": "python",
   "name": "python3"
  },
  "language_info": {
   "codemirror_mode": {
    "name": "ipython",
    "version": 3
   },
   "file_extension": ".py",
   "mimetype": "text/x-python",
   "name": "python",
   "nbconvert_exporter": "python",
   "pygments_lexer": "ipython3",
   "version": "3.11.4"
  }
 },
 "nbformat": 4,
 "nbformat_minor": 5
}
