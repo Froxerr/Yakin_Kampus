{
 "cells": [
  {
   "cell_type": "markdown",
   "id": "ce9714c8",
   "metadata": {},
   "source": [
    "# Install"
   ]
  },
  {
   "cell_type": "code",
   "execution_count": null,
   "id": "99d6f0b6",
   "metadata": {},
   "outputs": [],
   "source": [
    "!pip install keplergl"
   ]
  },
  {
   "cell_type": "markdown",
   "id": "1ef1e471",
   "metadata": {},
   "source": [
    "# Map Canvas"
   ]
  },
  {
   "cell_type": "code",
   "execution_count": null,
   "id": "50d0de58",
   "metadata": {},
   "outputs": [],
   "source": [
    "#load an empty map\n",
    "from keplergl import KeplerGl\n",
    "map_l = KeplerGl(height=500)"
   ]
  },
  {
   "cell_type": "code",
   "execution_count": null,
   "id": "3ce0ceae",
   "metadata": {
    "scrolled": false
   },
   "outputs": [],
   "source": [
    "#jupyter nbextension install --py --sys-prefix keplergl\n",
    "#jupyter nbextension enable --py --sys-prefix keplergl\n",
    "#javascript hatası alıyorsanız yukarıda bulunan kodları 1. olanı cmd ye yapıştırın işlem bitince\n",
    "#2. olanı cmd ye yapıştırın anacondayı kapatıp açın ve tekrar deneyin ben sorunu böyle çözmüştüm\n",
    "\n",
    "#latitude Enlem\n",
    "#Longitude Boylam\n",
    "#Enlem ve Boylam olması gerekiyor\n",
    "map_l"
   ]
  },
  {
   "cell_type": "markdown",
   "id": "a2e53c1a",
   "metadata": {},
   "source": [
    "# Data Import"
   ]
  },
  {
   "cell_type": "code",
   "execution_count": null,
   "id": "db5ac822",
   "metadata": {
    "scrolled": false
   },
   "outputs": [],
   "source": [
    "with open(\"earthquake.csv\",\"r\") as f:\n",
    "    csvData = f.read()\n",
    "map_l.add_data(data=csvData, name=\"data_1\")\n",
    "map_l"
   ]
  }
 ],
 "metadata": {
  "kernelspec": {
   "display_name": "Python 3 (ipykernel)",
   "language": "python",
   "name": "python3"
  },
  "language_info": {
   "codemirror_mode": {
    "name": "ipython",
    "version": 3
   },
   "file_extension": ".py",
   "mimetype": "text/x-python",
   "name": "python",
   "nbconvert_exporter": "python",
   "pygments_lexer": "ipython3",
   "version": "3.11.4"
  }
 },
 "nbformat": 4,
 "nbformat_minor": 5
}
