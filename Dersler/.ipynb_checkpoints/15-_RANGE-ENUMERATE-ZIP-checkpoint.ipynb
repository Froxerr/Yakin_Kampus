{
 "cells": [
  {
   "cell_type": "markdown",
   "id": "496e30ec",
   "metadata": {},
   "source": [
    "# RANGE"
   ]
  },
  {
   "cell_type": "code",
   "execution_count": null,
   "id": "c22923ba",
   "metadata": {},
   "outputs": [],
   "source": [
    "range(9)"
   ]
  },
  {
   "cell_type": "code",
   "execution_count": null,
   "id": "a0f26e49",
   "metadata": {},
   "outputs": [],
   "source": [
    "list(range(9))"
   ]
  },
  {
   "cell_type": "code",
   "execution_count": null,
   "id": "13ee0957",
   "metadata": {},
   "outputs": [],
   "source": [
    "[*range(9)]"
   ]
  },
  {
   "cell_type": "code",
   "execution_count": null,
   "id": "57962357",
   "metadata": {},
   "outputs": [],
   "source": [
    "[*range(2,10,3)]"
   ]
  },
  {
   "cell_type": "code",
   "execution_count": null,
   "id": "1d33bd3c",
   "metadata": {
    "scrolled": true
   },
   "outputs": [],
   "source": [
    "for listeleme in range(2,9,2):\n",
    "    print(listeleme)"
   ]
  },
  {
   "cell_type": "code",
   "execution_count": null,
   "id": "d65d47cc",
   "metadata": {},
   "outputs": [],
   "source": [
    "for listeleme in range(15):\n",
    "    if (listeleme < 5):\n",
    "        print(listeleme)"
   ]
  },
  {
   "cell_type": "markdown",
   "id": "b696d1c8",
   "metadata": {},
   "source": [
    "# ENUMERATE"
   ]
  },
  {
   "cell_type": "code",
   "execution_count": null,
   "id": "ff7676b0",
   "metadata": {},
   "outputs": [],
   "source": [
    "harfler = [\"a\",\"b\",\"c\",\"d\",\"e\",\"f\",\"g\"]\n",
    "for (index,harf) in (enumerate(harfler)):\n",
    "    print(\"{0}. Harf: {1}\".format(index+1,harf))"
   ]
  },
  {
   "cell_type": "markdown",
   "id": "1c114330",
   "metadata": {},
   "source": [
    "# ZIP"
   ]
  },
  {
   "cell_type": "code",
   "execution_count": null,
   "id": "ee6732b9",
   "metadata": {},
   "outputs": [],
   "source": [
    "ulkeler = [\"TR\",\"FR\",\"DE\"]\n",
    "sayi = range(1,4)\n",
    "for (birlesim) in (zip(ulkeler, sayi)):\n",
    "    print(birlesim)"
   ]
  }
 ],
 "metadata": {
  "kernelspec": {
   "display_name": "Python 3 (ipykernel)",
   "language": "python",
   "name": "python3"
  },
  "language_info": {
   "codemirror_mode": {
    "name": "ipython",
    "version": 3
   },
   "file_extension": ".py",
   "mimetype": "text/x-python",
   "name": "python",
   "nbconvert_exporter": "python",
   "pygments_lexer": "ipython3",
   "version": "3.11.4"
  }
 },
 "nbformat": 4,
 "nbformat_minor": 5
}
