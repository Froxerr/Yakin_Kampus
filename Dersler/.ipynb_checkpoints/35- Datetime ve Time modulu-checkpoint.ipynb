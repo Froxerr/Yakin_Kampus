{
 "cells": [
  {
   "cell_type": "code",
   "execution_count": null,
   "id": "136f69e8",
   "metadata": {},
   "outputs": [],
   "source": [
    "import datetime"
   ]
  },
  {
   "cell_type": "markdown",
   "id": "eeef8ae7",
   "metadata": {},
   "source": [
    "# datetime.date"
   ]
  },
  {
   "cell_type": "code",
   "execution_count": null,
   "id": "81dcb7da",
   "metadata": {},
   "outputs": [],
   "source": [
    "from datetime import date"
   ]
  },
  {
   "cell_type": "code",
   "execution_count": null,
   "id": "2e472915",
   "metadata": {},
   "outputs": [],
   "source": [
    "bugun = date.today()\n",
    "bugun"
   ]
  },
  {
   "cell_type": "code",
   "execution_count": null,
   "id": "d40b369d",
   "metadata": {},
   "outputs": [],
   "source": [
    "dun = datetime.date(2023,8,5)\n",
    "dun"
   ]
  },
  {
   "cell_type": "code",
   "execution_count": null,
   "id": "471d8a07",
   "metadata": {},
   "outputs": [],
   "source": [
    "bugun - dun"
   ]
  },
  {
   "cell_type": "code",
   "execution_count": null,
   "id": "c3b65ae5",
   "metadata": {},
   "outputs": [],
   "source": [
    "zaman_araligi = bugun - dun\n",
    "zaman_araligi.days"
   ]
  },
  {
   "cell_type": "code",
   "execution_count": null,
   "id": "ecdc790c",
   "metadata": {},
   "outputs": [],
   "source": [
    "dun < bugun"
   ]
  },
  {
   "cell_type": "code",
   "execution_count": null,
   "id": "30c9b2aa",
   "metadata": {},
   "outputs": [],
   "source": [
    "yarin = bugun + datetime.timedelta(days=1)\n",
    "yarin"
   ]
  },
  {
   "cell_type": "code",
   "execution_count": null,
   "id": "0d5fe4cf",
   "metadata": {},
   "outputs": [],
   "source": [
    "bugun.year"
   ]
  },
  {
   "cell_type": "code",
   "execution_count": null,
   "id": "8fc98aae",
   "metadata": {},
   "outputs": [],
   "source": [
    "bugun.month"
   ]
  },
  {
   "cell_type": "code",
   "execution_count": null,
   "id": "458bbb66",
   "metadata": {},
   "outputs": [],
   "source": [
    "bugun.__getattribute__(\"month\")"
   ]
  },
  {
   "cell_type": "code",
   "execution_count": null,
   "id": "816f57a6",
   "metadata": {},
   "outputs": [],
   "source": [
    "date.isocalendar(bugun)[2]"
   ]
  },
  {
   "cell_type": "code",
   "execution_count": null,
   "id": "c4f7a181",
   "metadata": {},
   "outputs": [],
   "source": [
    "date.weekday(bugun)"
   ]
  },
  {
   "cell_type": "code",
   "execution_count": null,
   "id": "0fcb0b2b",
   "metadata": {},
   "outputs": [],
   "source": [
    "date.ctime(bugun)"
   ]
  },
  {
   "cell_type": "markdown",
   "id": "7ec41988",
   "metadata": {},
   "source": [
    "# datetime.time"
   ]
  },
  {
   "cell_type": "code",
   "execution_count": null,
   "id": "86658067",
   "metadata": {},
   "outputs": [],
   "source": [
    "from datetime import time"
   ]
  },
  {
   "cell_type": "code",
   "execution_count": null,
   "id": "2810a44e",
   "metadata": {},
   "outputs": [],
   "source": [
    "zaman = time(20,15,5)\n",
    "print(zaman)"
   ]
  },
  {
   "cell_type": "markdown",
   "id": "dc7c5e5d",
   "metadata": {},
   "source": [
    "# datetime.datetime"
   ]
  },
  {
   "cell_type": "code",
   "execution_count": null,
   "id": "71f91970",
   "metadata": {},
   "outputs": [],
   "source": [
    "tam_zaman = datetime.datetime(2023,10,12,20,15,5)\n",
    "print(tam_zaman)"
   ]
  },
  {
   "cell_type": "markdown",
   "id": "d28878ba",
   "metadata": {},
   "source": [
    "# time"
   ]
  },
  {
   "cell_type": "code",
   "execution_count": null,
   "id": "fb8b9a53",
   "metadata": {},
   "outputs": [],
   "source": [
    "import time"
   ]
  },
  {
   "cell_type": "code",
   "execution_count": null,
   "id": "6a4fe352",
   "metadata": {},
   "outputs": [],
   "source": [
    "ilk_zaman = time.time()\n",
    "print(\"İlk zamanım: {}\".format(ilk_zaman))\n",
    "time.sleep(5)\n",
    "son_zaman = time.time()\n",
    "print(\"Son zamanım: {}\".format(son_zaman))\n",
    "print(\"İki zaman arası fark: {}\".format(round(son_zaman - ilk_zaman)))\n"
   ]
  }
 ],
 "metadata": {
  "kernelspec": {
   "display_name": "Python 3 (ipykernel)",
   "language": "python",
   "name": "python3"
  },
  "language_info": {
   "codemirror_mode": {
    "name": "ipython",
    "version": 3
   },
   "file_extension": ".py",
   "mimetype": "text/x-python",
   "name": "python",
   "nbconvert_exporter": "python",
   "pygments_lexer": "ipython3",
   "version": "3.11.4"
  }
 },
 "nbformat": 4,
 "nbformat_minor": 5
}
