{
 "cells": [
  {
   "cell_type": "raw",
   "id": "19ae8d23",
   "metadata": {},
   "source": [
    "class <Class Ismı>(): ### Class isimleri, Genelin aksine büyük harfle başlar(Zorunlu değil ama öyle işte sen öyle başla)\n",
    "\n",
    "    <class attr>      ### Class attribute, oluşturulanın aksine genel değerler içerir\n",
    "    \n",
    "    def _init_(self, <attr>):        ### init, instantiation yani örneklendirmenin kısaltımı\n",
    "        self.<instance attr> = attr  ### instance attribute'ları, olusturulan örneğe özgüdür\n",
    "        ...\n",
    "        \n",
    "    def <method>(self, <params>):    ### methodlar class'a özgü fonksiyonlardır\n",
    "        ...\n",
    "        return ..."
   ]
  },
  {
   "cell_type": "markdown",
   "id": "7452144a",
   "metadata": {},
   "source": [
    "## class Olusturma, Attribute'lar ve Method'lar"
   ]
  },
  {
   "cell_type": "code",
   "execution_count": 1,
   "id": "fe05b0a2",
   "metadata": {},
   "outputs": [],
   "source": [
    "class Ucak():\n",
    "    havayolu = \"THY\""
   ]
  },
  {
   "cell_type": "code",
   "execution_count": 3,
   "id": "d911d725",
   "metadata": {},
   "outputs": [],
   "source": [
    "ucak1 = Ucak()"
   ]
  },
  {
   "cell_type": "code",
   "execution_count": 5,
   "id": "358da77b",
   "metadata": {},
   "outputs": [
    {
     "data": {
      "text/plain": [
       "'THY'"
      ]
     },
     "execution_count": 5,
     "metadata": {},
     "output_type": "execute_result"
    }
   ],
   "source": [
    "ucak1.havayolu"
   ]
  },
  {
   "cell_type": "code",
   "execution_count": 6,
   "id": "b4350479",
   "metadata": {},
   "outputs": [],
   "source": [
    "class Ucak():\n",
    "    havayolu = \"THY\"\n",
    "    \n",
    "    def __init__(self, kod,varis,binme,sure,kapasite,yolcu):\n",
    "        self.kod = kod\n",
    "        self.varis = varis\n",
    "        self.binme = binme\n",
    "        self.sure = sure\n",
    "        self.kapasite = kapasite\n",
    "        self.yolcu = yolcu"
   ]
  },
  {
   "cell_type": "code",
   "execution_count": 7,
   "id": "3da9a256",
   "metadata": {},
   "outputs": [
    {
     "ename": "TypeError",
     "evalue": "Ucak.__init__() missing 6 required positional arguments: 'kod', 'varis', 'binme', 'sure', 'kapasite', and 'yolcu'",
     "output_type": "error",
     "traceback": [
      "\u001b[1;31m---------------------------------------------------------------------------\u001b[0m",
      "\u001b[1;31mTypeError\u001b[0m                                 Traceback (most recent call last)",
      "Cell \u001b[1;32mIn[7], line 1\u001b[0m\n\u001b[1;32m----> 1\u001b[0m ucak2 \u001b[38;5;241m=\u001b[39m \u001b[43mUcak\u001b[49m\u001b[43m(\u001b[49m\u001b[43m)\u001b[49m\n",
      "\u001b[1;31mTypeError\u001b[0m: Ucak.__init__() missing 6 required positional arguments: 'kod', 'varis', 'binme', 'sure', 'kapasite', and 'yolcu'"
     ]
    }
   ],
   "source": [
    "ucak2 = Ucak()"
   ]
  },
  {
   "cell_type": "code",
   "execution_count": 8,
   "id": "2d6d5c6e",
   "metadata": {},
   "outputs": [],
   "source": [
    "ucak2 = Ucak(\"THY123\",\"IST\",\"ANK\",30,100,40)"
   ]
  },
  {
   "cell_type": "code",
   "execution_count": 9,
   "id": "e56f2ca5",
   "metadata": {},
   "outputs": [
    {
     "data": {
      "text/plain": [
       "30"
      ]
     },
     "execution_count": 9,
     "metadata": {},
     "output_type": "execute_result"
    }
   ],
   "source": [
    "ucak2.sure"
   ]
  },
  {
   "cell_type": "code",
   "execution_count": 10,
   "id": "0ded2627",
   "metadata": {},
   "outputs": [
    {
     "data": {
      "text/plain": [
       "'THY'"
      ]
     },
     "execution_count": 10,
     "metadata": {},
     "output_type": "execute_result"
    }
   ],
   "source": [
    "ucak2.havayolu"
   ]
  },
  {
   "cell_type": "code",
   "execution_count": 17,
   "id": "86cca748",
   "metadata": {},
   "outputs": [],
   "source": [
    "class Ucak():\n",
    "    havayolu = \"THY\"\n",
    "    \n",
    "    def __init__(self,kod,varis,binme,sure,kapasite,yolcu):\n",
    "        self.kod = kod\n",
    "        self.varis = varis\n",
    "        self.binme = binme\n",
    "        self.sure = sure\n",
    "        self.kapasite = kapasite\n",
    "        self.yolcu = yolcu\n",
    "    \n",
    "    def anons_yapma(self):\n",
    "        return \"{} Sayılı ucak {}-{} arası {} dakikası olan uçak 5 dk sonra kalkacaktır!!\".format(\n",
    "        self.kod,\n",
    "        self.varis,\n",
    "        self.binme,\n",
    "        self.sure\n",
    "        )"
   ]
  },
  {
   "cell_type": "code",
   "execution_count": 23,
   "id": "669d7b85",
   "metadata": {},
   "outputs": [],
   "source": [
    "ucak3 = Ucak(\"THY545\",\"ANK\",\"IST\",25,250,240)"
   ]
  },
  {
   "cell_type": "code",
   "execution_count": 22,
   "id": "4ec9ae63",
   "metadata": {},
   "outputs": [
    {
     "data": {
      "text/plain": [
       "'THY545 Sayılı ucak ANK-IST arası 25 dakikası olan uçak 5 dk sonra kalkacaktır!!'"
      ]
     },
     "execution_count": 22,
     "metadata": {},
     "output_type": "execute_result"
    }
   ],
   "source": [
    "ucak3.anons_yapma()"
   ]
  },
  {
   "cell_type": "code",
   "execution_count": 30,
   "id": "3ca7bb39",
   "metadata": {},
   "outputs": [],
   "source": [
    "class Ucak():\n",
    "    havayolu = \"THY\"\n",
    "    \n",
    "    def __init__(self,kod,varis,binme,sure,kapasite,yolcu):\n",
    "        self.kod = kod\n",
    "        self.varis = varis\n",
    "        self.binme = binme\n",
    "        self.sure = sure\n",
    "        self.kapasite = kapasite\n",
    "        self.yolcu = yolcu\n",
    "    \n",
    "    def anons_yapma(self):\n",
    "        return \"{} Sayılı ucak {}-{} arası {} dakikası olan uçak 5 dk sonra kalkacaktır!!\".format(\n",
    "        self.kod,\n",
    "        self.varis,\n",
    "        self.binme,\n",
    "        self.sure\n",
    "        )\n",
    "    def koltuk_sayisi_guncelleme(self):\n",
    "        return self.kapasite - self.yolcu\n",
    "    def bilet_satin_alma(self, bilet_sayisi = 1):\n",
    "        if (self.yolcu + bilet_sayisi) <= self.kapasite:\n",
    "            self.yolcu += bilet_sayisi\n",
    "            self.koltuk_sayisi_guncelleme()\n",
    "            print(\"Satın alınan bilet adedi: {}, Kalan koltuk sayısı: {}\".format(\n",
    "            bilet_sayisi,\n",
    "            self.koltuk_sayisi_guncelleme()\n",
    "            ))\n",
    "        else:\n",
    "            print(\"Malesef işleminizi gerçekleştiremiyoruz. Yetersiz koltuk sayısı.\")"
   ]
  },
  {
   "cell_type": "code",
   "execution_count": 34,
   "id": "7c9bd3df",
   "metadata": {},
   "outputs": [],
   "source": [
    "ucak3 = Ucak(\"THY545\",\"ANK\",\"IST\",25,250,240)"
   ]
  },
  {
   "cell_type": "code",
   "execution_count": 25,
   "id": "e2587bdf",
   "metadata": {},
   "outputs": [
    {
     "data": {
      "text/plain": [
       "10"
      ]
     },
     "execution_count": 25,
     "metadata": {},
     "output_type": "execute_result"
    }
   ],
   "source": [
    "ucak3.koltuk_sayisi_guncelleme()"
   ]
  },
  {
   "cell_type": "code",
   "execution_count": 28,
   "id": "bb0dd4ab",
   "metadata": {
    "scrolled": true
   },
   "outputs": [
    {
     "name": "stdout",
     "output_type": "stream",
     "text": [
      "Satın alınan bilet adedi: 1, Kalan koltuk sayısı: 9\n"
     ]
    }
   ],
   "source": [
    "ucak3.bilet_satin_alma()"
   ]
  },
  {
   "cell_type": "code",
   "execution_count": 29,
   "id": "4121d2e5",
   "metadata": {},
   "outputs": [
    {
     "name": "stdout",
     "output_type": "stream",
     "text": [
      "Satın alınan bilet adedi: 2, Kalan koltuk sayısı: 7\n"
     ]
    }
   ],
   "source": [
    "ucak3.bilet_satin_alma(2)"
   ]
  },
  {
   "cell_type": "code",
   "execution_count": 35,
   "id": "6f52c548",
   "metadata": {},
   "outputs": [
    {
     "name": "stdout",
     "output_type": "stream",
     "text": [
      "Malesef işleminizi gerçekleştiremiyoruz. Yetersiz koltuk sayısı.\n"
     ]
    }
   ],
   "source": [
    "ucak3.bilet_satin_alma(11)"
   ]
  },
  {
   "cell_type": "code",
   "execution_count": 50,
   "id": "95ece3fa",
   "metadata": {},
   "outputs": [],
   "source": [
    "class Ucak():\n",
    "    havayolu = \"THY\"\n",
    "    \n",
    "    def __init__(self,kod,varis,binme,sure,kapasite,yolcu):\n",
    "        self.kod = kod\n",
    "        self.varis = varis\n",
    "        self.binme = binme\n",
    "        self.sure = sure\n",
    "        self.kapasite = kapasite\n",
    "        self.yolcu = yolcu\n",
    "    \n",
    "    def anons_yapma(self):\n",
    "        return \"{} Sayılı ucak {}-{} arası {} dakikası olan uçak 5 dk sonra kalkacaktır!!\".format(\n",
    "        self.kod,\n",
    "        self.varis,\n",
    "        self.binme,\n",
    "        self.sure\n",
    "        )\n",
    "    def koltuk_sayisi_guncelleme(self):\n",
    "        return self.kapasite - self.yolcu\n",
    "    def bilet_satin_alma(self, bilet_sayisi = 1):\n",
    "        if (self.yolcu + bilet_sayisi) <= self.kapasite:\n",
    "            self.yolcu += bilet_sayisi\n",
    "            self.koltuk_sayisi_guncelleme()\n",
    "            print(\"Satın alınan bilet adedi: {}, Kalan koltuk sayısı: {}\".format(\n",
    "            bilet_sayisi,\n",
    "            self.koltuk_sayisi_guncelleme()\n",
    "            ))\n",
    "        else:\n",
    "            print(\"Malesef işleminizi gerçekleştiremiyoruz. Yetersiz koltuk sayısı.\")\n",
    "    def bilet_sayisi_iptali(self, iptal_bilet = 1):\n",
    "        if (iptal_bilet - self.yolcu) <= self.yolcu:\n",
    "            self.yolcu -= iptal_bilet\n",
    "            self.koltuk_sayisi_guncelleme()\n",
    "            print(\"İptal edilen bilet adedi: {}, Kalan koltuk sayısı: {}\".format(\n",
    "            iptal_bilet,\n",
    "            self.koltuk_sayisi_guncelleme()\n",
    "            ))\n",
    "        else:\n",
    "            print(\"Malesef işleminizi gerçekleştiremiyoruz. Yetersiz koltuk sayısı.\")"
   ]
  },
  {
   "cell_type": "code",
   "execution_count": 52,
   "id": "c1f05ff7",
   "metadata": {},
   "outputs": [],
   "source": [
    "ucak3 = Ucak(\"THY545\",\"ANK\",\"IST\",25,250,240)"
   ]
  },
  {
   "cell_type": "code",
   "execution_count": 57,
   "id": "7ce7ccee",
   "metadata": {},
   "outputs": [
    {
     "name": "stdout",
     "output_type": "stream",
     "text": [
      "Malesef işleminizi gerçekleştiremiyoruz. Yetersiz koltuk sayısı.\n"
     ]
    }
   ],
   "source": [
    "ucak3.bilet_sayisi_iptali(100)"
   ]
  }
 ],
 "metadata": {
  "kernelspec": {
   "display_name": "Python 3 (ipykernel)",
   "language": "python",
   "name": "python3"
  },
  "language_info": {
   "codemirror_mode": {
    "name": "ipython",
    "version": 3
   },
   "file_extension": ".py",
   "mimetype": "text/x-python",
   "name": "python",
   "nbconvert_exporter": "python",
   "pygments_lexer": "ipython3",
   "version": "3.11.4"
  }
 },
 "nbformat": 4,
 "nbformat_minor": 5
}
