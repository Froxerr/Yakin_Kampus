{
 "cells": [
  {
   "cell_type": "code",
   "execution_count": null,
   "id": "8dc76467",
   "metadata": {},
   "outputs": [],
   "source": [
    "sayi = 20\n",
    "print (sayi)"
   ]
  },
  {
   "cell_type": "code",
   "execution_count": null,
   "id": "421aa8de",
   "metadata": {},
   "outputs": [],
   "source": [
    "sayi = 50\n",
    "print (sayi)"
   ]
  },
  {
   "cell_type": "code",
   "execution_count": null,
   "id": "00c3d7a6",
   "metadata": {},
   "outputs": [],
   "source": [
    "sayi = sayi + 1\n",
    "print (sayi)"
   ]
  },
  {
   "cell_type": "markdown",
   "id": "ebadcc7d",
   "metadata": {},
   "source": [
    "BUNLAR 2. DERSİN KONUSUYDU ALTAKİLER 3. DERSİN KONUSU"
   ]
  },
  {
   "cell_type": "code",
   "execution_count": null,
   "id": "958c771a",
   "metadata": {},
   "outputs": [],
   "source": [
    "sayi = 10\n",
    "print (sayi)"
   ]
  },
  {
   "cell_type": "code",
   "execution_count": null,
   "id": "88c09d93",
   "metadata": {},
   "outputs": [],
   "source": [
    "goruntu = \"arabam\"\n",
    "print (goruntu)"
   ]
  },
  {
   "cell_type": "code",
   "execution_count": null,
   "id": "e58a403a",
   "metadata": {},
   "outputs": [],
   "source": [
    "type (goruntu)"
   ]
  },
  {
   "cell_type": "code",
   "execution_count": null,
   "id": "d4614a25",
   "metadata": {},
   "outputs": [],
   "source": [
    "type (sayi)"
   ]
  },
  {
   "cell_type": "code",
   "execution_count": null,
   "id": "3aa01faf",
   "metadata": {},
   "outputs": [],
   "source": [
    "3+5+7"
   ]
  },
  {
   "cell_type": "code",
   "execution_count": null,
   "id": "b7096912",
   "metadata": {},
   "outputs": [],
   "source": [
    "3-5-6"
   ]
  },
  {
   "cell_type": "code",
   "execution_count": null,
   "id": "6cee87bc",
   "metadata": {},
   "outputs": [],
   "source": [
    "3+5*8"
   ]
  },
  {
   "cell_type": "code",
   "execution_count": null,
   "id": "fbad53e6",
   "metadata": {},
   "outputs": [],
   "source": [
    "3*10.5"
   ]
  }
 ],
 "metadata": {
  "kernelspec": {
   "display_name": "Python 3 (ipykernel)",
   "language": "python",
   "name": "python3"
  },
  "language_info": {
   "codemirror_mode": {
    "name": "ipython",
    "version": 3
   },
   "file_extension": ".py",
   "mimetype": "text/x-python",
   "name": "python",
   "nbconvert_exporter": "python",
   "pygments_lexer": "ipython3",
   "version": "3.11.4"
  }
 },
 "nbformat": 4,
 "nbformat_minor": 5
}
