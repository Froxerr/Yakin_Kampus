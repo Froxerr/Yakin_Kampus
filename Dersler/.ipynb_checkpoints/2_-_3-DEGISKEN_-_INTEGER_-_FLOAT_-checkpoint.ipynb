{
 "cells": [
  {
   "cell_type": "code",
   "execution_count": 2,
   "id": "8dc76467",
   "metadata": {},
   "outputs": [
    {
     "name": "stdout",
     "output_type": "stream",
     "text": [
      "20\n"
     ]
    }
   ],
   "source": [
    "sayi = 20\n",
    "print (sayi)"
   ]
  },
  {
   "cell_type": "code",
   "execution_count": 3,
   "id": "421aa8de",
   "metadata": {},
   "outputs": [
    {
     "name": "stdout",
     "output_type": "stream",
     "text": [
      "50\n"
     ]
    }
   ],
   "source": [
    "sayi = 50\n",
    "print (sayi)"
   ]
  },
  {
   "cell_type": "code",
   "execution_count": 4,
   "id": "00c3d7a6",
   "metadata": {},
   "outputs": [
    {
     "name": "stdout",
     "output_type": "stream",
     "text": [
      "51\n"
     ]
    }
   ],
   "source": [
    "sayi = sayi + 1\n",
    "print (sayi)"
   ]
  },
  {
   "cell_type": "markdown",
   "id": "ebadcc7d",
   "metadata": {},
   "source": [
    "BUNLAR 2. DERSİN KONUSUYDU ALTAKİLER 3. DERSİN KONUSU"
   ]
  },
  {
   "cell_type": "code",
   "execution_count": 10,
   "id": "958c771a",
   "metadata": {},
   "outputs": [
    {
     "name": "stdout",
     "output_type": "stream",
     "text": [
      "10\n"
     ]
    }
   ],
   "source": [
    "sayi = 10\n",
    "print (sayi)"
   ]
  },
  {
   "cell_type": "code",
   "execution_count": 11,
   "id": "88c09d93",
   "metadata": {},
   "outputs": [
    {
     "name": "stdout",
     "output_type": "stream",
     "text": [
      "arabam\n"
     ]
    }
   ],
   "source": [
    "goruntu = \"arabam\"\n",
    "print (goruntu)"
   ]
  },
  {
   "cell_type": "code",
   "execution_count": 12,
   "id": "e58a403a",
   "metadata": {},
   "outputs": [
    {
     "data": {
      "text/plain": [
       "str"
      ]
     },
     "execution_count": 12,
     "metadata": {},
     "output_type": "execute_result"
    }
   ],
   "source": [
    "type (goruntu)"
   ]
  },
  {
   "cell_type": "code",
   "execution_count": 13,
   "id": "d4614a25",
   "metadata": {},
   "outputs": [
    {
     "data": {
      "text/plain": [
       "int"
      ]
     },
     "execution_count": 13,
     "metadata": {},
     "output_type": "execute_result"
    }
   ],
   "source": [
    "type (sayi)"
   ]
  },
  {
   "cell_type": "code",
   "execution_count": 14,
   "id": "3aa01faf",
   "metadata": {},
   "outputs": [
    {
     "data": {
      "text/plain": [
       "15"
      ]
     },
     "execution_count": 14,
     "metadata": {},
     "output_type": "execute_result"
    }
   ],
   "source": [
    "3+5+7"
   ]
  },
  {
   "cell_type": "code",
   "execution_count": 15,
   "id": "b7096912",
   "metadata": {},
   "outputs": [
    {
     "data": {
      "text/plain": [
       "-8"
      ]
     },
     "execution_count": 15,
     "metadata": {},
     "output_type": "execute_result"
    }
   ],
   "source": [
    "3-5-6"
   ]
  },
  {
   "cell_type": "code",
   "execution_count": 16,
   "id": "6cee87bc",
   "metadata": {},
   "outputs": [
    {
     "data": {
      "text/plain": [
       "43"
      ]
     },
     "execution_count": 16,
     "metadata": {},
     "output_type": "execute_result"
    }
   ],
   "source": [
    "3+5*8"
   ]
  },
  {
   "cell_type": "code",
   "execution_count": 17,
   "id": "fbad53e6",
   "metadata": {},
   "outputs": [
    {
     "data": {
      "text/plain": [
       "31.5"
      ]
     },
     "execution_count": 17,
     "metadata": {},
     "output_type": "execute_result"
    }
   ],
   "source": [
    "3*10.5"
   ]
  }
 ],
 "metadata": {
  "kernelspec": {
   "display_name": "Python 3 (ipykernel)",
   "language": "python",
   "name": "python3"
  },
  "language_info": {
   "codemirror_mode": {
    "name": "ipython",
    "version": 3
   },
   "file_extension": ".py",
   "mimetype": "text/x-python",
   "name": "python",
   "nbconvert_exporter": "python",
   "pygments_lexer": "ipython3",
   "version": "3.11.4"
  }
 },
 "nbformat": 4,
 "nbformat_minor": 5
}
