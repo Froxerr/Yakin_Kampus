{
 "cells": [
  {
   "cell_type": "raw",
   "id": "7d926ff7",
   "metadata": {},
   "source": [
    "class <Class Ismı>(): ### Class isimleri, Genelin aksine büyük harfle başlar(Zorunlu değil ama öyle işte sen öyle başla)\n",
    "\n",
    "    <class attr>      ### Class attribute, oluşturulanın aksine genel değerler içerir\n",
    "    \n",
    "    def _init_(self, <attr>):        ### init, instantiation yani örneklendirmenin kısaltımı\n",
    "        self.<instance attr> = attr  ### instance attribute'ları, olusturulan örneğe özgüdür\n",
    "        ...\n",
    "        \n",
    "    def <method>(self, <params>):    ### methodlar class'a özgü fonksiyonlardır\n",
    "        ...\n",
    "        return ..."
   ]
  },
  {
   "cell_type": "markdown",
   "id": "bdeafed5",
   "metadata": {},
   "source": [
    "## Dunder Method'lar (Double Under Score)"
   ]
  },
  {
   "cell_type": "code",
   "execution_count": null,
   "id": "b8d7ce56",
   "metadata": {},
   "outputs": [],
   "source": [
    "class Yolculuk():\n",
    "    \n",
    "    def __init__(self,varis,kalki):\n",
    "        self.varis = varis\n",
    "        self.kalkis = kalkis\n",
    "    def __repr__(self):\n",
    "        return(\"{}-{} Arası yolculuğunuz tanımlanmıştır\".format(self.varis,self.kalkis))"
   ]
  },
  {
   "cell_type": "code",
   "execution_count": null,
   "id": "6b0dbd61",
   "metadata": {},
   "outputs": [],
   "source": [
    "yol1 "
   ]
  },
  {
   "cell_type": "code",
   "execution_count": null,
   "id": "c5ce659a",
   "metadata": {},
   "outputs": [],
   "source": []
  },
  {
   "cell_type": "markdown",
   "id": "52d9209a",
   "metadata": {},
   "source": [
    "## Inheritance (Kalıtım)"
   ]
  },
  {
   "cell_type": "code",
   "execution_count": null,
   "id": "8c2ab7b6",
   "metadata": {},
   "outputs": [],
   "source": [
    "class Seyhat():\n",
    "    def __init__(self,kalkis,inis):\n",
    "        self.kalkis = kalkis\n",
    "        self.inis = inis\n",
    "    def anons(self):\n",
    "        return \"{}-{} Arası seyhatiniz bulunmaktadır!!\".format(\n",
    "        self.kalkis,\n",
    "        self.inis\n",
    "        )\n",
    "class Otobus(Seyhat):\n",
    "    def __init__(self,kalkis,inis,mola_noktasi):\n",
    "        Seyhat.__init__(self,kalkis,inis)\n",
    "        self.mola_noktasi = mola_noktasi"
   ]
  },
  {
   "cell_type": "code",
   "execution_count": null,
   "id": "63237d2a",
   "metadata": {},
   "outputs": [],
   "source": [
    "seyhat1 = Seyhat(\"FET\",\"ANT\")"
   ]
  },
  {
   "cell_type": "code",
   "execution_count": null,
   "id": "4da15eaa",
   "metadata": {},
   "outputs": [],
   "source": [
    "seyhat1.anons()"
   ]
  },
  {
   "cell_type": "code",
   "execution_count": null,
   "id": "64b74869",
   "metadata": {},
   "outputs": [],
   "source": [
    "oto = Otobus(\"ANK\",\"IST\",[\"MOLA.1\",\"MOLA.2\"])"
   ]
  },
  {
   "cell_type": "code",
   "execution_count": null,
   "id": "10608b43",
   "metadata": {},
   "outputs": [],
   "source": [
    "oto.inis"
   ]
  },
  {
   "cell_type": "code",
   "execution_count": null,
   "id": "7011e5a7",
   "metadata": {},
   "outputs": [],
   "source": [
    "oto.kalkis"
   ]
  },
  {
   "cell_type": "code",
   "execution_count": null,
   "id": "9072444e",
   "metadata": {},
   "outputs": [],
   "source": [
    "oto.mola_noktasi"
   ]
  }
 ],
 "metadata": {
  "kernelspec": {
   "display_name": "Python 3 (ipykernel)",
   "language": "python",
   "name": "python3"
  },
  "language_info": {
   "codemirror_mode": {
    "name": "ipython",
    "version": 3
   },
   "file_extension": ".py",
   "mimetype": "text/x-python",
   "name": "python",
   "nbconvert_exporter": "python",
   "pygments_lexer": "ipython3",
   "version": "3.11.4"
  }
 },
 "nbformat": 4,
 "nbformat_minor": 5
}
