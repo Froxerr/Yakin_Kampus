{
 "cells": [
  {
   "cell_type": "raw",
   "id": "ce216bf0",
   "metadata": {},
   "source": [
    "P |\t Y |  T |  H |  O |\t N |\n",
    "---------------------\n",
    "0 |  1 |  2 |  3 |  4 |\t 5 |\n",
    "0 | -5 | -4 | -3 | -2 | -1 | \n"
   ]
  },
  {
   "cell_type": "code",
   "execution_count": null,
   "id": "5ac1cbd8",
   "metadata": {},
   "outputs": [],
   "source": [
    "strvar = \"Python\"\n",
    "print (strvar)"
   ]
  },
  {
   "cell_type": "code",
   "execution_count": null,
   "id": "c22ff90e",
   "metadata": {},
   "outputs": [],
   "source": [
    "strvar[1]"
   ]
  },
  {
   "cell_type": "code",
   "execution_count": null,
   "id": "f836ecf3",
   "metadata": {},
   "outputs": [],
   "source": [
    "strvar[3:]"
   ]
  },
  {
   "cell_type": "code",
   "execution_count": null,
   "id": "9058d9af",
   "metadata": {},
   "outputs": [],
   "source": [
    "strvar[:4]"
   ]
  },
  {
   "cell_type": "code",
   "execution_count": null,
   "id": "5047a84d",
   "metadata": {},
   "outputs": [],
   "source": [
    "strvar [1:4:2]"
   ]
  },
  {
   "cell_type": "code",
   "execution_count": null,
   "id": "fd94efe0",
   "metadata": {},
   "outputs": [],
   "source": [
    "strvar + \" arkadaş!\""
   ]
  },
  {
   "cell_type": "code",
   "execution_count": null,
   "id": "04cc4c4e",
   "metadata": {},
   "outputs": [],
   "source": [
    "strvar = strvar + \" arkadaş!\"\n",
    "strvar"
   ]
  },
  {
   "cell_type": "code",
   "execution_count": null,
   "id": "ab529af7",
   "metadata": {},
   "outputs": [],
   "source": [
    "len(strvar)"
   ]
  },
  {
   "cell_type": "code",
   "execution_count": null,
   "id": "40981fd4",
   "metadata": {},
   "outputs": [],
   "source": [
    "strvar * 5"
   ]
  },
  {
   "cell_type": "code",
   "execution_count": null,
   "id": "0c780fa5",
   "metadata": {},
   "outputs": [],
   "source": [
    "strvar.split(\"a\")"
   ]
  },
  {
   "cell_type": "code",
   "execution_count": null,
   "id": "347fde47",
   "metadata": {},
   "outputs": [],
   "source": [
    "strvar.split(sep=\"a\", maxsplit=1)"
   ]
  },
  {
   "cell_type": "code",
   "execution_count": null,
   "id": "42ccb013",
   "metadata": {},
   "outputs": [],
   "source": [
    "strvar.lower()"
   ]
  },
  {
   "cell_type": "code",
   "execution_count": null,
   "id": "f276fa42",
   "metadata": {
    "scrolled": false
   },
   "outputs": [],
   "source": [
    "strvar.upper()"
   ]
  },
  {
   "cell_type": "markdown",
   "id": "438368e5",
   "metadata": {},
   "source": [
    "## Boolean"
   ]
  },
  {
   "cell_type": "code",
   "execution_count": null,
   "id": "a833c723",
   "metadata": {},
   "outputs": [],
   "source": [
    "yas1 = True\n",
    "yas2 = False\n",
    "yas3 = \"True\"\n",
    "print (yas1)\n",
    "print (type(yas1))\n",
    "print (yas2)\n",
    "print (yas3)\n",
    "print (type(yas3))"
   ]
  },
  {
   "cell_type": "code",
   "execution_count": null,
   "id": "4204a0a1",
   "metadata": {
    "scrolled": true
   },
   "outputs": [],
   "source": [
    "yas1 = 18\n",
    "yas2 = 20\n",
    "print (yas1 == 18)\n",
    "print (yas1 != 18)\n",
    "not yas1 == 18"
   ]
  }
 ],
 "metadata": {
  "celltoolbar": "Raw Cell Format",
  "kernelspec": {
   "display_name": "Python 3 (ipykernel)",
   "language": "python",
   "name": "python3"
  },
  "language_info": {
   "codemirror_mode": {
    "name": "ipython",
    "version": 3
   },
   "file_extension": ".py",
   "mimetype": "text/x-python",
   "name": "python",
   "nbconvert_exporter": "python",
   "pygments_lexer": "ipython3",
   "version": "3.11.4"
  }
 },
 "nbformat": 4,
 "nbformat_minor": 5
}
