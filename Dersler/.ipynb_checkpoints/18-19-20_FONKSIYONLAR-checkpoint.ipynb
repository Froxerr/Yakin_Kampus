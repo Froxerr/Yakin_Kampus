{
 "cells": [
  {
   "cell_type": "markdown",
   "id": "e5362c29",
   "metadata": {},
   "source": [
    "# Fonksiyon yapısı"
   ]
  },
  {
   "cell_type": "raw",
   "id": "bfc771a2",
   "metadata": {},
   "source": [
    "def <fonksiyon_ismi>(<argümanlar>): # snake_case = Fonksiyon ismi verirken pythonda _ koymak bir yöntemdir\n",
    "    \"\"\"\n",
    "    Bu kod ne işe yarar vb.         # docstring = Fonksiyonu başkası okuyorsa ona yardımcı olması \n",
    "    \"\"\"\n",
    "    ...                             # return/print"
   ]
  },
  {
   "cell_type": "code",
   "execution_count": null,
   "id": "0914c7e4",
   "metadata": {},
   "outputs": [],
   "source": [
    "def bes_goster():\n",
    "    print(5)"
   ]
  },
  {
   "cell_type": "code",
   "execution_count": null,
   "id": "c1cbc842",
   "metadata": {},
   "outputs": [],
   "source": [
    "bes_goster()"
   ]
  },
  {
   "cell_type": "markdown",
   "id": "f02e98c3",
   "metadata": {},
   "source": [
    "# Fonksiyonlarda print ve retun farkı"
   ]
  },
  {
   "cell_type": "code",
   "execution_count": null,
   "id": "41f1e41a",
   "metadata": {},
   "outputs": [],
   "source": [
    "def bes_dondur():\n",
    "    return 5"
   ]
  },
  {
   "cell_type": "code",
   "execution_count": null,
   "id": "2e917811",
   "metadata": {
    "scrolled": true
   },
   "outputs": [],
   "source": [
    "print(bes_dondur())"
   ]
  },
  {
   "cell_type": "code",
   "execution_count": null,
   "id": "e1d820ae",
   "metadata": {},
   "outputs": [],
   "source": [
    "print(bes_goster()) #Printin içinde print gibi dönüdürüyor o yüzden genel de return kullanılır"
   ]
  },
  {
   "cell_type": "markdown",
   "id": "4f42d768",
   "metadata": {},
   "source": [
    "# Fonksiyonlarda Argümanlar"
   ]
  },
  {
   "cell_type": "code",
   "execution_count": null,
   "id": "7e8a76aa",
   "metadata": {},
   "outputs": [],
   "source": [
    "def sayi_bul(sayi):\n",
    "    return sayi"
   ]
  },
  {
   "cell_type": "code",
   "execution_count": null,
   "id": "28b896a2",
   "metadata": {},
   "outputs": [],
   "source": [
    "sayi_bul(100)"
   ]
  },
  {
   "cell_type": "code",
   "execution_count": null,
   "id": "3900bfdc",
   "metadata": {},
   "outputs": [],
   "source": [
    "def sayi_bulma(sayii = 250): # default olarak 250 atıyor \n",
    "    return sayii"
   ]
  },
  {
   "cell_type": "code",
   "execution_count": null,
   "id": "7d2eb2f8",
   "metadata": {},
   "outputs": [],
   "source": [
    "sayi_bulma(3)"
   ]
  },
  {
   "cell_type": "code",
   "execution_count": null,
   "id": "83c5f7f0",
   "metadata": {},
   "outputs": [],
   "source": [
    "def buyuk_sayi_bul(a,b):\n",
    "    if a > b:\n",
    "        return a\n",
    "    elif b > a:\n",
    "        return b\n",
    "    elif b == a:\n",
    "        print(\"Yazdığınız sayı birbirine eşit!!\")"
   ]
  },
  {
   "cell_type": "code",
   "execution_count": null,
   "id": "520fd80b",
   "metadata": {},
   "outputs": [],
   "source": [
    "buyuk_sayi_bul(12,11)"
   ]
  },
  {
   "cell_type": "markdown",
   "id": "46a52bf1",
   "metadata": {},
   "source": [
    "# Fonksiyonların Birbiri ile İlişkisi"
   ]
  },
  {
   "cell_type": "code",
   "execution_count": null,
   "id": "5205a874",
   "metadata": {},
   "outputs": [],
   "source": [
    "def metin_yazma(a,b):\n",
    "    sayim = buyuk_sayi_bul(a,b)\n",
    "    sablon_metin = \"{} Büyük sayım\".format(sayim)\n",
    "    print(sablon_metin)"
   ]
  },
  {
   "cell_type": "code",
   "execution_count": null,
   "id": "25f28678",
   "metadata": {},
   "outputs": [],
   "source": [
    "metin_yazma(10,20)"
   ]
  },
  {
   "cell_type": "markdown",
   "id": "3f71c4b2",
   "metadata": {},
   "source": [
    "# Fonksiyonlar Birden Fazla Sonuç Döndürebilme"
   ]
  },
  {
   "cell_type": "code",
   "execution_count": null,
   "id": "6ee02b91",
   "metadata": {},
   "outputs": [],
   "source": [
    "\"İbrahim Aral\".split()"
   ]
  },
  {
   "cell_type": "code",
   "execution_count": null,
   "id": "1536aa92",
   "metadata": {},
   "outputs": [],
   "source": [
    "def ad_soyad_ayirma(adsoyad):\n",
    "    ad = adsoyad.split()[0]\n",
    "    soyad = adsoyad.split()[1]\n",
    "    return ad,soyad"
   ]
  },
  {
   "cell_type": "code",
   "execution_count": null,
   "id": "564a299d",
   "metadata": {},
   "outputs": [],
   "source": [
    "ad_soyad_ayirma(\"İbrahim Aral\")"
   ]
  },
  {
   "cell_type": "code",
   "execution_count": null,
   "id": "1386fca0",
   "metadata": {},
   "outputs": [],
   "source": [
    "\" \".join([\"İbrahim\",\"Aral\"])"
   ]
  },
  {
   "cell_type": "code",
   "execution_count": null,
   "id": "f40ccb4c",
   "metadata": {},
   "outputs": [],
   "source": [
    "def ad_soyad_birlestirme(ad,soyad):\n",
    "    return \" \".join([ad,soyad])"
   ]
  },
  {
   "cell_type": "code",
   "execution_count": null,
   "id": "1bd38b0a",
   "metadata": {},
   "outputs": [],
   "source": [
    "ad_soyad_birlestirme(\"İbrahim\",\"Aral\")"
   ]
  },
  {
   "cell_type": "markdown",
   "id": "dbf45135",
   "metadata": {},
   "source": [
    "# *args Argümanı"
   ]
  },
  {
   "cell_type": "code",
   "execution_count": null,
   "id": "46d3eedf",
   "metadata": {},
   "outputs": [],
   "source": [
    "def ad_soyad_birlestirme(*args):\n",
    "    return \" \".join([*args])"
   ]
  },
  {
   "cell_type": "code",
   "execution_count": null,
   "id": "5a7d0912",
   "metadata": {},
   "outputs": [],
   "source": [
    "ad_soyad_birlestirme(\"AAAA\",\"BBBB\",\"CC\",\"D\")"
   ]
  },
  {
   "cell_type": "code",
   "execution_count": null,
   "id": "9ee5513d",
   "metadata": {},
   "outputs": [],
   "source": [
    "def ad_soyadd(*args):\n",
    "    for item in args:\n",
    "        print(item)"
   ]
  },
  {
   "cell_type": "code",
   "execution_count": null,
   "id": "2607c5a7",
   "metadata": {
    "scrolled": false
   },
   "outputs": [],
   "source": [
    "ad_soyadd(\"a\",\"b\",\"c\")"
   ]
  },
  {
   "cell_type": "code",
   "execution_count": null,
   "id": "a76f9efa",
   "metadata": {},
   "outputs": [],
   "source": [
    "def gobek_ad(**kewargs):\n",
    "    if (\"GobekAdi\" in kewargs):\n",
    "        print(\"Göbek adı: {}\".format(kewargs[\"GobekAdi\"]))\n",
    "        if(\"Ad\" in kewargs):\n",
    "            print(\"Adı: {}\".format(kewargs[\"Ad\"]))\n",
    "            if(\"Soyad\" in kewargs):\n",
    "                print(\"Soyadı {}\".format(kewargs[\"Soyad\"]))\n",
    "    else:\n",
    "        print(\"Göbek adı yok!\")"
   ]
  },
  {
   "cell_type": "code",
   "execution_count": null,
   "id": "f317b8ad",
   "metadata": {},
   "outputs": [],
   "source": [
    "gobek_ad(GobekAdi=\"\",Ad=\"Assdasad\",Soyad=\"fsaerqw\")"
   ]
  },
  {
   "cell_type": "code",
   "execution_count": null,
   "id": "e1d70c80",
   "metadata": {
    "scrolled": true
   },
   "outputs": [],
   "source": [
    "gobek_ad(Ad=\"\",Soyad=\"fsaerqw\")"
   ]
  },
  {
   "cell_type": "markdown",
   "id": "b39527f7",
   "metadata": {},
   "source": [
    "# map"
   ]
  },
  {
   "cell_type": "code",
   "execution_count": null,
   "id": "4af7ad6e",
   "metadata": {},
   "outputs": [],
   "source": [
    "def karesini_alma (x):\n",
    "    x = x ** 2\n",
    "    return x"
   ]
  },
  {
   "cell_type": "code",
   "execution_count": null,
   "id": "b1ac2684",
   "metadata": {},
   "outputs": [],
   "source": [
    "karesini_alma(5)"
   ]
  },
  {
   "cell_type": "code",
   "execution_count": null,
   "id": "9e5c778c",
   "metadata": {},
   "outputs": [],
   "source": [
    "liste = [*range(1,6)]\n",
    "print(liste)\n",
    "for index in range(len(liste)):\n",
    "    liste[index] = karesini_alma(liste[index])\n",
    "print(liste)"
   ]
  },
  {
   "cell_type": "code",
   "execution_count": null,
   "id": "8dd76a49",
   "metadata": {},
   "outputs": [],
   "source": [
    "liste = [*range(1,6)]\n",
    "[*map(karesini_alma,liste)] #beni for ameleliğinden kurtarıp direk 1 fonksiyon ile 1 listeyi birleştiriyor"
   ]
  },
  {
   "cell_type": "markdown",
   "id": "8cb55c03",
   "metadata": {},
   "source": [
    "# filter"
   ]
  },
  {
   "cell_type": "code",
   "execution_count": null,
   "id": "035d6967",
   "metadata": {},
   "outputs": [],
   "source": [
    "liste = [*range(1,6)]\n",
    "def ikinin_katlari(x):\n",
    "    if(x%2 == 0):\n",
    "        return x\n",
    "    else:\n",
    "        return None\n",
    "[*filter(ikinin_katlari,liste)]"
   ]
  },
  {
   "cell_type": "code",
   "execution_count": null,
   "id": "5c6b5094",
   "metadata": {},
   "outputs": [],
   "source": [
    "liste = [*range(1,6)]\n",
    "def ikinin_katlari(x):\n",
    "    return x if x%2==0 else None\n",
    "[*filter(ikinin_katlari,liste)]"
   ]
  },
  {
   "cell_type": "markdown",
   "id": "8117d5c7",
   "metadata": {},
   "source": [
    "# lambda"
   ]
  },
  {
   "cell_type": "code",
   "execution_count": null,
   "id": "3ce60a07",
   "metadata": {},
   "outputs": [],
   "source": [
    "liste = [*range(1,6)]\n",
    "[*map(lambda x : x ** 2, liste)]"
   ]
  },
  {
   "cell_type": "code",
   "execution_count": null,
   "id": "94dd575a",
   "metadata": {},
   "outputs": [],
   "source": [
    "liste = [*range(1,6)]\n",
    "[*filter(lambda x: x if x%2 == 0 else None,liste)]"
   ]
  }
 ],
 "metadata": {
  "kernelspec": {
   "display_name": "Python 3 (ipykernel)",
   "language": "python",
   "name": "python3"
  },
  "language_info": {
   "codemirror_mode": {
    "name": "ipython",
    "version": 3
   },
   "file_extension": ".py",
   "mimetype": "text/x-python",
   "name": "python",
   "nbconvert_exporter": "python",
   "pygments_lexer": "ipython3",
   "version": "3.11.4"
  }
 },
 "nbformat": 4,
 "nbformat_minor": 5
}
