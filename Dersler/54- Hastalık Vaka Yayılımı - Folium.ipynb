{
 "cells": [
  {
   "cell_type": "markdown",
   "id": "1a87088d",
   "metadata": {},
   "source": [
    "# Folium Kurulum"
   ]
  },
  {
   "cell_type": "code",
   "execution_count": null,
   "id": "2771e8e6",
   "metadata": {
    "scrolled": true
   },
   "outputs": [],
   "source": [
    "pip install folium"
   ]
  },
  {
   "cell_type": "markdown",
   "id": "9f637689",
   "metadata": {},
   "source": [
    "# Ham Veri"
   ]
  },
  {
   "cell_type": "code",
   "execution_count": null,
   "id": "64de0658",
   "metadata": {},
   "outputs": [],
   "source": [
    "confirmed_csv = \"corona_confirmed.csv\"\n",
    "confirmed_gitpath = \"https://raw.githubusercontent.com/CSSEGISandData/COVID-19/master/csse_covid_19_data/csse_covid_19_time_series/time_series_covid19_confirmed_global.csv\""
   ]
  },
  {
   "cell_type": "code",
   "execution_count": null,
   "id": "44b7147b",
   "metadata": {
    "scrolled": true
   },
   "outputs": [],
   "source": [
    "!curl -o $confirmed_csv $confirmed_gitpath \n",
    "#-o dışarıya kaydet demek, \n",
    "#ilk dolar save etmesini istediğim ilk adres,2.dolar kullanacağı linkte bilgiyi nereden alacağı"
   ]
  },
  {
   "cell_type": "code",
   "execution_count": null,
   "id": "96213813",
   "metadata": {},
   "outputs": [],
   "source": [
    "import pandas as pd\n",
    "df = pd.read_csv(confirmed_csv)\n",
    "df.head()"
   ]
  },
  {
   "cell_type": "markdown",
   "id": "bf8f9a5e",
   "metadata": {},
   "source": [
    "# Veri Hazırlama"
   ]
  },
  {
   "cell_type": "code",
   "execution_count": null,
   "id": "f1c0ab80",
   "metadata": {},
   "outputs": [],
   "source": [
    "df = df.melt(id_vars=[\"Province/State\",\"Country/Region\",\"Lat\",\"Long\"],\n",
    "                var_name=\"DateColumns\",\n",
    "                value_name=\"CasesColumns\")\n",
    "#Id_Vars olanları elimde tutuyorum geri kalanları eriritp var_name adı altında bir kolona atıyorum\n",
    "#kolona attıklarımın değerlerini value name cases altında toparlıyorum\n",
    "df.head()"
   ]
  },
  {
   "cell_type": "markdown",
   "id": "d6586db5",
   "metadata": {},
   "source": [
    "## Tarih Formatlandırma"
   ]
  },
  {
   "cell_type": "code",
   "execution_count": null,
   "id": "4662de76",
   "metadata": {},
   "outputs": [],
   "source": [
    "df['DateColumns'] = pd.to_datetime(df['DateColumns'], format='%m/%d/%y').dt.strftime('%Y-%m-%d')\n",
    "df.head()"
   ]
  },
  {
   "cell_type": "markdown",
   "id": "469a66af",
   "metadata": {},
   "source": [
    "## Eksik Veri"
   ]
  },
  {
   "cell_type": "code",
   "execution_count": null,
   "id": "061df58b",
   "metadata": {},
   "outputs": [],
   "source": [
    "df.info()"
   ]
  },
  {
   "cell_type": "code",
   "execution_count": null,
   "id": "045a8198",
   "metadata": {},
   "outputs": [],
   "source": [
    "df[\"Province/State\"] = df[\"Province/State\"].fillna(df[\"Country/Region\"])\n",
    "df.info()\n",
    "#Countery regionda bulunanları province ile direk doldurduk"
   ]
  },
  {
   "cell_type": "markdown",
   "id": "c3b34f52",
   "metadata": {},
   "source": [
    "## DateTime'a çevirmek"
   ]
  },
  {
   "cell_type": "code",
   "execution_count": null,
   "id": "b2eac11f",
   "metadata": {},
   "outputs": [],
   "source": [
    "df['DateColumns'] = pd.to_datetime(df['DateColumns'])\n",
    "print(df.dtypes)"
   ]
  },
  {
   "cell_type": "code",
   "execution_count": null,
   "id": "55c6b65f",
   "metadata": {},
   "outputs": [],
   "source": [
    "df[\"CasesColumns\"] = df[\"CasesColumns\"].astype(int) #sayıyı int tipine çevriliyor\n",
    "df = df[df[\"CasesColumns\"] > 0].reset_index(drop=True) #0 dan küçük olanları atıyor\n",
    "df.head()"
   ]
  },
  {
   "cell_type": "markdown",
   "id": "554b4dc5",
   "metadata": {},
   "source": [
    "# Yayilim Merkezleri"
   ]
  },
  {
   "cell_type": "code",
   "execution_count": null,
   "id": "84e5b747",
   "metadata": {},
   "outputs": [],
   "source": [
    "df_alarming_cities = df.sort_values(by=\"CasesColumns\", ascending=False).groupby(\"Country/Region\").head(1).reset_index(drop=True)\n",
    "df_alarming_cities = df_alarming_cities.head(n=10)\n",
    "df_alarming_cities"
   ]
  },
  {
   "cell_type": "markdown",
   "id": "9fdce5e7",
   "metadata": {},
   "source": [
    "# HATA DÜZELTME"
   ]
  },
  {
   "cell_type": "code",
   "execution_count": null,
   "id": "88c37200",
   "metadata": {},
   "outputs": [],
   "source": [
    "#Time Out Available hatası alıyordum ve bir türlü düzelmiyordu ben de altta ki kodları çalıştırarak hataya çözüm buldum"
   ]
  },
  {
   "cell_type": "code",
   "execution_count": null,
   "id": "046c94e5",
   "metadata": {},
   "outputs": [],
   "source": [
    "missing_columns = df.columns[df.isnull().any()]\n",
    "print(missing_columns)"
   ]
  },
  {
   "cell_type": "code",
   "execution_count": null,
   "id": "bcd863e2",
   "metadata": {},
   "outputs": [],
   "source": [
    "df['Lat'].fillna(df['Lat'].mean(), inplace=True)"
   ]
  },
  {
   "cell_type": "code",
   "execution_count": null,
   "id": "87ed5b0f",
   "metadata": {},
   "outputs": [],
   "source": [
    "df['Long'].fillna(df['Long'].mean(), inplace=True)"
   ]
  },
  {
   "cell_type": "markdown",
   "id": "0345ec59",
   "metadata": {},
   "source": [
    "# Görselleştirme"
   ]
  },
  {
   "cell_type": "markdown",
   "id": "40804de9",
   "metadata": {},
   "source": [
    "## TimeSeries ile Zaman İçerisinde Yayılım"
   ]
  },
  {
   "cell_type": "code",
   "execution_count": null,
   "id": "0b3da9df",
   "metadata": {},
   "outputs": [],
   "source": [
    "import math\n",
    "df['DateColumns'] = pd.to_datetime(df['DateColumns'])\n",
    "total_incidents = df[\"CasesColumns\"].sum()\n",
    "def geojsons(df):\n",
    "    features = []\n",
    "    \n",
    "    for _, row in df.iterrows():\n",
    "        feature = {\n",
    "            \"type\":\"Feature\",\n",
    "            \"geometry\":{\n",
    "                \"type\":\"Point\",\n",
    "                \"coordinates\": [row[\"Long\"],row[\"Lat\"]]\n",
    "                \n",
    "            },\n",
    "            \"properties\":{\n",
    "                \"time\": pd.to_datetime(row[\"DateColumns\"], format='%Y-%m-%d').__str__(),\n",
    "                \"style\": {\"color\": \"\"},\n",
    "                \"icon\":\"circle\",\n",
    "                \"iconstyle\":{\n",
    "                    \"fillColor\":\"red\",\n",
    "                    \"fillOpacity\":0.8,\n",
    "                    \"stroke\":\"true\",\n",
    "                    \"radius\":math.log(row[\"CasesColumns\"])\n",
    "                }\n",
    "            }\n",
    "        }\n",
    "        features.append(feature)\n",
    "    return features"
   ]
  },
  {
   "cell_type": "code",
   "execution_count": null,
   "id": "5238dd0d",
   "metadata": {},
   "outputs": [],
   "source": [
    "geojson1 = geojsons(df)\n",
    "geojson1[0]"
   ]
  },
  {
   "cell_type": "code",
   "execution_count": null,
   "id": "69e9c32b",
   "metadata": {
    "scrolled": false
   },
   "outputs": [],
   "source": [
    "import folium\n",
    "from folium.plugins import TimestampedGeoJson\n",
    "\n",
    "m = folium.Map(\n",
    "    location=[50,30], #50,30 kordinatlarında başlamasını\n",
    "    zoom_start=2, # başlangıc zoomun 2 olmasını \n",
    "    tiles=\"Stamen Toner\" # Haritanın arkasında görünümü,folium tiles types internette bir sürü çıkıyor\n",
    ")\n",
    "#İSTEDİĞİN YERE MARKER KOYABİLİRSİN\n",
    "for _, row in df_alarming_cities.iterrows():\n",
    "    folium.Marker(\n",
    "        location=[row[\"Lat\"], row[\"Long\"]],\n",
    "        icon=folium.Icon(color=\"blue\",icon=\"ambulance\",prefix=\"fa\"),\n",
    "        popup=row[\"Province/State\"]).add_to(m)\n",
    "# İSTEDİĞİN YERE MARKER KOYABİLİRSİN\n",
    "TimestampedGeoJson(\n",
    "    geojson1,\n",
    "    period=\"P1D\",#Günlük artır \n",
    "    duration=\"PT1M\",\n",
    "    transition_time = 200, # 2 saniye de bir artır\n",
    "    auto_play = True,\n",
    "    loop = False\n",
    ").add_to(m)\n",
    "m"
   ]
  },
  {
   "cell_type": "markdown",
   "id": "a947f0c4",
   "metadata": {},
   "source": [
    "# HeatMap ile Merkez Yayılımı"
   ]
  },
  {
   "cell_type": "code",
   "execution_count": null,
   "id": "6ba16c4b",
   "metadata": {},
   "outputs": [],
   "source": [
    "df_date_list = []\n",
    "indices = []\n",
    "for date in df.DateColumns.sort_values().unique():\n",
    "    df_date_list.append(df.loc[df.DateColumns == date,[\"Lat\",\"Long\",\"CasesColumns\"]].groupby([\"Lat\",\"Long\"]).sum().reset_index().values.tolist())\n",
    "    indices.append(date)"
   ]
  },
  {
   "cell_type": "code",
   "execution_count": null,
   "id": "a2caa971",
   "metadata": {},
   "outputs": [],
   "source": [
    "df_date_list"
   ]
  },
  {
   "cell_type": "code",
   "execution_count": null,
   "id": "8dc5cf81",
   "metadata": {},
   "outputs": [],
   "source": [
    "import numpy as np"
   ]
  },
  {
   "cell_type": "code",
   "execution_count": null,
   "id": "42da97ad",
   "metadata": {},
   "outputs": [],
   "source": [
    "indices = [np.datetime_as_string(x, unit=\"D\") for x in indices]\n",
    "indices"
   ]
  },
  {
   "cell_type": "code",
   "execution_count": null,
   "id": "83807370",
   "metadata": {},
   "outputs": [],
   "source": [
    "from folium.plugins import HeatMapWithTime\n",
    "m2 = folium.Map(location=[50,30], zoom_start=2, control_scale=True)\n",
    "HeatMapWithTime(\n",
    "    df_date_list, # Enlem boylam ve vaka sayısının olduğu\n",
    "    indices, # Tarihlerin olduğu\n",
    "    radius=8,\n",
    "    gradient={0.2:\"blue\",0.4:\"lime\",0.6:\"orange\",1:\"red\"},\n",
    "    min_opacity=0.5,\n",
    "    max_opacity=0.8,\n",
    "    use_local_extrema=True,\n",
    "    auto_play=True\n",
    ").add_to(m2)\n",
    "m2"
   ]
  }
 ],
 "metadata": {
  "kernelspec": {
   "display_name": "Python 3 (ipykernel)",
   "language": "python",
   "name": "python3"
  },
  "language_info": {
   "codemirror_mode": {
    "name": "ipython",
    "version": 3
   },
   "file_extension": ".py",
   "mimetype": "text/x-python",
   "name": "python",
   "nbconvert_exporter": "python",
   "pygments_lexer": "ipython3",
   "version": "3.11.4"
  }
 },
 "nbformat": 4,
 "nbformat_minor": 5
}
